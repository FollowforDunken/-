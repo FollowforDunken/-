{
 "cells": [
  {
   "cell_type": "markdown",
   "metadata": {
    "toc": true
   },
   "source": [
    "<h1>Содержание<span class=\"tocSkip\"></span></h1>\n",
    "<div class=\"toc\"><ul class=\"toc-item\"><li><span><a href=\"#Подготовка-данных\" data-toc-modified-id=\"Подготовка-данных-1\"><span class=\"toc-item-num\">1&nbsp;&nbsp;</span>Подготовка данных</a></span></li><li><span><a href=\"#Модель\" data-toc-modified-id=\"Модель-2\"><span class=\"toc-item-num\">2&nbsp;&nbsp;</span>Модель</a></span></li>"
   ]
  },
  {
   "cell_type": "markdown",
   "metadata": {},
   "source": [
    "# Восстановление золота из руды"
   ]
  },
  {
   "cell_type": "markdown",
   "metadata": {},
   "source": [
    "Подготовим прототип модели машинного обучения. Компания разрабатывает решения для эффективной работы промышленных предприятий.\n",
    "\n",
    "Модель должна предсказать коэффициент восстановления золота из золотосодержащей руды. Для этого используем данные с параметрами добычи и очистки. \n",
    "\n",
    "Модель поможет оптимизировать производство, чтобы не запускать предприятие с убыточными характеристиками.\n",
    "\n",
    "Нужно:\n",
    "\n",
    "1. Подготовить данные;\n",
    "2. Провести исследовательский анализ данных;\n",
    "3. Построить и обучить модель.\n"
   ]
  },
  {
   "cell_type": "markdown",
   "metadata": {},
   "source": [
    "## Подготовка данных"
   ]
  },
  {
   "cell_type": "code",
   "execution_count": 1,
   "metadata": {},
   "outputs": [],
   "source": [
    "import warnings\n",
    "warnings.filterwarnings('ignore')"
   ]
  },
  {
   "cell_type": "code",
   "execution_count": 2,
   "metadata": {},
   "outputs": [],
   "source": [
    "import pandas as pd\n",
    "import numpy as np\n",
    "import seaborn as sns\n",
    "from sklearn.linear_model import LinearRegression\n",
    "from sklearn.model_selection import train_test_split\n",
    "from sklearn.metrics import mean_absolute_error\n",
    "from sklearn.metrics import mean_squared_error\n",
    "from sklearn.metrics import accuracy_score\n",
    "from sklearn.metrics import f1_score\n",
    "from sklearn.preprocessing import StandardScaler\n",
    "from sklearn.metrics import roc_auc_score \n",
    "from sklearn.metrics import roc_curve \n",
    "import matplotlib.pyplot as plt\n",
    "from sklearn.utils import shuffle"
   ]
  },
  {
   "cell_type": "code",
   "execution_count": 3,
   "metadata": {},
   "outputs": [],
   "source": [
    "data_train = pd.read_csv('/datasets/gold_recovery_train_new.csv')\n",
    "data_test = pd.read_csv('/datasets/gold_recovery_test_new.csv')\n",
    "data_all = pd.read_csv('/datasets/gold_recovery_full_new.csv')"
   ]
  },
  {
   "cell_type": "markdown",
   "metadata": {},
   "source": [
    "Целевые признаки на которых сосредоточим нашу работу:\n",
    "\n",
    "rougher.output.recovery - эффективность обогащения чернового концентрата \n",
    "\n",
    "final.output.recovery - эффективность обогащения финального концентрата"
   ]
  },
  {
   "cell_type": "markdown",
   "metadata": {},
   "source": [
    "Rougher feed — исходное сырье\n",
    "Rougher additions (или reagent additions) — флотационные реагенты: Xanthate, Sulphate, Depressant\n",
    "Xanthate **— ксантогенат (промотер, или активатор флотации);\n",
    "Sulphate — сульфат (на данном производстве сульфид натрия);\n",
    "Depressant — депрессант (силикат натрия).\n",
    "Rougher process (англ. «грубый процесс») — флотация\n",
    "Rougher tails — отвальные хвосты\n",
    "Float banks — флотационная установка\n",
    "Cleaner process — очистка\n",
    "Rougher Au — черновой концентрат золота\n",
    "Final Au — финальный концентрат золота"
   ]
  },
  {
   "cell_type": "markdown",
   "metadata": {},
   "source": [
    "Проверим, что эффективность обогащения рассчитана правильно. Вычислим её на обучающей выборке для признака rougher.output.recovery. Найдем MAE между расчётами и значением признака:"
   ]
  },
  {
   "cell_type": "markdown",
   "metadata": {},
   "source": [
    "Эффективность расчитаем по формуле:\n",
    "R = (С*(F-T))/(F*(C-T)) *100, где\n",
    "C — доля золота в концентрате после флотации/очистки;\n",
    "F — доля золота в сырье/концентрате до флотации/очистки;\n",
    "T — доля золота в отвальных хвостах после флотации/очистки."
   ]
  },
  {
   "cell_type": "code",
   "execution_count": 4,
   "metadata": {},
   "outputs": [
    {
     "name": "stdout",
     "output_type": "stream",
     "text": [
      "<class 'pandas.core.frame.DataFrame'>\n",
      "RangeIndex: 14149 entries, 0 to 14148\n",
      "Data columns (total 87 columns):\n",
      "date                                                  14149 non-null object\n",
      "final.output.concentrate_ag                           14148 non-null float64\n",
      "final.output.concentrate_pb                           14148 non-null float64\n",
      "final.output.concentrate_sol                          13938 non-null float64\n",
      "final.output.concentrate_au                           14149 non-null float64\n",
      "final.output.recovery                                 14149 non-null float64\n",
      "final.output.tail_ag                                  14149 non-null float64\n",
      "final.output.tail_pb                                  14049 non-null float64\n",
      "final.output.tail_sol                                 14144 non-null float64\n",
      "final.output.tail_au                                  14149 non-null float64\n",
      "primary_cleaner.input.sulfate                         14129 non-null float64\n",
      "primary_cleaner.input.depressant                      14117 non-null float64\n",
      "primary_cleaner.input.feed_size                       14149 non-null float64\n",
      "primary_cleaner.input.xanthate                        14049 non-null float64\n",
      "primary_cleaner.output.concentrate_ag                 14149 non-null float64\n",
      "primary_cleaner.output.concentrate_pb                 14063 non-null float64\n",
      "primary_cleaner.output.concentrate_sol                13863 non-null float64\n",
      "primary_cleaner.output.concentrate_au                 14149 non-null float64\n",
      "primary_cleaner.output.tail_ag                        14148 non-null float64\n",
      "primary_cleaner.output.tail_pb                        14134 non-null float64\n",
      "primary_cleaner.output.tail_sol                       14103 non-null float64\n",
      "primary_cleaner.output.tail_au                        14149 non-null float64\n",
      "primary_cleaner.state.floatbank8_a_air                14145 non-null float64\n",
      "primary_cleaner.state.floatbank8_a_level              14148 non-null float64\n",
      "primary_cleaner.state.floatbank8_b_air                14145 non-null float64\n",
      "primary_cleaner.state.floatbank8_b_level              14148 non-null float64\n",
      "primary_cleaner.state.floatbank8_c_air                14147 non-null float64\n",
      "primary_cleaner.state.floatbank8_c_level              14148 non-null float64\n",
      "primary_cleaner.state.floatbank8_d_air                14146 non-null float64\n",
      "primary_cleaner.state.floatbank8_d_level              14148 non-null float64\n",
      "rougher.calculation.sulfate_to_au_concentrate         14148 non-null float64\n",
      "rougher.calculation.floatbank10_sulfate_to_au_feed    14148 non-null float64\n",
      "rougher.calculation.floatbank11_sulfate_to_au_feed    14148 non-null float64\n",
      "rougher.calculation.au_pb_ratio                       14149 non-null float64\n",
      "rougher.input.feed_ag                                 14149 non-null float64\n",
      "rougher.input.feed_pb                                 14049 non-null float64\n",
      "rougher.input.feed_rate                               14141 non-null float64\n",
      "rougher.input.feed_size                               14005 non-null float64\n",
      "rougher.input.feed_sol                                14071 non-null float64\n",
      "rougher.input.feed_au                                 14149 non-null float64\n",
      "rougher.input.floatbank10_sulfate                     14120 non-null float64\n",
      "rougher.input.floatbank10_xanthate                    14141 non-null float64\n",
      "rougher.input.floatbank11_sulfate                     14113 non-null float64\n",
      "rougher.input.floatbank11_xanthate                    13721 non-null float64\n",
      "rougher.output.concentrate_ag                         14149 non-null float64\n",
      "rougher.output.concentrate_pb                         14149 non-null float64\n",
      "rougher.output.concentrate_sol                        14127 non-null float64\n",
      "rougher.output.concentrate_au                         14149 non-null float64\n",
      "rougher.output.recovery                               14149 non-null float64\n",
      "rougher.output.tail_ag                                14148 non-null float64\n",
      "rougher.output.tail_pb                                14149 non-null float64\n",
      "rougher.output.tail_sol                               14149 non-null float64\n",
      "rougher.output.tail_au                                14149 non-null float64\n",
      "rougher.state.floatbank10_a_air                       14148 non-null float64\n",
      "rougher.state.floatbank10_a_level                     14148 non-null float64\n",
      "rougher.state.floatbank10_b_air                       14148 non-null float64\n",
      "rougher.state.floatbank10_b_level                     14148 non-null float64\n",
      "rougher.state.floatbank10_c_air                       14148 non-null float64\n",
      "rougher.state.floatbank10_c_level                     14148 non-null float64\n",
      "rougher.state.floatbank10_d_air                       14149 non-null float64\n",
      "rougher.state.floatbank10_d_level                     14149 non-null float64\n",
      "rougher.state.floatbank10_e_air                       13713 non-null float64\n",
      "rougher.state.floatbank10_e_level                     14149 non-null float64\n",
      "rougher.state.floatbank10_f_air                       14149 non-null float64\n",
      "rougher.state.floatbank10_f_level                     14149 non-null float64\n",
      "secondary_cleaner.output.tail_ag                      14147 non-null float64\n",
      "secondary_cleaner.output.tail_pb                      14139 non-null float64\n",
      "secondary_cleaner.output.tail_sol                     12544 non-null float64\n",
      "secondary_cleaner.output.tail_au                      14149 non-null float64\n",
      "secondary_cleaner.state.floatbank2_a_air              13932 non-null float64\n",
      "secondary_cleaner.state.floatbank2_a_level            14148 non-null float64\n",
      "secondary_cleaner.state.floatbank2_b_air              14128 non-null float64\n",
      "secondary_cleaner.state.floatbank2_b_level            14148 non-null float64\n",
      "secondary_cleaner.state.floatbank3_a_air              14145 non-null float64\n",
      "secondary_cleaner.state.floatbank3_a_level            14148 non-null float64\n",
      "secondary_cleaner.state.floatbank3_b_air              14148 non-null float64\n",
      "secondary_cleaner.state.floatbank3_b_level            14148 non-null float64\n",
      "secondary_cleaner.state.floatbank4_a_air              14143 non-null float64\n",
      "secondary_cleaner.state.floatbank4_a_level            14148 non-null float64\n",
      "secondary_cleaner.state.floatbank4_b_air              14148 non-null float64\n",
      "secondary_cleaner.state.floatbank4_b_level            14148 non-null float64\n",
      "secondary_cleaner.state.floatbank5_a_air              14148 non-null float64\n",
      "secondary_cleaner.state.floatbank5_a_level            14148 non-null float64\n",
      "secondary_cleaner.state.floatbank5_b_air              14148 non-null float64\n",
      "secondary_cleaner.state.floatbank5_b_level            14148 non-null float64\n",
      "secondary_cleaner.state.floatbank6_a_air              14147 non-null float64\n",
      "secondary_cleaner.state.floatbank6_a_level            14148 non-null float64\n",
      "dtypes: float64(86), object(1)\n",
      "memory usage: 9.4+ MB\n"
     ]
    }
   ],
   "source": [
    "data_train.info()"
   ]
  },
  {
   "cell_type": "code",
   "execution_count": 5,
   "metadata": {},
   "outputs": [],
   "source": [
    "C = data_train['rougher.output.concentrate_au']\n",
    "F = data_train['rougher.input.feed_au']\n",
    "T = data_train['rougher.output.tail_au']"
   ]
  },
  {
   "cell_type": "code",
   "execution_count": 6,
   "metadata": {},
   "outputs": [],
   "source": [
    "data_train['new'] = ((C*(F-T))/(F*(C-T)))*100"
   ]
  },
  {
   "cell_type": "code",
   "execution_count": 7,
   "metadata": {},
   "outputs": [
    {
     "data": {
      "text/html": [
       "<div>\n",
       "<style scoped>\n",
       "    .dataframe tbody tr th:only-of-type {\n",
       "        vertical-align: middle;\n",
       "    }\n",
       "\n",
       "    .dataframe tbody tr th {\n",
       "        vertical-align: top;\n",
       "    }\n",
       "\n",
       "    .dataframe thead th {\n",
       "        text-align: right;\n",
       "    }\n",
       "</style>\n",
       "<table border=\"1\" class=\"dataframe\">\n",
       "  <thead>\n",
       "    <tr style=\"text-align: right;\">\n",
       "      <th></th>\n",
       "      <th>new</th>\n",
       "      <th>rougher.output.recovery</th>\n",
       "    </tr>\n",
       "  </thead>\n",
       "  <tbody>\n",
       "    <tr>\n",
       "      <td>0</td>\n",
       "      <td>87.107763</td>\n",
       "      <td>87.107763</td>\n",
       "    </tr>\n",
       "    <tr>\n",
       "      <td>1</td>\n",
       "      <td>86.843261</td>\n",
       "      <td>86.843261</td>\n",
       "    </tr>\n",
       "    <tr>\n",
       "      <td>2</td>\n",
       "      <td>86.842308</td>\n",
       "      <td>86.842308</td>\n",
       "    </tr>\n",
       "    <tr>\n",
       "      <td>3</td>\n",
       "      <td>87.226430</td>\n",
       "      <td>87.226430</td>\n",
       "    </tr>\n",
       "    <tr>\n",
       "      <td>4</td>\n",
       "      <td>86.688794</td>\n",
       "      <td>86.688794</td>\n",
       "    </tr>\n",
       "  </tbody>\n",
       "</table>\n",
       "</div>"
      ],
      "text/plain": [
       "         new  rougher.output.recovery\n",
       "0  87.107763                87.107763\n",
       "1  86.843261                86.843261\n",
       "2  86.842308                86.842308\n",
       "3  87.226430                87.226430\n",
       "4  86.688794                86.688794"
      ]
     },
     "execution_count": 7,
     "metadata": {},
     "output_type": "execute_result"
    }
   ],
   "source": [
    "data_train[['new','rougher.output.recovery']].head()"
   ]
  },
  {
   "cell_type": "code",
   "execution_count": 8,
   "metadata": {},
   "outputs": [
    {
     "data": {
      "text/plain": [
       "9.682896147825551e-15"
      ]
     },
     "execution_count": 8,
     "metadata": {},
     "output_type": "execute_result"
    }
   ],
   "source": [
    "mean_absolute_error(data_train['new'], data_train['rougher.output.recovery'])"
   ]
  },
  {
   "cell_type": "markdown",
   "metadata": {},
   "source": [
    "По полученному значению среднего абсолютного отклонения между полученными данными вручную и имеющимися, можно сделать вывод что представленные нам данные корректны."
   ]
  },
  {
   "cell_type": "code",
   "execution_count": 9,
   "metadata": {},
   "outputs": [],
   "source": [
    "data_train = data_train.drop('new', axis=1)"
   ]
  },
  {
   "cell_type": "code",
   "execution_count": 10,
   "metadata": {},
   "outputs": [
    {
     "name": "stdout",
     "output_type": "stream",
     "text": [
      "<class 'pandas.core.frame.DataFrame'>\n",
      "RangeIndex: 5290 entries, 0 to 5289\n",
      "Data columns (total 53 columns):\n",
      "date                                          5290 non-null object\n",
      "primary_cleaner.input.sulfate                 5286 non-null float64\n",
      "primary_cleaner.input.depressant              5285 non-null float64\n",
      "primary_cleaner.input.feed_size               5290 non-null float64\n",
      "primary_cleaner.input.xanthate                5286 non-null float64\n",
      "primary_cleaner.state.floatbank8_a_air        5290 non-null float64\n",
      "primary_cleaner.state.floatbank8_a_level      5290 non-null float64\n",
      "primary_cleaner.state.floatbank8_b_air        5290 non-null float64\n",
      "primary_cleaner.state.floatbank8_b_level      5290 non-null float64\n",
      "primary_cleaner.state.floatbank8_c_air        5290 non-null float64\n",
      "primary_cleaner.state.floatbank8_c_level      5290 non-null float64\n",
      "primary_cleaner.state.floatbank8_d_air        5290 non-null float64\n",
      "primary_cleaner.state.floatbank8_d_level      5290 non-null float64\n",
      "rougher.input.feed_ag                         5290 non-null float64\n",
      "rougher.input.feed_pb                         5290 non-null float64\n",
      "rougher.input.feed_rate                       5287 non-null float64\n",
      "rougher.input.feed_size                       5289 non-null float64\n",
      "rougher.input.feed_sol                        5269 non-null float64\n",
      "rougher.input.feed_au                         5290 non-null float64\n",
      "rougher.input.floatbank10_sulfate             5285 non-null float64\n",
      "rougher.input.floatbank10_xanthate            5290 non-null float64\n",
      "rougher.input.floatbank11_sulfate             5282 non-null float64\n",
      "rougher.input.floatbank11_xanthate            5265 non-null float64\n",
      "rougher.state.floatbank10_a_air               5290 non-null float64\n",
      "rougher.state.floatbank10_a_level             5290 non-null float64\n",
      "rougher.state.floatbank10_b_air               5290 non-null float64\n",
      "rougher.state.floatbank10_b_level             5290 non-null float64\n",
      "rougher.state.floatbank10_c_air               5290 non-null float64\n",
      "rougher.state.floatbank10_c_level             5290 non-null float64\n",
      "rougher.state.floatbank10_d_air               5290 non-null float64\n",
      "rougher.state.floatbank10_d_level             5290 non-null float64\n",
      "rougher.state.floatbank10_e_air               5290 non-null float64\n",
      "rougher.state.floatbank10_e_level             5290 non-null float64\n",
      "rougher.state.floatbank10_f_air               5290 non-null float64\n",
      "rougher.state.floatbank10_f_level             5290 non-null float64\n",
      "secondary_cleaner.state.floatbank2_a_air      5287 non-null float64\n",
      "secondary_cleaner.state.floatbank2_a_level    5290 non-null float64\n",
      "secondary_cleaner.state.floatbank2_b_air      5288 non-null float64\n",
      "secondary_cleaner.state.floatbank2_b_level    5290 non-null float64\n",
      "secondary_cleaner.state.floatbank3_a_air      5281 non-null float64\n",
      "secondary_cleaner.state.floatbank3_a_level    5290 non-null float64\n",
      "secondary_cleaner.state.floatbank3_b_air      5290 non-null float64\n",
      "secondary_cleaner.state.floatbank3_b_level    5290 non-null float64\n",
      "secondary_cleaner.state.floatbank4_a_air      5290 non-null float64\n",
      "secondary_cleaner.state.floatbank4_a_level    5290 non-null float64\n",
      "secondary_cleaner.state.floatbank4_b_air      5290 non-null float64\n",
      "secondary_cleaner.state.floatbank4_b_level    5290 non-null float64\n",
      "secondary_cleaner.state.floatbank5_a_air      5290 non-null float64\n",
      "secondary_cleaner.state.floatbank5_a_level    5290 non-null float64\n",
      "secondary_cleaner.state.floatbank5_b_air      5290 non-null float64\n",
      "secondary_cleaner.state.floatbank5_b_level    5290 non-null float64\n",
      "secondary_cleaner.state.floatbank6_a_air      5290 non-null float64\n",
      "secondary_cleaner.state.floatbank6_a_level    5290 non-null float64\n",
      "dtypes: float64(52), object(1)\n",
      "memory usage: 2.1+ MB\n"
     ]
    }
   ],
   "source": [
    "data_test.info()"
   ]
  },
  {
   "cell_type": "code",
   "execution_count": 11,
   "metadata": {
    "scrolled": false
   },
   "outputs": [
    {
     "name": "stdout",
     "output_type": "stream",
     "text": [
      "<class 'pandas.core.frame.DataFrame'>\n",
      "RangeIndex: 14149 entries, 0 to 14148\n",
      "Data columns (total 34 columns):\n",
      "final.output.concentrate_ag                           14148 non-null float64\n",
      "final.output.concentrate_pb                           14148 non-null float64\n",
      "final.output.concentrate_sol                          13938 non-null float64\n",
      "final.output.concentrate_au                           14149 non-null float64\n",
      "final.output.recovery                                 14149 non-null float64\n",
      "final.output.tail_ag                                  14149 non-null float64\n",
      "final.output.tail_pb                                  14049 non-null float64\n",
      "final.output.tail_sol                                 14144 non-null float64\n",
      "final.output.tail_au                                  14149 non-null float64\n",
      "primary_cleaner.output.concentrate_ag                 14149 non-null float64\n",
      "primary_cleaner.output.concentrate_pb                 14063 non-null float64\n",
      "primary_cleaner.output.concentrate_sol                13863 non-null float64\n",
      "primary_cleaner.output.concentrate_au                 14149 non-null float64\n",
      "primary_cleaner.output.tail_ag                        14148 non-null float64\n",
      "primary_cleaner.output.tail_pb                        14134 non-null float64\n",
      "primary_cleaner.output.tail_sol                       14103 non-null float64\n",
      "primary_cleaner.output.tail_au                        14149 non-null float64\n",
      "rougher.calculation.sulfate_to_au_concentrate         14148 non-null float64\n",
      "rougher.calculation.floatbank10_sulfate_to_au_feed    14148 non-null float64\n",
      "rougher.calculation.floatbank11_sulfate_to_au_feed    14148 non-null float64\n",
      "rougher.calculation.au_pb_ratio                       14149 non-null float64\n",
      "rougher.output.concentrate_ag                         14149 non-null float64\n",
      "rougher.output.concentrate_pb                         14149 non-null float64\n",
      "rougher.output.concentrate_sol                        14127 non-null float64\n",
      "rougher.output.concentrate_au                         14149 non-null float64\n",
      "rougher.output.recovery                               14149 non-null float64\n",
      "rougher.output.tail_ag                                14148 non-null float64\n",
      "rougher.output.tail_pb                                14149 non-null float64\n",
      "rougher.output.tail_sol                               14149 non-null float64\n",
      "rougher.output.tail_au                                14149 non-null float64\n",
      "secondary_cleaner.output.tail_ag                      14147 non-null float64\n",
      "secondary_cleaner.output.tail_pb                      14139 non-null float64\n",
      "secondary_cleaner.output.tail_sol                     12544 non-null float64\n",
      "secondary_cleaner.output.tail_au                      14149 non-null float64\n",
      "dtypes: float64(34)\n",
      "memory usage: 3.7 MB\n"
     ]
    }
   ],
   "source": [
    "a = data_train.drop(data_test.columns, axis=1)\n",
    "a.info()"
   ]
  },
  {
   "cell_type": "markdown",
   "metadata": {},
   "source": [
    "Проанализировав признаки, недоступные в тестовой выборке. Мы видим, что в нее не включены выходные параметры продукта после флотации, первичной, вторичной очистки, данные по конечному(финальному) концентрату, отвальные хвосты по этим же стадиям. Самое главное, что тестовая выборка не содержит целевых признаков, что не даст проверить качество модели на ней. "
   ]
  },
  {
   "cell_type": "code",
   "execution_count": 12,
   "metadata": {},
   "outputs": [
    {
     "data": {
      "text/plain": [
       "date                                            0\n",
       "final.output.concentrate_ag                     1\n",
       "final.output.concentrate_pb                     1\n",
       "final.output.concentrate_sol                  211\n",
       "final.output.concentrate_au                     0\n",
       "                                             ... \n",
       "secondary_cleaner.state.floatbank5_a_level      1\n",
       "secondary_cleaner.state.floatbank5_b_air        1\n",
       "secondary_cleaner.state.floatbank5_b_level      1\n",
       "secondary_cleaner.state.floatbank6_a_air        2\n",
       "secondary_cleaner.state.floatbank6_a_level      1\n",
       "Length: 87, dtype: int64"
      ]
     },
     "execution_count": 12,
     "metadata": {},
     "output_type": "execute_result"
    }
   ],
   "source": [
    "data_train.isna().sum()"
   ]
  },
  {
   "cell_type": "code",
   "execution_count": 13,
   "metadata": {},
   "outputs": [],
   "source": [
    "data_train = data_train.dropna(subset=data_train.columns).reset_index(drop=True)"
   ]
  },
  {
   "cell_type": "code",
   "execution_count": 14,
   "metadata": {},
   "outputs": [
    {
     "data": {
      "text/plain": [
       "(11017, 87)"
      ]
     },
     "execution_count": 14,
     "metadata": {},
     "output_type": "execute_result"
    }
   ],
   "source": [
    "data_train.shape"
   ]
  },
  {
   "cell_type": "code",
   "execution_count": 15,
   "metadata": {},
   "outputs": [
    {
     "data": {
      "text/plain": [
       "0"
      ]
     },
     "execution_count": 15,
     "metadata": {},
     "output_type": "execute_result"
    }
   ],
   "source": [
    "data_train.duplicated().sum()"
   ]
  },
  {
   "cell_type": "code",
   "execution_count": 16,
   "metadata": {},
   "outputs": [
    {
     "data": {
      "text/plain": [
       "date                                           0\n",
       "primary_cleaner.input.sulfate                  4\n",
       "primary_cleaner.input.depressant               5\n",
       "primary_cleaner.input.feed_size                0\n",
       "primary_cleaner.input.xanthate                 4\n",
       "primary_cleaner.state.floatbank8_a_air         0\n",
       "primary_cleaner.state.floatbank8_a_level       0\n",
       "primary_cleaner.state.floatbank8_b_air         0\n",
       "primary_cleaner.state.floatbank8_b_level       0\n",
       "primary_cleaner.state.floatbank8_c_air         0\n",
       "primary_cleaner.state.floatbank8_c_level       0\n",
       "primary_cleaner.state.floatbank8_d_air         0\n",
       "primary_cleaner.state.floatbank8_d_level       0\n",
       "rougher.input.feed_ag                          0\n",
       "rougher.input.feed_pb                          0\n",
       "rougher.input.feed_rate                        3\n",
       "rougher.input.feed_size                        1\n",
       "rougher.input.feed_sol                        21\n",
       "rougher.input.feed_au                          0\n",
       "rougher.input.floatbank10_sulfate              5\n",
       "rougher.input.floatbank10_xanthate             0\n",
       "rougher.input.floatbank11_sulfate              8\n",
       "rougher.input.floatbank11_xanthate            25\n",
       "rougher.state.floatbank10_a_air                0\n",
       "rougher.state.floatbank10_a_level              0\n",
       "rougher.state.floatbank10_b_air                0\n",
       "rougher.state.floatbank10_b_level              0\n",
       "rougher.state.floatbank10_c_air                0\n",
       "rougher.state.floatbank10_c_level              0\n",
       "rougher.state.floatbank10_d_air                0\n",
       "rougher.state.floatbank10_d_level              0\n",
       "rougher.state.floatbank10_e_air                0\n",
       "rougher.state.floatbank10_e_level              0\n",
       "rougher.state.floatbank10_f_air                0\n",
       "rougher.state.floatbank10_f_level              0\n",
       "secondary_cleaner.state.floatbank2_a_air       3\n",
       "secondary_cleaner.state.floatbank2_a_level     0\n",
       "secondary_cleaner.state.floatbank2_b_air       2\n",
       "secondary_cleaner.state.floatbank2_b_level     0\n",
       "secondary_cleaner.state.floatbank3_a_air       9\n",
       "secondary_cleaner.state.floatbank3_a_level     0\n",
       "secondary_cleaner.state.floatbank3_b_air       0\n",
       "secondary_cleaner.state.floatbank3_b_level     0\n",
       "secondary_cleaner.state.floatbank4_a_air       0\n",
       "secondary_cleaner.state.floatbank4_a_level     0\n",
       "secondary_cleaner.state.floatbank4_b_air       0\n",
       "secondary_cleaner.state.floatbank4_b_level     0\n",
       "secondary_cleaner.state.floatbank5_a_air       0\n",
       "secondary_cleaner.state.floatbank5_a_level     0\n",
       "secondary_cleaner.state.floatbank5_b_air       0\n",
       "secondary_cleaner.state.floatbank5_b_level     0\n",
       "secondary_cleaner.state.floatbank6_a_air       0\n",
       "secondary_cleaner.state.floatbank6_a_level     0\n",
       "dtype: int64"
      ]
     },
     "execution_count": 16,
     "metadata": {},
     "output_type": "execute_result"
    }
   ],
   "source": [
    "data_test.isna().sum()"
   ]
  },
  {
   "cell_type": "code",
   "execution_count": 17,
   "metadata": {},
   "outputs": [],
   "source": [
    "data_test = data_test.dropna(subset=data_test.columns).reset_index(drop=True)"
   ]
  },
  {
   "cell_type": "code",
   "execution_count": 18,
   "metadata": {},
   "outputs": [
    {
     "data": {
      "text/plain": [
       "(5229, 53)"
      ]
     },
     "execution_count": 18,
     "metadata": {},
     "output_type": "execute_result"
    }
   ],
   "source": [
    "data_test.shape"
   ]
  },
  {
   "cell_type": "code",
   "execution_count": 19,
   "metadata": {},
   "outputs": [],
   "source": [
    "data_train['date'] = pd.to_datetime(data_train['date'], format=\"%Y-%m-%d %H:%M:%S\")\n",
    "data_test['date'] = pd.to_datetime(data_test['date'], format=\"%Y-%m-%d %H:%M:%S\")\n",
    "data_all['date'] = pd.to_datetime(data_all['date'], format=\"%Y-%m-%d %H:%M:%S\")"
   ]
  },
  {
   "cell_type": "code",
   "execution_count": 20,
   "metadata": {},
   "outputs": [
    {
     "data": {
      "text/plain": [
       "train    11017\n",
       "test      5229\n",
       "          3193\n",
       "Name: sample, dtype: int64"
      ]
     },
     "execution_count": 20,
     "metadata": {},
     "output_type": "execute_result"
    }
   ],
   "source": [
    "date_train_1 = list(data_train['date'])\n",
    "date_test_1  = list(data_test['date'])\n",
    "\n",
    "data_all['sample'] = ''\n",
    "data_all.loc[data_all['date'].isin(date_train_1) == True, 'sample'] = 'train'\n",
    "data_all.loc[data_all['date'].isin(date_test_1)  == True, 'sample'] = 'test'\n",
    "\n",
    "data_all['sample'].value_counts()"
   ]
  },
  {
   "cell_type": "code",
   "execution_count": 21,
   "metadata": {},
   "outputs": [
    {
     "name": "stdout",
     "output_type": "stream",
     "text": [
      "Удалено строк: 3193\n"
     ]
    }
   ],
   "source": [
    "set = ['rougher.input.feed_sol','rougher.input.floatbank11_xanthate',\n",
    "       'secondary_cleaner.state.floatbank2_a_air','secondary_cleaner.state.floatbank2_b_air',\n",
    "       'secondary_cleaner.state.floatbank3_a_air']\n",
    "\n",
    "before_len = len(data_all['date'])\n",
    "\n",
    "for name in set:\n",
    "    data_all = data_all.loc[(((data_all[name].isnull() == False) & \n",
    "                                                  (data_all['sample'] == 'test')) | \n",
    "                                                 (data_all['sample'] == 'train'))]\n",
    "\n",
    "after_len = len(data_all['date'])\n",
    "print('Удалено строк:',before_len - after_len)"
   ]
  },
  {
   "cell_type": "code",
   "execution_count": 22,
   "metadata": {},
   "outputs": [],
   "source": [
    "data_all = data_all[~(data_all['rougher.output.recovery'].isnull())]\n",
    "data_all = data_all[~(data_all['final.output.recovery'].isnull())]"
   ]
  },
  {
   "cell_type": "code",
   "execution_count": 23,
   "metadata": {},
   "outputs": [],
   "source": [
    "data_all = data_all.sort_values(by=['date'])\n",
    "data_all = data_all.ffill()"
   ]
  },
  {
   "cell_type": "markdown",
   "metadata": {},
   "source": [
    "## Построим модель"
   ]
  },
  {
   "cell_type": "markdown",
   "metadata": {},
   "source": [
    "Посмотрим, как меняется концентрация металлов (Au, Ag, Pb) на различных этапах очистки. "
   ]
  },
  {
   "cell_type": "code",
   "execution_count": 24,
   "metadata": {},
   "outputs": [
    {
     "name": "stdout",
     "output_type": "stream",
     "text": [
      "<class 'pandas.core.frame.DataFrame'>\n",
      "RangeIndex: 11017 entries, 0 to 11016\n",
      "Data columns (total 87 columns):\n",
      "date                                                  11017 non-null datetime64[ns]\n",
      "final.output.concentrate_ag                           11017 non-null float64\n",
      "final.output.concentrate_pb                           11017 non-null float64\n",
      "final.output.concentrate_sol                          11017 non-null float64\n",
      "final.output.concentrate_au                           11017 non-null float64\n",
      "final.output.recovery                                 11017 non-null float64\n",
      "final.output.tail_ag                                  11017 non-null float64\n",
      "final.output.tail_pb                                  11017 non-null float64\n",
      "final.output.tail_sol                                 11017 non-null float64\n",
      "final.output.tail_au                                  11017 non-null float64\n",
      "primary_cleaner.input.sulfate                         11017 non-null float64\n",
      "primary_cleaner.input.depressant                      11017 non-null float64\n",
      "primary_cleaner.input.feed_size                       11017 non-null float64\n",
      "primary_cleaner.input.xanthate                        11017 non-null float64\n",
      "primary_cleaner.output.concentrate_ag                 11017 non-null float64\n",
      "primary_cleaner.output.concentrate_pb                 11017 non-null float64\n",
      "primary_cleaner.output.concentrate_sol                11017 non-null float64\n",
      "primary_cleaner.output.concentrate_au                 11017 non-null float64\n",
      "primary_cleaner.output.tail_ag                        11017 non-null float64\n",
      "primary_cleaner.output.tail_pb                        11017 non-null float64\n",
      "primary_cleaner.output.tail_sol                       11017 non-null float64\n",
      "primary_cleaner.output.tail_au                        11017 non-null float64\n",
      "primary_cleaner.state.floatbank8_a_air                11017 non-null float64\n",
      "primary_cleaner.state.floatbank8_a_level              11017 non-null float64\n",
      "primary_cleaner.state.floatbank8_b_air                11017 non-null float64\n",
      "primary_cleaner.state.floatbank8_b_level              11017 non-null float64\n",
      "primary_cleaner.state.floatbank8_c_air                11017 non-null float64\n",
      "primary_cleaner.state.floatbank8_c_level              11017 non-null float64\n",
      "primary_cleaner.state.floatbank8_d_air                11017 non-null float64\n",
      "primary_cleaner.state.floatbank8_d_level              11017 non-null float64\n",
      "rougher.calculation.sulfate_to_au_concentrate         11017 non-null float64\n",
      "rougher.calculation.floatbank10_sulfate_to_au_feed    11017 non-null float64\n",
      "rougher.calculation.floatbank11_sulfate_to_au_feed    11017 non-null float64\n",
      "rougher.calculation.au_pb_ratio                       11017 non-null float64\n",
      "rougher.input.feed_ag                                 11017 non-null float64\n",
      "rougher.input.feed_pb                                 11017 non-null float64\n",
      "rougher.input.feed_rate                               11017 non-null float64\n",
      "rougher.input.feed_size                               11017 non-null float64\n",
      "rougher.input.feed_sol                                11017 non-null float64\n",
      "rougher.input.feed_au                                 11017 non-null float64\n",
      "rougher.input.floatbank10_sulfate                     11017 non-null float64\n",
      "rougher.input.floatbank10_xanthate                    11017 non-null float64\n",
      "rougher.input.floatbank11_sulfate                     11017 non-null float64\n",
      "rougher.input.floatbank11_xanthate                    11017 non-null float64\n",
      "rougher.output.concentrate_ag                         11017 non-null float64\n",
      "rougher.output.concentrate_pb                         11017 non-null float64\n",
      "rougher.output.concentrate_sol                        11017 non-null float64\n",
      "rougher.output.concentrate_au                         11017 non-null float64\n",
      "rougher.output.recovery                               11017 non-null float64\n",
      "rougher.output.tail_ag                                11017 non-null float64\n",
      "rougher.output.tail_pb                                11017 non-null float64\n",
      "rougher.output.tail_sol                               11017 non-null float64\n",
      "rougher.output.tail_au                                11017 non-null float64\n",
      "rougher.state.floatbank10_a_air                       11017 non-null float64\n",
      "rougher.state.floatbank10_a_level                     11017 non-null float64\n",
      "rougher.state.floatbank10_b_air                       11017 non-null float64\n",
      "rougher.state.floatbank10_b_level                     11017 non-null float64\n",
      "rougher.state.floatbank10_c_air                       11017 non-null float64\n",
      "rougher.state.floatbank10_c_level                     11017 non-null float64\n",
      "rougher.state.floatbank10_d_air                       11017 non-null float64\n",
      "rougher.state.floatbank10_d_level                     11017 non-null float64\n",
      "rougher.state.floatbank10_e_air                       11017 non-null float64\n",
      "rougher.state.floatbank10_e_level                     11017 non-null float64\n",
      "rougher.state.floatbank10_f_air                       11017 non-null float64\n",
      "rougher.state.floatbank10_f_level                     11017 non-null float64\n",
      "secondary_cleaner.output.tail_ag                      11017 non-null float64\n",
      "secondary_cleaner.output.tail_pb                      11017 non-null float64\n",
      "secondary_cleaner.output.tail_sol                     11017 non-null float64\n",
      "secondary_cleaner.output.tail_au                      11017 non-null float64\n",
      "secondary_cleaner.state.floatbank2_a_air              11017 non-null float64\n",
      "secondary_cleaner.state.floatbank2_a_level            11017 non-null float64\n",
      "secondary_cleaner.state.floatbank2_b_air              11017 non-null float64\n",
      "secondary_cleaner.state.floatbank2_b_level            11017 non-null float64\n",
      "secondary_cleaner.state.floatbank3_a_air              11017 non-null float64\n",
      "secondary_cleaner.state.floatbank3_a_level            11017 non-null float64\n",
      "secondary_cleaner.state.floatbank3_b_air              11017 non-null float64\n",
      "secondary_cleaner.state.floatbank3_b_level            11017 non-null float64\n",
      "secondary_cleaner.state.floatbank4_a_air              11017 non-null float64\n",
      "secondary_cleaner.state.floatbank4_a_level            11017 non-null float64\n",
      "secondary_cleaner.state.floatbank4_b_air              11017 non-null float64\n",
      "secondary_cleaner.state.floatbank4_b_level            11017 non-null float64\n",
      "secondary_cleaner.state.floatbank5_a_air              11017 non-null float64\n",
      "secondary_cleaner.state.floatbank5_a_level            11017 non-null float64\n",
      "secondary_cleaner.state.floatbank5_b_air              11017 non-null float64\n",
      "secondary_cleaner.state.floatbank5_b_level            11017 non-null float64\n",
      "secondary_cleaner.state.floatbank6_a_air              11017 non-null float64\n",
      "secondary_cleaner.state.floatbank6_a_level            11017 non-null float64\n",
      "dtypes: datetime64[ns](1), float64(86)\n",
      "memory usage: 7.3 MB\n"
     ]
    }
   ],
   "source": [
    "data_train.info()"
   ]
  },
  {
   "cell_type": "code",
   "execution_count": 25,
   "metadata": {},
   "outputs": [
    {
     "data": {
      "text/html": [
       "<div>\n",
       "<style scoped>\n",
       "    .dataframe tbody tr th:only-of-type {\n",
       "        vertical-align: middle;\n",
       "    }\n",
       "\n",
       "    .dataframe tbody tr th {\n",
       "        vertical-align: top;\n",
       "    }\n",
       "\n",
       "    .dataframe thead th {\n",
       "        text-align: right;\n",
       "    }\n",
       "</style>\n",
       "<table border=\"1\" class=\"dataframe\">\n",
       "  <thead>\n",
       "    <tr style=\"text-align: right;\">\n",
       "      <th></th>\n",
       "      <th>rougher.input.feed_au</th>\n",
       "      <th>rougher.output.concentrate_au</th>\n",
       "      <th>primary_cleaner.output.concentrate_au</th>\n",
       "      <th>final.output.concentrate_au</th>\n",
       "    </tr>\n",
       "  </thead>\n",
       "  <tbody>\n",
       "    <tr>\n",
       "      <td>11012</td>\n",
       "      <td>5.335862</td>\n",
       "      <td>18.603550</td>\n",
       "      <td>32.940215</td>\n",
       "      <td>46.713954</td>\n",
       "    </tr>\n",
       "    <tr>\n",
       "      <td>11013</td>\n",
       "      <td>4.838619</td>\n",
       "      <td>18.441436</td>\n",
       "      <td>32.925325</td>\n",
       "      <td>46.866780</td>\n",
       "    </tr>\n",
       "    <tr>\n",
       "      <td>11014</td>\n",
       "      <td>4.525061</td>\n",
       "      <td>15.111231</td>\n",
       "      <td>31.856742</td>\n",
       "      <td>46.795691</td>\n",
       "    </tr>\n",
       "    <tr>\n",
       "      <td>11015</td>\n",
       "      <td>4.362781</td>\n",
       "      <td>17.834772</td>\n",
       "      <td>30.770892</td>\n",
       "      <td>46.408188</td>\n",
       "    </tr>\n",
       "    <tr>\n",
       "      <td>11016</td>\n",
       "      <td>4.365491</td>\n",
       "      <td>17.804134</td>\n",
       "      <td>30.356618</td>\n",
       "      <td>46.299438</td>\n",
       "    </tr>\n",
       "  </tbody>\n",
       "</table>\n",
       "</div>"
      ],
      "text/plain": [
       "       rougher.input.feed_au  rougher.output.concentrate_au  \\\n",
       "11012               5.335862                      18.603550   \n",
       "11013               4.838619                      18.441436   \n",
       "11014               4.525061                      15.111231   \n",
       "11015               4.362781                      17.834772   \n",
       "11016               4.365491                      17.804134   \n",
       "\n",
       "       primary_cleaner.output.concentrate_au  final.output.concentrate_au  \n",
       "11012                              32.940215                    46.713954  \n",
       "11013                              32.925325                    46.866780  \n",
       "11014                              31.856742                    46.795691  \n",
       "11015                              30.770892                    46.408188  \n",
       "11016                              30.356618                    46.299438  "
      ]
     },
     "execution_count": 25,
     "metadata": {},
     "output_type": "execute_result"
    }
   ],
   "source": [
    "data_au=data_train[['rougher.input.feed_au','rougher.output.concentrate_au','primary_cleaner.output.concentrate_au','final.output.concentrate_au']]\n",
    "data_au.tail()"
   ]
  },
  {
   "cell_type": "markdown",
   "metadata": {},
   "source": [
    "Концентрация металла увеличивается в зависимости от стадии очистки.  "
   ]
  },
  {
   "cell_type": "code",
   "execution_count": 26,
   "metadata": {},
   "outputs": [
    {
     "data": {
      "text/html": [
       "<div>\n",
       "<style scoped>\n",
       "    .dataframe tbody tr th:only-of-type {\n",
       "        vertical-align: middle;\n",
       "    }\n",
       "\n",
       "    .dataframe tbody tr th {\n",
       "        vertical-align: top;\n",
       "    }\n",
       "\n",
       "    .dataframe thead th {\n",
       "        text-align: right;\n",
       "    }\n",
       "</style>\n",
       "<table border=\"1\" class=\"dataframe\">\n",
       "  <thead>\n",
       "    <tr style=\"text-align: right;\">\n",
       "      <th></th>\n",
       "      <th>rougher.input.feed_ag</th>\n",
       "      <th>rougher.output.concentrate_ag</th>\n",
       "      <th>primary_cleaner.output.concentrate_ag</th>\n",
       "      <th>final.output.concentrate_ag</th>\n",
       "    </tr>\n",
       "  </thead>\n",
       "  <tbody>\n",
       "    <tr>\n",
       "      <td>11012</td>\n",
       "      <td>6.091855</td>\n",
       "      <td>11.124896</td>\n",
       "      <td>6.559174</td>\n",
       "      <td>3.224920</td>\n",
       "    </tr>\n",
       "    <tr>\n",
       "      <td>11013</td>\n",
       "      <td>6.121323</td>\n",
       "      <td>11.425983</td>\n",
       "      <td>6.612376</td>\n",
       "      <td>3.195978</td>\n",
       "    </tr>\n",
       "    <tr>\n",
       "      <td>11014</td>\n",
       "      <td>5.970515</td>\n",
       "      <td>8.523497</td>\n",
       "      <td>7.128896</td>\n",
       "      <td>3.109998</td>\n",
       "    </tr>\n",
       "    <tr>\n",
       "      <td>11015</td>\n",
       "      <td>6.048130</td>\n",
       "      <td>11.658799</td>\n",
       "      <td>7.490444</td>\n",
       "      <td>3.367241</td>\n",
       "    </tr>\n",
       "    <tr>\n",
       "      <td>11016</td>\n",
       "      <td>6.158718</td>\n",
       "      <td>11.959486</td>\n",
       "      <td>7.537584</td>\n",
       "      <td>3.598375</td>\n",
       "    </tr>\n",
       "  </tbody>\n",
       "</table>\n",
       "</div>"
      ],
      "text/plain": [
       "       rougher.input.feed_ag  rougher.output.concentrate_ag  \\\n",
       "11012               6.091855                      11.124896   \n",
       "11013               6.121323                      11.425983   \n",
       "11014               5.970515                       8.523497   \n",
       "11015               6.048130                      11.658799   \n",
       "11016               6.158718                      11.959486   \n",
       "\n",
       "       primary_cleaner.output.concentrate_ag  final.output.concentrate_ag  \n",
       "11012                               6.559174                     3.224920  \n",
       "11013                               6.612376                     3.195978  \n",
       "11014                               7.128896                     3.109998  \n",
       "11015                               7.490444                     3.367241  \n",
       "11016                               7.537584                     3.598375  "
      ]
     },
     "execution_count": 26,
     "metadata": {},
     "output_type": "execute_result"
    }
   ],
   "source": [
    "data_ag=data_train[['rougher.input.feed_ag','rougher.output.concentrate_ag','primary_cleaner.output.concentrate_ag','final.output.concentrate_ag']]\n",
    "data_ag.tail()"
   ]
  },
  {
   "cell_type": "markdown",
   "metadata": {},
   "source": [
    "Концентрация серебра на первых этапах возрастает и снижается к финальной очистке. Можно предположить, что часть металла идет с примесью и удаляется."
   ]
  },
  {
   "cell_type": "code",
   "execution_count": 27,
   "metadata": {},
   "outputs": [
    {
     "data": {
      "text/html": [
       "<div>\n",
       "<style scoped>\n",
       "    .dataframe tbody tr th:only-of-type {\n",
       "        vertical-align: middle;\n",
       "    }\n",
       "\n",
       "    .dataframe tbody tr th {\n",
       "        vertical-align: top;\n",
       "    }\n",
       "\n",
       "    .dataframe thead th {\n",
       "        text-align: right;\n",
       "    }\n",
       "</style>\n",
       "<table border=\"1\" class=\"dataframe\">\n",
       "  <thead>\n",
       "    <tr style=\"text-align: right;\">\n",
       "      <th></th>\n",
       "      <th>rougher.input.feed_pb</th>\n",
       "      <th>rougher.output.concentrate_pb</th>\n",
       "      <th>primary_cleaner.output.concentrate_pb</th>\n",
       "      <th>final.output.concentrate_pb</th>\n",
       "    </tr>\n",
       "  </thead>\n",
       "  <tbody>\n",
       "    <tr>\n",
       "      <td>0</td>\n",
       "      <td>2.284912</td>\n",
       "      <td>7.101074</td>\n",
       "      <td>10.389648</td>\n",
       "      <td>9.889648</td>\n",
       "    </tr>\n",
       "    <tr>\n",
       "      <td>1</td>\n",
       "      <td>2.266033</td>\n",
       "      <td>7.278807</td>\n",
       "      <td>10.497069</td>\n",
       "      <td>9.968944</td>\n",
       "    </tr>\n",
       "    <tr>\n",
       "      <td>2</td>\n",
       "      <td>2.159622</td>\n",
       "      <td>7.216833</td>\n",
       "      <td>10.354494</td>\n",
       "      <td>10.213995</td>\n",
       "    </tr>\n",
       "    <tr>\n",
       "      <td>3</td>\n",
       "      <td>2.037807</td>\n",
       "      <td>7.175616</td>\n",
       "      <td>8.496563</td>\n",
       "      <td>9.977019</td>\n",
       "    </tr>\n",
       "    <tr>\n",
       "      <td>4</td>\n",
       "      <td>1.786875</td>\n",
       "      <td>7.240205</td>\n",
       "      <td>9.986786</td>\n",
       "      <td>10.142511</td>\n",
       "    </tr>\n",
       "  </tbody>\n",
       "</table>\n",
       "</div>"
      ],
      "text/plain": [
       "   rougher.input.feed_pb  rougher.output.concentrate_pb  \\\n",
       "0               2.284912                       7.101074   \n",
       "1               2.266033                       7.278807   \n",
       "2               2.159622                       7.216833   \n",
       "3               2.037807                       7.175616   \n",
       "4               1.786875                       7.240205   \n",
       "\n",
       "   primary_cleaner.output.concentrate_pb  final.output.concentrate_pb  \n",
       "0                              10.389648                     9.889648  \n",
       "1                              10.497069                     9.968944  \n",
       "2                              10.354494                    10.213995  \n",
       "3                               8.496563                     9.977019  \n",
       "4                               9.986786                    10.142511  "
      ]
     },
     "execution_count": 27,
     "metadata": {},
     "output_type": "execute_result"
    }
   ],
   "source": [
    "data_pb=data_train[['rougher.input.feed_pb','rougher.output.concentrate_pb','primary_cleaner.output.concentrate_pb','final.output.concentrate_pb']]\n",
    "data_pb.head()"
   ]
  },
  {
   "cell_type": "markdown",
   "metadata": {},
   "source": [
    "После первой стадии очистки концентрация свинца в разы увеличивается, а на последующих практически не изменяется."
   ]
  },
  {
   "cell_type": "code",
   "execution_count": 28,
   "metadata": {},
   "outputs": [
    {
     "data": {
      "image/png": "[encoded data removed]",
      "text/plain": [
       "<Figure size 1080x1440 with 3 Axes>"
      ]
     },
     "metadata": {
      "needs_background": "light"
     },
     "output_type": "display_data"
    }
   ],
   "source": [
    "fig, axes = plt.subplots(3, 1, figsize=(15, 20))\n",
    "for column in list(data_au):\n",
    "    sns.distplot(data_au[column], ax=axes[0])\n",
    "axes[0].set(title=\"Au\", xlabel=\"Концентрация\", ylabel=\"Частота, шт\")\n",
    "for column in list(data_ag):\n",
    "    sns.distplot(data_ag[column], ax=axes[1])\n",
    "axes[1].set(title=\"Ag\", xlabel=\"Концентрация\", ylabel=\"Частота, шт\")\n",
    "for column in list(data_pb):\n",
    "    sns.distplot(data_pb[column], ax=axes[2])\n",
    "axes[2].set(title=\"Pb\", xlabel=\"Концентрация\", ylabel=\"Частота, шт\")\n",
    "fig.suptitle(\"Изменение концентрации металлов по стадиям обогащения\")\n",
    "fig.legend([\"В руде\", \"После флотации\", \"После первичной очистки\", \"Финальная концентрация\"])\n",
    "fig.show()"
   ]
  },
  {
   "cell_type": "markdown",
   "metadata": {},
   "source": [
    "По графикам видно, что на каждой стадии имеются выбросы (0 - значения), может сказаться на обучении модели."
   ]
  },
  {
   "cell_type": "code",
   "execution_count": 29,
   "metadata": {},
   "outputs": [
    {
     "data": {
      "text/plain": [
       "0    55.486599\n",
       "1    57.278666\n",
       "2    57.510649\n",
       "3    57.792734\n",
       "4    56.047189\n",
       "Name: rougher.input.feed_size, dtype: float64"
      ]
     },
     "execution_count": 29,
     "metadata": {},
     "output_type": "execute_result"
    }
   ],
   "source": [
    "data_train['rougher.input.feed_size'].head()"
   ]
  },
  {
   "cell_type": "code",
   "execution_count": 30,
   "metadata": {},
   "outputs": [
    {
     "data": {
      "text/plain": [
       "0    7.25\n",
       "1    7.25\n",
       "2    7.25\n",
       "3    7.25\n",
       "4    7.25\n",
       "Name: primary_cleaner.input.feed_size, dtype: float64"
      ]
     },
     "execution_count": 30,
     "metadata": {},
     "output_type": "execute_result"
    }
   ],
   "source": [
    "data_train['primary_cleaner.input.feed_size'].head()"
   ]
  },
  {
   "cell_type": "code",
   "execution_count": 31,
   "metadata": {},
   "outputs": [
    {
     "data": {
      "text/plain": [
       "0    62.710452\n",
       "1    61.961163\n",
       "2    66.903807\n",
       "3    59.865919\n",
       "4    63.315324\n",
       "Name: rougher.input.feed_size, dtype: float64"
      ]
     },
     "execution_count": 31,
     "metadata": {},
     "output_type": "execute_result"
    }
   ],
   "source": [
    "data_test['rougher.input.feed_size'].head()"
   ]
  },
  {
   "cell_type": "code",
   "execution_count": 32,
   "metadata": {},
   "outputs": [
    {
     "data": {
      "text/plain": [
       "0    8.080000\n",
       "1    8.080000\n",
       "2    7.786667\n",
       "3    7.640000\n",
       "4    7.530000\n",
       "Name: primary_cleaner.input.feed_size, dtype: float64"
      ]
     },
     "execution_count": 32,
     "metadata": {},
     "output_type": "execute_result"
    }
   ],
   "source": [
    "data_test['primary_cleaner.input.feed_size'].head()"
   ]
  },
  {
   "cell_type": "code",
   "execution_count": 33,
   "metadata": {},
   "outputs": [
    {
     "data": {
      "image/png": "[encoded data removed]",
      "text/plain": [
       "<Figure size 1080x720 with 1 Axes>"
      ]
     },
     "metadata": {
      "needs_background": "light"
     },
     "output_type": "display_data"
    }
   ],
   "source": [
    "fig, ax = plt.subplots(figsize=(15, 10))\n",
    "ax.hist(data_train['rougher.input.feed_size'], bins = 100,  alpha=0.5, label='Частота частиц руды на обучающей выборке')\n",
    "ax.hist(data_test['rougher.input.feed_size'], bins = 100,  alpha=0.5, label='Частота частиц руды на тестовой выборке')\n",
    "ax.set_title('Частотное распределение')\n",
    "ax.grid()\n",
    "ax.legend()\n",
    "plt.xlabel('Размер частиц руды')\n",
    "plt.ylabel('Частота, шт')\n",
    "plt.show()    \n",
    "    \n",
    "    "
   ]
  },
  {
   "cell_type": "markdown",
   "metadata": {},
   "source": [
    "По графику видно, что диапазон колебаний размера частиц в тестовой выборе лежит внутри колебаний на обучающей. Этого достаточно для корректной работы модели."
   ]
  },
  {
   "cell_type": "markdown",
   "metadata": {},
   "source": [
    "Исследуем суммарную концентрацию всех веществ на разных стадиях: в сырье, в черновом и финальном концентратах:"
   ]
  },
  {
   "cell_type": "code",
   "execution_count": 34,
   "metadata": {},
   "outputs": [
    {
     "data": {
      "text/html": [
       "<div>\n",
       "<style scoped>\n",
       "    .dataframe tbody tr th:only-of-type {\n",
       "        vertical-align: middle;\n",
       "    }\n",
       "\n",
       "    .dataframe tbody tr th {\n",
       "        vertical-align: top;\n",
       "    }\n",
       "\n",
       "    .dataframe thead th {\n",
       "        text-align: right;\n",
       "    }\n",
       "</style>\n",
       "<table border=\"1\" class=\"dataframe\">\n",
       "  <thead>\n",
       "    <tr style=\"text-align: right;\">\n",
       "      <th></th>\n",
       "      <th>сырье</th>\n",
       "      <th>черновой_конц</th>\n",
       "      <th>очищенный_конц</th>\n",
       "      <th>финальный_конц</th>\n",
       "    </tr>\n",
       "  </thead>\n",
       "  <tbody>\n",
       "    <tr>\n",
       "      <td>0</td>\n",
       "      <td>51.680034</td>\n",
       "      <td>66.424950</td>\n",
       "      <td>72.640924</td>\n",
       "      <td>63.644396</td>\n",
       "    </tr>\n",
       "    <tr>\n",
       "      <td>1</td>\n",
       "      <td>50.659114</td>\n",
       "      <td>67.012710</td>\n",
       "      <td>72.543485</td>\n",
       "      <td>63.957723</td>\n",
       "    </tr>\n",
       "    <tr>\n",
       "      <td>2</td>\n",
       "      <td>50.609929</td>\n",
       "      <td>66.103793</td>\n",
       "      <td>72.095042</td>\n",
       "      <td>64.311180</td>\n",
       "    </tr>\n",
       "    <tr>\n",
       "      <td>3</td>\n",
       "      <td>51.061546</td>\n",
       "      <td>65.752751</td>\n",
       "      <td>59.957723</td>\n",
       "      <td>63.573449</td>\n",
       "    </tr>\n",
       "    <tr>\n",
       "      <td>4</td>\n",
       "      <td>47.859163</td>\n",
       "      <td>65.908382</td>\n",
       "      <td>71.321010</td>\n",
       "      <td>64.004667</td>\n",
       "    </tr>\n",
       "  </tbody>\n",
       "</table>\n",
       "</div>"
      ],
      "text/plain": [
       "       сырье  черновой_конц  очищенный_конц  финальный_конц\n",
       "0  51.680034      66.424950       72.640924       63.644396\n",
       "1  50.659114      67.012710       72.543485       63.957723\n",
       "2  50.609929      66.103793       72.095042       64.311180\n",
       "3  51.061546      65.752751       59.957723       63.573449\n",
       "4  47.859163      65.908382       71.321010       64.004667"
      ]
     },
     "execution_count": 34,
     "metadata": {},
     "output_type": "execute_result"
    }
   ],
   "source": [
    "a['сырье'] = data_train['rougher.input.feed_ag']+data_train['rougher.input.feed_pb']+data_train['rougher.input.feed_sol']+data_train['rougher.input.feed_au']\n",
    "a['черновой_конц'] = data_train['rougher.output.concentrate_ag']+data_train['rougher.output.concentrate_pb']+data_train['rougher.output.concentrate_sol']+data_train['rougher.output.concentrate_au']\n",
    "a['очищенный_конц'] = data_train['primary_cleaner.output.concentrate_ag']+data_train['primary_cleaner.output.concentrate_pb']+data_train['primary_cleaner.output.concentrate_sol']+data_train['primary_cleaner.output.concentrate_au']\n",
    "a['финальный_конц'] = data_train['final.output.concentrate_ag']+data_train['final.output.concentrate_pb']+data_train['final.output.concentrate_sol']+data_train['final.output.concentrate_au']\n",
    "a=a[['сырье','черновой_конц','очищенный_конц','финальный_конц']]\n",
    "a.head()"
   ]
  },
  {
   "cell_type": "code",
   "execution_count": 35,
   "metadata": {},
   "outputs": [],
   "source": [
    "a=a.dropna(subset=['сырье','черновой_конц','очищенный_конц','финальный_конц'])"
   ]
  },
  {
   "cell_type": "code",
   "execution_count": 36,
   "metadata": {},
   "outputs": [
    {
     "data": {
      "text/plain": [
       "сырье             0\n",
       "черновой_конц     0\n",
       "очищенный_конц    0\n",
       "финальный_конц    0\n",
       "dtype: int64"
      ]
     },
     "execution_count": 36,
     "metadata": {},
     "output_type": "execute_result"
    }
   ],
   "source": [
    "a.isna().sum()"
   ]
  },
  {
   "cell_type": "code",
   "execution_count": 37,
   "metadata": {},
   "outputs": [
    {
     "data": {
      "image/png": "[encoded data removed]",
      "text/plain": [
       "<Figure size 1080x720 with 1 Axes>"
      ]
     },
     "metadata": {
      "needs_background": "light"
     },
     "output_type": "display_data"
    }
   ],
   "source": [
    "fig = plt.figure(figsize=(15, 10))\n",
    "column_c = ['сырье', 'черновой_конц', 'очищенный_конц', 'финальный_конц']\n",
    "column_c2 = ['В руде', 'После флотации', 'После первичной оценки', 'Финальная концентрация']\n",
    "for column in list(column_c):\n",
    "    sns.distplot(a[column])\n",
    "plt.legend(list(column_c2))\n",
    "plt.title(\"Концентрация веществ по стадиям очистки\")\n",
    "plt.xlabel(\"Концентрация\")\n",
    "plt.ylabel(\"Частота, шт\")\n",
    "fig.show()"
   ]
  },
  {
   "cell_type": "markdown",
   "metadata": {},
   "source": [
    "Вывод: Общая концентрация всех веществ меняется неравномерно: при флотации растет, затем снижается, а потом снова растет. На последнем этапе значительно снижается разброс, то есть происходит дополнительная стабилизация процесса"
   ]
  },
  {
   "cell_type": "raw",
   "metadata": {},
   "source": [
    "# ВЫБОР НУЖНЫХ СТРОК\n",
    "\n",
    "for stage in ['rougher.input.feed_', \n",
    "             'rougher.output.concentrate_', \n",
    "             'final.output.concentrate_']:\n",
    "    zero_date = full[full[{'%sau' % stage, '%sag' % stage, '%spb' % stage, '%ssol' % stage}].sum(axis=1).isin([0])]['date']\n",
    "    \n",
    "    full.drop(full[full.date.isin(zero_date)].index, inplace=True)\n",
    "    train.drop(train[train.date.isin(zero_date)].index, inplace=True)\n",
    "    test.drop(test[test.date.isin(zero_date)].index, inplace=True)"
   ]
  },
  {
   "cell_type": "code",
   "execution_count": 38,
   "metadata": {},
   "outputs": [
    {
     "data": {
      "text/plain": [
       "0"
      ]
     },
     "execution_count": 38,
     "metadata": {},
     "output_type": "execute_result"
    }
   ],
   "source": [
    "a[a['сырье'] <= 0]['сырье'].count()"
   ]
  },
  {
   "cell_type": "code",
   "execution_count": 39,
   "metadata": {},
   "outputs": [
    {
     "data": {
      "text/plain": [
       "205"
      ]
     },
     "execution_count": 39,
     "metadata": {},
     "output_type": "execute_result"
    }
   ],
   "source": [
    "a[a['черновой_конц'] <= 0]['черновой_конц'].count()"
   ]
  },
  {
   "cell_type": "code",
   "execution_count": 40,
   "metadata": {},
   "outputs": [],
   "source": [
    "ind=a[a['черновой_конц'] <= 0]['черновой_конц'].index"
   ]
  },
  {
   "cell_type": "code",
   "execution_count": 41,
   "metadata": {},
   "outputs": [
    {
     "data": {
      "text/plain": [
       "Int64Index([  45,   46,   47,   48,  624, 1066, 1406, 1419, 1420, 1421,\n",
       "            ...\n",
       "            8865, 8866, 8867, 8868, 8869, 8870, 8871, 8872, 8882, 8883],\n",
       "           dtype='int64', length=205)"
      ]
     },
     "execution_count": 41,
     "metadata": {},
     "output_type": "execute_result"
    }
   ],
   "source": [
    "ind"
   ]
  },
  {
   "cell_type": "code",
   "execution_count": 42,
   "metadata": {},
   "outputs": [],
   "source": [
    "a = a.drop(index=ind)"
   ]
  },
  {
   "cell_type": "code",
   "execution_count": 43,
   "metadata": {},
   "outputs": [
    {
     "data": {
      "text/plain": [
       "0"
      ]
     },
     "execution_count": 43,
     "metadata": {},
     "output_type": "execute_result"
    }
   ],
   "source": [
    "a[a['черновой_конц'] <= 0]['черновой_конц'].count()"
   ]
  },
  {
   "cell_type": "code",
   "execution_count": 44,
   "metadata": {},
   "outputs": [],
   "source": [
    "ind=a[a['очищенный_конц'] <= 0]['очищенный_конц'].index"
   ]
  },
  {
   "cell_type": "code",
   "execution_count": 45,
   "metadata": {},
   "outputs": [],
   "source": [
    "a = a.drop(index=ind)"
   ]
  },
  {
   "cell_type": "code",
   "execution_count": 46,
   "metadata": {},
   "outputs": [
    {
     "data": {
      "text/plain": [
       "0"
      ]
     },
     "execution_count": 46,
     "metadata": {},
     "output_type": "execute_result"
    }
   ],
   "source": [
    "a[a['очищенный_конц'] <= 0]['очищенный_конц'].count()"
   ]
  },
  {
   "cell_type": "code",
   "execution_count": 47,
   "metadata": {},
   "outputs": [
    {
     "data": {
      "image/png": "[encoded data removed]",
      "text/plain": [
       "<Figure size 1080x720 with 1 Axes>"
      ]
     },
     "metadata": {
      "needs_background": "light"
     },
     "output_type": "display_data"
    }
   ],
   "source": [
    "fig = plt.figure(figsize=(15, 10))\n",
    "column_c = ['сырье', 'черновой_конц', 'очищенный_конц', 'финальный_конц']\n",
    "column_c2 = ['В руде', 'После флотации', 'После первичной оценки', 'Финальная концентрация']\n",
    "for column in list(column_c):\n",
    "    sns.distplot(a[column])\n",
    "plt.legend(list(column_c2))\n",
    "plt.title(\"Концентрация веществ по стадиям очистки\")\n",
    "plt.xlabel(\"Концентрация\")\n",
    "plt.ylabel(\"Частота, шт\")\n",
    "fig.show()"
   ]
  },
  {
   "cell_type": "markdown",
   "metadata": {},
   "source": [
    "Мини вывод по замечанию:\n",
    "\n",
    "После небольшого анализа видно, что в сырье отутствуют 0 значения и по сути данные можно считать коректными, ведь в сам технологический процесс мы не углубляемся и не знаем как ведут себя концентраты на разных стадиях и что может привести к 0 значениям ( не только системные ошибки). Поэтому я все же настаиваю на том, чтобы эти данные тоже внесли свой вклад в обучении моделей."
   ]
  },
  {
   "cell_type": "markdown",
   "metadata": {},
   "source": [
    "Подготовим выборки для моделей:"
   ]
  },
  {
   "cell_type": "code",
   "execution_count": 48,
   "metadata": {},
   "outputs": [],
   "source": [
    "drop_col = [\n",
    "    'date', \n",
    "    'final.output.concentrate_ag',\n",
    "    'final.output.concentrate_pb',\n",
    "    'final.output.concentrate_sol',\n",
    "    'final.output.concentrate_au',\n",
    "    'final.output.tail_ag',\n",
    "    'final.output.tail_pb',\n",
    "    'final.output.tail_sol',\n",
    "    'final.output.tail_au',\n",
    "    'primary_cleaner.output.concentrate_ag',\n",
    "    'primary_cleaner.output.concentrate_pb',\n",
    "    'primary_cleaner.output.concentrate_sol',\n",
    "    'primary_cleaner.output.concentrate_au',\n",
    "    'primary_cleaner.output.tail_ag',\n",
    "    'primary_cleaner.output.tail_pb',\n",
    "    'primary_cleaner.output.tail_sol',\n",
    "    'primary_cleaner.output.tail_au',\n",
    "    'rougher.calculation.sulfate_to_au_concentrate',\n",
    "    'rougher.calculation.floatbank10_sulfate_to_au_feed',\n",
    "    'rougher.calculation.floatbank11_sulfate_to_au_feed',\n",
    "    'rougher.calculation.au_pb_ratio',\n",
    "    'rougher.output.concentrate_ag',\n",
    "    'rougher.output.concentrate_pb',\n",
    "    'rougher.output.concentrate_sol',\n",
    "    'rougher.output.concentrate_au',\n",
    "    'rougher.output.tail_ag',\n",
    "    'rougher.output.tail_pb',\n",
    "    'rougher.output.tail_sol',\n",
    "    'rougher.output.tail_au',\n",
    "    'secondary_cleaner.output.tail_ag',\n",
    "    'secondary_cleaner.output.tail_pb',\n",
    "    'secondary_cleaner.output.tail_sol',\n",
    "    'secondary_cleaner.output.tail_au']"
   ]
  },
  {
   "cell_type": "code",
   "execution_count": 49,
   "metadata": {},
   "outputs": [],
   "source": [
    "data_train = data_train.drop(drop_col, axis=1)"
   ]
  },
  {
   "cell_type": "code",
   "execution_count": 50,
   "metadata": {},
   "outputs": [
    {
     "data": {
      "text/plain": [
       "(11017, 54)"
      ]
     },
     "execution_count": 50,
     "metadata": {},
     "output_type": "execute_result"
    }
   ],
   "source": [
    "data_train.shape"
   ]
  },
  {
   "cell_type": "code",
   "execution_count": 51,
   "metadata": {},
   "outputs": [
    {
     "name": "stdout",
     "output_type": "stream",
     "text": [
      "<class 'pandas.core.frame.DataFrame'>\n",
      "RangeIndex: 11017 entries, 0 to 11016\n",
      "Data columns (total 54 columns):\n",
      "final.output.recovery                         11017 non-null float64\n",
      "primary_cleaner.input.sulfate                 11017 non-null float64\n",
      "primary_cleaner.input.depressant              11017 non-null float64\n",
      "primary_cleaner.input.feed_size               11017 non-null float64\n",
      "primary_cleaner.input.xanthate                11017 non-null float64\n",
      "primary_cleaner.state.floatbank8_a_air        11017 non-null float64\n",
      "primary_cleaner.state.floatbank8_a_level      11017 non-null float64\n",
      "primary_cleaner.state.floatbank8_b_air        11017 non-null float64\n",
      "primary_cleaner.state.floatbank8_b_level      11017 non-null float64\n",
      "primary_cleaner.state.floatbank8_c_air        11017 non-null float64\n",
      "primary_cleaner.state.floatbank8_c_level      11017 non-null float64\n",
      "primary_cleaner.state.floatbank8_d_air        11017 non-null float64\n",
      "primary_cleaner.state.floatbank8_d_level      11017 non-null float64\n",
      "rougher.input.feed_ag                         11017 non-null float64\n",
      "rougher.input.feed_pb                         11017 non-null float64\n",
      "rougher.input.feed_rate                       11017 non-null float64\n",
      "rougher.input.feed_size                       11017 non-null float64\n",
      "rougher.input.feed_sol                        11017 non-null float64\n",
      "rougher.input.feed_au                         11017 non-null float64\n",
      "rougher.input.floatbank10_sulfate             11017 non-null float64\n",
      "rougher.input.floatbank10_xanthate            11017 non-null float64\n",
      "rougher.input.floatbank11_sulfate             11017 non-null float64\n",
      "rougher.input.floatbank11_xanthate            11017 non-null float64\n",
      "rougher.output.recovery                       11017 non-null float64\n",
      "rougher.state.floatbank10_a_air               11017 non-null float64\n",
      "rougher.state.floatbank10_a_level             11017 non-null float64\n",
      "rougher.state.floatbank10_b_air               11017 non-null float64\n",
      "rougher.state.floatbank10_b_level             11017 non-null float64\n",
      "rougher.state.floatbank10_c_air               11017 non-null float64\n",
      "rougher.state.floatbank10_c_level             11017 non-null float64\n",
      "rougher.state.floatbank10_d_air               11017 non-null float64\n",
      "rougher.state.floatbank10_d_level             11017 non-null float64\n",
      "rougher.state.floatbank10_e_air               11017 non-null float64\n",
      "rougher.state.floatbank10_e_level             11017 non-null float64\n",
      "rougher.state.floatbank10_f_air               11017 non-null float64\n",
      "rougher.state.floatbank10_f_level             11017 non-null float64\n",
      "secondary_cleaner.state.floatbank2_a_air      11017 non-null float64\n",
      "secondary_cleaner.state.floatbank2_a_level    11017 non-null float64\n",
      "secondary_cleaner.state.floatbank2_b_air      11017 non-null float64\n",
      "secondary_cleaner.state.floatbank2_b_level    11017 non-null float64\n",
      "secondary_cleaner.state.floatbank3_a_air      11017 non-null float64\n",
      "secondary_cleaner.state.floatbank3_a_level    11017 non-null float64\n",
      "secondary_cleaner.state.floatbank3_b_air      11017 non-null float64\n",
      "secondary_cleaner.state.floatbank3_b_level    11017 non-null float64\n",
      "secondary_cleaner.state.floatbank4_a_air      11017 non-null float64\n",
      "secondary_cleaner.state.floatbank4_a_level    11017 non-null float64\n",
      "secondary_cleaner.state.floatbank4_b_air      11017 non-null float64\n",
      "secondary_cleaner.state.floatbank4_b_level    11017 non-null float64\n",
      "secondary_cleaner.state.floatbank5_a_air      11017 non-null float64\n",
      "secondary_cleaner.state.floatbank5_a_level    11017 non-null float64\n",
      "secondary_cleaner.state.floatbank5_b_air      11017 non-null float64\n",
      "secondary_cleaner.state.floatbank5_b_level    11017 non-null float64\n",
      "secondary_cleaner.state.floatbank6_a_air      11017 non-null float64\n",
      "secondary_cleaner.state.floatbank6_a_level    11017 non-null float64\n",
      "dtypes: float64(54)\n",
      "memory usage: 4.5 MB\n"
     ]
    }
   ],
   "source": [
    "data_train.info()"
   ]
  },
  {
   "cell_type": "markdown",
   "metadata": {},
   "source": [
    "Разделим выборку под финальный признак:"
   ]
  },
  {
   "cell_type": "code",
   "execution_count": 52,
   "metadata": {},
   "outputs": [],
   "source": [
    "target_fin = data_train['final.output.recovery']\n",
    "features_fin = data_train.drop(['rougher.output.recovery','final.output.recovery'], axis=1)\n",
    "features_train_fin, features_valid_fin, target_train_fin, target_valid_fin = train_test_split(features_fin, target_fin, test_size = 0.25, random_state =12345)"
   ]
  },
  {
   "cell_type": "code",
   "execution_count": 53,
   "metadata": {},
   "outputs": [
    {
     "data": {
      "text/plain": [
       "(11017, 52)"
      ]
     },
     "execution_count": 53,
     "metadata": {},
     "output_type": "execute_result"
    }
   ],
   "source": [
    "features_fin.shape"
   ]
  },
  {
   "cell_type": "code",
   "execution_count": 54,
   "metadata": {},
   "outputs": [],
   "source": [
    "rougher = ['rougher.input.feed_ag',\n",
    "             'rougher.input.feed_pb',             \n",
    "             'rougher.input.feed_rate',                 \n",
    "             'rougher.input.feed_size',                       \n",
    "             'rougher.input.feed_sol',                      \n",
    "             'rougher.input.feed_au',                        \n",
    "             'rougher.input.floatbank10_sulfate',             \n",
    "             'rougher.input.floatbank10_xanthate',            \n",
    "             'rougher.input.floatbank11_sulfate',  \n",
    "             'rougher.input.floatbank11_xanthate',                         \n",
    "             'rougher.state.floatbank10_a_air',         \n",
    "             'rougher.state.floatbank10_a_level',        \n",
    "             'rougher.state.floatbank10_b_air',            \n",
    "             'rougher.state.floatbank10_b_level',         \n",
    "             'rougher.state.floatbank10_c_air',         \n",
    "             'rougher.state.floatbank10_c_level',\n",
    "             'rougher.state.floatbank10_d_air',     \n",
    "             'rougher.state.floatbank10_d_level',   \n",
    "             'rougher.state.floatbank10_e_air',       \n",
    "             'rougher.state.floatbank10_e_level',        \n",
    "             'rougher.state.floatbank10_f_air',        \n",
    "             'rougher.state.floatbank10_f_level']"
   ]
  },
  {
   "cell_type": "markdown",
   "metadata": {},
   "source": [
    "Выборка для прогноза чернового концентрата:"
   ]
  },
  {
   "cell_type": "code",
   "execution_count": 55,
   "metadata": {},
   "outputs": [],
   "source": [
    "target_rou = data_train['rougher.output.recovery']\n",
    "features_rou = data_train[rougher]\n",
    "features_train_rou, features_valid_rou, target_train_rou, target_valid_rou = train_test_split(features_rou, target_rou, test_size = 0.25, random_state =12345)"
   ]
  },
  {
   "cell_type": "code",
   "execution_count": 56,
   "metadata": {},
   "outputs": [],
   "source": [
    "data_test=data_test.drop(['date'], axis=1)\n",
    "test_rou = data_test[rougher]"
   ]
  },
  {
   "cell_type": "code",
   "execution_count": 57,
   "metadata": {},
   "outputs": [
    {
     "data": {
      "text/plain": [
       "(5229, 52)"
      ]
     },
     "execution_count": 57,
     "metadata": {},
     "output_type": "execute_result"
    }
   ],
   "source": [
    "data_test.shape"
   ]
  },
  {
   "cell_type": "markdown",
   "metadata": {},
   "source": [
    "Построим модели:"
   ]
  },
  {
   "cell_type": "code",
   "execution_count": 58,
   "metadata": {},
   "outputs": [],
   "source": [
    "def smape(y, y_hat):\n",
    "    num = np.abs(y - y_hat)\n",
    "    den = (np.abs(y) + np.abs(y_hat)) / 2\n",
    "    smape = np.mean(num / den) * 100\n",
    "\n",
    "    return smape"
   ]
  },
  {
   "cell_type": "code",
   "execution_count": 59,
   "metadata": {},
   "outputs": [],
   "source": [
    "def final_smape(y_rougher, y_hat_rougher, y_final, y_hat_final):\n",
    "    rougher_num = np.abs(y_rougher - y_hat_rougher)\n",
    "    rougher_den = (np.abs(y_rougher) + np.abs(y_hat_rougher)) / 2\n",
    "    smape_rougher = np.mean(rougher_num / rougher_den) * 100\n",
    "\n",
    "    final_num = np.abs(y_final - y_hat_final)\n",
    "    final_den = (np.abs(y_final) + np.abs(y_hat_final)) / 2\n",
    "    smape_final = np.mean(final_num / final_den) * 100\n",
    "\n",
    "    final_smape = smape_rougher * 0.25 + smape_final * 0.75\n",
    "    return final_smape"
   ]
  },
  {
   "cell_type": "code",
   "execution_count": 60,
   "metadata": {},
   "outputs": [],
   "source": [
    "from sklearn import metrics \n",
    "smape_scorer = metrics.make_scorer(smape, greater_is_better=False)"
   ]
  },
  {
   "cell_type": "markdown",
   "metadata": {},
   "source": [
    "Модели флотации:"
   ]
  },
  {
   "cell_type": "code",
   "execution_count": 61,
   "metadata": {},
   "outputs": [
    {
     "name": "stdout",
     "output_type": "stream",
     "text": [
      "Флотация, линейная регрессия, sMAPE =  9.803981186912967\n"
     ]
    }
   ],
   "source": [
    "from sklearn.model_selection import cross_val_score\n",
    "model_lin = LinearRegression()\n",
    "model_lin.fit(features_train_rou, target_train_rou)\n",
    "scores=cross_val_score(model_lin, features_rou, target_rou, cv=5,scoring=smape_scorer)  \n",
    "print('Флотация, линейная регрессия, sMAPE = ', scores.mean()*-1)"
   ]
  },
  {
   "cell_type": "code",
   "execution_count": 62,
   "metadata": {},
   "outputs": [
    {
     "name": "stdout",
     "output_type": "stream",
     "text": [
      "Флотация, дерево решений, sMAPE =  12.101317775258494\n"
     ]
    }
   ],
   "source": [
    "from sklearn.tree import DecisionTreeRegressor\n",
    "model_DR = DecisionTreeRegressor(random_state=12345, max_depth=6)\n",
    "model_DR.fit(features_train_rou, target_train_rou)\n",
    "scores=cross_val_score(model_DR, features_rou, target_rou, cv=5,scoring=smape_scorer)  \n",
    "print('Флотация, дерево решений, sMAPE = ', scores.mean()*-1)"
   ]
  },
  {
   "cell_type": "code",
   "execution_count": 63,
   "metadata": {},
   "outputs": [
    {
     "name": "stdout",
     "output_type": "stream",
     "text": [
      "Флотация, случайный лес решений, sMAPE =  10.775389927350455\n"
     ]
    }
   ],
   "source": [
    "from sklearn.ensemble import RandomForestRegressor\n",
    "model_RR = RandomForestRegressor(random_state=12345, n_estimators=30, max_depth=7)\n",
    "model_RR.fit(features_train_rou, target_train_rou)\n",
    "scores=cross_val_score(model_RR, features_rou, target_rou, cv=5,scoring=smape_scorer)  \n",
    "print('Флотация, случайный лес решений, sMAPE = ', scores.mean()*-1)"
   ]
  },
  {
   "cell_type": "code",
   "execution_count": 64,
   "metadata": {},
   "outputs": [
    {
     "name": "stdout",
     "output_type": "stream",
     "text": [
      "Флотация, лучшая модель(линейная регрессия), sMAPE: 9.044280924399665\n"
     ]
    }
   ],
   "source": [
    "pred_tr_rou = model_lin.predict(features_valid_rou)\n",
    "pred_test_rou = model_lin.predict(test_rou)\n",
    "print('Флотация, лучшая модель(линейная регрессия), sMAPE:', smape(target_valid_rou,pred_tr_rou))"
   ]
  },
  {
   "cell_type": "markdown",
   "metadata": {},
   "source": [
    "Финальные модели:"
   ]
  },
  {
   "cell_type": "code",
   "execution_count": 65,
   "metadata": {},
   "outputs": [
    {
     "name": "stdout",
     "output_type": "stream",
     "text": [
      "Финальная очистка, линейная регрессия, sMAPE =  9.746081106190147\n"
     ]
    }
   ],
   "source": [
    "model_lf = LinearRegression()\n",
    "model_lf.fit(features_train_fin, target_train_fin)\n",
    "scores=cross_val_score(model_lf, features_fin, target_fin, cv=5,scoring=smape_scorer)  \n",
    "print('Финальная очистка, линейная регрессия, sMAPE = ', scores.mean()*-1)"
   ]
  },
  {
   "cell_type": "code",
   "execution_count": 66,
   "metadata": {},
   "outputs": [
    {
     "name": "stdout",
     "output_type": "stream",
     "text": [
      "Финальная очистка, дерево решений, sMAPE =  10.128888175693557\n"
     ]
    }
   ],
   "source": [
    "model_DRf = DecisionTreeRegressor(random_state=12345, max_depth=3)\n",
    "model_DRf.fit(features_train_fin, target_train_fin)\n",
    "scores=cross_val_score(model_DRf, features_fin, target_fin, cv=5,scoring=smape_scorer)  \n",
    "print('Финальная очистка, дерево решений, sMAPE = ', scores.mean()*-1)"
   ]
  },
  {
   "cell_type": "code",
   "execution_count": 67,
   "metadata": {},
   "outputs": [
    {
     "name": "stdout",
     "output_type": "stream",
     "text": [
      "Финальная очистка, случайный лес решений, sMAPE =  10.073000598330102\n"
     ]
    }
   ],
   "source": [
    "model_RRf = RandomForestRegressor(random_state=12345, n_estimators=30, max_depth=7)\n",
    "model_RRf.fit(features_train_fin, target_train_fin)\n",
    "scores=cross_val_score(model_RRf, features_fin, target_fin, cv=5,scoring=smape_scorer)  \n",
    "print('Финальная очистка, случайный лес решений, sMAPE = ', scores.mean()*-1)"
   ]
  },
  {
   "cell_type": "code",
   "execution_count": 68,
   "metadata": {},
   "outputs": [
    {
     "name": "stdout",
     "output_type": "stream",
     "text": [
      "Финальная очистка, лучшая модель(ленейная регрессия), sMAPE: 7.186809221622931\n"
     ]
    }
   ],
   "source": [
    "pred_tr_fin = model_lf.predict(features_valid_fin)\n",
    "pred_test_fin = model_lf.predict(data_test)\n",
    "print('Финальная очистка, лучшая модель(ленейная регрессия), sMAPE:', smape(target_valid_fin,pred_tr_fin))"
   ]
  },
  {
   "cell_type": "code",
   "execution_count": 69,
   "metadata": {},
   "outputs": [
    {
     "name": "stdout",
     "output_type": "stream",
     "text": [
      "Тест,  по среднему, final sMAPE =  9.932252515291045\n",
      "Тест,  по медиане,  final sMAPE =  9.827209524991614\n"
     ]
    }
   ],
   "source": [
    "Y1_pred_constant_model_mean_trein_rou = pd.Series(target_train_rou.mean(),   index=target_train_rou.index)\n",
    "Y2_pred_constant_model_mean_test_trein_fin   = pd.Series(target_train_fin.mean(),   index=target_train_fin.index)\n",
    "Y1_pred_constant_model_median_test_trein_rou = pd.Series(target_train_rou.median(), index=target_train_rou.index)\n",
    "Y2_pred_constant_model_median_test__trein_fin = pd.Series(target_train_fin.median(), index=target_train_fin.index)\n",
    "\n",
    "print('Тест,  по среднему, final sMAPE = ', final_smape(target_train_rou, Y1_pred_constant_model_mean_trein_rou,   target_train_fin, Y2_pred_constant_model_mean_test_trein_fin))                               \n",
    "print('Тест,  по медиане,  final sMAPE = ', final_smape(target_train_rou, Y1_pred_constant_model_median_test_trein_rou, target_train_fin, Y2_pred_constant_model_median_test__trein_fin)) "
   ]
  },
  {
   "cell_type": "markdown",
   "metadata": {},
   "source": [
    "Сравнивая итоговую метрику для нашей модели с константными по медиане и среднему видно, что показания метрики на нашей модели выше, следовательно наша модель работает и адекватна."
   ]
  },
  {
   "cell_type": "code",
   "execution_count": 70,
   "metadata": {},
   "outputs": [],
   "source": [
    "data_all_2 = data_all.drop(drop_col, axis=1)"
   ]
  },
  {
   "cell_type": "markdown",
   "metadata": {},
   "source": [
    "Поскольку целевые признаки отсутствуют в тестовой выборке, нам придется вытащить их из общей массы информации:"
   ]
  },
  {
   "cell_type": "code",
   "execution_count": 71,
   "metadata": {},
   "outputs": [
    {
     "name": "stdout",
     "output_type": "stream",
     "text": [
      "Размер обучающей выборки: 11017\n",
      "Размер тестовой выборки: 5229\n"
     ]
    }
   ],
   "source": [
    "Y1_train = data_all_2.loc[data_all_2['sample'] == 'train', 'rougher.output.recovery']\n",
    "X1_train = data_all_2.loc[data_all_2['sample'] == 'train', rougher]\n",
    "\n",
    "Y1_test  = data_all_2.loc[data_all_2['sample'] == 'test', 'rougher.output.recovery']\n",
    "X1_test  = data_all_2.loc[data_all_2['sample'] == 'test', rougher]\n",
    "\n",
    "#параметры второго этапа модели\n",
    "Y2_train = data_all_2.loc[data_all_2['sample'] == 'train', 'final.output.recovery']\n",
    "X2_train = data_all_2.loc[data_all_2['sample'] == 'train'].drop(['sample', 'final.output.recovery', 'rougher.output.recovery'], axis=1)\n",
    "\n",
    "Y2_test  = data_all_2.loc[data_all_2['sample'] == 'test', 'final.output.recovery']\n",
    "X2_test  = data_all_2.loc[data_all_2['sample'] == 'test'].drop(['sample', 'final.output.recovery', 'rougher.output.recovery'], axis=1)\n",
    "\n",
    "print('Размер обучающей выборки:', len(Y1_train))\n",
    "print('Размер тестовой выборки:', len(Y1_test))"
   ]
  },
  {
   "cell_type": "raw",
   "metadata": {},
   "source": [
    "# загрузка данных и даты в индексы.\n",
    "df_train_1 = pd.read_csv('/datasets/gold_recovery_train.csv', index_col='date', parse_dates=True)\n",
    "df_test_1 = pd.read_csv('/datasets/gold_recovery_test.csv', index_col='date', parse_dates=True)\n",
    "df_full_1 = pd.read_csv('/datasets/gold_recovery_full.csv', index_col='date', parse_dates=True)\n",
    "\n",
    "# удаление пропусков\n",
    "df_train_1 = df_train_1.fillna(method='ffill') # ИЛИ лучше как у тебя - удалить пропуски\n",
    "df_test_1 = df_test_1.fillna(method='ffill')\n",
    "\n",
    "# определение таргета и признаков\n",
    "features_1 = df_test_1.columns\n",
    "targets_1 = ['rougher.output.recovery', 'final.output.recovery']\n",
    "\n",
    "# cделать трайн таим же как тест по признакам\n",
    "features_train_1 = df_train_1[features_1].reset_index(drop=True) \n",
    "\n",
    "# таргеты для трайна\n",
    "target_train_1 = df_train_1[targets_1].reset_index(drop=True)\n",
    "\n",
    "# фичи таргеты для теста\n",
    "features_test_1 = df_test_1[features_1].reset_index(drop=True)\n",
    "target_test_1 = df_full_1[targets_1].loc[df_test_1.index].reset_index(drop=True)"
   ]
  },
  {
   "cell_type": "raw",
   "metadata": {},
   "source": [
    "# ВАРАИНТ КРОСС-ВАЛИДАЦИИ С ИСПОЛЬЗОВАНИЕМ СВОЕЙ МЕТРИКИ.\n",
    "\n",
    "random_state = 123\n",
    "cv = 5\n",
    "models = [DecisionTreeRegressor(random_state = random_state), \n",
    "          RandomForestRegressor(random_state=random_state), \n",
    "          LinearRegression()]\n",
    "\n",
    "\n",
    "results_cross_val = []\n",
    "\n",
    "for model in models: \n",
    "    \n",
    "    scorer = make_scorer(smape, greater_is_better=False) \n",
    "    \n",
    "    cross_val_score_rougher = cross_val_score(model, \n",
    "                                              features_train, \n",
    "                                              target_rougher_train, \n",
    "                                              cv=cv, scoring=scorer).mean()\n",
    "    cross_val_score_final = cross_val_score(model, \n",
    "                                            features_train, \n",
    "                                            target_final_train, \n",
    "                                            cv=cv, scoring=scorer).mean()\n",
    "\n",
    "    results_cross_val.append({'model name': model.__class__.__name__, \n",
    "                              'cross_val_score_rougher': cross_val_score_rougher, \n",
    "                              'cross_val_score_final': cross_val_score_final}) \n",
    "              \n",
    "pd.DataFrame(results_cross_val)"
   ]
  },
  {
   "cell_type": "markdown",
   "metadata": {},
   "source": [
    "Проверим лучшие модели на тестовой выборке:"
   ]
  },
  {
   "cell_type": "code",
   "execution_count": 72,
   "metadata": {},
   "outputs": [
    {
     "name": "stdout",
     "output_type": "stream",
     "text": [
      "Лучшая модель(ленейная регрессия), sMAPE на тестовой выборке для грубой очистки: 9.393031173882163\n"
     ]
    }
   ],
   "source": [
    "print('Лучшая модель(ленейная регрессия), sMAPE на тестовой выборке для грубой очистки:',smape(Y1_test,pred_test_rou))"
   ]
  },
  {
   "cell_type": "code",
   "execution_count": 73,
   "metadata": {},
   "outputs": [
    {
     "name": "stdout",
     "output_type": "stream",
     "text": [
      "Лучшая модель(ленейная регрессия), sMAPE на тестовой выборке для финальной очистки: 8.770396127007482\n"
     ]
    }
   ],
   "source": [
    "print('Лучшая модель(ленейная регрессия), sMAPE на тестовой выборке для финальной очистки:',smape(Y2_test,pred_test_fin))"
   ]
  },
  {
   "cell_type": "code",
   "execution_count": 74,
   "metadata": {},
   "outputs": [
    {
     "name": "stdout",
     "output_type": "stream",
     "text": [
      "Тест,  лучшая модель,  final sMAPE =  8.926054888726153\n"
     ]
    }
   ],
   "source": [
    "print('Тест,  лучшая модель,  final sMAPE = ', final_smape(Y1_test, pred_test_rou, Y2_test, pred_test_fin)) "
   ]
  },
  {
   "cell_type": "markdown",
   "metadata": {},
   "source": [
    "# Вывод:\n",
    "Изначальные выборки данных обработаны и подготовлены к построению моделей. Решина проблема отсутствия целевых признаков в тестовой выборке. Одна из выборок разбита на обучающую и тренировочную. Выделено 2 подмассива для расчета каждого из целевых признаков эффективности флотации и обогощения. Построены модели и выбраны лучшие методом кросс валидации для каждого из признаков. Модель линейной регрессии показала себя с лучшей стороны для обоих целевых признаков. Посчитали результат для лучших модели на тестовой выборке. "
   ]
  }
 ],
 "metadata": {
  "ExecuteTimeLog": [
   {
    "duration": 5,
    "start_time": "2022-01-26T08:43:47.130Z"
   },
   {
    "duration": 1499,
    "start_time": "2022-01-26T08:43:48.218Z"
   },
   {
    "duration": 2189,
    "start_time": "2022-01-26T08:45:05.942Z"
   },
   {
    "duration": 875,
    "start_time": "2022-01-26T08:45:21.106Z"
   },
   {
    "duration": 38,
    "start_time": "2022-01-26T08:45:33.750Z"
   },
   {
    "duration": 26,
    "start_time": "2022-01-26T08:46:00.960Z"
   },
   {
    "duration": 32,
    "start_time": "2022-01-26T08:47:08.961Z"
   },
   {
    "duration": 16,
    "start_time": "2022-01-26T08:47:16.889Z"
   },
   {
    "duration": 11,
    "start_time": "2022-01-26T10:19:41.588Z"
   },
   {
    "duration": 11,
    "start_time": "2022-01-26T10:19:59.643Z"
   },
   {
    "duration": 5,
    "start_time": "2022-01-26T10:20:52.894Z"
   },
   {
    "duration": 7,
    "start_time": "2022-01-26T10:20:54.312Z"
   },
   {
    "duration": 5,
    "start_time": "2022-01-26T10:22:06.926Z"
   },
   {
    "duration": 6,
    "start_time": "2022-01-26T10:23:05.882Z"
   },
   {
    "duration": 7,
    "start_time": "2022-01-26T10:23:08.580Z"
   },
   {
    "duration": 7,
    "start_time": "2022-01-26T10:23:16.118Z"
   },
   {
    "duration": 7,
    "start_time": "2022-01-26T10:23:17.329Z"
   },
   {
    "duration": 6782,
    "start_time": "2022-01-26T10:23:40.322Z"
   },
   {
    "duration": 265,
    "start_time": "2022-01-26T10:24:05.786Z"
   },
   {
    "duration": 318,
    "start_time": "2022-01-26T10:24:14.900Z"
   },
   {
    "duration": 7038,
    "start_time": "2022-01-26T10:24:34.409Z"
   },
   {
    "duration": 7550,
    "start_time": "2022-01-26T10:25:07.863Z"
   },
   {
    "duration": 20,
    "start_time": "2022-01-26T10:26:07.979Z"
   },
   {
    "duration": 6,
    "start_time": "2022-01-26T10:35:35.379Z"
   },
   {
    "duration": 6,
    "start_time": "2022-01-26T10:36:25.120Z"
   },
   {
    "duration": 7,
    "start_time": "2022-01-26T10:37:00.402Z"
   },
   {
    "duration": 19,
    "start_time": "2022-01-26T12:51:12.435Z"
   },
   {
    "duration": 6,
    "start_time": "2022-01-26T13:03:50.394Z"
   },
   {
    "duration": 331,
    "start_time": "2022-01-26T13:04:02.889Z"
   },
   {
    "duration": 7,
    "start_time": "2022-01-26T13:04:06.391Z"
   },
   {
    "duration": 7,
    "start_time": "2022-01-26T14:13:42.620Z"
   },
   {
    "duration": 9,
    "start_time": "2022-01-26T14:13:56.579Z"
   },
   {
    "duration": 37,
    "start_time": "2022-01-26T14:14:17.760Z"
   },
   {
    "duration": 16,
    "start_time": "2022-01-26T14:14:44.194Z"
   },
   {
    "duration": 38,
    "start_time": "2022-01-26T14:20:04.323Z"
   },
   {
    "duration": 22,
    "start_time": "2022-01-26T14:20:40.565Z"
   },
   {
    "duration": 20,
    "start_time": "2022-01-26T14:21:09.198Z"
   },
   {
    "duration": 15,
    "start_time": "2022-01-26T14:35:54.208Z"
   },
   {
    "duration": 192,
    "start_time": "2022-01-26T14:50:39.951Z"
   },
   {
    "duration": 276,
    "start_time": "2022-01-26T14:58:21.738Z"
   },
   {
    "duration": 285,
    "start_time": "2022-01-26T14:58:31.175Z"
   },
   {
    "duration": 257,
    "start_time": "2022-01-26T14:58:48.615Z"
   },
   {
    "duration": 22,
    "start_time": "2022-01-26T14:59:07.509Z"
   },
   {
    "duration": 13,
    "start_time": "2022-01-26T14:59:18.722Z"
   },
   {
    "duration": 31,
    "start_time": "2022-01-26T14:59:29.441Z"
   },
   {
    "duration": 9,
    "start_time": "2022-01-26T15:20:32.511Z"
   },
   {
    "duration": 8,
    "start_time": "2022-01-26T15:23:33.734Z"
   },
   {
    "duration": 16,
    "start_time": "2022-01-26T15:23:45.860Z"
   },
   {
    "duration": 5,
    "start_time": "2022-01-26T15:24:02.635Z"
   },
   {
    "duration": 1531,
    "start_time": "2022-01-26T15:24:02.644Z"
   },
   {
    "duration": 943,
    "start_time": "2022-01-26T15:24:04.179Z"
   },
   {
    "duration": 25,
    "start_time": "2022-01-26T15:24:05.125Z"
   },
   {
    "duration": 17,
    "start_time": "2022-01-26T15:24:05.152Z"
   },
   {
    "duration": 14,
    "start_time": "2022-01-26T15:24:05.172Z"
   },
   {
    "duration": 26,
    "start_time": "2022-01-26T15:24:05.188Z"
   },
   {
    "duration": 7,
    "start_time": "2022-01-26T15:24:05.217Z"
   },
   {
    "duration": 11,
    "start_time": "2022-01-26T15:24:05.272Z"
   },
   {
    "duration": 31,
    "start_time": "2022-01-26T15:24:05.287Z"
   },
   {
    "duration": 51,
    "start_time": "2022-01-26T15:24:05.321Z"
   },
   {
    "duration": 13,
    "start_time": "2022-01-26T15:24:05.374Z"
   },
   {
    "duration": 31,
    "start_time": "2022-01-26T15:24:05.390Z"
   },
   {
    "duration": 146,
    "start_time": "2022-01-26T15:24:05.424Z"
   },
   {
    "duration": 9,
    "start_time": "2022-01-26T15:24:05.573Z"
   },
   {
    "duration": 19,
    "start_time": "2022-01-26T15:24:05.584Z"
   },
   {
    "duration": 12,
    "start_time": "2022-01-26T15:24:45.121Z"
   },
   {
    "duration": 10,
    "start_time": "2022-01-26T15:24:54.378Z"
   },
   {
    "duration": 24,
    "start_time": "2022-01-26T17:10:03.979Z"
   },
   {
    "duration": 14,
    "start_time": "2022-01-26T17:17:05.907Z"
   },
   {
    "duration": 13,
    "start_time": "2022-01-26T17:18:23.380Z"
   },
   {
    "duration": 15,
    "start_time": "2022-01-26T17:24:41.959Z"
   },
   {
    "duration": 14,
    "start_time": "2022-01-26T17:26:57.928Z"
   },
   {
    "duration": 20,
    "start_time": "2022-01-26T17:30:05.810Z"
   },
   {
    "duration": 13,
    "start_time": "2022-01-26T17:38:42.836Z"
   },
   {
    "duration": 14,
    "start_time": "2022-01-26T17:38:51.481Z"
   },
   {
    "duration": 1015,
    "start_time": "2022-01-26T18:26:21.317Z"
   },
   {
    "duration": 684,
    "start_time": "2022-01-26T18:27:23.310Z"
   },
   {
    "duration": 696,
    "start_time": "2022-01-26T18:28:39.882Z"
   },
   {
    "duration": 1219,
    "start_time": "2022-01-26T18:28:57.577Z"
   },
   {
    "duration": 1020,
    "start_time": "2022-01-26T18:30:25.391Z"
   },
   {
    "duration": 1120,
    "start_time": "2022-01-26T18:30:49.292Z"
   },
   {
    "duration": 1042,
    "start_time": "2022-01-26T18:31:47.828Z"
   },
   {
    "duration": 938,
    "start_time": "2022-01-26T18:32:04.091Z"
   },
   {
    "duration": 953,
    "start_time": "2022-01-26T18:32:13.109Z"
   },
   {
    "duration": 455,
    "start_time": "2022-01-26T18:33:28.135Z"
   },
   {
    "duration": 531,
    "start_time": "2022-01-26T18:39:47.457Z"
   },
   {
    "duration": 86,
    "start_time": "2022-01-26T18:39:59.230Z"
   },
   {
    "duration": 1792,
    "start_time": "2022-01-26T18:40:53.927Z"
   },
   {
    "duration": 3676,
    "start_time": "2022-01-26T18:41:11.025Z"
   },
   {
    "duration": 7,
    "start_time": "2022-01-26T18:48:17.722Z"
   },
   {
    "duration": 3,
    "start_time": "2022-01-27T06:39:29.780Z"
   },
   {
    "duration": 1231,
    "start_time": "2022-01-27T06:39:29.785Z"
   },
   {
    "duration": 730,
    "start_time": "2022-01-27T06:39:31.018Z"
   },
   {
    "duration": 19,
    "start_time": "2022-01-27T06:39:31.750Z"
   },
   {
    "duration": 4,
    "start_time": "2022-01-27T06:39:31.771Z"
   },
   {
    "duration": 28,
    "start_time": "2022-01-27T06:39:31.777Z"
   },
   {
    "duration": 27,
    "start_time": "2022-01-27T06:39:31.807Z"
   },
   {
    "duration": 5,
    "start_time": "2022-01-27T06:39:31.836Z"
   },
   {
    "duration": 21,
    "start_time": "2022-01-27T06:39:31.843Z"
   },
   {
    "duration": 36,
    "start_time": "2022-01-27T06:39:31.866Z"
   },
   {
    "duration": 11,
    "start_time": "2022-01-27T06:39:31.903Z"
   },
   {
    "duration": 9,
    "start_time": "2022-01-27T06:39:31.916Z"
   },
   {
    "duration": 19,
    "start_time": "2022-01-27T06:39:31.926Z"
   },
   {
    "duration": 93,
    "start_time": "2022-01-27T06:39:31.947Z"
   },
   {
    "duration": 6,
    "start_time": "2022-01-27T06:39:32.042Z"
   },
   {
    "duration": 9,
    "start_time": "2022-01-27T06:39:32.050Z"
   },
   {
    "duration": 39,
    "start_time": "2022-01-27T06:39:32.061Z"
   },
   {
    "duration": 10,
    "start_time": "2022-01-27T06:39:32.101Z"
   },
   {
    "duration": 13,
    "start_time": "2022-01-27T06:39:32.113Z"
   },
   {
    "duration": 10,
    "start_time": "2022-01-27T06:39:32.128Z"
   },
   {
    "duration": 2151,
    "start_time": "2022-01-27T06:39:32.141Z"
   },
   {
    "duration": 7,
    "start_time": "2022-01-27T06:39:34.294Z"
   },
   {
    "duration": 82,
    "start_time": "2022-01-27T06:41:05.765Z"
   },
   {
    "duration": 6,
    "start_time": "2022-01-27T06:41:17.669Z"
   },
   {
    "duration": 6736,
    "start_time": "2022-01-27T06:54:47.382Z"
   },
   {
    "duration": 6,
    "start_time": "2022-01-27T06:55:11.723Z"
   },
   {
    "duration": 5,
    "start_time": "2022-01-27T06:55:32.755Z"
   },
   {
    "duration": 10,
    "start_time": "2022-01-27T06:58:10.859Z"
   },
   {
    "duration": 15,
    "start_time": "2022-01-27T06:58:17.886Z"
   },
   {
    "duration": 4,
    "start_time": "2022-01-27T06:58:33.651Z"
   },
   {
    "duration": 1132,
    "start_time": "2022-01-27T06:58:33.657Z"
   },
   {
    "duration": 709,
    "start_time": "2022-01-27T06:58:34.791Z"
   },
   {
    "duration": 17,
    "start_time": "2022-01-27T06:58:35.502Z"
   },
   {
    "duration": 2,
    "start_time": "2022-01-27T06:58:35.521Z"
   },
   {
    "duration": 10,
    "start_time": "2022-01-27T06:58:35.525Z"
   },
   {
    "duration": 20,
    "start_time": "2022-01-27T06:58:35.537Z"
   },
   {
    "duration": 5,
    "start_time": "2022-01-27T06:58:35.560Z"
   },
   {
    "duration": 9,
    "start_time": "2022-01-27T06:58:35.600Z"
   },
   {
    "duration": 15,
    "start_time": "2022-01-27T06:58:35.611Z"
   },
   {
    "duration": 11,
    "start_time": "2022-01-27T06:58:35.628Z"
   },
   {
    "duration": 9,
    "start_time": "2022-01-27T06:58:35.641Z"
   },
   {
    "duration": 62,
    "start_time": "2022-01-27T06:58:35.652Z"
   },
   {
    "duration": 61,
    "start_time": "2022-01-27T06:58:35.716Z"
   },
   {
    "duration": 24,
    "start_time": "2022-01-27T06:58:35.779Z"
   },
   {
    "duration": 9,
    "start_time": "2022-01-27T06:58:35.806Z"
   },
   {
    "duration": 10,
    "start_time": "2022-01-27T06:58:35.817Z"
   },
   {
    "duration": 18,
    "start_time": "2022-01-27T06:58:35.829Z"
   },
   {
    "duration": 10,
    "start_time": "2022-01-27T06:58:35.849Z"
   },
   {
    "duration": 11,
    "start_time": "2022-01-27T06:58:35.898Z"
   },
   {
    "duration": 14,
    "start_time": "2022-01-27T06:58:35.911Z"
   },
   {
    "duration": 2228,
    "start_time": "2022-01-27T06:58:35.927Z"
   },
   {
    "duration": 5,
    "start_time": "2022-01-27T06:58:38.158Z"
   },
   {
    "duration": 7,
    "start_time": "2022-01-27T06:58:38.165Z"
   },
   {
    "duration": 11,
    "start_time": "2022-01-27T07:10:39.051Z"
   },
   {
    "duration": 5,
    "start_time": "2022-01-27T07:16:16.873Z"
   },
   {
    "duration": 648,
    "start_time": "2022-01-27T07:24:13.157Z"
   },
   {
    "duration": 2124,
    "start_time": "2022-01-27T07:24:56.330Z"
   },
   {
    "duration": 804,
    "start_time": "2022-01-27T07:27:17.677Z"
   },
   {
    "duration": 5,
    "start_time": "2022-01-27T07:59:40.953Z"
   },
   {
    "duration": 14,
    "start_time": "2022-01-27T08:31:27.174Z"
   },
   {
    "duration": 281,
    "start_time": "2022-01-27T08:42:17.798Z"
   },
   {
    "duration": 4,
    "start_time": "2022-01-27T08:44:29.387Z"
   },
   {
    "duration": 7,
    "start_time": "2022-01-27T08:44:47.230Z"
   },
   {
    "duration": 35,
    "start_time": "2022-01-27T08:48:33.624Z"
   },
   {
    "duration": 7,
    "start_time": "2022-01-27T08:51:50.790Z"
   },
   {
    "duration": 92,
    "start_time": "2022-01-27T08:55:48.904Z"
   },
   {
    "duration": 23,
    "start_time": "2022-01-27T08:56:03.870Z"
   },
   {
    "duration": 567,
    "start_time": "2022-01-27T09:04:52.173Z"
   },
   {
    "duration": 655,
    "start_time": "2022-01-27T09:07:56.533Z"
   },
   {
    "duration": 572,
    "start_time": "2022-01-27T09:09:33.955Z"
   },
   {
    "duration": 13,
    "start_time": "2022-01-27T09:11:44.901Z"
   },
   {
    "duration": 13,
    "start_time": "2022-01-27T09:13:55.243Z"
   },
   {
    "duration": 11,
    "start_time": "2022-01-27T09:14:32.713Z"
   },
   {
    "duration": 12,
    "start_time": "2022-01-27T09:15:17.755Z"
   },
   {
    "duration": 11,
    "start_time": "2022-01-27T09:15:21.822Z"
   },
   {
    "duration": 631,
    "start_time": "2022-01-27T09:15:38.600Z"
   },
   {
    "duration": 6,
    "start_time": "2022-01-27T09:17:00.343Z"
   },
   {
    "duration": 7,
    "start_time": "2022-01-27T09:18:15.216Z"
   },
   {
    "duration": 6,
    "start_time": "2022-01-27T09:18:17.788Z"
   },
   {
    "duration": 948,
    "start_time": "2022-01-27T09:18:22.059Z"
   },
   {
    "duration": 13,
    "start_time": "2022-01-27T09:19:20.987Z"
   },
   {
    "duration": 17,
    "start_time": "2022-01-27T09:19:37.136Z"
   },
   {
    "duration": 12,
    "start_time": "2022-01-27T10:29:00.085Z"
   },
   {
    "duration": 4,
    "start_time": "2022-01-27T10:33:33.134Z"
   },
   {
    "duration": 6,
    "start_time": "2022-01-27T10:34:39.540Z"
   },
   {
    "duration": 11,
    "start_time": "2022-01-27T10:34:41.079Z"
   },
   {
    "duration": 11,
    "start_time": "2022-01-27T10:40:45.498Z"
   },
   {
    "duration": 5,
    "start_time": "2022-01-27T10:42:28.500Z"
   },
   {
    "duration": 270,
    "start_time": "2022-01-27T10:42:39.206Z"
   },
   {
    "duration": 10,
    "start_time": "2022-01-27T10:42:58.908Z"
   },
   {
    "duration": 3,
    "start_time": "2022-01-27T10:43:52.272Z"
   },
   {
    "duration": 1199,
    "start_time": "2022-01-27T10:43:52.277Z"
   },
   {
    "duration": 704,
    "start_time": "2022-01-27T10:43:53.479Z"
   },
   {
    "duration": 20,
    "start_time": "2022-01-27T10:43:54.186Z"
   },
   {
    "duration": 4,
    "start_time": "2022-01-27T10:43:54.208Z"
   },
   {
    "duration": 9,
    "start_time": "2022-01-27T10:43:54.214Z"
   },
   {
    "duration": 20,
    "start_time": "2022-01-27T10:43:54.225Z"
   },
   {
    "duration": 6,
    "start_time": "2022-01-27T10:43:54.247Z"
   },
   {
    "duration": 9,
    "start_time": "2022-01-27T10:43:54.302Z"
   },
   {
    "duration": 14,
    "start_time": "2022-01-27T10:43:54.314Z"
   },
   {
    "duration": 13,
    "start_time": "2022-01-27T10:43:54.331Z"
   },
   {
    "duration": 54,
    "start_time": "2022-01-27T10:43:54.346Z"
   },
   {
    "duration": 20,
    "start_time": "2022-01-27T10:43:54.401Z"
   },
   {
    "duration": 80,
    "start_time": "2022-01-27T10:43:54.423Z"
   },
   {
    "duration": 7,
    "start_time": "2022-01-27T10:43:54.505Z"
   },
   {
    "duration": 8,
    "start_time": "2022-01-27T10:43:54.514Z"
   },
   {
    "duration": 16,
    "start_time": "2022-01-27T10:43:54.524Z"
   },
   {
    "duration": 17,
    "start_time": "2022-01-27T10:43:54.541Z"
   },
   {
    "duration": 46,
    "start_time": "2022-01-27T10:43:54.560Z"
   },
   {
    "duration": 13,
    "start_time": "2022-01-27T10:43:54.608Z"
   },
   {
    "duration": 18,
    "start_time": "2022-01-27T10:43:54.623Z"
   },
   {
    "duration": 2162,
    "start_time": "2022-01-27T10:43:54.642Z"
   },
   {
    "duration": 5,
    "start_time": "2022-01-27T10:43:56.806Z"
   },
   {
    "duration": 8,
    "start_time": "2022-01-27T10:43:56.812Z"
   },
   {
    "duration": 6,
    "start_time": "2022-01-27T10:43:56.822Z"
   },
   {
    "duration": 8,
    "start_time": "2022-01-27T10:43:56.830Z"
   },
   {
    "duration": 845,
    "start_time": "2022-01-27T10:43:56.841Z"
   },
   {
    "duration": 27,
    "start_time": "2022-01-27T10:43:57.688Z"
   },
   {
    "duration": 6,
    "start_time": "2022-01-27T10:43:57.717Z"
   },
   {
    "duration": 6,
    "start_time": "2022-01-27T10:43:57.724Z"
   },
   {
    "duration": 897,
    "start_time": "2022-01-27T10:43:57.732Z"
   },
   {
    "duration": 4,
    "start_time": "2022-01-27T10:43:58.631Z"
   },
   {
    "duration": 14,
    "start_time": "2022-01-27T10:43:58.636Z"
   },
   {
    "duration": 16,
    "start_time": "2022-01-27T10:43:58.651Z"
   },
   {
    "duration": 4,
    "start_time": "2022-01-27T10:43:58.668Z"
   },
   {
    "duration": 21,
    "start_time": "2022-01-27T11:00:09.857Z"
   },
   {
    "duration": 88,
    "start_time": "2022-01-27T11:04:28.730Z"
   },
   {
    "duration": 6973,
    "start_time": "2022-01-27T11:04:56.570Z"
   },
   {
    "duration": 12,
    "start_time": "2022-01-27T11:05:24.168Z"
   },
   {
    "duration": 8,
    "start_time": "2022-01-27T11:05:38.105Z"
   },
   {
    "duration": 10,
    "start_time": "2022-01-27T11:05:56.964Z"
   },
   {
    "duration": 14,
    "start_time": "2022-01-27T11:14:43.305Z"
   },
   {
    "duration": 8,
    "start_time": "2022-01-27T11:14:44.954Z"
   },
   {
    "duration": 7,
    "start_time": "2022-01-27T11:14:54.841Z"
   },
   {
    "duration": 4,
    "start_time": "2022-01-27T11:17:32.952Z"
   },
   {
    "duration": 812,
    "start_time": "2022-01-27T11:20:20.753Z"
   },
   {
    "duration": 12,
    "start_time": "2022-01-27T11:20:28.024Z"
   },
   {
    "duration": 8,
    "start_time": "2022-01-27T11:20:40.246Z"
   },
   {
    "duration": 9,
    "start_time": "2022-01-27T11:21:35.586Z"
   },
   {
    "duration": 5,
    "start_time": "2022-01-27T11:26:03.982Z"
   },
   {
    "duration": 3,
    "start_time": "2022-01-27T11:26:13.159Z"
   },
   {
    "duration": 1215,
    "start_time": "2022-01-27T11:26:13.168Z"
   },
   {
    "duration": 738,
    "start_time": "2022-01-27T11:26:14.385Z"
   },
   {
    "duration": 17,
    "start_time": "2022-01-27T11:26:15.125Z"
   },
   {
    "duration": 3,
    "start_time": "2022-01-27T11:26:15.144Z"
   },
   {
    "duration": 8,
    "start_time": "2022-01-27T11:26:15.149Z"
   },
   {
    "duration": 41,
    "start_time": "2022-01-27T11:26:15.159Z"
   },
   {
    "duration": 6,
    "start_time": "2022-01-27T11:26:15.202Z"
   },
   {
    "duration": 11,
    "start_time": "2022-01-27T11:26:15.209Z"
   },
   {
    "duration": 13,
    "start_time": "2022-01-27T11:26:15.223Z"
   },
   {
    "duration": 10,
    "start_time": "2022-01-27T11:26:15.239Z"
   },
   {
    "duration": 48,
    "start_time": "2022-01-27T11:26:15.251Z"
   },
   {
    "duration": 21,
    "start_time": "2022-01-27T11:26:15.301Z"
   },
   {
    "duration": 76,
    "start_time": "2022-01-27T11:26:15.324Z"
   },
   {
    "duration": 7,
    "start_time": "2022-01-27T11:26:15.401Z"
   },
   {
    "duration": 10,
    "start_time": "2022-01-27T11:26:15.410Z"
   },
   {
    "duration": 15,
    "start_time": "2022-01-27T11:26:15.422Z"
   },
   {
    "duration": 14,
    "start_time": "2022-01-27T11:26:15.439Z"
   },
   {
    "duration": 50,
    "start_time": "2022-01-27T11:26:15.455Z"
   },
   {
    "duration": 13,
    "start_time": "2022-01-27T11:26:15.507Z"
   },
   {
    "duration": 12,
    "start_time": "2022-01-27T11:26:15.521Z"
   },
   {
    "duration": 2255,
    "start_time": "2022-01-27T11:26:15.534Z"
   },
   {
    "duration": 5,
    "start_time": "2022-01-27T11:26:17.791Z"
   },
   {
    "duration": 16,
    "start_time": "2022-01-27T11:26:17.799Z"
   },
   {
    "duration": 24,
    "start_time": "2022-01-27T11:26:17.817Z"
   },
   {
    "duration": 11,
    "start_time": "2022-01-27T11:26:17.843Z"
   },
   {
    "duration": 833,
    "start_time": "2022-01-27T11:26:17.856Z"
   },
   {
    "duration": 21,
    "start_time": "2022-01-27T11:26:18.693Z"
   },
   {
    "duration": 5,
    "start_time": "2022-01-27T11:26:18.716Z"
   },
   {
    "duration": 9,
    "start_time": "2022-01-27T11:26:18.723Z"
   },
   {
    "duration": 920,
    "start_time": "2022-01-27T11:26:18.734Z"
   },
   {
    "duration": 6,
    "start_time": "2022-01-27T11:26:19.655Z"
   },
   {
    "duration": 8,
    "start_time": "2022-01-27T11:26:19.663Z"
   },
   {
    "duration": 25,
    "start_time": "2022-01-27T11:26:19.673Z"
   },
   {
    "duration": 15,
    "start_time": "2022-01-27T11:26:19.701Z"
   },
   {
    "duration": 11,
    "start_time": "2022-01-27T11:26:19.718Z"
   },
   {
    "duration": 4,
    "start_time": "2022-01-27T11:26:19.731Z"
   },
   {
    "duration": 14,
    "start_time": "2022-01-27T11:26:19.736Z"
   },
   {
    "duration": 363,
    "start_time": "2022-01-27T15:14:48.272Z"
   },
   {
    "duration": 1500,
    "start_time": "2022-01-27T15:15:02.243Z"
   },
   {
    "duration": 964,
    "start_time": "2022-01-27T15:18:06.138Z"
   },
   {
    "duration": 632,
    "start_time": "2022-01-27T15:18:39.071Z"
   },
   {
    "duration": 5,
    "start_time": "2022-01-27T15:21:19.681Z"
   },
   {
    "duration": 312,
    "start_time": "2022-01-27T15:21:52.957Z"
   },
   {
    "duration": 3,
    "start_time": "2022-01-27T15:22:33.315Z"
   },
   {
    "duration": 854,
    "start_time": "2022-01-27T15:22:54.945Z"
   },
   {
    "duration": 2334,
    "start_time": "2022-01-27T15:35:50.503Z"
   },
   {
    "duration": 341,
    "start_time": "2022-01-27T15:36:01.641Z"
   },
   {
    "duration": 331,
    "start_time": "2022-01-27T15:36:30.595Z"
   },
   {
    "duration": 1078,
    "start_time": "2022-01-27T15:40:02.422Z"
   },
   {
    "duration": 5,
    "start_time": "2022-01-27T15:40:08.642Z"
   },
   {
    "duration": 5,
    "start_time": "2022-01-27T15:42:26.865Z"
   },
   {
    "duration": 9,
    "start_time": "2022-01-27T15:43:50.237Z"
   },
   {
    "duration": 966,
    "start_time": "2022-01-27T16:00:29.934Z"
   },
   {
    "duration": 41,
    "start_time": "2022-01-27T16:00:37.766Z"
   },
   {
    "duration": 914,
    "start_time": "2022-01-27T16:03:26.592Z"
   },
   {
    "duration": 983,
    "start_time": "2022-01-27T16:03:46.617Z"
   },
   {
    "duration": 876,
    "start_time": "2022-01-27T16:06:41.531Z"
   },
   {
    "duration": 662,
    "start_time": "2022-01-27T16:24:02.410Z"
   },
   {
    "duration": 593,
    "start_time": "2022-01-27T16:24:11.316Z"
   },
   {
    "duration": 337,
    "start_time": "2022-01-27T16:27:40.768Z"
   },
   {
    "duration": 1035,
    "start_time": "2022-01-27T16:28:14.966Z"
   },
   {
    "duration": 599,
    "start_time": "2022-01-27T16:29:33.781Z"
   },
   {
    "duration": 673,
    "start_time": "2022-01-27T16:38:39.857Z"
   },
   {
    "duration": 10,
    "start_time": "2022-01-27T16:39:50.753Z"
   },
   {
    "duration": 13614,
    "start_time": "2022-01-27T16:40:33.740Z"
   },
   {
    "duration": 13738,
    "start_time": "2022-01-27T16:41:00.261Z"
   },
   {
    "duration": 425,
    "start_time": "2022-01-28T06:47:37.302Z"
   },
   {
    "duration": 4,
    "start_time": "2022-01-28T06:49:00.488Z"
   },
   {
    "duration": 1574,
    "start_time": "2022-01-28T06:49:00.495Z"
   },
   {
    "duration": 862,
    "start_time": "2022-01-28T06:49:02.072Z"
   },
   {
    "duration": 29,
    "start_time": "2022-01-28T06:49:02.937Z"
   },
   {
    "duration": 4,
    "start_time": "2022-01-28T06:49:02.968Z"
   },
   {
    "duration": 18,
    "start_time": "2022-01-28T06:49:02.974Z"
   },
   {
    "duration": 26,
    "start_time": "2022-01-28T06:49:02.994Z"
   },
   {
    "duration": 35,
    "start_time": "2022-01-28T06:49:03.025Z"
   },
   {
    "duration": 15,
    "start_time": "2022-01-28T06:49:03.064Z"
   },
   {
    "duration": 25,
    "start_time": "2022-01-28T06:49:03.082Z"
   },
   {
    "duration": 56,
    "start_time": "2022-01-28T06:49:03.111Z"
   },
   {
    "duration": 15,
    "start_time": "2022-01-28T06:49:03.170Z"
   },
   {
    "duration": 32,
    "start_time": "2022-01-28T06:49:03.188Z"
   },
   {
    "duration": 169,
    "start_time": "2022-01-28T06:49:03.224Z"
   },
   {
    "duration": 11,
    "start_time": "2022-01-28T06:49:03.396Z"
   },
   {
    "duration": 13,
    "start_time": "2022-01-28T06:49:03.410Z"
   },
   {
    "duration": 62,
    "start_time": "2022-01-28T06:49:03.426Z"
   },
   {
    "duration": 36,
    "start_time": "2022-01-28T06:49:03.491Z"
   },
   {
    "duration": 32,
    "start_time": "2022-01-28T06:49:03.529Z"
   },
   {
    "duration": 14,
    "start_time": "2022-01-28T06:49:03.563Z"
   },
   {
    "duration": 18,
    "start_time": "2022-01-28T06:49:03.579Z"
   },
   {
    "duration": 3110,
    "start_time": "2022-01-28T06:49:03.600Z"
   },
   {
    "duration": 8,
    "start_time": "2022-01-28T06:49:06.717Z"
   },
   {
    "duration": 33,
    "start_time": "2022-01-28T06:49:06.728Z"
   },
   {
    "duration": 6,
    "start_time": "2022-01-28T06:49:06.763Z"
   },
   {
    "duration": 8,
    "start_time": "2022-01-28T06:49:06.771Z"
   },
   {
    "duration": 1179,
    "start_time": "2022-01-28T06:49:06.781Z"
   },
   {
    "duration": 26,
    "start_time": "2022-01-28T06:49:07.962Z"
   },
   {
    "duration": 8,
    "start_time": "2022-01-28T06:49:07.990Z"
   },
   {
    "duration": 6,
    "start_time": "2022-01-28T06:49:08.000Z"
   },
   {
    "duration": 1276,
    "start_time": "2022-01-28T06:49:08.009Z"
   },
   {
    "duration": 5,
    "start_time": "2022-01-28T06:49:09.287Z"
   },
   {
    "duration": 11,
    "start_time": "2022-01-28T06:49:09.294Z"
   },
   {
    "duration": 17,
    "start_time": "2022-01-28T06:49:09.308Z"
   },
   {
    "duration": 39,
    "start_time": "2022-01-28T06:49:09.327Z"
   },
   {
    "duration": 4,
    "start_time": "2022-01-28T06:49:09.369Z"
   },
   {
    "duration": 15,
    "start_time": "2022-01-28T06:49:09.375Z"
   },
   {
    "duration": 4,
    "start_time": "2022-01-28T06:49:09.393Z"
   },
   {
    "duration": 6,
    "start_time": "2022-01-28T06:49:09.399Z"
   },
   {
    "duration": 7,
    "start_time": "2022-01-28T06:49:09.407Z"
   },
   {
    "duration": 1156,
    "start_time": "2022-01-28T06:49:09.416Z"
   },
   {
    "duration": 962,
    "start_time": "2022-01-28T06:49:10.575Z"
   },
   {
    "duration": 18558,
    "start_time": "2022-01-28T06:49:11.540Z"
   },
   {
    "duration": 59,
    "start_time": "2022-01-28T06:49:30.100Z"
   },
   {
    "duration": 10,
    "start_time": "2022-01-28T07:06:29.595Z"
   },
   {
    "duration": 6,
    "start_time": "2022-01-28T07:39:03.464Z"
   },
   {
    "duration": 13,
    "start_time": "2022-01-28T07:39:16.087Z"
   },
   {
    "duration": 6,
    "start_time": "2022-01-28T07:39:39.046Z"
   },
   {
    "duration": 12,
    "start_time": "2022-01-28T07:39:53.690Z"
   },
   {
    "duration": 16,
    "start_time": "2022-01-28T07:40:24.208Z"
   },
   {
    "duration": 1772,
    "start_time": "2022-01-28T07:47:52.489Z"
   },
   {
    "duration": 1767,
    "start_time": "2022-01-28T07:54:44.194Z"
   },
   {
    "duration": 1989,
    "start_time": "2022-01-28T07:56:23.523Z"
   },
   {
    "duration": 1034,
    "start_time": "2022-01-28T07:57:06.787Z"
   },
   {
    "duration": 1065,
    "start_time": "2022-01-28T07:57:47.546Z"
   },
   {
    "duration": 39359,
    "start_time": "2022-01-28T07:58:44.155Z"
   },
   {
    "duration": 72,
    "start_time": "2022-01-28T09:59:11.194Z"
   },
   {
    "duration": 847,
    "start_time": "2022-01-28T09:59:22.335Z"
   },
   {
    "duration": 528,
    "start_time": "2022-01-28T10:00:07.408Z"
   },
   {
    "duration": 411,
    "start_time": "2022-01-28T10:10:01.188Z"
   },
   {
    "duration": 1122,
    "start_time": "2022-01-28T10:10:14.802Z"
   },
   {
    "duration": 5,
    "start_time": "2022-01-28T10:10:50.456Z"
   },
   {
    "duration": 1600,
    "start_time": "2022-01-28T10:10:50.463Z"
   },
   {
    "duration": 876,
    "start_time": "2022-01-28T10:10:52.066Z"
   },
   {
    "duration": 28,
    "start_time": "2022-01-28T10:10:52.944Z"
   },
   {
    "duration": 4,
    "start_time": "2022-01-28T10:10:52.975Z"
   },
   {
    "duration": 15,
    "start_time": "2022-01-28T10:10:52.981Z"
   },
   {
    "duration": 24,
    "start_time": "2022-01-28T10:10:52.998Z"
   },
   {
    "duration": 36,
    "start_time": "2022-01-28T10:10:53.026Z"
   },
   {
    "duration": 11,
    "start_time": "2022-01-28T10:10:53.065Z"
   },
   {
    "duration": 16,
    "start_time": "2022-01-28T10:10:53.079Z"
   },
   {
    "duration": 15,
    "start_time": "2022-01-28T10:10:53.098Z"
   },
   {
    "duration": 53,
    "start_time": "2022-01-28T10:10:53.115Z"
   },
   {
    "duration": 23,
    "start_time": "2022-01-28T10:10:53.171Z"
   },
   {
    "duration": 119,
    "start_time": "2022-01-28T10:10:53.197Z"
   },
   {
    "duration": 9,
    "start_time": "2022-01-28T10:10:53.318Z"
   },
   {
    "duration": 31,
    "start_time": "2022-01-28T10:10:53.330Z"
   },
   {
    "duration": 21,
    "start_time": "2022-01-28T10:10:53.364Z"
   },
   {
    "duration": 21,
    "start_time": "2022-01-28T10:10:53.387Z"
   },
   {
    "duration": 13,
    "start_time": "2022-01-28T10:10:53.411Z"
   },
   {
    "duration": 44,
    "start_time": "2022-01-28T10:10:53.427Z"
   },
   {
    "duration": 13,
    "start_time": "2022-01-28T10:10:53.474Z"
   },
   {
    "duration": 3513,
    "start_time": "2022-01-28T10:10:53.489Z"
   },
   {
    "duration": 10,
    "start_time": "2022-01-28T10:10:57.010Z"
   },
   {
    "duration": 7,
    "start_time": "2022-01-28T10:10:57.023Z"
   },
   {
    "duration": 7,
    "start_time": "2022-01-28T10:10:57.060Z"
   },
   {
    "duration": 6,
    "start_time": "2022-01-28T10:10:57.069Z"
   },
   {
    "duration": 1265,
    "start_time": "2022-01-28T10:10:57.077Z"
   },
   {
    "duration": 36,
    "start_time": "2022-01-28T10:10:58.345Z"
   },
   {
    "duration": 9,
    "start_time": "2022-01-28T10:10:58.383Z"
   },
   {
    "duration": 8,
    "start_time": "2022-01-28T10:10:58.394Z"
   },
   {
    "duration": 1422,
    "start_time": "2022-01-28T10:10:58.404Z"
   },
   {
    "duration": 5,
    "start_time": "2022-01-28T10:10:59.828Z"
   },
   {
    "duration": 24,
    "start_time": "2022-01-28T10:10:59.835Z"
   },
   {
    "duration": 22,
    "start_time": "2022-01-28T10:10:59.861Z"
   },
   {
    "duration": 14,
    "start_time": "2022-01-28T10:10:59.885Z"
   },
   {
    "duration": 4,
    "start_time": "2022-01-28T10:10:59.901Z"
   },
   {
    "duration": 53,
    "start_time": "2022-01-28T10:10:59.908Z"
   },
   {
    "duration": 5,
    "start_time": "2022-01-28T10:10:59.964Z"
   },
   {
    "duration": 8,
    "start_time": "2022-01-28T10:10:59.972Z"
   },
   {
    "duration": 7,
    "start_time": "2022-01-28T10:10:59.982Z"
   },
   {
    "duration": 8,
    "start_time": "2022-01-28T10:10:59.991Z"
   },
   {
    "duration": 965,
    "start_time": "2022-01-28T10:11:00.001Z"
   },
   {
    "duration": 960,
    "start_time": "2022-01-28T10:11:00.976Z"
   },
   {
    "duration": 17045,
    "start_time": "2022-01-28T10:11:01.939Z"
   },
   {
    "duration": 74,
    "start_time": "2022-01-28T10:11:18.986Z"
   },
   {
    "duration": 1698,
    "start_time": "2022-01-28T10:11:19.065Z"
   },
   {
    "duration": 1120,
    "start_time": "2022-01-28T10:11:20.767Z"
   },
   {
    "duration": 39170,
    "start_time": "2022-01-28T10:11:21.889Z"
   },
   {
    "duration": 708,
    "start_time": "2022-01-28T10:12:01.061Z"
   },
   {
    "duration": 16,
    "start_time": "2022-01-28T10:12:18.903Z"
   },
   {
    "duration": 16,
    "start_time": "2022-01-28T10:12:38.840Z"
   },
   {
    "duration": 7,
    "start_time": "2022-01-28T10:13:35.018Z"
   },
   {
    "duration": 13,
    "start_time": "2022-01-28T10:13:43.766Z"
   },
   {
    "duration": 609,
    "start_time": "2022-01-28T10:55:00.234Z"
   },
   {
    "duration": 15,
    "start_time": "2022-01-28T10:56:23.027Z"
   },
   {
    "duration": 429,
    "start_time": "2022-01-28T11:02:19.258Z"
   },
   {
    "duration": 468,
    "start_time": "2022-01-28T11:05:23.288Z"
   },
   {
    "duration": 136,
    "start_time": "2022-01-28T11:09:04.129Z"
   },
   {
    "duration": 403,
    "start_time": "2022-01-28T11:10:48.337Z"
   },
   {
    "duration": 364,
    "start_time": "2022-01-28T11:17:18.607Z"
   },
   {
    "duration": 391,
    "start_time": "2022-01-28T11:31:06.445Z"
   },
   {
    "duration": 357,
    "start_time": "2022-01-28T11:38:43.135Z"
   },
   {
    "duration": 10246,
    "start_time": "2022-01-28T12:16:27.929Z"
   },
   {
    "duration": 4,
    "start_time": "2022-01-28T12:16:49.979Z"
   },
   {
    "duration": 1603,
    "start_time": "2022-01-28T12:16:49.985Z"
   },
   {
    "duration": 870,
    "start_time": "2022-01-28T12:16:51.591Z"
   },
   {
    "duration": 36,
    "start_time": "2022-01-28T12:16:52.465Z"
   },
   {
    "duration": 24,
    "start_time": "2022-01-28T12:16:52.503Z"
   },
   {
    "duration": 29,
    "start_time": "2022-01-28T12:16:52.530Z"
   },
   {
    "duration": 13,
    "start_time": "2022-01-28T12:16:52.561Z"
   },
   {
    "duration": 23,
    "start_time": "2022-01-28T12:16:52.576Z"
   },
   {
    "duration": 6,
    "start_time": "2022-01-28T12:16:52.603Z"
   },
   {
    "duration": 12,
    "start_time": "2022-01-28T12:16:52.612Z"
   },
   {
    "duration": 17,
    "start_time": "2022-01-28T12:16:52.660Z"
   },
   {
    "duration": 14,
    "start_time": "2022-01-28T12:16:52.680Z"
   },
   {
    "duration": 13,
    "start_time": "2022-01-28T12:16:52.697Z"
   },
   {
    "duration": 61,
    "start_time": "2022-01-28T12:16:52.712Z"
   },
   {
    "duration": 110,
    "start_time": "2022-01-28T12:16:52.775Z"
   },
   {
    "duration": 9,
    "start_time": "2022-01-28T12:16:52.887Z"
   },
   {
    "duration": 10,
    "start_time": "2022-01-28T12:16:52.898Z"
   },
   {
    "duration": 48,
    "start_time": "2022-01-28T12:16:52.911Z"
   },
   {
    "duration": 24,
    "start_time": "2022-01-28T12:16:52.961Z"
   },
   {
    "duration": 13,
    "start_time": "2022-01-28T12:16:52.987Z"
   },
   {
    "duration": 12,
    "start_time": "2022-01-28T12:16:53.002Z"
   },
   {
    "duration": 46,
    "start_time": "2022-01-28T12:16:53.016Z"
   },
   {
    "duration": 3228,
    "start_time": "2022-01-28T12:16:53.065Z"
   },
   {
    "duration": 9,
    "start_time": "2022-01-28T12:16:56.297Z"
   },
   {
    "duration": 12,
    "start_time": "2022-01-28T12:16:56.309Z"
   },
   {
    "duration": 42,
    "start_time": "2022-01-28T12:16:56.324Z"
   },
   {
    "duration": 8,
    "start_time": "2022-01-28T12:16:56.377Z"
   },
   {
    "duration": 1655,
    "start_time": "2022-01-28T12:16:56.390Z"
   },
   {
    "duration": 46,
    "start_time": "2022-01-28T12:16:58.047Z"
   },
   {
    "duration": 11,
    "start_time": "2022-01-28T12:16:58.096Z"
   },
   {
    "duration": 6,
    "start_time": "2022-01-28T12:16:58.110Z"
   },
   {
    "duration": 1964,
    "start_time": "2022-01-28T12:16:58.119Z"
   },
   {
    "duration": 5,
    "start_time": "2022-01-28T12:17:00.086Z"
   },
   {
    "duration": 17,
    "start_time": "2022-01-28T12:17:00.094Z"
   },
   {
    "duration": 24,
    "start_time": "2022-01-28T12:17:00.113Z"
   },
   {
    "duration": 31,
    "start_time": "2022-01-28T12:17:00.140Z"
   },
   {
    "duration": 15,
    "start_time": "2022-01-28T12:17:00.174Z"
   },
   {
    "duration": 24,
    "start_time": "2022-01-28T12:17:00.191Z"
   },
   {
    "duration": 11,
    "start_time": "2022-01-28T12:17:00.218Z"
   },
   {
    "duration": 16,
    "start_time": "2022-01-28T12:17:00.231Z"
   },
   {
    "duration": 11,
    "start_time": "2022-01-28T12:17:00.249Z"
   },
   {
    "duration": 20,
    "start_time": "2022-01-28T12:17:00.263Z"
   },
   {
    "duration": 1076,
    "start_time": "2022-01-28T12:17:00.285Z"
   },
   {
    "duration": 906,
    "start_time": "2022-01-28T12:17:01.364Z"
   },
   {
    "duration": 17238,
    "start_time": "2022-01-28T12:17:02.272Z"
   },
   {
    "duration": 54,
    "start_time": "2022-01-28T12:17:19.513Z"
   },
   {
    "duration": 1903,
    "start_time": "2022-01-28T12:17:19.570Z"
   },
   {
    "duration": 1261,
    "start_time": "2022-01-28T12:17:21.477Z"
   },
   {
    "duration": 38424,
    "start_time": "2022-01-28T12:17:22.740Z"
   },
   {
    "duration": 94,
    "start_time": "2022-01-28T12:18:01.167Z"
   },
   {
    "duration": 782,
    "start_time": "2022-01-28T12:18:01.265Z"
   },
   {
    "duration": 2798,
    "start_time": "2022-01-28T12:17:59.251Z"
   },
   {
    "duration": 2710,
    "start_time": "2022-01-28T12:17:59.340Z"
   },
   {
    "duration": 2708,
    "start_time": "2022-01-28T12:17:59.343Z"
   },
   {
    "duration": 2706,
    "start_time": "2022-01-28T12:17:59.347Z"
   },
   {
    "duration": 2704,
    "start_time": "2022-01-28T12:17:59.350Z"
   },
   {
    "duration": 2702,
    "start_time": "2022-01-28T12:17:59.353Z"
   },
   {
    "duration": 25,
    "start_time": "2022-01-28T12:18:12.726Z"
   },
   {
    "duration": 4,
    "start_time": "2022-01-28T12:19:38.183Z"
   },
   {
    "duration": 1528,
    "start_time": "2022-01-28T12:19:38.191Z"
   },
   {
    "duration": 867,
    "start_time": "2022-01-28T12:19:39.722Z"
   },
   {
    "duration": 36,
    "start_time": "2022-01-28T12:19:40.592Z"
   },
   {
    "duration": 880,
    "start_time": "2022-01-28T12:19:40.630Z"
   },
   {
    "duration": 2791,
    "start_time": "2022-01-28T12:19:38.724Z"
   },
   {
    "duration": 2790,
    "start_time": "2022-01-28T12:19:38.726Z"
   },
   {
    "duration": 2788,
    "start_time": "2022-01-28T12:19:38.729Z"
   },
   {
    "duration": 2786,
    "start_time": "2022-01-28T12:19:38.733Z"
   },
   {
    "duration": 2785,
    "start_time": "2022-01-28T12:19:38.735Z"
   },
   {
    "duration": 2783,
    "start_time": "2022-01-28T12:19:38.738Z"
   },
   {
    "duration": 2749,
    "start_time": "2022-01-28T12:19:38.773Z"
   },
   {
    "duration": 2748,
    "start_time": "2022-01-28T12:19:38.776Z"
   },
   {
    "duration": 2746,
    "start_time": "2022-01-28T12:19:38.779Z"
   },
   {
    "duration": 2744,
    "start_time": "2022-01-28T12:19:38.782Z"
   },
   {
    "duration": 2743,
    "start_time": "2022-01-28T12:19:38.784Z"
   },
   {
    "duration": 2742,
    "start_time": "2022-01-28T12:19:38.787Z"
   },
   {
    "duration": 2741,
    "start_time": "2022-01-28T12:19:38.789Z"
   },
   {
    "duration": 2740,
    "start_time": "2022-01-28T12:19:38.792Z"
   },
   {
    "duration": 2738,
    "start_time": "2022-01-28T12:19:38.795Z"
   },
   {
    "duration": 2738,
    "start_time": "2022-01-28T12:19:38.797Z"
   },
   {
    "duration": 2736,
    "start_time": "2022-01-28T12:19:38.800Z"
   },
   {
    "duration": 2735,
    "start_time": "2022-01-28T12:19:38.803Z"
   },
   {
    "duration": 2733,
    "start_time": "2022-01-28T12:19:38.806Z"
   },
   {
    "duration": 2733,
    "start_time": "2022-01-28T12:19:38.808Z"
   },
   {
    "duration": 2731,
    "start_time": "2022-01-28T12:19:38.811Z"
   },
   {
    "duration": 2729,
    "start_time": "2022-01-28T12:19:38.814Z"
   },
   {
    "duration": 2729,
    "start_time": "2022-01-28T12:19:38.816Z"
   },
   {
    "duration": 2729,
    "start_time": "2022-01-28T12:19:38.818Z"
   },
   {
    "duration": 2728,
    "start_time": "2022-01-28T12:19:38.820Z"
   },
   {
    "duration": 2727,
    "start_time": "2022-01-28T12:19:38.823Z"
   },
   {
    "duration": 2726,
    "start_time": "2022-01-28T12:19:38.825Z"
   },
   {
    "duration": 2724,
    "start_time": "2022-01-28T12:19:38.828Z"
   },
   {
    "duration": 2723,
    "start_time": "2022-01-28T12:19:38.830Z"
   },
   {
    "duration": 2726,
    "start_time": "2022-01-28T12:19:38.833Z"
   },
   {
    "duration": 2726,
    "start_time": "2022-01-28T12:19:38.835Z"
   },
   {
    "duration": 2666,
    "start_time": "2022-01-28T12:19:38.896Z"
   },
   {
    "duration": 2608,
    "start_time": "2022-01-28T12:19:38.956Z"
   },
   {
    "duration": 2607,
    "start_time": "2022-01-28T12:19:38.958Z"
   },
   {
    "duration": 2277,
    "start_time": "2022-01-28T12:19:39.289Z"
   },
   {
    "duration": 1664,
    "start_time": "2022-01-28T12:19:39.904Z"
   },
   {
    "duration": 1662,
    "start_time": "2022-01-28T12:19:39.907Z"
   },
   {
    "duration": 1662,
    "start_time": "2022-01-28T12:19:39.909Z"
   },
   {
    "duration": 1660,
    "start_time": "2022-01-28T12:19:39.912Z"
   },
   {
    "duration": 1658,
    "start_time": "2022-01-28T12:19:39.916Z"
   },
   {
    "duration": 1658,
    "start_time": "2022-01-28T12:19:39.918Z"
   },
   {
    "duration": 1657,
    "start_time": "2022-01-28T12:19:39.921Z"
   },
   {
    "duration": 1658,
    "start_time": "2022-01-28T12:19:39.923Z"
   },
   {
    "duration": 1657,
    "start_time": "2022-01-28T12:19:39.926Z"
   },
   {
    "duration": 1656,
    "start_time": "2022-01-28T12:19:39.929Z"
   },
   {
    "duration": 1656,
    "start_time": "2022-01-28T12:19:39.931Z"
   },
   {
    "duration": 1655,
    "start_time": "2022-01-28T12:19:39.934Z"
   },
   {
    "duration": 1655,
    "start_time": "2022-01-28T12:19:39.936Z"
   },
   {
    "duration": 1655,
    "start_time": "2022-01-28T12:19:39.938Z"
   },
   {
    "duration": 1719,
    "start_time": "2022-01-28T12:19:39.940Z"
   },
   {
    "duration": 1719,
    "start_time": "2022-01-28T12:19:39.943Z"
   },
   {
    "duration": 1718,
    "start_time": "2022-01-28T12:19:39.946Z"
   },
   {
    "duration": 1717,
    "start_time": "2022-01-28T12:19:39.949Z"
   },
   {
    "duration": 1717,
    "start_time": "2022-01-28T12:19:39.951Z"
   },
   {
    "duration": 24,
    "start_time": "2022-01-28T12:20:20.955Z"
   },
   {
    "duration": 32,
    "start_time": "2022-01-28T12:20:23.845Z"
   },
   {
    "duration": 44,
    "start_time": "2022-01-28T12:20:39.692Z"
   },
   {
    "duration": 55,
    "start_time": "2022-01-28T12:22:45.944Z"
   },
   {
    "duration": 5,
    "start_time": "2022-01-28T12:22:59.610Z"
   },
   {
    "duration": 2146,
    "start_time": "2022-01-28T12:22:59.618Z"
   },
   {
    "duration": 863,
    "start_time": "2022-01-28T12:23:01.767Z"
   },
   {
    "duration": 42,
    "start_time": "2022-01-28T12:23:02.633Z"
   },
   {
    "duration": 83,
    "start_time": "2022-01-28T12:23:02.678Z"
   },
   {
    "duration": 19,
    "start_time": "2022-01-28T12:23:02.764Z"
   },
   {
    "duration": 30,
    "start_time": "2022-01-28T12:23:02.786Z"
   },
   {
    "duration": 58,
    "start_time": "2022-01-28T12:23:02.818Z"
   },
   {
    "duration": 23,
    "start_time": "2022-01-28T12:23:02.879Z"
   },
   {
    "duration": 3,
    "start_time": "2022-01-28T12:23:02.905Z"
   },
   {
    "duration": 13,
    "start_time": "2022-01-28T12:23:02.911Z"
   },
   {
    "duration": 48,
    "start_time": "2022-01-28T12:23:02.927Z"
   },
   {
    "duration": 7,
    "start_time": "2022-01-28T12:23:02.977Z"
   },
   {
    "duration": 8,
    "start_time": "2022-01-28T12:23:02.987Z"
   },
   {
    "duration": 17,
    "start_time": "2022-01-28T12:23:02.997Z"
   },
   {
    "duration": 53,
    "start_time": "2022-01-28T12:23:03.016Z"
   },
   {
    "duration": 12,
    "start_time": "2022-01-28T12:23:03.072Z"
   },
   {
    "duration": 21,
    "start_time": "2022-01-28T12:23:03.086Z"
   },
   {
    "duration": 140,
    "start_time": "2022-01-28T12:23:03.110Z"
   },
   {
    "duration": 13,
    "start_time": "2022-01-28T12:23:03.252Z"
   },
   {
    "duration": 10,
    "start_time": "2022-01-28T12:23:03.267Z"
   },
   {
    "duration": 20,
    "start_time": "2022-01-28T12:23:03.280Z"
   },
   {
    "duration": 60,
    "start_time": "2022-01-28T12:23:03.302Z"
   },
   {
    "duration": 13,
    "start_time": "2022-01-28T12:23:03.364Z"
   },
   {
    "duration": 14,
    "start_time": "2022-01-28T12:23:03.379Z"
   },
   {
    "duration": 15,
    "start_time": "2022-01-28T12:23:03.395Z"
   },
   {
    "duration": 3319,
    "start_time": "2022-01-28T12:23:03.417Z"
   },
   {
    "duration": 6,
    "start_time": "2022-01-28T12:23:06.739Z"
   },
   {
    "duration": 6,
    "start_time": "2022-01-28T12:23:06.759Z"
   },
   {
    "duration": 15,
    "start_time": "2022-01-28T12:23:06.767Z"
   },
   {
    "duration": 13,
    "start_time": "2022-01-28T12:23:06.784Z"
   },
   {
    "duration": 1213,
    "start_time": "2022-01-28T12:23:06.800Z"
   },
   {
    "duration": 44,
    "start_time": "2022-01-28T12:23:08.016Z"
   },
   {
    "duration": 10,
    "start_time": "2022-01-28T12:23:08.063Z"
   },
   {
    "duration": 7,
    "start_time": "2022-01-28T12:23:08.075Z"
   },
   {
    "duration": 1288,
    "start_time": "2022-01-28T12:23:08.084Z"
   },
   {
    "duration": 6,
    "start_time": "2022-01-28T12:23:09.374Z"
   },
   {
    "duration": 9,
    "start_time": "2022-01-28T12:23:09.382Z"
   },
   {
    "duration": 18,
    "start_time": "2022-01-28T12:23:09.393Z"
   },
   {
    "duration": 50,
    "start_time": "2022-01-28T12:23:09.413Z"
   },
   {
    "duration": 4,
    "start_time": "2022-01-28T12:23:09.465Z"
   },
   {
    "duration": 14,
    "start_time": "2022-01-28T12:23:09.472Z"
   },
   {
    "duration": 8,
    "start_time": "2022-01-28T12:23:09.489Z"
   },
   {
    "duration": 6,
    "start_time": "2022-01-28T12:23:09.499Z"
   },
   {
    "duration": 8,
    "start_time": "2022-01-28T12:23:09.507Z"
   },
   {
    "duration": 42,
    "start_time": "2022-01-28T12:23:09.517Z"
   },
   {
    "duration": 1098,
    "start_time": "2022-01-28T12:23:09.561Z"
   },
   {
    "duration": 915,
    "start_time": "2022-01-28T12:23:10.662Z"
   },
   {
    "duration": 17437,
    "start_time": "2022-01-28T12:23:11.579Z"
   },
   {
    "duration": 52,
    "start_time": "2022-01-28T12:23:29.018Z"
   },
   {
    "duration": 1607,
    "start_time": "2022-01-28T12:23:29.160Z"
   },
   {
    "duration": 1191,
    "start_time": "2022-01-28T12:23:30.769Z"
   },
   {
    "duration": 40129,
    "start_time": "2022-01-28T12:23:31.962Z"
   },
   {
    "duration": 167,
    "start_time": "2022-01-28T12:24:12.093Z"
   },
   {
    "duration": 509,
    "start_time": "2022-01-28T12:24:12.263Z"
   },
   {
    "duration": 2750,
    "start_time": "2022-01-28T12:24:10.024Z"
   },
   {
    "duration": 2750,
    "start_time": "2022-01-28T12:24:10.026Z"
   },
   {
    "duration": 2748,
    "start_time": "2022-01-28T12:24:10.029Z"
   },
   {
    "duration": 2744,
    "start_time": "2022-01-28T12:24:10.035Z"
   },
   {
    "duration": 2578,
    "start_time": "2022-01-28T12:24:10.202Z"
   },
   {
    "duration": 2575,
    "start_time": "2022-01-28T12:24:10.207Z"
   },
   {
    "duration": 8,
    "start_time": "2022-01-28T12:26:03.661Z"
   },
   {
    "duration": 402,
    "start_time": "2022-01-28T12:27:04.240Z"
   },
   {
    "duration": 43,
    "start_time": "2022-01-28T12:27:37.670Z"
   },
   {
    "duration": 159,
    "start_time": "2022-01-28T12:30:48.906Z"
   },
   {
    "duration": 731,
    "start_time": "2022-01-28T12:30:53.820Z"
   },
   {
    "duration": 4,
    "start_time": "2022-01-28T12:35:01.534Z"
   },
   {
    "duration": 1594,
    "start_time": "2022-01-28T12:35:01.540Z"
   },
   {
    "duration": 863,
    "start_time": "2022-01-28T12:35:03.137Z"
   },
   {
    "duration": 36,
    "start_time": "2022-01-28T12:35:04.002Z"
   },
   {
    "duration": 36,
    "start_time": "2022-01-28T12:35:04.041Z"
   },
   {
    "duration": 32,
    "start_time": "2022-01-28T12:35:04.080Z"
   },
   {
    "duration": 49,
    "start_time": "2022-01-28T12:35:04.114Z"
   },
   {
    "duration": 3,
    "start_time": "2022-01-28T12:35:04.165Z"
   },
   {
    "duration": 18,
    "start_time": "2022-01-28T12:35:04.171Z"
   },
   {
    "duration": 24,
    "start_time": "2022-01-28T12:35:04.192Z"
   },
   {
    "duration": 40,
    "start_time": "2022-01-28T12:35:04.219Z"
   },
   {
    "duration": 10,
    "start_time": "2022-01-28T12:35:04.262Z"
   },
   {
    "duration": 24,
    "start_time": "2022-01-28T12:35:04.279Z"
   },
   {
    "duration": 53,
    "start_time": "2022-01-28T12:35:04.308Z"
   },
   {
    "duration": 13,
    "start_time": "2022-01-28T12:35:04.364Z"
   },
   {
    "duration": 21,
    "start_time": "2022-01-28T12:35:04.379Z"
   },
   {
    "duration": 174,
    "start_time": "2022-01-28T12:35:04.403Z"
   },
   {
    "duration": 11,
    "start_time": "2022-01-28T12:35:04.580Z"
   },
   {
    "duration": 14,
    "start_time": "2022-01-28T12:35:04.594Z"
   },
   {
    "duration": 51,
    "start_time": "2022-01-28T12:35:04.611Z"
   },
   {
    "duration": 22,
    "start_time": "2022-01-28T12:35:04.665Z"
   },
   {
    "duration": 12,
    "start_time": "2022-01-28T12:35:04.690Z"
   },
   {
    "duration": 14,
    "start_time": "2022-01-28T12:35:04.704Z"
   },
   {
    "duration": 49,
    "start_time": "2022-01-28T12:35:04.720Z"
   },
   {
    "duration": 3433,
    "start_time": "2022-01-28T12:35:04.772Z"
   },
   {
    "duration": 8,
    "start_time": "2022-01-28T12:35:08.208Z"
   },
   {
    "duration": 10,
    "start_time": "2022-01-28T12:35:08.219Z"
   },
   {
    "duration": 32,
    "start_time": "2022-01-28T12:35:08.232Z"
   },
   {
    "duration": 6,
    "start_time": "2022-01-28T12:35:08.267Z"
   },
   {
    "duration": 1222,
    "start_time": "2022-01-28T12:35:08.276Z"
   },
   {
    "duration": 28,
    "start_time": "2022-01-28T12:35:09.501Z"
   },
   {
    "duration": 30,
    "start_time": "2022-01-28T12:35:09.532Z"
   },
   {
    "duration": 8,
    "start_time": "2022-01-28T12:35:09.565Z"
   },
   {
    "duration": 1333,
    "start_time": "2022-01-28T12:35:09.576Z"
   },
   {
    "duration": 6,
    "start_time": "2022-01-28T12:35:10.912Z"
   },
   {
    "duration": 8,
    "start_time": "2022-01-28T12:35:10.920Z"
   },
   {
    "duration": 16,
    "start_time": "2022-01-28T12:35:10.958Z"
   },
   {
    "duration": 23,
    "start_time": "2022-01-28T12:35:10.977Z"
   },
   {
    "duration": 5,
    "start_time": "2022-01-28T12:35:11.002Z"
   },
   {
    "duration": 11,
    "start_time": "2022-01-28T12:35:11.009Z"
   },
   {
    "duration": 41,
    "start_time": "2022-01-28T12:35:11.023Z"
   },
   {
    "duration": 5,
    "start_time": "2022-01-28T12:35:11.068Z"
   },
   {
    "duration": 8,
    "start_time": "2022-01-28T12:35:11.076Z"
   },
   {
    "duration": 10,
    "start_time": "2022-01-28T12:35:11.087Z"
   },
   {
    "duration": 1159,
    "start_time": "2022-01-28T12:35:11.100Z"
   },
   {
    "duration": 973,
    "start_time": "2022-01-28T12:35:12.262Z"
   },
   {
    "duration": 17327,
    "start_time": "2022-01-28T12:35:13.238Z"
   },
   {
    "duration": 103,
    "start_time": "2022-01-28T12:35:30.568Z"
   },
   {
    "duration": 2183,
    "start_time": "2022-01-28T12:35:30.675Z"
   },
   {
    "duration": 1115,
    "start_time": "2022-01-28T12:35:32.862Z"
   },
   {
    "duration": 39380,
    "start_time": "2022-01-28T12:35:33.980Z"
   },
   {
    "duration": 11,
    "start_time": "2022-01-28T12:36:13.363Z"
   },
   {
    "duration": 197,
    "start_time": "2022-01-28T12:36:13.377Z"
   },
   {
    "duration": 176,
    "start_time": "2022-01-28T12:36:13.578Z"
   },
   {
    "duration": 1714,
    "start_time": "2022-01-28T12:36:13.757Z"
   },
   {
    "duration": 4,
    "start_time": "2022-01-28T12:38:55.341Z"
   },
   {
    "duration": 1533,
    "start_time": "2022-01-28T12:38:55.347Z"
   },
   {
    "duration": 940,
    "start_time": "2022-01-28T12:38:56.883Z"
   },
   {
    "duration": 50,
    "start_time": "2022-01-28T12:38:57.826Z"
   },
   {
    "duration": 5,
    "start_time": "2022-01-28T12:38:57.880Z"
   },
   {
    "duration": 26,
    "start_time": "2022-01-28T12:38:57.888Z"
   },
   {
    "duration": 44,
    "start_time": "2022-01-28T12:38:57.917Z"
   },
   {
    "duration": 9,
    "start_time": "2022-01-28T12:38:57.966Z"
   },
   {
    "duration": 15,
    "start_time": "2022-01-28T12:38:57.979Z"
   },
   {
    "duration": 24,
    "start_time": "2022-01-28T12:38:57.997Z"
   },
   {
    "duration": 54,
    "start_time": "2022-01-28T12:38:58.024Z"
   },
   {
    "duration": 15,
    "start_time": "2022-01-28T12:38:58.081Z"
   },
   {
    "duration": 67,
    "start_time": "2022-01-28T12:38:58.098Z"
   },
   {
    "duration": 145,
    "start_time": "2022-01-28T12:38:58.169Z"
   },
   {
    "duration": 12,
    "start_time": "2022-01-28T12:38:58.317Z"
   },
   {
    "duration": 36,
    "start_time": "2022-01-28T12:38:58.331Z"
   },
   {
    "duration": 33,
    "start_time": "2022-01-28T12:38:58.370Z"
   },
   {
    "duration": 94,
    "start_time": "2022-01-28T12:38:58.407Z"
   },
   {
    "duration": 72,
    "start_time": "2022-01-28T12:38:58.503Z"
   },
   {
    "duration": 14,
    "start_time": "2022-01-28T12:38:58.578Z"
   },
   {
    "duration": 20,
    "start_time": "2022-01-28T12:38:58.594Z"
   },
   {
    "duration": 61,
    "start_time": "2022-01-28T12:38:58.617Z"
   },
   {
    "duration": 21,
    "start_time": "2022-01-28T12:38:58.687Z"
   },
   {
    "duration": 20,
    "start_time": "2022-01-28T12:38:58.712Z"
   },
   {
    "duration": 41,
    "start_time": "2022-01-28T12:38:58.735Z"
   },
   {
    "duration": 4868,
    "start_time": "2022-01-28T12:38:58.779Z"
   },
   {
    "duration": 12,
    "start_time": "2022-01-28T12:39:03.649Z"
   },
   {
    "duration": 7,
    "start_time": "2022-01-28T12:39:03.663Z"
   },
   {
    "duration": 7,
    "start_time": "2022-01-28T12:39:03.674Z"
   },
   {
    "duration": 7,
    "start_time": "2022-01-28T12:39:03.683Z"
   },
   {
    "duration": 1242,
    "start_time": "2022-01-28T12:39:03.692Z"
   },
   {
    "duration": 39,
    "start_time": "2022-01-28T12:39:04.936Z"
   },
   {
    "duration": 8,
    "start_time": "2022-01-28T12:39:04.978Z"
   },
   {
    "duration": 8,
    "start_time": "2022-01-28T12:39:04.988Z"
   },
   {
    "duration": 1442,
    "start_time": "2022-01-28T12:39:04.998Z"
   },
   {
    "duration": 16,
    "start_time": "2022-01-28T12:39:06.443Z"
   },
   {
    "duration": 6,
    "start_time": "2022-01-28T12:39:06.461Z"
   },
   {
    "duration": 27,
    "start_time": "2022-01-28T12:39:06.470Z"
   },
   {
    "duration": 19,
    "start_time": "2022-01-28T12:39:06.500Z"
   },
   {
    "duration": 38,
    "start_time": "2022-01-28T12:39:06.522Z"
   },
   {
    "duration": 123,
    "start_time": "2022-01-28T12:39:06.563Z"
   },
   {
    "duration": 8,
    "start_time": "2022-01-28T12:39:06.689Z"
   },
   {
    "duration": 6,
    "start_time": "2022-01-28T12:39:06.700Z"
   },
   {
    "duration": 7,
    "start_time": "2022-01-28T12:39:06.708Z"
   },
   {
    "duration": 7,
    "start_time": "2022-01-28T12:39:06.717Z"
   },
   {
    "duration": 1341,
    "start_time": "2022-01-28T12:39:06.727Z"
   },
   {
    "duration": 958,
    "start_time": "2022-01-28T12:39:08.071Z"
   },
   {
    "duration": 17208,
    "start_time": "2022-01-28T12:39:09.032Z"
   },
   {
    "duration": 41,
    "start_time": "2022-01-28T12:39:26.243Z"
   },
   {
    "duration": 1904,
    "start_time": "2022-01-28T12:39:26.361Z"
   },
   {
    "duration": 1212,
    "start_time": "2022-01-28T12:39:28.269Z"
   },
   {
    "duration": 42657,
    "start_time": "2022-01-28T12:39:29.484Z"
   },
   {
    "duration": 33,
    "start_time": "2022-01-28T12:40:12.143Z"
   },
   {
    "duration": 85,
    "start_time": "2022-01-28T12:40:12.179Z"
   },
   {
    "duration": 147,
    "start_time": "2022-01-28T12:40:12.267Z"
   },
   {
    "duration": 8,
    "start_time": "2022-01-28T12:40:12.417Z"
   },
   {
    "duration": 13,
    "start_time": "2022-01-28T12:42:50.520Z"
   },
   {
    "duration": 10,
    "start_time": "2022-01-28T12:43:01.184Z"
   },
   {
    "duration": 5,
    "start_time": "2022-01-28T12:43:13.028Z"
   },
   {
    "duration": 1739,
    "start_time": "2022-01-28T12:43:13.036Z"
   },
   {
    "duration": 977,
    "start_time": "2022-01-28T12:43:14.779Z"
   },
   {
    "duration": 24,
    "start_time": "2022-01-28T12:43:15.760Z"
   },
   {
    "duration": 4,
    "start_time": "2022-01-28T12:43:15.787Z"
   },
   {
    "duration": 14,
    "start_time": "2022-01-28T12:43:15.795Z"
   },
   {
    "duration": 56,
    "start_time": "2022-01-28T12:43:15.811Z"
   },
   {
    "duration": 7,
    "start_time": "2022-01-28T12:43:15.872Z"
   },
   {
    "duration": 13,
    "start_time": "2022-01-28T12:43:15.883Z"
   },
   {
    "duration": 15,
    "start_time": "2022-01-28T12:43:15.898Z"
   },
   {
    "duration": 54,
    "start_time": "2022-01-28T12:43:15.916Z"
   },
   {
    "duration": 12,
    "start_time": "2022-01-28T12:43:15.972Z"
   },
   {
    "duration": 24,
    "start_time": "2022-01-28T12:43:15.987Z"
   },
   {
    "duration": 139,
    "start_time": "2022-01-28T12:43:16.013Z"
   },
   {
    "duration": 9,
    "start_time": "2022-01-28T12:43:16.158Z"
   },
   {
    "duration": 10,
    "start_time": "2022-01-28T12:43:16.170Z"
   },
   {
    "duration": 24,
    "start_time": "2022-01-28T12:43:16.183Z"
   },
   {
    "duration": 113,
    "start_time": "2022-01-28T12:43:16.210Z"
   },
   {
    "duration": 70,
    "start_time": "2022-01-28T12:43:16.325Z"
   },
   {
    "duration": 16,
    "start_time": "2022-01-28T12:43:16.398Z"
   },
   {
    "duration": 16,
    "start_time": "2022-01-28T12:43:16.417Z"
   },
   {
    "duration": 22,
    "start_time": "2022-01-28T12:43:16.460Z"
   },
   {
    "duration": 16,
    "start_time": "2022-01-28T12:43:16.488Z"
   },
   {
    "duration": 13,
    "start_time": "2022-01-28T12:43:16.509Z"
   },
   {
    "duration": 51,
    "start_time": "2022-01-28T12:43:16.524Z"
   },
   {
    "duration": 3439,
    "start_time": "2022-01-28T12:43:16.578Z"
   },
   {
    "duration": 7,
    "start_time": "2022-01-28T12:43:20.019Z"
   },
   {
    "duration": 31,
    "start_time": "2022-01-28T12:43:20.028Z"
   },
   {
    "duration": 7,
    "start_time": "2022-01-28T12:43:20.061Z"
   },
   {
    "duration": 7,
    "start_time": "2022-01-28T12:43:20.070Z"
   },
   {
    "duration": 1283,
    "start_time": "2022-01-28T12:43:20.079Z"
   },
   {
    "duration": 30,
    "start_time": "2022-01-28T12:43:21.365Z"
   },
   {
    "duration": 8,
    "start_time": "2022-01-28T12:43:21.398Z"
   },
   {
    "duration": 9,
    "start_time": "2022-01-28T12:43:21.409Z"
   },
   {
    "duration": 1336,
    "start_time": "2022-01-28T12:43:21.421Z"
   },
   {
    "duration": 6,
    "start_time": "2022-01-28T12:43:22.760Z"
   },
   {
    "duration": 10,
    "start_time": "2022-01-28T12:43:22.769Z"
   },
   {
    "duration": 17,
    "start_time": "2022-01-28T12:43:22.782Z"
   },
   {
    "duration": 14,
    "start_time": "2022-01-28T12:43:22.801Z"
   },
   {
    "duration": 5,
    "start_time": "2022-01-28T12:43:22.817Z"
   },
   {
    "duration": 120,
    "start_time": "2022-01-28T12:43:22.860Z"
   },
   {
    "duration": 8,
    "start_time": "2022-01-28T12:43:22.983Z"
   },
   {
    "duration": 4,
    "start_time": "2022-01-28T12:43:22.994Z"
   },
   {
    "duration": 5,
    "start_time": "2022-01-28T12:43:23.001Z"
   },
   {
    "duration": 8,
    "start_time": "2022-01-28T12:43:23.008Z"
   },
   {
    "duration": 1244,
    "start_time": "2022-01-28T12:43:23.019Z"
   },
   {
    "duration": 1355,
    "start_time": "2022-01-28T12:43:24.266Z"
   },
   {
    "duration": 19975,
    "start_time": "2022-01-28T12:43:25.624Z"
   },
   {
    "duration": 58,
    "start_time": "2022-01-28T12:43:45.602Z"
   },
   {
    "duration": 2199,
    "start_time": "2022-01-28T12:43:45.664Z"
   },
   {
    "duration": 1070,
    "start_time": "2022-01-28T12:43:47.866Z"
   },
   {
    "duration": 42194,
    "start_time": "2022-01-28T12:43:48.939Z"
   },
   {
    "duration": 42,
    "start_time": "2022-01-28T12:44:31.136Z"
   },
   {
    "duration": 10,
    "start_time": "2022-01-28T12:44:31.262Z"
   },
   {
    "duration": 128,
    "start_time": "2022-01-28T12:44:31.275Z"
   },
   {
    "duration": 124,
    "start_time": "2022-01-28T12:44:31.406Z"
   },
   {
    "duration": 2847,
    "start_time": "2022-01-28T12:44:28.686Z"
   },
   {
    "duration": 9,
    "start_time": "2022-01-28T12:44:41.955Z"
   },
   {
    "duration": 8,
    "start_time": "2022-01-28T13:50:51.633Z"
   },
   {
    "duration": 7,
    "start_time": "2022-01-28T13:52:19.086Z"
   },
   {
    "duration": 9,
    "start_time": "2022-01-28T13:52:57.864Z"
   },
   {
    "duration": 7,
    "start_time": "2022-01-28T13:53:00.818Z"
   },
   {
    "duration": 9,
    "start_time": "2022-01-28T13:56:07.864Z"
   },
   {
    "duration": 4,
    "start_time": "2022-01-28T14:03:48.123Z"
   },
   {
    "duration": 1539,
    "start_time": "2022-01-28T14:03:48.130Z"
   },
   {
    "duration": 873,
    "start_time": "2022-01-28T14:03:49.672Z"
   },
   {
    "duration": 28,
    "start_time": "2022-01-28T14:03:50.547Z"
   },
   {
    "duration": 4,
    "start_time": "2022-01-28T14:03:50.577Z"
   },
   {
    "duration": 18,
    "start_time": "2022-01-28T14:03:50.583Z"
   },
   {
    "duration": 24,
    "start_time": "2022-01-28T14:03:50.604Z"
   },
   {
    "duration": 31,
    "start_time": "2022-01-28T14:03:50.633Z"
   },
   {
    "duration": 11,
    "start_time": "2022-01-28T14:03:50.668Z"
   },
   {
    "duration": 23,
    "start_time": "2022-01-28T14:03:50.682Z"
   },
   {
    "duration": 15,
    "start_time": "2022-01-28T14:03:50.707Z"
   },
   {
    "duration": 46,
    "start_time": "2022-01-28T14:03:50.725Z"
   },
   {
    "duration": 24,
    "start_time": "2022-01-28T14:03:50.773Z"
   },
   {
    "duration": 127,
    "start_time": "2022-01-28T14:03:50.800Z"
   },
   {
    "duration": 9,
    "start_time": "2022-01-28T14:03:50.929Z"
   },
   {
    "duration": 26,
    "start_time": "2022-01-28T14:03:50.940Z"
   },
   {
    "duration": 23,
    "start_time": "2022-01-28T14:03:50.968Z"
   },
   {
    "duration": 94,
    "start_time": "2022-01-28T14:03:50.993Z"
   },
   {
    "duration": 55,
    "start_time": "2022-01-28T14:03:51.089Z"
   },
   {
    "duration": 16,
    "start_time": "2022-01-28T14:03:51.160Z"
   },
   {
    "duration": 16,
    "start_time": "2022-01-28T14:03:51.178Z"
   },
   {
    "duration": 21,
    "start_time": "2022-01-28T14:03:51.197Z"
   },
   {
    "duration": 17,
    "start_time": "2022-01-28T14:03:51.260Z"
   },
   {
    "duration": 13,
    "start_time": "2022-01-28T14:03:51.280Z"
   },
   {
    "duration": 13,
    "start_time": "2022-01-28T14:03:51.295Z"
   },
   {
    "duration": 3321,
    "start_time": "2022-01-28T14:03:51.311Z"
   },
   {
    "duration": 8,
    "start_time": "2022-01-28T14:03:54.635Z"
   },
   {
    "duration": 9,
    "start_time": "2022-01-28T14:03:54.660Z"
   },
   {
    "duration": 8,
    "start_time": "2022-01-28T14:03:54.672Z"
   },
   {
    "duration": 8,
    "start_time": "2022-01-28T14:03:54.683Z"
   },
   {
    "duration": 1244,
    "start_time": "2022-01-28T14:03:54.694Z"
   },
   {
    "duration": 46,
    "start_time": "2022-01-28T14:03:55.942Z"
   },
   {
    "duration": 8,
    "start_time": "2022-01-28T14:03:55.990Z"
   },
   {
    "duration": 11,
    "start_time": "2022-01-28T14:03:56.001Z"
   },
   {
    "duration": 1300,
    "start_time": "2022-01-28T14:03:56.015Z"
   },
   {
    "duration": 5,
    "start_time": "2022-01-28T14:03:57.318Z"
   },
   {
    "duration": 13,
    "start_time": "2022-01-28T14:03:57.325Z"
   },
   {
    "duration": 32,
    "start_time": "2022-01-28T14:03:57.341Z"
   },
   {
    "duration": 14,
    "start_time": "2022-01-28T14:03:57.376Z"
   },
   {
    "duration": 5,
    "start_time": "2022-01-28T14:03:57.392Z"
   },
   {
    "duration": 148,
    "start_time": "2022-01-28T14:03:57.399Z"
   },
   {
    "duration": 13,
    "start_time": "2022-01-28T14:03:57.549Z"
   },
   {
    "duration": 5,
    "start_time": "2022-01-28T14:03:57.564Z"
   },
   {
    "duration": 6,
    "start_time": "2022-01-28T14:03:57.571Z"
   },
   {
    "duration": 8,
    "start_time": "2022-01-28T14:03:57.579Z"
   },
   {
    "duration": 879,
    "start_time": "2022-01-28T14:03:57.589Z"
   },
   {
    "duration": 992,
    "start_time": "2022-01-28T14:03:58.473Z"
   },
   {
    "duration": 17429,
    "start_time": "2022-01-28T14:03:59.468Z"
   },
   {
    "duration": 61,
    "start_time": "2022-01-28T14:04:16.900Z"
   },
   {
    "duration": 1797,
    "start_time": "2022-01-28T14:04:16.965Z"
   },
   {
    "duration": 40165,
    "start_time": "2022-01-28T14:04:19.894Z"
   },
   {
    "duration": 12,
    "start_time": "2022-01-28T14:05:00.061Z"
   },
   {
    "duration": 185,
    "start_time": "2022-01-28T14:05:00.077Z"
   },
   {
    "duration": 41,
    "start_time": "2022-01-28T14:05:00.265Z"
   },
   {
    "duration": 6,
    "start_time": "2022-01-28T14:05:00.309Z"
   },
   {
    "duration": 42,
    "start_time": "2022-01-28T14:05:00.317Z"
   },
   {
    "duration": 10,
    "start_time": "2022-01-28T14:05:00.361Z"
   },
   {
    "duration": 4,
    "start_time": "2022-01-28T17:47:44.497Z"
   },
   {
    "duration": 1299,
    "start_time": "2022-01-28T17:47:45.141Z"
   },
   {
    "duration": 832,
    "start_time": "2022-01-28T17:47:46.443Z"
   },
   {
    "duration": 18,
    "start_time": "2022-01-28T17:48:29.026Z"
   },
   {
    "duration": 3,
    "start_time": "2022-01-28T17:48:29.728Z"
   },
   {
    "duration": 12,
    "start_time": "2022-01-28T17:48:30.541Z"
   },
   {
    "duration": 20,
    "start_time": "2022-01-28T17:48:30.704Z"
   },
   {
    "duration": 6,
    "start_time": "2022-01-28T17:48:30.888Z"
   },
   {
    "duration": 10,
    "start_time": "2022-01-28T17:48:51.552Z"
   },
   {
    "duration": 14,
    "start_time": "2022-01-28T17:48:52.996Z"
   },
   {
    "duration": 15,
    "start_time": "2022-01-28T17:48:53.642Z"
   },
   {
    "duration": 11,
    "start_time": "2022-01-28T17:49:29.655Z"
   },
   {
    "duration": 22,
    "start_time": "2022-01-28T17:49:31.695Z"
   },
   {
    "duration": 64,
    "start_time": "2022-01-28T17:49:32.256Z"
   },
   {
    "duration": 9,
    "start_time": "2022-01-28T17:49:34.136Z"
   },
   {
    "duration": 10,
    "start_time": "2022-01-28T17:49:34.791Z"
   },
   {
    "duration": 17,
    "start_time": "2022-01-28T17:49:36.574Z"
   },
   {
    "duration": 57,
    "start_time": "2022-01-28T17:49:37.024Z"
   },
   {
    "duration": 48,
    "start_time": "2022-01-28T17:49:37.681Z"
   },
   {
    "duration": 12,
    "start_time": "2022-01-28T17:49:38.367Z"
   },
   {
    "duration": 16,
    "start_time": "2022-01-28T17:49:38.658Z"
   },
   {
    "duration": 4,
    "start_time": "2022-01-28T17:50:26.229Z"
   },
   {
    "duration": 5,
    "start_time": "2022-01-28T17:51:38.171Z"
   },
   {
    "duration": 32,
    "start_time": "2022-01-28T17:52:31.293Z"
   },
   {
    "duration": 16,
    "start_time": "2022-01-28T18:00:36.123Z"
   },
   {
    "duration": 13,
    "start_time": "2022-01-28T18:00:37.013Z"
   },
   {
    "duration": 11,
    "start_time": "2022-01-28T18:00:47.216Z"
   },
   {
    "duration": 11,
    "start_time": "2022-01-28T18:00:47.852Z"
   },
   {
    "duration": 2158,
    "start_time": "2022-01-28T18:00:49.191Z"
   },
   {
    "duration": 5,
    "start_time": "2022-01-28T18:00:51.352Z"
   },
   {
    "duration": 6,
    "start_time": "2022-01-28T18:00:51.840Z"
   },
   {
    "duration": 6,
    "start_time": "2022-01-28T18:00:52.716Z"
   },
   {
    "duration": 6,
    "start_time": "2022-01-28T18:00:53.346Z"
   },
   {
    "duration": 772,
    "start_time": "2022-01-28T18:00:54.079Z"
   },
   {
    "duration": 24,
    "start_time": "2022-01-28T18:00:56.105Z"
   },
   {
    "duration": 8,
    "start_time": "2022-01-28T18:00:56.335Z"
   },
   {
    "duration": 7,
    "start_time": "2022-01-28T18:00:56.547Z"
   },
   {
    "duration": 830,
    "start_time": "2022-01-28T18:00:57.215Z"
   },
   {
    "duration": 4,
    "start_time": "2022-01-28T18:00:58.548Z"
   },
   {
    "duration": 5,
    "start_time": "2022-01-28T18:00:59.032Z"
   },
   {
    "duration": 13,
    "start_time": "2022-01-28T18:00:59.319Z"
   },
   {
    "duration": 14,
    "start_time": "2022-01-28T18:00:59.965Z"
   },
   {
    "duration": 3,
    "start_time": "2022-01-28T18:01:00.210Z"
   },
   {
    "duration": 10,
    "start_time": "2022-01-28T18:01:01.473Z"
   },
   {
    "duration": 114,
    "start_time": "2022-01-28T18:01:01.674Z"
   },
   {
    "duration": 4,
    "start_time": "2022-01-28T18:01:02.343Z"
   },
   {
    "duration": 5,
    "start_time": "2022-01-28T18:01:02.865Z"
   },
   {
    "duration": 3,
    "start_time": "2022-01-28T18:01:03.062Z"
   },
   {
    "duration": 6177,
    "start_time": "2022-01-28T18:02:58.705Z"
   },
   {
    "duration": 407,
    "start_time": "2022-01-28T18:03:04.478Z"
   },
   {
    "duration": 404,
    "start_time": "2022-01-28T18:03:04.483Z"
   },
   {
    "duration": 5,
    "start_time": "2022-01-28T18:04:50.245Z"
   },
   {
    "duration": 5,
    "start_time": "2022-01-28T18:05:06.154Z"
   },
   {
    "duration": 4,
    "start_time": "2022-01-28T18:05:28.460Z"
   },
   {
    "duration": 959,
    "start_time": "2022-01-28T18:07:56.752Z"
   },
   {
    "duration": 767,
    "start_time": "2022-01-28T18:07:59.235Z"
   },
   {
    "duration": 15108,
    "start_time": "2022-01-28T18:08:00.099Z"
   },
   {
    "duration": 101,
    "start_time": "2022-01-28T18:08:15.209Z"
   },
   {
    "duration": 1499,
    "start_time": "2022-01-28T18:08:15.313Z"
   },
   {
    "duration": 911,
    "start_time": "2022-01-28T18:08:17.582Z"
   },
   {
    "duration": 35876,
    "start_time": "2022-01-28T18:08:18.495Z"
   },
   {
    "duration": 37,
    "start_time": "2022-01-28T18:08:54.374Z"
   },
   {
    "duration": 98,
    "start_time": "2022-01-28T18:08:54.414Z"
   },
   {
    "duration": 121,
    "start_time": "2022-01-28T18:08:54.514Z"
   },
   {
    "duration": 6,
    "start_time": "2022-01-28T18:08:54.637Z"
   },
   {
    "duration": 7,
    "start_time": "2022-01-28T18:08:54.645Z"
   },
   {
    "duration": 8,
    "start_time": "2022-01-28T18:08:54.654Z"
   },
   {
    "duration": 4,
    "start_time": "2022-01-29T10:07:00.745Z"
   },
   {
    "duration": 1217,
    "start_time": "2022-01-29T10:07:00.750Z"
   },
   {
    "duration": 768,
    "start_time": "2022-01-29T10:07:01.970Z"
   },
   {
    "duration": 20,
    "start_time": "2022-01-29T10:07:02.740Z"
   },
   {
    "duration": 2,
    "start_time": "2022-01-29T10:07:02.762Z"
   },
   {
    "duration": 17,
    "start_time": "2022-01-29T10:07:02.766Z"
   },
   {
    "duration": 24,
    "start_time": "2022-01-29T10:07:02.785Z"
   },
   {
    "duration": 5,
    "start_time": "2022-01-29T10:07:02.811Z"
   },
   {
    "duration": 16,
    "start_time": "2022-01-29T10:07:02.818Z"
   },
   {
    "duration": 34,
    "start_time": "2022-01-29T10:07:02.836Z"
   },
   {
    "duration": 11,
    "start_time": "2022-01-29T10:07:02.872Z"
   },
   {
    "duration": 16,
    "start_time": "2022-01-29T10:07:02.885Z"
   },
   {
    "duration": 20,
    "start_time": "2022-01-29T10:07:02.902Z"
   },
   {
    "duration": 4,
    "start_time": "2022-01-29T10:07:02.924Z"
   },
   {
    "duration": 73,
    "start_time": "2022-01-29T10:07:02.929Z"
   },
   {
    "duration": 6,
    "start_time": "2022-01-29T10:07:03.004Z"
   },
   {
    "duration": 9,
    "start_time": "2022-01-29T10:07:03.011Z"
   },
   {
    "duration": 7,
    "start_time": "2022-01-29T10:07:03.021Z"
   },
   {
    "duration": 35,
    "start_time": "2022-01-29T10:07:03.029Z"
   },
   {
    "duration": 53,
    "start_time": "2022-01-29T10:07:03.065Z"
   },
   {
    "duration": 60,
    "start_time": "2022-01-29T10:07:03.120Z"
   },
   {
    "duration": 11,
    "start_time": "2022-01-29T10:07:03.182Z"
   },
   {
    "duration": 14,
    "start_time": "2022-01-29T10:07:03.197Z"
   },
   {
    "duration": 15,
    "start_time": "2022-01-29T10:07:03.214Z"
   },
   {
    "duration": 36,
    "start_time": "2022-01-29T10:07:03.230Z"
   },
   {
    "duration": 11,
    "start_time": "2022-01-29T10:07:03.268Z"
   },
   {
    "duration": 11,
    "start_time": "2022-01-29T10:07:03.281Z"
   },
   {
    "duration": 2028,
    "start_time": "2022-01-29T10:07:03.294Z"
   },
   {
    "duration": 5,
    "start_time": "2022-01-29T10:07:05.324Z"
   },
   {
    "duration": 13,
    "start_time": "2022-01-29T10:07:05.330Z"
   },
   {
    "duration": 17,
    "start_time": "2022-01-29T10:07:05.344Z"
   },
   {
    "duration": 5,
    "start_time": "2022-01-29T10:07:05.363Z"
   },
   {
    "duration": 755,
    "start_time": "2022-01-29T10:07:05.369Z"
   },
   {
    "duration": 22,
    "start_time": "2022-01-29T10:07:06.125Z"
   },
   {
    "duration": 6,
    "start_time": "2022-01-29T10:07:06.159Z"
   },
   {
    "duration": 7,
    "start_time": "2022-01-29T10:07:06.166Z"
   },
   {
    "duration": 787,
    "start_time": "2022-01-29T10:07:06.175Z"
   },
   {
    "duration": 4,
    "start_time": "2022-01-29T10:07:06.963Z"
   },
   {
    "duration": 11,
    "start_time": "2022-01-29T10:07:06.968Z"
   },
   {
    "duration": 7,
    "start_time": "2022-01-29T10:07:06.980Z"
   },
   {
    "duration": 12,
    "start_time": "2022-01-29T10:07:06.989Z"
   },
   {
    "duration": 14,
    "start_time": "2022-01-29T10:07:07.003Z"
   },
   {
    "duration": 141,
    "start_time": "2022-01-29T10:07:07.019Z"
   },
   {
    "duration": 4,
    "start_time": "2022-01-29T10:07:07.162Z"
   },
   {
    "duration": 12,
    "start_time": "2022-01-29T10:07:07.168Z"
   },
   {
    "duration": 8,
    "start_time": "2022-01-29T10:07:07.181Z"
   },
   {
    "duration": 20,
    "start_time": "2022-01-29T10:07:07.190Z"
   },
   {
    "duration": 6,
    "start_time": "2022-01-29T10:07:07.212Z"
   },
   {
    "duration": 6,
    "start_time": "2022-01-29T10:07:07.220Z"
   },
   {
    "duration": 8,
    "start_time": "2022-01-29T10:07:07.227Z"
   },
   {
    "duration": 631,
    "start_time": "2022-01-29T10:07:07.237Z"
   },
   {
    "duration": 752,
    "start_time": "2022-01-29T10:07:07.960Z"
   },
   {
    "duration": 13238,
    "start_time": "2022-01-29T10:07:08.713Z"
   },
   {
    "duration": 108,
    "start_time": "2022-01-29T10:07:21.953Z"
   },
   {
    "duration": 1401,
    "start_time": "2022-01-29T10:07:22.063Z"
   },
   {
    "duration": 918,
    "start_time": "2022-01-29T10:07:23.467Z"
   },
   {
    "duration": 29788,
    "start_time": "2022-01-29T10:07:24.387Z"
   },
   {
    "duration": 8,
    "start_time": "2022-01-29T10:07:54.177Z"
   },
   {
    "duration": 102,
    "start_time": "2022-01-29T10:07:54.261Z"
   },
   {
    "duration": 33,
    "start_time": "2022-01-29T10:07:54.365Z"
   },
   {
    "duration": 4,
    "start_time": "2022-01-29T10:07:54.400Z"
   },
   {
    "duration": 7,
    "start_time": "2022-01-29T10:07:54.406Z"
   },
   {
    "duration": 6,
    "start_time": "2022-01-29T10:07:54.414Z"
   },
   {
    "duration": 279,
    "start_time": "2022-01-29T10:11:47.088Z"
   },
   {
    "duration": 6,
    "start_time": "2022-01-29T10:11:57.428Z"
   },
   {
    "duration": 6,
    "start_time": "2022-01-29T10:12:46.737Z"
   },
   {
    "duration": 4,
    "start_time": "2022-01-29T10:20:46.113Z"
   },
   {
    "duration": 176,
    "start_time": "2022-01-29T10:20:51.076Z"
   },
   {
    "duration": 183,
    "start_time": "2022-01-29T10:21:16.007Z"
   },
   {
    "duration": 190,
    "start_time": "2022-01-29T10:28:29.028Z"
   },
   {
    "duration": 3,
    "start_time": "2022-01-29T10:28:39.484Z"
   },
   {
    "duration": 1157,
    "start_time": "2022-01-29T10:28:39.488Z"
   },
   {
    "duration": 771,
    "start_time": "2022-01-29T10:28:40.647Z"
   },
   {
    "duration": 17,
    "start_time": "2022-01-29T10:28:41.420Z"
   },
   {
    "duration": 3,
    "start_time": "2022-01-29T10:28:41.438Z"
   },
   {
    "duration": 21,
    "start_time": "2022-01-29T10:28:41.443Z"
   },
   {
    "duration": 24,
    "start_time": "2022-01-29T10:28:41.467Z"
   },
   {
    "duration": 7,
    "start_time": "2022-01-29T10:28:41.493Z"
   },
   {
    "duration": 17,
    "start_time": "2022-01-29T10:28:41.502Z"
   },
   {
    "duration": 38,
    "start_time": "2022-01-29T10:28:41.521Z"
   },
   {
    "duration": 13,
    "start_time": "2022-01-29T10:28:41.561Z"
   },
   {
    "duration": 17,
    "start_time": "2022-01-29T10:28:41.576Z"
   },
   {
    "duration": 22,
    "start_time": "2022-01-29T10:28:41.594Z"
   },
   {
    "duration": 3,
    "start_time": "2022-01-29T10:28:41.619Z"
   },
   {
    "duration": 101,
    "start_time": "2022-01-29T10:28:41.624Z"
   },
   {
    "duration": 7,
    "start_time": "2022-01-29T10:28:41.727Z"
   },
   {
    "duration": 23,
    "start_time": "2022-01-29T10:28:41.736Z"
   },
   {
    "duration": 11,
    "start_time": "2022-01-29T10:28:41.761Z"
   },
   {
    "duration": 16,
    "start_time": "2022-01-29T10:28:41.776Z"
   },
   {
    "duration": 72,
    "start_time": "2022-01-29T10:28:41.796Z"
   },
   {
    "duration": 52,
    "start_time": "2022-01-29T10:28:41.870Z"
   },
   {
    "duration": 13,
    "start_time": "2022-01-29T10:28:41.925Z"
   },
   {
    "duration": 16,
    "start_time": "2022-01-29T10:28:41.959Z"
   },
   {
    "duration": 21,
    "start_time": "2022-01-29T10:28:41.978Z"
   },
   {
    "duration": 10,
    "start_time": "2022-01-29T10:28:42.001Z"
   },
   {
    "duration": 11,
    "start_time": "2022-01-29T10:28:42.013Z"
   },
   {
    "duration": 50,
    "start_time": "2022-01-29T10:28:42.026Z"
   },
   {
    "duration": 2118,
    "start_time": "2022-01-29T10:28:42.078Z"
   },
   {
    "duration": 7,
    "start_time": "2022-01-29T10:28:44.198Z"
   },
   {
    "duration": 7,
    "start_time": "2022-01-29T10:28:44.207Z"
   },
   {
    "duration": 7,
    "start_time": "2022-01-29T10:28:44.216Z"
   },
   {
    "duration": 7,
    "start_time": "2022-01-29T10:28:44.224Z"
   },
   {
    "duration": 755,
    "start_time": "2022-01-29T10:28:44.259Z"
   },
   {
    "duration": 23,
    "start_time": "2022-01-29T10:28:45.016Z"
   },
   {
    "duration": 24,
    "start_time": "2022-01-29T10:28:45.042Z"
   },
   {
    "duration": 11,
    "start_time": "2022-01-29T10:28:45.068Z"
   },
   {
    "duration": 822,
    "start_time": "2022-01-29T10:28:45.081Z"
   },
   {
    "duration": 7,
    "start_time": "2022-01-29T10:28:45.906Z"
   },
   {
    "duration": 5,
    "start_time": "2022-01-29T10:28:45.915Z"
   },
   {
    "duration": 12,
    "start_time": "2022-01-29T10:28:45.921Z"
   },
   {
    "duration": 25,
    "start_time": "2022-01-29T10:28:45.935Z"
   },
   {
    "duration": 13,
    "start_time": "2022-01-29T10:28:45.962Z"
   },
   {
    "duration": 13,
    "start_time": "2022-01-29T10:28:45.977Z"
   },
   {
    "duration": 145,
    "start_time": "2022-01-29T10:28:45.992Z"
   },
   {
    "duration": 6,
    "start_time": "2022-01-29T10:28:46.139Z"
   },
   {
    "duration": 23,
    "start_time": "2022-01-29T10:28:46.147Z"
   },
   {
    "duration": 10,
    "start_time": "2022-01-29T10:28:46.172Z"
   },
   {
    "duration": 8,
    "start_time": "2022-01-29T10:28:46.184Z"
   },
   {
    "duration": 6,
    "start_time": "2022-01-29T10:28:46.194Z"
   },
   {
    "duration": 8,
    "start_time": "2022-01-29T10:28:46.201Z"
   },
   {
    "duration": 8,
    "start_time": "2022-01-29T10:28:46.210Z"
   },
   {
    "duration": 546,
    "start_time": "2022-01-29T10:28:46.220Z"
   },
   {
    "duration": 830,
    "start_time": "2022-01-29T10:28:46.770Z"
   },
   {
    "duration": 13164,
    "start_time": "2022-01-29T10:28:47.602Z"
   },
   {
    "duration": 12,
    "start_time": "2022-01-29T10:29:00.770Z"
   },
   {
    "duration": 1298,
    "start_time": "2022-01-29T10:29:00.862Z"
   },
   {
    "duration": 803,
    "start_time": "2022-01-29T10:29:02.162Z"
   },
   {
    "duration": 30320,
    "start_time": "2022-01-29T10:29:02.967Z"
   },
   {
    "duration": 76,
    "start_time": "2022-01-29T10:29:33.288Z"
   },
   {
    "duration": 97,
    "start_time": "2022-01-29T10:29:33.367Z"
   },
   {
    "duration": 32,
    "start_time": "2022-01-29T10:29:33.466Z"
   },
   {
    "duration": 5,
    "start_time": "2022-01-29T10:29:33.500Z"
   },
   {
    "duration": 8,
    "start_time": "2022-01-29T10:29:33.506Z"
   },
   {
    "duration": 7,
    "start_time": "2022-01-29T10:29:33.516Z"
   },
   {
    "duration": 35,
    "start_time": "2022-01-29T10:29:33.525Z"
   },
   {
    "duration": 4,
    "start_time": "2022-01-29T10:37:44.582Z"
   },
   {
    "duration": 1142,
    "start_time": "2022-01-29T10:37:44.588Z"
   },
   {
    "duration": 723,
    "start_time": "2022-01-29T10:37:45.732Z"
   },
   {
    "duration": 15,
    "start_time": "2022-01-29T10:37:46.459Z"
   },
   {
    "duration": 3,
    "start_time": "2022-01-29T10:37:46.476Z"
   },
   {
    "duration": 10,
    "start_time": "2022-01-29T10:37:46.481Z"
   },
   {
    "duration": 20,
    "start_time": "2022-01-29T10:37:46.493Z"
   },
   {
    "duration": 6,
    "start_time": "2022-01-29T10:37:46.515Z"
   },
   {
    "duration": 36,
    "start_time": "2022-01-29T10:37:46.523Z"
   },
   {
    "duration": 11,
    "start_time": "2022-01-29T10:37:46.561Z"
   },
   {
    "duration": 10,
    "start_time": "2022-01-29T10:37:46.574Z"
   },
   {
    "duration": 9,
    "start_time": "2022-01-29T10:37:46.586Z"
   },
   {
    "duration": 23,
    "start_time": "2022-01-29T10:37:46.596Z"
   },
   {
    "duration": 4,
    "start_time": "2022-01-29T10:37:46.621Z"
   },
   {
    "duration": 84,
    "start_time": "2022-01-29T10:37:46.626Z"
   },
   {
    "duration": 6,
    "start_time": "2022-01-29T10:37:46.712Z"
   },
   {
    "duration": 11,
    "start_time": "2022-01-29T10:37:46.720Z"
   },
   {
    "duration": 26,
    "start_time": "2022-01-29T10:37:46.733Z"
   },
   {
    "duration": 17,
    "start_time": "2022-01-29T10:37:46.763Z"
   },
   {
    "duration": 49,
    "start_time": "2022-01-29T10:37:46.783Z"
   },
   {
    "duration": 67,
    "start_time": "2022-01-29T10:37:46.833Z"
   },
   {
    "duration": 12,
    "start_time": "2022-01-29T10:37:46.901Z"
   },
   {
    "duration": 14,
    "start_time": "2022-01-29T10:37:46.915Z"
   },
   {
    "duration": 40,
    "start_time": "2022-01-29T10:37:46.930Z"
   },
   {
    "duration": 11,
    "start_time": "2022-01-29T10:37:46.971Z"
   },
   {
    "duration": 16,
    "start_time": "2022-01-29T10:37:46.983Z"
   },
   {
    "duration": 14,
    "start_time": "2022-01-29T10:37:47.001Z"
   },
   {
    "duration": 2026,
    "start_time": "2022-01-29T10:37:47.016Z"
   },
   {
    "duration": 6,
    "start_time": "2022-01-29T10:37:49.044Z"
   },
   {
    "duration": 11,
    "start_time": "2022-01-29T10:37:49.051Z"
   },
   {
    "duration": 7,
    "start_time": "2022-01-29T10:37:49.064Z"
   },
   {
    "duration": 7,
    "start_time": "2022-01-29T10:37:49.072Z"
   },
   {
    "duration": 772,
    "start_time": "2022-01-29T10:37:49.080Z"
   },
   {
    "duration": 21,
    "start_time": "2022-01-29T10:37:49.854Z"
   },
   {
    "duration": 6,
    "start_time": "2022-01-29T10:37:49.877Z"
   },
   {
    "duration": 556,
    "start_time": "2022-01-29T10:37:49.885Z"
   },
   {
    "duration": -78,
    "start_time": "2022-01-29T10:37:50.522Z"
   },
   {
    "duration": -81,
    "start_time": "2022-01-29T10:37:50.526Z"
   },
   {
    "duration": -82,
    "start_time": "2022-01-29T10:37:50.529Z"
   },
   {
    "duration": -85,
    "start_time": "2022-01-29T10:37:50.532Z"
   },
   {
    "duration": -76,
    "start_time": "2022-01-29T10:37:50.535Z"
   },
   {
    "duration": -77,
    "start_time": "2022-01-29T10:37:50.537Z"
   },
   {
    "duration": -79,
    "start_time": "2022-01-29T10:37:50.541Z"
   },
   {
    "duration": -81,
    "start_time": "2022-01-29T10:37:50.545Z"
   },
   {
    "duration": -83,
    "start_time": "2022-01-29T10:37:50.548Z"
   },
   {
    "duration": -84,
    "start_time": "2022-01-29T10:37:50.551Z"
   },
   {
    "duration": -85,
    "start_time": "2022-01-29T10:37:50.553Z"
   },
   {
    "duration": -86,
    "start_time": "2022-01-29T10:37:50.556Z"
   },
   {
    "duration": -89,
    "start_time": "2022-01-29T10:37:50.560Z"
   },
   {
    "duration": -89,
    "start_time": "2022-01-29T10:37:50.562Z"
   },
   {
    "duration": -91,
    "start_time": "2022-01-29T10:37:50.565Z"
   },
   {
    "duration": -92,
    "start_time": "2022-01-29T10:37:50.568Z"
   },
   {
    "duration": -102,
    "start_time": "2022-01-29T10:37:50.579Z"
   },
   {
    "duration": -105,
    "start_time": "2022-01-29T10:37:50.584Z"
   },
   {
    "duration": -111,
    "start_time": "2022-01-29T10:37:50.591Z"
   },
   {
    "duration": -114,
    "start_time": "2022-01-29T10:37:50.596Z"
   },
   {
    "duration": -117,
    "start_time": "2022-01-29T10:37:50.600Z"
   },
   {
    "duration": -119,
    "start_time": "2022-01-29T10:37:50.603Z"
   },
   {
    "duration": -122,
    "start_time": "2022-01-29T10:37:50.608Z"
   },
   {
    "duration": -124,
    "start_time": "2022-01-29T10:37:50.611Z"
   },
   {
    "duration": -125,
    "start_time": "2022-01-29T10:37:50.614Z"
   },
   {
    "duration": -127,
    "start_time": "2022-01-29T10:37:50.617Z"
   },
   {
    "duration": -128,
    "start_time": "2022-01-29T10:37:50.620Z"
   },
   {
    "duration": 7,
    "start_time": "2022-01-29T10:38:18.127Z"
   },
   {
    "duration": 6,
    "start_time": "2022-01-29T10:38:19.134Z"
   },
   {
    "duration": 917,
    "start_time": "2022-01-29T10:38:26.772Z"
   },
   {
    "duration": 6,
    "start_time": "2022-01-29T10:38:52.549Z"
   },
   {
    "duration": 4,
    "start_time": "2022-01-29T10:40:14.814Z"
   },
   {
    "duration": 4,
    "start_time": "2022-01-29T10:40:22.504Z"
   },
   {
    "duration": 5,
    "start_time": "2022-01-29T11:34:20.496Z"
   },
   {
    "duration": 7,
    "start_time": "2022-01-29T11:34:37.591Z"
   },
   {
    "duration": 811,
    "start_time": "2022-01-29T11:35:05.477Z"
   },
   {
    "duration": 5,
    "start_time": "2022-01-29T12:13:46.632Z"
   },
   {
    "duration": 4,
    "start_time": "2022-01-29T12:13:48.759Z"
   },
   {
    "duration": 8,
    "start_time": "2022-01-29T12:14:02.613Z"
   },
   {
    "duration": 792,
    "start_time": "2022-01-29T12:14:05.201Z"
   },
   {
    "duration": 6,
    "start_time": "2022-01-29T12:15:20.960Z"
   },
   {
    "duration": 6,
    "start_time": "2022-01-29T12:16:26.701Z"
   },
   {
    "duration": 4,
    "start_time": "2022-01-29T12:16:52.991Z"
   },
   {
    "duration": 1150,
    "start_time": "2022-01-29T12:16:52.997Z"
   },
   {
    "duration": 736,
    "start_time": "2022-01-29T12:16:54.149Z"
   },
   {
    "duration": 15,
    "start_time": "2022-01-29T12:16:54.888Z"
   },
   {
    "duration": 2,
    "start_time": "2022-01-29T12:16:54.905Z"
   },
   {
    "duration": 13,
    "start_time": "2022-01-29T12:16:54.909Z"
   },
   {
    "duration": 39,
    "start_time": "2022-01-29T12:16:54.924Z"
   },
   {
    "duration": 5,
    "start_time": "2022-01-29T12:16:54.965Z"
   },
   {
    "duration": 13,
    "start_time": "2022-01-29T12:16:54.972Z"
   },
   {
    "duration": 19,
    "start_time": "2022-01-29T12:16:54.986Z"
   },
   {
    "duration": 16,
    "start_time": "2022-01-29T12:16:55.007Z"
   },
   {
    "duration": 12,
    "start_time": "2022-01-29T12:16:55.025Z"
   },
   {
    "duration": 46,
    "start_time": "2022-01-29T12:16:55.039Z"
   },
   {
    "duration": 9,
    "start_time": "2022-01-29T12:16:55.087Z"
   },
   {
    "duration": 65,
    "start_time": "2022-01-29T12:16:55.097Z"
   },
   {
    "duration": 8,
    "start_time": "2022-01-29T12:16:55.164Z"
   },
   {
    "duration": 13,
    "start_time": "2022-01-29T12:16:55.173Z"
   },
   {
    "duration": 15,
    "start_time": "2022-01-29T12:16:55.187Z"
   },
   {
    "duration": 17,
    "start_time": "2022-01-29T12:16:55.206Z"
   },
   {
    "duration": 67,
    "start_time": "2022-01-29T12:16:55.226Z"
   },
   {
    "duration": 39,
    "start_time": "2022-01-29T12:16:55.294Z"
   },
   {
    "duration": 28,
    "start_time": "2022-01-29T12:16:55.335Z"
   },
   {
    "duration": 17,
    "start_time": "2022-01-29T12:16:55.365Z"
   },
   {
    "duration": 17,
    "start_time": "2022-01-29T12:16:55.384Z"
   },
   {
    "duration": 9,
    "start_time": "2022-01-29T12:16:55.403Z"
   },
   {
    "duration": 12,
    "start_time": "2022-01-29T12:16:55.414Z"
   },
   {
    "duration": 38,
    "start_time": "2022-01-29T12:16:55.428Z"
   },
   {
    "duration": 2075,
    "start_time": "2022-01-29T12:16:55.467Z"
   },
   {
    "duration": 16,
    "start_time": "2022-01-29T12:16:57.544Z"
   },
   {
    "duration": 8,
    "start_time": "2022-01-29T12:16:57.562Z"
   },
   {
    "duration": 8,
    "start_time": "2022-01-29T12:16:57.572Z"
   },
   {
    "duration": 5,
    "start_time": "2022-01-29T12:16:57.582Z"
   },
   {
    "duration": 783,
    "start_time": "2022-01-29T12:16:57.589Z"
   },
   {
    "duration": 23,
    "start_time": "2022-01-29T12:16:58.373Z"
   },
   {
    "duration": 5,
    "start_time": "2022-01-29T12:16:58.398Z"
   },
   {
    "duration": 15,
    "start_time": "2022-01-29T12:16:58.405Z"
   },
   {
    "duration": 822,
    "start_time": "2022-01-29T12:16:58.422Z"
   },
   {
    "duration": 13,
    "start_time": "2022-01-29T12:16:59.246Z"
   },
   {
    "duration": 13,
    "start_time": "2022-01-29T12:16:59.261Z"
   },
   {
    "duration": 9,
    "start_time": "2022-01-29T12:16:59.275Z"
   },
   {
    "duration": 13,
    "start_time": "2022-01-29T12:16:59.286Z"
   },
   {
    "duration": 8,
    "start_time": "2022-01-29T12:16:59.301Z"
   },
   {
    "duration": 17,
    "start_time": "2022-01-29T12:16:59.311Z"
   },
   {
    "duration": 20,
    "start_time": "2022-01-29T12:16:59.329Z"
   },
   {
    "duration": 16,
    "start_time": "2022-01-29T12:16:59.352Z"
   },
   {
    "duration": 12,
    "start_time": "2022-01-29T12:16:59.369Z"
   },
   {
    "duration": 950,
    "start_time": "2022-01-29T12:16:59.382Z"
   },
   {
    "duration": 4,
    "start_time": "2022-01-29T12:17:00.334Z"
   },
   {
    "duration": 26,
    "start_time": "2022-01-29T12:17:00.340Z"
   },
   {
    "duration": 18,
    "start_time": "2022-01-29T12:17:00.368Z"
   },
   {
    "duration": 29,
    "start_time": "2022-01-29T12:17:00.388Z"
   },
   {
    "duration": 21,
    "start_time": "2022-01-29T12:17:00.419Z"
   },
   {
    "duration": 6,
    "start_time": "2022-01-29T12:17:00.443Z"
   },
   {
    "duration": 13,
    "start_time": "2022-01-29T12:17:00.451Z"
   },
   {
    "duration": 12,
    "start_time": "2022-01-29T12:17:00.470Z"
   },
   {
    "duration": 18,
    "start_time": "2022-01-29T12:17:00.484Z"
   },
   {
    "duration": 9,
    "start_time": "2022-01-29T12:17:00.504Z"
   },
   {
    "duration": 23,
    "start_time": "2022-01-29T12:17:00.514Z"
   },
   {
    "duration": 29,
    "start_time": "2022-01-29T12:17:00.539Z"
   },
   {
    "duration": 18,
    "start_time": "2022-01-29T12:17:00.570Z"
   },
   {
    "duration": 976,
    "start_time": "2022-01-29T12:17:00.590Z"
   },
   {
    "duration": 789,
    "start_time": "2022-01-29T12:17:01.570Z"
   },
   {
    "duration": 13348,
    "start_time": "2022-01-29T12:17:02.360Z"
   },
   {
    "duration": 55,
    "start_time": "2022-01-29T12:17:15.709Z"
   },
   {
    "duration": 1495,
    "start_time": "2022-01-29T12:17:15.766Z"
   },
   {
    "duration": 884,
    "start_time": "2022-01-29T12:17:17.263Z"
   },
   {
    "duration": 30424,
    "start_time": "2022-01-29T12:17:18.149Z"
   },
   {
    "duration": 8,
    "start_time": "2022-01-29T12:17:48.575Z"
   },
   {
    "duration": 106,
    "start_time": "2022-01-29T12:17:48.660Z"
   },
   {
    "duration": 32,
    "start_time": "2022-01-29T12:17:48.767Z"
   },
   {
    "duration": 6,
    "start_time": "2022-01-29T12:17:48.801Z"
   },
   {
    "duration": 7,
    "start_time": "2022-01-29T12:17:48.808Z"
   },
   {
    "duration": 14,
    "start_time": "2022-01-29T12:17:48.817Z"
   },
   {
    "duration": 4,
    "start_time": "2022-01-29T13:06:57.131Z"
   },
   {
    "duration": 9,
    "start_time": "2022-01-29T13:11:28.346Z"
   },
   {
    "duration": 6,
    "start_time": "2022-01-29T13:12:13.619Z"
   },
   {
    "duration": 4,
    "start_time": "2022-01-29T13:13:48.919Z"
   },
   {
    "duration": 6,
    "start_time": "2022-01-29T13:13:49.721Z"
   },
   {
    "duration": 14,
    "start_time": "2022-01-29T13:18:19.799Z"
   },
   {
    "duration": 27,
    "start_time": "2022-01-29T13:20:43.167Z"
   },
   {
    "duration": 4,
    "start_time": "2022-01-29T13:24:09.785Z"
   },
   {
    "duration": 1138,
    "start_time": "2022-01-29T13:24:09.790Z"
   },
   {
    "duration": 756,
    "start_time": "2022-01-29T13:24:10.930Z"
   },
   {
    "duration": 17,
    "start_time": "2022-01-29T13:24:11.687Z"
   },
   {
    "duration": 3,
    "start_time": "2022-01-29T13:24:11.706Z"
   },
   {
    "duration": 9,
    "start_time": "2022-01-29T13:24:11.710Z"
   },
   {
    "duration": 43,
    "start_time": "2022-01-29T13:24:11.721Z"
   },
   {
    "duration": 6,
    "start_time": "2022-01-29T13:24:11.766Z"
   },
   {
    "duration": 12,
    "start_time": "2022-01-29T13:24:11.773Z"
   },
   {
    "duration": 21,
    "start_time": "2022-01-29T13:24:11.787Z"
   },
   {
    "duration": 11,
    "start_time": "2022-01-29T13:24:11.810Z"
   },
   {
    "duration": 8,
    "start_time": "2022-01-29T13:24:11.823Z"
   },
   {
    "duration": 45,
    "start_time": "2022-01-29T13:24:11.833Z"
   },
   {
    "duration": 4,
    "start_time": "2022-01-29T13:24:11.880Z"
   },
   {
    "duration": 86,
    "start_time": "2022-01-29T13:24:11.886Z"
   },
   {
    "duration": 17,
    "start_time": "2022-01-29T13:24:11.974Z"
   },
   {
    "duration": 11,
    "start_time": "2022-01-29T13:24:11.993Z"
   },
   {
    "duration": 4,
    "start_time": "2022-01-29T13:24:12.006Z"
   },
   {
    "duration": 23,
    "start_time": "2022-01-29T13:24:12.014Z"
   },
   {
    "duration": 66,
    "start_time": "2022-01-29T13:24:12.039Z"
   },
   {
    "duration": 63,
    "start_time": "2022-01-29T13:24:12.107Z"
   },
   {
    "duration": 11,
    "start_time": "2022-01-29T13:24:12.172Z"
   },
   {
    "duration": 14,
    "start_time": "2022-01-29T13:24:12.184Z"
   },
   {
    "duration": 13,
    "start_time": "2022-01-29T13:24:12.200Z"
   },
   {
    "duration": 9,
    "start_time": "2022-01-29T13:24:12.215Z"
   },
   {
    "duration": 40,
    "start_time": "2022-01-29T13:24:12.225Z"
   },
   {
    "duration": 17,
    "start_time": "2022-01-29T13:24:12.267Z"
   },
   {
    "duration": 1992,
    "start_time": "2022-01-29T13:24:12.286Z"
   },
   {
    "duration": 5,
    "start_time": "2022-01-29T13:24:14.280Z"
   },
   {
    "duration": 9,
    "start_time": "2022-01-29T13:24:14.286Z"
   },
   {
    "duration": 9,
    "start_time": "2022-01-29T13:24:14.296Z"
   },
   {
    "duration": 6,
    "start_time": "2022-01-29T13:24:14.307Z"
   },
   {
    "duration": 756,
    "start_time": "2022-01-29T13:24:14.315Z"
   },
   {
    "duration": 20,
    "start_time": "2022-01-29T13:24:15.073Z"
   },
   {
    "duration": 6,
    "start_time": "2022-01-29T13:24:15.095Z"
   },
   {
    "duration": 6,
    "start_time": "2022-01-29T13:24:15.103Z"
   },
   {
    "duration": 841,
    "start_time": "2022-01-29T13:24:15.111Z"
   },
   {
    "duration": 8,
    "start_time": "2022-01-29T13:24:15.954Z"
   },
   {
    "duration": 8,
    "start_time": "2022-01-29T13:24:15.963Z"
   },
   {
    "duration": 3,
    "start_time": "2022-01-29T13:24:15.973Z"
   },
   {
    "duration": 6,
    "start_time": "2022-01-29T13:24:15.978Z"
   },
   {
    "duration": 5,
    "start_time": "2022-01-29T13:24:15.985Z"
   },
   {
    "duration": 7,
    "start_time": "2022-01-29T13:24:15.992Z"
   },
   {
    "duration": 6,
    "start_time": "2022-01-29T13:24:16.000Z"
   },
   {
    "duration": 9,
    "start_time": "2022-01-29T13:24:16.008Z"
   },
   {
    "duration": 6,
    "start_time": "2022-01-29T13:24:16.019Z"
   },
   {
    "duration": 921,
    "start_time": "2022-01-29T13:24:16.060Z"
   },
   {
    "duration": 4,
    "start_time": "2022-01-29T13:24:16.982Z"
   },
   {
    "duration": 13,
    "start_time": "2022-01-29T13:24:16.987Z"
   },
   {
    "duration": 9,
    "start_time": "2022-01-29T13:24:17.001Z"
   },
   {
    "duration": 17,
    "start_time": "2022-01-29T13:24:17.012Z"
   },
   {
    "duration": 28,
    "start_time": "2022-01-29T13:24:17.031Z"
   },
   {
    "duration": 4,
    "start_time": "2022-01-29T13:24:17.061Z"
   },
   {
    "duration": 7,
    "start_time": "2022-01-29T13:24:17.067Z"
   },
   {
    "duration": 14,
    "start_time": "2022-01-29T13:24:17.079Z"
   },
   {
    "duration": 8,
    "start_time": "2022-01-29T13:24:17.095Z"
   },
   {
    "duration": 7,
    "start_time": "2022-01-29T13:24:17.104Z"
   },
   {
    "duration": 4,
    "start_time": "2022-01-29T13:24:17.113Z"
   },
   {
    "duration": 8,
    "start_time": "2022-01-29T13:24:17.118Z"
   },
   {
    "duration": 5,
    "start_time": "2022-01-29T13:24:17.127Z"
   },
   {
    "duration": 633,
    "start_time": "2022-01-29T13:24:17.134Z"
   },
   {
    "duration": 747,
    "start_time": "2022-01-29T13:24:17.859Z"
   },
   {
    "duration": 13187,
    "start_time": "2022-01-29T13:24:18.608Z"
   },
   {
    "duration": 63,
    "start_time": "2022-01-29T13:24:31.796Z"
   },
   {
    "duration": 1503,
    "start_time": "2022-01-29T13:24:31.864Z"
   },
   {
    "duration": 905,
    "start_time": "2022-01-29T13:24:33.461Z"
   },
   {
    "duration": 30040,
    "start_time": "2022-01-29T13:24:34.368Z"
   },
   {
    "duration": 58,
    "start_time": "2022-01-29T13:25:04.410Z"
   },
   {
    "duration": 312,
    "start_time": "2022-01-29T13:25:04.558Z"
   },
   {
    "duration": -54,
    "start_time": "2022-01-29T13:25:04.926Z"
   },
   {
    "duration": -70,
    "start_time": "2022-01-29T13:25:04.943Z"
   },
   {
    "duration": -73,
    "start_time": "2022-01-29T13:25:04.947Z"
   },
   {
    "duration": -75,
    "start_time": "2022-01-29T13:25:04.950Z"
   },
   {
    "duration": -78,
    "start_time": "2022-01-29T13:25:04.954Z"
   },
   {
    "duration": -80,
    "start_time": "2022-01-29T13:25:04.957Z"
   },
   {
    "duration": -82,
    "start_time": "2022-01-29T13:25:04.960Z"
   },
   {
    "duration": 13,
    "start_time": "2022-01-29T13:26:15.298Z"
   },
   {
    "duration": 13,
    "start_time": "2022-01-29T13:28:15.984Z"
   },
   {
    "duration": 3,
    "start_time": "2022-01-29T13:28:21.472Z"
   },
   {
    "duration": 1164,
    "start_time": "2022-01-29T13:28:21.477Z"
   },
   {
    "duration": 758,
    "start_time": "2022-01-29T13:28:22.643Z"
   },
   {
    "duration": 16,
    "start_time": "2022-01-29T13:28:23.405Z"
   },
   {
    "duration": 3,
    "start_time": "2022-01-29T13:28:23.422Z"
   },
   {
    "duration": 8,
    "start_time": "2022-01-29T13:28:23.426Z"
   },
   {
    "duration": 41,
    "start_time": "2022-01-29T13:28:23.436Z"
   },
   {
    "duration": 5,
    "start_time": "2022-01-29T13:28:23.479Z"
   },
   {
    "duration": 14,
    "start_time": "2022-01-29T13:28:23.485Z"
   },
   {
    "duration": 13,
    "start_time": "2022-01-29T13:28:23.501Z"
   },
   {
    "duration": 10,
    "start_time": "2022-01-29T13:28:23.516Z"
   },
   {
    "duration": 39,
    "start_time": "2022-01-29T13:28:23.528Z"
   },
   {
    "duration": 22,
    "start_time": "2022-01-29T13:28:23.569Z"
   },
   {
    "duration": 4,
    "start_time": "2022-01-29T13:28:23.592Z"
   },
   {
    "duration": 86,
    "start_time": "2022-01-29T13:28:23.598Z"
   },
   {
    "duration": 8,
    "start_time": "2022-01-29T13:28:23.687Z"
   },
   {
    "duration": 10,
    "start_time": "2022-01-29T13:28:23.697Z"
   },
   {
    "duration": 4,
    "start_time": "2022-01-29T13:28:23.709Z"
   },
   {
    "duration": 46,
    "start_time": "2022-01-29T13:28:23.715Z"
   },
   {
    "duration": 50,
    "start_time": "2022-01-29T13:28:23.763Z"
   },
   {
    "duration": 57,
    "start_time": "2022-01-29T13:28:23.815Z"
   },
   {
    "duration": 13,
    "start_time": "2022-01-29T13:28:23.875Z"
   },
   {
    "duration": 14,
    "start_time": "2022-01-29T13:28:23.891Z"
   },
   {
    "duration": 13,
    "start_time": "2022-01-29T13:28:23.907Z"
   },
   {
    "duration": 9,
    "start_time": "2022-01-29T13:28:23.922Z"
   },
   {
    "duration": 11,
    "start_time": "2022-01-29T13:28:23.959Z"
   },
   {
    "duration": 14,
    "start_time": "2022-01-29T13:28:23.972Z"
   },
   {
    "duration": 2082,
    "start_time": "2022-01-29T13:28:23.987Z"
   },
   {
    "duration": 5,
    "start_time": "2022-01-29T13:28:26.071Z"
   },
   {
    "duration": 9,
    "start_time": "2022-01-29T13:28:26.077Z"
   },
   {
    "duration": 6,
    "start_time": "2022-01-29T13:28:26.088Z"
   },
   {
    "duration": 8,
    "start_time": "2022-01-29T13:28:26.096Z"
   },
   {
    "duration": 758,
    "start_time": "2022-01-29T13:28:26.106Z"
   },
   {
    "duration": 24,
    "start_time": "2022-01-29T13:28:26.866Z"
   },
   {
    "duration": 7,
    "start_time": "2022-01-29T13:28:26.893Z"
   },
   {
    "duration": 18,
    "start_time": "2022-01-29T13:28:26.902Z"
   },
   {
    "duration": 827,
    "start_time": "2022-01-29T13:28:26.923Z"
   },
   {
    "duration": 11,
    "start_time": "2022-01-29T13:28:27.752Z"
   },
   {
    "duration": 8,
    "start_time": "2022-01-29T13:28:27.764Z"
   },
   {
    "duration": 4,
    "start_time": "2022-01-29T13:28:27.773Z"
   },
   {
    "duration": 6,
    "start_time": "2022-01-29T13:28:27.779Z"
   },
   {
    "duration": 5,
    "start_time": "2022-01-29T13:28:27.787Z"
   },
   {
    "duration": 5,
    "start_time": "2022-01-29T13:28:27.794Z"
   },
   {
    "duration": 5,
    "start_time": "2022-01-29T13:28:27.801Z"
   },
   {
    "duration": 9,
    "start_time": "2022-01-29T13:28:27.807Z"
   },
   {
    "duration": 5,
    "start_time": "2022-01-29T13:28:27.818Z"
   },
   {
    "duration": 922,
    "start_time": "2022-01-29T13:28:27.825Z"
   },
   {
    "duration": 3,
    "start_time": "2022-01-29T13:28:28.749Z"
   },
   {
    "duration": 5,
    "start_time": "2022-01-29T13:28:28.758Z"
   },
   {
    "duration": 8,
    "start_time": "2022-01-29T13:28:28.765Z"
   },
   {
    "duration": 11,
    "start_time": "2022-01-29T13:28:28.775Z"
   },
   {
    "duration": 12,
    "start_time": "2022-01-29T13:28:28.788Z"
   },
   {
    "duration": 4,
    "start_time": "2022-01-29T13:28:28.802Z"
   },
   {
    "duration": 5,
    "start_time": "2022-01-29T13:28:28.807Z"
   },
   {
    "duration": 46,
    "start_time": "2022-01-29T13:28:28.813Z"
   },
   {
    "duration": 7,
    "start_time": "2022-01-29T13:28:28.861Z"
   },
   {
    "duration": 6,
    "start_time": "2022-01-29T13:28:28.870Z"
   },
   {
    "duration": 5,
    "start_time": "2022-01-29T13:28:28.877Z"
   },
   {
    "duration": 7,
    "start_time": "2022-01-29T13:28:28.883Z"
   },
   {
    "duration": 5,
    "start_time": "2022-01-29T13:28:28.891Z"
   },
   {
    "duration": 1070,
    "start_time": "2022-01-29T13:28:28.897Z"
   },
   {
    "duration": 723,
    "start_time": "2022-01-29T13:28:30.060Z"
   },
   {
    "duration": 13105,
    "start_time": "2022-01-29T13:28:30.785Z"
   },
   {
    "duration": 68,
    "start_time": "2022-01-29T13:28:43.891Z"
   },
   {
    "duration": 1699,
    "start_time": "2022-01-29T13:28:43.962Z"
   },
   {
    "duration": 906,
    "start_time": "2022-01-29T13:28:45.664Z"
   },
   {
    "duration": 30217,
    "start_time": "2022-01-29T13:28:46.575Z"
   },
   {
    "duration": 9,
    "start_time": "2022-01-29T13:29:16.795Z"
   },
   {
    "duration": 109,
    "start_time": "2022-01-29T13:29:16.863Z"
   },
   {
    "duration": 8,
    "start_time": "2022-01-29T13:29:16.974Z"
   },
   {
    "duration": 29,
    "start_time": "2022-01-29T13:29:16.984Z"
   },
   {
    "duration": 4,
    "start_time": "2022-01-29T13:29:17.015Z"
   },
   {
    "duration": 10,
    "start_time": "2022-01-29T13:29:17.021Z"
   },
   {
    "duration": 29,
    "start_time": "2022-01-29T13:29:17.033Z"
   },
   {
    "duration": 4,
    "start_time": "2022-01-29T13:29:17.063Z"
   },
   {
    "duration": 9,
    "start_time": "2022-01-29T13:29:17.068Z"
   },
   {
    "duration": 3,
    "start_time": "2022-01-29T13:37:48.691Z"
   },
   {
    "duration": 1158,
    "start_time": "2022-01-29T13:37:48.696Z"
   },
   {
    "duration": 766,
    "start_time": "2022-01-29T13:37:49.857Z"
   },
   {
    "duration": 17,
    "start_time": "2022-01-29T13:37:50.625Z"
   },
   {
    "duration": 16,
    "start_time": "2022-01-29T13:37:50.643Z"
   },
   {
    "duration": 11,
    "start_time": "2022-01-29T13:37:50.661Z"
   },
   {
    "duration": 25,
    "start_time": "2022-01-29T13:37:50.675Z"
   },
   {
    "duration": 6,
    "start_time": "2022-01-29T13:37:50.702Z"
   },
   {
    "duration": 24,
    "start_time": "2022-01-29T13:37:50.709Z"
   },
   {
    "duration": 28,
    "start_time": "2022-01-29T13:37:50.735Z"
   },
   {
    "duration": 12,
    "start_time": "2022-01-29T13:37:50.765Z"
   },
   {
    "duration": 15,
    "start_time": "2022-01-29T13:37:50.779Z"
   },
   {
    "duration": 26,
    "start_time": "2022-01-29T13:37:50.796Z"
   },
   {
    "duration": 4,
    "start_time": "2022-01-29T13:37:50.823Z"
   },
   {
    "duration": 86,
    "start_time": "2022-01-29T13:37:50.829Z"
   },
   {
    "duration": 6,
    "start_time": "2022-01-29T13:37:50.917Z"
   },
   {
    "duration": 10,
    "start_time": "2022-01-29T13:37:50.925Z"
   },
   {
    "duration": 4,
    "start_time": "2022-01-29T13:37:50.937Z"
   },
   {
    "duration": 18,
    "start_time": "2022-01-29T13:37:50.961Z"
   },
   {
    "duration": 52,
    "start_time": "2022-01-29T13:37:50.982Z"
   },
   {
    "duration": 60,
    "start_time": "2022-01-29T13:37:51.036Z"
   },
   {
    "duration": 11,
    "start_time": "2022-01-29T13:37:51.098Z"
   },
   {
    "duration": 14,
    "start_time": "2022-01-29T13:37:51.111Z"
   },
   {
    "duration": 39,
    "start_time": "2022-01-29T13:37:51.127Z"
   },
   {
    "duration": 10,
    "start_time": "2022-01-29T13:37:51.168Z"
   },
   {
    "duration": 17,
    "start_time": "2022-01-29T13:37:51.180Z"
   },
   {
    "duration": 20,
    "start_time": "2022-01-29T13:37:51.198Z"
   },
   {
    "duration": 2053,
    "start_time": "2022-01-29T13:37:51.220Z"
   },
   {
    "duration": 7,
    "start_time": "2022-01-29T13:37:53.275Z"
   },
   {
    "duration": 6,
    "start_time": "2022-01-29T13:37:53.284Z"
   },
   {
    "duration": 8,
    "start_time": "2022-01-29T13:37:53.292Z"
   },
   {
    "duration": 6,
    "start_time": "2022-01-29T13:37:53.302Z"
   },
   {
    "duration": 783,
    "start_time": "2022-01-29T13:37:53.310Z"
   },
   {
    "duration": 25,
    "start_time": "2022-01-29T13:37:54.096Z"
   },
   {
    "duration": 7,
    "start_time": "2022-01-29T13:37:54.124Z"
   },
   {
    "duration": 30,
    "start_time": "2022-01-29T13:37:54.133Z"
   },
   {
    "duration": 812,
    "start_time": "2022-01-29T13:37:54.165Z"
   },
   {
    "duration": 7,
    "start_time": "2022-01-29T13:37:54.979Z"
   },
   {
    "duration": 6,
    "start_time": "2022-01-29T13:37:54.989Z"
   },
   {
    "duration": 5,
    "start_time": "2022-01-29T13:37:54.997Z"
   },
   {
    "duration": 12,
    "start_time": "2022-01-29T13:37:55.004Z"
   },
   {
    "duration": 6,
    "start_time": "2022-01-29T13:37:55.018Z"
   },
   {
    "duration": 39,
    "start_time": "2022-01-29T13:37:55.025Z"
   },
   {
    "duration": 8,
    "start_time": "2022-01-29T13:37:55.066Z"
   },
   {
    "duration": 9,
    "start_time": "2022-01-29T13:37:55.075Z"
   },
   {
    "duration": 8,
    "start_time": "2022-01-29T13:37:55.086Z"
   },
   {
    "duration": 934,
    "start_time": "2022-01-29T13:37:55.096Z"
   },
   {
    "duration": 5,
    "start_time": "2022-01-29T13:37:56.032Z"
   },
   {
    "duration": 20,
    "start_time": "2022-01-29T13:37:56.039Z"
   },
   {
    "duration": 13,
    "start_time": "2022-01-29T13:37:56.062Z"
   },
   {
    "duration": 15,
    "start_time": "2022-01-29T13:37:56.077Z"
   },
   {
    "duration": 14,
    "start_time": "2022-01-29T13:37:56.094Z"
   },
   {
    "duration": 3,
    "start_time": "2022-01-29T13:37:56.110Z"
   },
   {
    "duration": 7,
    "start_time": "2022-01-29T13:37:56.115Z"
   },
   {
    "duration": 37,
    "start_time": "2022-01-29T13:37:56.126Z"
   },
   {
    "duration": 8,
    "start_time": "2022-01-29T13:37:56.165Z"
   },
   {
    "duration": 21,
    "start_time": "2022-01-29T13:37:56.175Z"
   },
   {
    "duration": 5,
    "start_time": "2022-01-29T13:37:56.198Z"
   },
   {
    "duration": 8,
    "start_time": "2022-01-29T13:37:56.205Z"
   },
   {
    "duration": 5,
    "start_time": "2022-01-29T13:37:56.215Z"
   },
   {
    "duration": 638,
    "start_time": "2022-01-29T13:37:56.222Z"
   },
   {
    "duration": 760,
    "start_time": "2022-01-29T13:37:56.862Z"
   },
   {
    "duration": 13269,
    "start_time": "2022-01-29T13:37:57.624Z"
   },
   {
    "duration": 63,
    "start_time": "2022-01-29T13:38:10.896Z"
   },
   {
    "duration": 1304,
    "start_time": "2022-01-29T13:38:10.963Z"
   },
   {
    "duration": 929,
    "start_time": "2022-01-29T13:38:12.269Z"
   },
   {
    "duration": 30190,
    "start_time": "2022-01-29T13:38:13.200Z"
   },
   {
    "duration": 73,
    "start_time": "2022-01-29T13:38:43.392Z"
   },
   {
    "duration": 196,
    "start_time": "2022-01-29T13:38:43.468Z"
   },
   {
    "duration": 16,
    "start_time": "2022-01-29T13:38:43.665Z"
   },
   {
    "duration": 36,
    "start_time": "2022-01-29T13:38:43.683Z"
   },
   {
    "duration": 5,
    "start_time": "2022-01-29T13:38:43.721Z"
   },
   {
    "duration": 22,
    "start_time": "2022-01-29T13:38:43.728Z"
   },
   {
    "duration": 7,
    "start_time": "2022-01-29T13:38:43.759Z"
   },
   {
    "duration": 104,
    "start_time": "2022-01-30T11:54:51.807Z"
   }
  ],
  "kernelspec": {
   "display_name": "Python 3",
   "language": "python",
   "name": "python3"
  },
  "language_info": {
   "codemirror_mode": {
    "name": "ipython",
    "version": 3
   },
   "file_extension": ".py",
   "mimetype": "text/x-python",
   "name": "python",
   "nbconvert_exporter": "python",
   "pygments_lexer": "ipython3",
   "version": "3.8.8"
  },
  "toc": {
   "base_numbering": 1,
   "nav_menu": {},
   "number_sections": true,
   "sideBar": true,
   "skip_h1_title": true,
   "title_cell": "Содержание",
   "title_sidebar": "Contents",
   "toc_cell": true,
   "toc_position": {
    "height": "calc(100% - 180px)",
    "left": "10px",
    "top": "150px",
    "width": "289.6px"
   },
   "toc_section_display": true,
   "toc_window_display": true
  }
 },
 "nbformat": 4,
 "nbformat_minor": 2
}

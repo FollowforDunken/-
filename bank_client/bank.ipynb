{
 "cells": [
  {
   "cell_type": "markdown",
   "metadata": {
    "toc": true
   },
   "source": [
    "<h1>Содержание<span class=\"tocSkip\"></span></h1>\n",
    "<div></ul></li><li><span><a href=\"#Подготовка-данных\" data-toc-modified-id=\"Подготовка-данных-1\"><span class=\"toc-item-num\">1&nbsp;&nbsp;</span>Подготовка данных</a></span></li><li><span><a href=\"#Исследование-задачи\" data-toc-modified-id=\"Исследование-задачи-2\"><span class=\"toc-item-num\">2&nbsp;&nbsp;</span>Исследование задачи</a></span></li><li><span><a href=\"#Борьба-с-дисбалансом\" data-toc-modified-id=\"Борьба-с-дисбалансом-3\"><span class=\"toc-item-num\">3&nbsp;&nbsp;</span>Борьба с дисбалансом</a></span></li><li><span><a href=\"#Тестирование-модели\" data-toc-modified-id=\"Тестирование-модели-4\"><span class=\"toc-item-num\">4&nbsp;&nbsp;</span>Тестирование модели</a></span>\n",
    "</div>"
   ]
  },
  {
   "cell_type": "markdown",
   "metadata": {},
   "source": [
    "# Отток клиентов"
   ]
  },
  {
   "cell_type": "markdown",
   "metadata": {},
   "source": [
    "Из «Бета-Банка» стали уходить клиенты. Каждый месяц. Немного, но заметно. Банковские маркетологи посчитали: сохранять текущих клиентов дешевле, чем привлекать новых.\n",
    "\n",
    "Нужно спрогнозировать, уйдёт клиент из банка в ближайшее время или нет. Вам предоставлены исторические данные о поведении клиентов и расторжении договоров с банком. \n",
    "\n",
    "Построим модель с предельно большим значением *F1*-меры. Критерии для метрики F1 >= 0.59.\n"
   ]
  },
  {
   "cell_type": "markdown",
   "metadata": {},
   "source": [
    "## Подготовка данных"
   ]
  },
  {
   "cell_type": "code",
   "execution_count": 1,
   "metadata": {},
   "outputs": [],
   "source": [
    "import warnings\n",
    "warnings.filterwarnings('ignore')"
   ]
  },
  {
   "cell_type": "code",
   "execution_count": 2,
   "metadata": {},
   "outputs": [],
   "source": [
    "import pandas as pd\n",
    "from sklearn.ensemble import RandomForestRegressor\n",
    "from sklearn.ensemble import RandomForestClassifier\n",
    "from sklearn.model_selection import train_test_split\n",
    "from sklearn.metrics import mean_squared_error\n",
    "from sklearn.linear_model import LogisticRegression\n",
    "from sklearn.metrics import accuracy_score\n",
    "from sklearn.tree import DecisionTreeClassifier\n",
    "from sklearn.metrics import f1_score\n",
    "from sklearn.preprocessing import StandardScaler\n",
    "from sklearn.metrics import roc_auc_score \n",
    "from sklearn.metrics import roc_curve \n",
    "import matplotlib.pyplot as plt\n",
    "from sklearn.utils import shuffle"
   ]
  },
  {
   "cell_type": "code",
   "execution_count": 3,
   "metadata": {},
   "outputs": [],
   "source": [
    "data = pd.read_csv('/datasets/Churn.csv')"
   ]
  },
  {
   "cell_type": "code",
   "execution_count": 4,
   "metadata": {},
   "outputs": [
    {
     "data": {
      "text/html": [
       "<div>\n",
       "<style scoped>\n",
       "    .dataframe tbody tr th:only-of-type {\n",
       "        vertical-align: middle;\n",
       "    }\n",
       "\n",
       "    .dataframe tbody tr th {\n",
       "        vertical-align: top;\n",
       "    }\n",
       "\n",
       "    .dataframe thead th {\n",
       "        text-align: right;\n",
       "    }\n",
       "</style>\n",
       "<table border=\"1\" class=\"dataframe\">\n",
       "  <thead>\n",
       "    <tr style=\"text-align: right;\">\n",
       "      <th></th>\n",
       "      <th>RowNumber</th>\n",
       "      <th>CustomerId</th>\n",
       "      <th>Surname</th>\n",
       "      <th>CreditScore</th>\n",
       "      <th>Geography</th>\n",
       "      <th>Gender</th>\n",
       "      <th>Age</th>\n",
       "      <th>Tenure</th>\n",
       "      <th>Balance</th>\n",
       "      <th>NumOfProducts</th>\n",
       "      <th>HasCrCard</th>\n",
       "      <th>IsActiveMember</th>\n",
       "      <th>EstimatedSalary</th>\n",
       "      <th>Exited</th>\n",
       "    </tr>\n",
       "  </thead>\n",
       "  <tbody>\n",
       "    <tr>\n",
       "      <td>0</td>\n",
       "      <td>1</td>\n",
       "      <td>15634602</td>\n",
       "      <td>Hargrave</td>\n",
       "      <td>619</td>\n",
       "      <td>France</td>\n",
       "      <td>Female</td>\n",
       "      <td>42</td>\n",
       "      <td>2.0</td>\n",
       "      <td>0.00</td>\n",
       "      <td>1</td>\n",
       "      <td>1</td>\n",
       "      <td>1</td>\n",
       "      <td>101348.88</td>\n",
       "      <td>1</td>\n",
       "    </tr>\n",
       "    <tr>\n",
       "      <td>1</td>\n",
       "      <td>2</td>\n",
       "      <td>15647311</td>\n",
       "      <td>Hill</td>\n",
       "      <td>608</td>\n",
       "      <td>Spain</td>\n",
       "      <td>Female</td>\n",
       "      <td>41</td>\n",
       "      <td>1.0</td>\n",
       "      <td>83807.86</td>\n",
       "      <td>1</td>\n",
       "      <td>0</td>\n",
       "      <td>1</td>\n",
       "      <td>112542.58</td>\n",
       "      <td>0</td>\n",
       "    </tr>\n",
       "    <tr>\n",
       "      <td>2</td>\n",
       "      <td>3</td>\n",
       "      <td>15619304</td>\n",
       "      <td>Onio</td>\n",
       "      <td>502</td>\n",
       "      <td>France</td>\n",
       "      <td>Female</td>\n",
       "      <td>42</td>\n",
       "      <td>8.0</td>\n",
       "      <td>159660.80</td>\n",
       "      <td>3</td>\n",
       "      <td>1</td>\n",
       "      <td>0</td>\n",
       "      <td>113931.57</td>\n",
       "      <td>1</td>\n",
       "    </tr>\n",
       "    <tr>\n",
       "      <td>3</td>\n",
       "      <td>4</td>\n",
       "      <td>15701354</td>\n",
       "      <td>Boni</td>\n",
       "      <td>699</td>\n",
       "      <td>France</td>\n",
       "      <td>Female</td>\n",
       "      <td>39</td>\n",
       "      <td>1.0</td>\n",
       "      <td>0.00</td>\n",
       "      <td>2</td>\n",
       "      <td>0</td>\n",
       "      <td>0</td>\n",
       "      <td>93826.63</td>\n",
       "      <td>0</td>\n",
       "    </tr>\n",
       "    <tr>\n",
       "      <td>4</td>\n",
       "      <td>5</td>\n",
       "      <td>15737888</td>\n",
       "      <td>Mitchell</td>\n",
       "      <td>850</td>\n",
       "      <td>Spain</td>\n",
       "      <td>Female</td>\n",
       "      <td>43</td>\n",
       "      <td>2.0</td>\n",
       "      <td>125510.82</td>\n",
       "      <td>1</td>\n",
       "      <td>1</td>\n",
       "      <td>1</td>\n",
       "      <td>79084.10</td>\n",
       "      <td>0</td>\n",
       "    </tr>\n",
       "  </tbody>\n",
       "</table>\n",
       "</div>"
      ],
      "text/plain": [
       "   RowNumber  CustomerId   Surname  CreditScore Geography  Gender  Age  \\\n",
       "0          1    15634602  Hargrave          619    France  Female   42   \n",
       "1          2    15647311      Hill          608     Spain  Female   41   \n",
       "2          3    15619304      Onio          502    France  Female   42   \n",
       "3          4    15701354      Boni          699    France  Female   39   \n",
       "4          5    15737888  Mitchell          850     Spain  Female   43   \n",
       "\n",
       "   Tenure    Balance  NumOfProducts  HasCrCard  IsActiveMember  \\\n",
       "0     2.0       0.00              1          1               1   \n",
       "1     1.0   83807.86              1          0               1   \n",
       "2     8.0  159660.80              3          1               0   \n",
       "3     1.0       0.00              2          0               0   \n",
       "4     2.0  125510.82              1          1               1   \n",
       "\n",
       "   EstimatedSalary  Exited  \n",
       "0        101348.88       1  \n",
       "1        112542.58       0  \n",
       "2        113931.57       1  \n",
       "3         93826.63       0  \n",
       "4         79084.10       0  "
      ]
     },
     "execution_count": 4,
     "metadata": {},
     "output_type": "execute_result"
    }
   ],
   "source": [
    "data.head()"
   ]
  },
  {
   "cell_type": "code",
   "execution_count": 5,
   "metadata": {},
   "outputs": [
    {
     "name": "stdout",
     "output_type": "stream",
     "text": [
      "<class 'pandas.core.frame.DataFrame'>\n",
      "RangeIndex: 10000 entries, 0 to 9999\n",
      "Data columns (total 14 columns):\n",
      "RowNumber          10000 non-null int64\n",
      "CustomerId         10000 non-null int64\n",
      "Surname            10000 non-null object\n",
      "CreditScore        10000 non-null int64\n",
      "Geography          10000 non-null object\n",
      "Gender             10000 non-null object\n",
      "Age                10000 non-null int64\n",
      "Tenure             9091 non-null float64\n",
      "Balance            10000 non-null float64\n",
      "NumOfProducts      10000 non-null int64\n",
      "HasCrCard          10000 non-null int64\n",
      "IsActiveMember     10000 non-null int64\n",
      "EstimatedSalary    10000 non-null float64\n",
      "Exited             10000 non-null int64\n",
      "dtypes: float64(3), int64(8), object(3)\n",
      "memory usage: 1.1+ MB\n"
     ]
    }
   ],
   "source": [
    "data.info()"
   ]
  },
  {
   "cell_type": "code",
   "execution_count": 6,
   "metadata": {},
   "outputs": [
    {
     "data": {
      "text/plain": [
       "RowNumber          0\n",
       "CustomerId         0\n",
       "Surname            0\n",
       "CreditScore        0\n",
       "Geography          0\n",
       "Gender             0\n",
       "Age                0\n",
       "Tenure             0\n",
       "Balance            0\n",
       "NumOfProducts      0\n",
       "HasCrCard          0\n",
       "IsActiveMember     0\n",
       "EstimatedSalary    0\n",
       "Exited             0\n",
       "dtype: int64"
      ]
     },
     "execution_count": 6,
     "metadata": {},
     "output_type": "execute_result"
    }
   ],
   "source": [
    "data = data.dropna(subset=[\"Tenure\"]).reset_index(drop=True)\n",
    "data.isna().sum()"
   ]
  },
  {
   "cell_type": "code",
   "execution_count": 7,
   "metadata": {},
   "outputs": [],
   "source": [
    "data = data.drop([\"Surname\",'RowNumber','CustomerId'], axis=1)"
   ]
  },
  {
   "cell_type": "code",
   "execution_count": 8,
   "metadata": {},
   "outputs": [
    {
     "name": "stdout",
     "output_type": "stream",
     "text": [
      "<class 'pandas.core.frame.DataFrame'>\n",
      "RangeIndex: 9091 entries, 0 to 9090\n",
      "Data columns (total 11 columns):\n",
      "CreditScore        9091 non-null int64\n",
      "Geography          9091 non-null object\n",
      "Gender             9091 non-null object\n",
      "Age                9091 non-null int64\n",
      "Tenure             9091 non-null float64\n",
      "Balance            9091 non-null float64\n",
      "NumOfProducts      9091 non-null int64\n",
      "HasCrCard          9091 non-null int64\n",
      "IsActiveMember     9091 non-null int64\n",
      "EstimatedSalary    9091 non-null float64\n",
      "Exited             9091 non-null int64\n",
      "dtypes: float64(3), int64(6), object(2)\n",
      "memory usage: 781.4+ KB\n"
     ]
    }
   ],
   "source": [
    "data.info()"
   ]
  },
  {
   "cell_type": "code",
   "execution_count": 9,
   "metadata": {},
   "outputs": [],
   "source": [
    "#from sklearn.preprocessing import OrdinalEncoder\n",
    "#encoder = OrdinalEncoder()\n",
    "#data_ordinal = pd.DataFrame(encoder.fit_transform(data),\n",
    "                            #columns=data.columns)"
   ]
  },
  {
   "cell_type": "code",
   "execution_count": 10,
   "metadata": {},
   "outputs": [],
   "source": [
    "data_ordinal = pd.get_dummies(data, columns=[\"Gender\", \"Geography\"], prefix=[\"Gend\", \"Geog\"])"
   ]
  },
  {
   "cell_type": "code",
   "execution_count": 11,
   "metadata": {},
   "outputs": [
    {
     "name": "stdout",
     "output_type": "stream",
     "text": [
      "<class 'pandas.core.frame.DataFrame'>\n",
      "RangeIndex: 9091 entries, 0 to 9090\n",
      "Data columns (total 14 columns):\n",
      "CreditScore        9091 non-null int64\n",
      "Age                9091 non-null int64\n",
      "Tenure             9091 non-null float64\n",
      "Balance            9091 non-null float64\n",
      "NumOfProducts      9091 non-null int64\n",
      "HasCrCard          9091 non-null int64\n",
      "IsActiveMember     9091 non-null int64\n",
      "EstimatedSalary    9091 non-null float64\n",
      "Exited             9091 non-null int64\n",
      "Gend_Female        9091 non-null uint8\n",
      "Gend_Male          9091 non-null uint8\n",
      "Geog_France        9091 non-null uint8\n",
      "Geog_Germany       9091 non-null uint8\n",
      "Geog_Spain         9091 non-null uint8\n",
      "dtypes: float64(3), int64(6), uint8(5)\n",
      "memory usage: 683.7 KB\n"
     ]
    }
   ],
   "source": [
    "data_ordinal.info()"
   ]
  },
  {
   "cell_type": "code",
   "execution_count": 12,
   "metadata": {},
   "outputs": [
    {
     "data": {
      "text/html": [
       "<div>\n",
       "<style scoped>\n",
       "    .dataframe tbody tr th:only-of-type {\n",
       "        vertical-align: middle;\n",
       "    }\n",
       "\n",
       "    .dataframe tbody tr th {\n",
       "        vertical-align: top;\n",
       "    }\n",
       "\n",
       "    .dataframe thead th {\n",
       "        text-align: right;\n",
       "    }\n",
       "</style>\n",
       "<table border=\"1\" class=\"dataframe\">\n",
       "  <thead>\n",
       "    <tr style=\"text-align: right;\">\n",
       "      <th></th>\n",
       "      <th>CreditScore</th>\n",
       "      <th>Age</th>\n",
       "      <th>Tenure</th>\n",
       "      <th>Balance</th>\n",
       "      <th>NumOfProducts</th>\n",
       "      <th>HasCrCard</th>\n",
       "      <th>IsActiveMember</th>\n",
       "      <th>EstimatedSalary</th>\n",
       "      <th>Exited</th>\n",
       "      <th>Gend_Female</th>\n",
       "      <th>Gend_Male</th>\n",
       "      <th>Geog_France</th>\n",
       "      <th>Geog_Germany</th>\n",
       "      <th>Geog_Spain</th>\n",
       "    </tr>\n",
       "  </thead>\n",
       "  <tbody>\n",
       "    <tr>\n",
       "      <td>0</td>\n",
       "      <td>619</td>\n",
       "      <td>42</td>\n",
       "      <td>2.0</td>\n",
       "      <td>0.00</td>\n",
       "      <td>1</td>\n",
       "      <td>1</td>\n",
       "      <td>1</td>\n",
       "      <td>101348.88</td>\n",
       "      <td>1</td>\n",
       "      <td>1</td>\n",
       "      <td>0</td>\n",
       "      <td>1</td>\n",
       "      <td>0</td>\n",
       "      <td>0</td>\n",
       "    </tr>\n",
       "    <tr>\n",
       "      <td>1</td>\n",
       "      <td>608</td>\n",
       "      <td>41</td>\n",
       "      <td>1.0</td>\n",
       "      <td>83807.86</td>\n",
       "      <td>1</td>\n",
       "      <td>0</td>\n",
       "      <td>1</td>\n",
       "      <td>112542.58</td>\n",
       "      <td>0</td>\n",
       "      <td>1</td>\n",
       "      <td>0</td>\n",
       "      <td>0</td>\n",
       "      <td>0</td>\n",
       "      <td>1</td>\n",
       "    </tr>\n",
       "    <tr>\n",
       "      <td>2</td>\n",
       "      <td>502</td>\n",
       "      <td>42</td>\n",
       "      <td>8.0</td>\n",
       "      <td>159660.80</td>\n",
       "      <td>3</td>\n",
       "      <td>1</td>\n",
       "      <td>0</td>\n",
       "      <td>113931.57</td>\n",
       "      <td>1</td>\n",
       "      <td>1</td>\n",
       "      <td>0</td>\n",
       "      <td>1</td>\n",
       "      <td>0</td>\n",
       "      <td>0</td>\n",
       "    </tr>\n",
       "    <tr>\n",
       "      <td>3</td>\n",
       "      <td>699</td>\n",
       "      <td>39</td>\n",
       "      <td>1.0</td>\n",
       "      <td>0.00</td>\n",
       "      <td>2</td>\n",
       "      <td>0</td>\n",
       "      <td>0</td>\n",
       "      <td>93826.63</td>\n",
       "      <td>0</td>\n",
       "      <td>1</td>\n",
       "      <td>0</td>\n",
       "      <td>1</td>\n",
       "      <td>0</td>\n",
       "      <td>0</td>\n",
       "    </tr>\n",
       "    <tr>\n",
       "      <td>4</td>\n",
       "      <td>850</td>\n",
       "      <td>43</td>\n",
       "      <td>2.0</td>\n",
       "      <td>125510.82</td>\n",
       "      <td>1</td>\n",
       "      <td>1</td>\n",
       "      <td>1</td>\n",
       "      <td>79084.10</td>\n",
       "      <td>0</td>\n",
       "      <td>1</td>\n",
       "      <td>0</td>\n",
       "      <td>0</td>\n",
       "      <td>0</td>\n",
       "      <td>1</td>\n",
       "    </tr>\n",
       "  </tbody>\n",
       "</table>\n",
       "</div>"
      ],
      "text/plain": [
       "   CreditScore  Age  Tenure    Balance  NumOfProducts  HasCrCard  \\\n",
       "0          619   42     2.0       0.00              1          1   \n",
       "1          608   41     1.0   83807.86              1          0   \n",
       "2          502   42     8.0  159660.80              3          1   \n",
       "3          699   39     1.0       0.00              2          0   \n",
       "4          850   43     2.0  125510.82              1          1   \n",
       "\n",
       "   IsActiveMember  EstimatedSalary  Exited  Gend_Female  Gend_Male  \\\n",
       "0               1        101348.88       1            1          0   \n",
       "1               1        112542.58       0            1          0   \n",
       "2               0        113931.57       1            1          0   \n",
       "3               0         93826.63       0            1          0   \n",
       "4               1         79084.10       0            1          0   \n",
       "\n",
       "   Geog_France  Geog_Germany  Geog_Spain  \n",
       "0            1             0           0  \n",
       "1            0             0           1  \n",
       "2            1             0           0  \n",
       "3            1             0           0  \n",
       "4            0             0           1  "
      ]
     },
     "execution_count": 12,
     "metadata": {},
     "output_type": "execute_result"
    }
   ],
   "source": [
    "data_ordinal.head()"
   ]
  },
  {
   "cell_type": "code",
   "execution_count": 13,
   "metadata": {},
   "outputs": [],
   "source": [
    "target = data_ordinal['Exited']\n",
    "features = data_ordinal.drop(['Exited'], axis=1)\n",
    "features_train, features_validt, target_train, target_validt = train_test_split(features, target, test_size = 0.5, random_state =12345, stratify = data_ordinal['Exited'])\n",
    "features_valid, features_test, target_valid, target_test = train_test_split(features_validt, target_validt, test_size = 0.5, random_state =12345, stratify = target_validt)"
   ]
  },
  {
   "cell_type": "code",
   "execution_count": 14,
   "metadata": {},
   "outputs": [],
   "source": [
    "numeric = ['CreditScore', 'Age', 'Tenure', 'Balance', 'EstimatedSalary']\n",
    "scaler = StandardScaler()\n",
    "scaler.fit(features_train[numeric]) \n",
    "features_train[numeric] = scaler.transform(features_train[numeric])\n",
    "features_valid[numeric] = scaler.transform(features_valid[numeric])\n",
    "features_test[numeric] = scaler.transform(features_test[numeric])\n",
    "pd.options.mode.chained_assignment = None"
   ]
  },
  {
   "cell_type": "markdown",
   "metadata": {},
   "source": [
    "## Исследование задачи"
   ]
  },
  {
   "cell_type": "code",
   "execution_count": 15,
   "metadata": {},
   "outputs": [
    {
     "name": "stdout",
     "output_type": "stream",
     "text": [
      "F1 0.5749656121045392 Количество деревьев: 80 Глубина: 14\n"
     ]
    }
   ],
   "source": [
    "best_model = None\n",
    "best_result = 0\n",
    "best_est = 0\n",
    "best_depth = 0\n",
    "for est in range(10, 101, 10): \n",
    "    for depth in range (1, 15):\n",
    "        model = RandomForestClassifier(random_state=12345, n_estimators=est, max_depth=depth)\n",
    "        model.fit(features_train, target_train) \n",
    "        predictions_valid = model.predict(features_valid) \n",
    "        result = f1_score(target_valid, predictions_valid)\n",
    "        if result > best_result:\n",
    "            best_model = model\n",
    "            best_result = result\n",
    "            best_est = est\n",
    "            best_depth = depth\n",
    "\n",
    "print(\"F1\", best_result, \"Количество деревьев:\", best_est, \"Глубина:\", depth)"
   ]
  },
  {
   "cell_type": "code",
   "execution_count": 16,
   "metadata": {},
   "outputs": [
    {
     "name": "stdout",
     "output_type": "stream",
     "text": [
      "F1: 0.5747126436781609 Глубина дерева: 7\n"
     ]
    }
   ],
   "source": [
    "best_model_tr = None\n",
    "best_result1 = 0\n",
    "best_depth1 = 0\n",
    "for depth in range(1, 15):\n",
    "    model1 = DecisionTreeClassifier(random_state=12345, max_depth=depth) \n",
    "    model1.fit(features_train, target_train) \n",
    "    predictions_valid1 = model1.predict(features_valid) \n",
    "    result = f1_score(target_valid, predictions_valid1)\n",
    "    if result > best_result1:\n",
    "        best_model_tr = model1\n",
    "        best_result1 = result\n",
    "        best_depth1 = depth\n",
    "\n",
    "print(\"F1:\", best_result1, \"Глубина дерева:\", best_depth1)"
   ]
  },
  {
   "cell_type": "code",
   "execution_count": 17,
   "metadata": {},
   "outputs": [
    {
     "name": "stdout",
     "output_type": "stream",
     "text": [
      "F1: 0.3074433656957929\n"
     ]
    }
   ],
   "source": [
    "log_f1 = 0 \n",
    "for n in range(1,2):\n",
    "    for i in range(100,110):\n",
    "        model_log1 = LogisticRegression(solver = 'liblinear', max_iter = i, C = n)\n",
    "        model_log1.fit(features_train, target_train)\n",
    "        model_log_prediction = model_log1.predict(features_valid)\n",
    "        new_f1 = f1_score(target_valid, model_log_prediction)\n",
    "        if new_f1 > log_f1:\n",
    "            log_f1 = new_f1\n",
    "            model_log = model_log1\n",
    "\n",
    "\n",
    "print(\"F1:\",log_f1)"
   ]
  },
  {
   "cell_type": "markdown",
   "metadata": {},
   "source": [
    "Иследовав модели, мы не смогли достигнуть желаемых значений метрики. У логической регрессии наименьший показатель. Посмотрим как изменится метрика после балансировки."
   ]
  },
  {
   "cell_type": "markdown",
   "metadata": {},
   "source": [
    "## Борьба с дисбалансом"
   ]
  },
  {
   "cell_type": "markdown",
   "metadata": {},
   "source": [
    "Проверим баланс целевого признака"
   ]
  },
  {
   "cell_type": "code",
   "execution_count": 18,
   "metadata": {},
   "outputs": [
    {
     "data": {
      "text/plain": [
       "0    3618\n",
       "1     927\n",
       "Name: Exited, dtype: int64"
      ]
     },
     "execution_count": 18,
     "metadata": {},
     "output_type": "execute_result"
    }
   ],
   "source": [
    "target_train.value_counts()"
   ]
  },
  {
   "cell_type": "code",
   "execution_count": 19,
   "metadata": {},
   "outputs": [
    {
     "name": "stdout",
     "output_type": "stream",
     "text": [
      "Дерево решений\n",
      "AUC-ROC = 0.8286083948075713\n",
      "Случайный лес\n",
      "AUC-ROC = 0.8522759764396408\n",
      "Логистическая регрессия\n",
      "AUC-ROC = 0.7699600655725205\n"
     ]
    },
    {
     "data": {
      "image/png": "[encoded data removed]",
      "text/plain": [
       "<Figure size 432x288 with 1 Axes>"
      ]
     },
     "metadata": {
      "needs_background": "light"
     },
     "output_type": "display_data"
    }
   ],
   "source": [
    "print('Дерево решений')\n",
    "probabilities_valid_tree = best_model_tr.predict_proba(features_valid)\n",
    "probabilities_one_valid = probabilities_valid_tree[:, 1]\n",
    "print('AUC-ROC =',roc_auc_score(target_valid, probabilities_one_valid))\n",
    "print('Случайный лес')\n",
    "fpr, tpr, thresholds = roc_curve(target_valid, probabilities_one_valid)\n",
    "probabilities_valid_random = best_model.predict_proba(features_valid)\n",
    "probabilities_one_valid = probabilities_valid_random[:, 1]\n",
    "print('AUC-ROC =',roc_auc_score(target_valid, probabilities_one_valid))\n",
    "print('Логистическая регрессия')\n",
    "fpr1, tpr1, thresholds1 = roc_curve(target_valid, probabilities_one_valid)\n",
    "probabilities_valid_log = model_log.predict_proba(features_valid)\n",
    "probabilities_one_valid = probabilities_valid_log[:, 1]\n",
    "print('AUC-ROC =',roc_auc_score(target_valid, probabilities_one_valid))\n",
    "fpr2, tpr2, thresholds2 = roc_curve(target_valid, probabilities_one_valid)\n",
    "\n",
    "\n",
    "plt.figure()\n",
    "\n",
    "plt.plot([0, 1], [0, 1], linestyle='--')\n",
    "plt.plot(fpr, tpr, label = 'Дерево решений')\n",
    "plt.plot(fpr1, tpr1, label = 'Случайный лес')\n",
    "plt.plot(fpr2, tpr2, label = 'Логистическая регрессия')\n",
    "plt.legend()\n",
    "plt.xlabel('False Positive Rate')\n",
    "plt.ylabel('True Positive Rate')\n",
    "plt.ylim([0.0, 1.0])\n",
    "plt.xlim([0.0, 1.0])\n",
    "plt.title('ROC-кривые')\n",
    "plt.show()"
   ]
  },
  {
   "cell_type": "markdown",
   "metadata": {},
   "source": [
    "Здесь видим, что оптимальными моделями являются \"Дерево решений\" и \"Случайный лес\""
   ]
  },
  {
   "cell_type": "code",
   "execution_count": 20,
   "metadata": {},
   "outputs": [],
   "source": [
    "def upsample(features, target, repeat): #функция выборки и увеличения дата сета с перемешиванием\n",
    "    features_zeros = features[target == 0]\n",
    "    features_ones = features[target == 1]\n",
    "    target_zeros = target[target == 0]\n",
    "    target_ones = target[target == 1]\n",
    "\n",
    "    features_upsampled = pd.concat([features_zeros] + [features_ones] * repeat) #cоединение таблиц данных и повтор \n",
    "    target_upsampled = pd.concat([target_zeros] + [target_ones] * repeat)\n",
    "    \n",
    "    features_upsampled, target_upsampled = shuffle(\n",
    "        features_upsampled, target_upsampled, random_state=12345) #перемешивание\n",
    "    \n",
    "    return features_upsampled, target_upsampled\n",
    "\n",
    "features_upsampled, target_upsampled = upsample(features_train, target_train, 4)"
   ]
  },
  {
   "cell_type": "code",
   "execution_count": 21,
   "metadata": {},
   "outputs": [
    {
     "data": {
      "text/plain": [
       "1    3708\n",
       "0    3618\n",
       "Name: Exited, dtype: int64"
      ]
     },
     "execution_count": 21,
     "metadata": {},
     "output_type": "execute_result"
    }
   ],
   "source": [
    "target_upsampled.value_counts()"
   ]
  },
  {
   "cell_type": "code",
   "execution_count": 22,
   "metadata": {},
   "outputs": [
    {
     "name": "stdout",
     "output_type": "stream",
     "text": [
      "F1 0.6314606741573033 Количество деревьев: 30 Глубина: 13\n"
     ]
    }
   ],
   "source": [
    "model_randomfor = None\n",
    "best_result = 0\n",
    "best_est = 0\n",
    "best_depth = 0\n",
    "for est in range(10, 101, 10): \n",
    "    for depth in range (1, 15):\n",
    "        model = RandomForestClassifier(random_state=12345, n_estimators=est, max_depth=depth)\n",
    "        model.fit(features_upsampled, target_upsampled) \n",
    "        predictions_valid = model.predict(features_valid) \n",
    "        result = f1_score(target_valid, predictions_valid)\n",
    "        if result > best_result:\n",
    "            model_randomfor = model\n",
    "            best_result = result\n",
    "            best_est = est\n",
    "            best_depth = depth\n",
    "\n",
    "print(\"F1\", best_result, \"Количество деревьев:\", best_est, \"Глубина:\", best_depth)"
   ]
  },
  {
   "cell_type": "code",
   "execution_count": 23,
   "metadata": {},
   "outputs": [
    {
     "name": "stdout",
     "output_type": "stream",
     "text": [
      "F1: 0.6040000000000001 Глубина дерева: 5\n"
     ]
    }
   ],
   "source": [
    "model_tree = None\n",
    "result_tree = 0\n",
    "best_depth1 = 0\n",
    "for depth in range(1, 15):\n",
    "    model_tr = DecisionTreeClassifier(random_state=12345, max_depth=depth) \n",
    "    model_tr.fit(features_upsampled, target_upsampled) \n",
    "    predictions_valid1 = model_tr.predict(features_valid) \n",
    "    result1 = f1_score(target_valid, predictions_valid1)\n",
    "    if result1 > result_tree:\n",
    "        model_tree = model_tr\n",
    "        result_tree = result1\n",
    "        depth1 = depth\n",
    "\n",
    "print(\"F1:\", result_tree, \"Глубина дерева:\", depth1)"
   ]
  },
  {
   "cell_type": "code",
   "execution_count": 24,
   "metadata": {},
   "outputs": [
    {
     "name": "stdout",
     "output_type": "stream",
     "text": [
      "Целевой признак, F1-мера: 0.4942440521872601\n"
     ]
    }
   ],
   "source": [
    "log_f1 = 0 \n",
    "for n in range(1,2):\n",
    "    for i in range(100,110):\n",
    "        model_log1 = LogisticRegression(solver = 'liblinear', max_iter = i, C = n)\n",
    "        model_log1.fit(features_upsampled, target_upsampled)\n",
    "        model_log_prediction = model_log1.predict(features_valid)\n",
    "        new_f1 = f1_score(target_valid, model_log_prediction)\n",
    "        if new_f1 > log_f1:\n",
    "            log_f1 = new_f1\n",
    "            model_log = model_log1\n",
    "\n",
    "\n",
    "print(\"Целевой признак, F1-мера:\",log_f1)"
   ]
  },
  {
   "cell_type": "markdown",
   "metadata": {},
   "source": [
    "Видно, что после балансировки показательи каждой модели возрасли. Модель со случайным лесом имеет наибольший результат по заданной метрике Ф1."
   ]
  },
  {
   "cell_type": "code",
   "execution_count": 25,
   "metadata": {},
   "outputs": [
    {
     "name": "stdout",
     "output_type": "stream",
     "text": [
      "Дерево решений\n",
      "AUC-ROC = 0.826636692018833\n",
      "Случайный лес\n",
      "AUC-ROC = 0.8405791921617964\n",
      "Логистическая регрессия\n",
      "AUC-ROC = 0.7732791978803301\n"
     ]
    },
    {
     "data": {
      "image/png": "[encoded data removed]",
      "text/plain": [
       "<Figure size 432x288 with 1 Axes>"
      ]
     },
     "metadata": {
      "needs_background": "light"
     },
     "output_type": "display_data"
    }
   ],
   "source": [
    "print('Дерево решений')\n",
    "probabilities_valid_tree = model_tree.predict_proba(features_valid)\n",
    "probabilities_one_valid = probabilities_valid_tree[:, 1]\n",
    "print('AUC-ROC =',roc_auc_score(target_valid, probabilities_one_valid))\n",
    "print('Случайный лес')\n",
    "fpr, tpr, thresholds = roc_curve(target_valid, probabilities_one_valid)\n",
    "probabilities_valid_random = model_randomfor.predict_proba(features_valid)\n",
    "probabilities_one_valid = probabilities_valid_random[:, 1]\n",
    "print('AUC-ROC =',roc_auc_score(target_valid, probabilities_one_valid))\n",
    "print('Логистическая регрессия')\n",
    "fpr1, tpr1, thresholds1 = roc_curve(target_valid, probabilities_one_valid)\n",
    "probabilities_valid_log = model_log.predict_proba(features_valid)\n",
    "probabilities_one_valid = probabilities_valid_log[:, 1]\n",
    "print('AUC-ROC =',roc_auc_score(target_valid, probabilities_one_valid))\n",
    "fpr2, tpr2, thresholds2 = roc_curve(target_valid, probabilities_one_valid)\n",
    "\n",
    "\n",
    "plt.figure()\n",
    "\n",
    "plt.plot([0, 1], [0, 1], linestyle='--')\n",
    "plt.plot(fpr, tpr, label = 'Дерево решений')\n",
    "plt.plot(fpr1, tpr1, label = 'Случайный лес')\n",
    "plt.plot(fpr2, tpr2, label = 'Логистическая регрессия')\n",
    "plt.legend()\n",
    "plt.xlabel('False Positive Rate')\n",
    "plt.ylabel('True Positive Rate')\n",
    "plt.ylim([0.0, 1.0])\n",
    "plt.xlim([0.0, 1.0])\n",
    "plt.title('ROC-кривые')\n",
    "plt.show()"
   ]
  },
  {
   "cell_type": "markdown",
   "metadata": {},
   "source": [
    "Функция по уменьшению выборки и балансировке."
   ]
  },
  {
   "cell_type": "code",
   "execution_count": 26,
   "metadata": {},
   "outputs": [],
   "source": [
    "def downsample(features, target, fraction):\n",
    "    features_zeros = features[target == 0]\n",
    "    features_ones = features[target == 1]\n",
    "    target_zeros = target[target == 0]\n",
    "    target_ones = target[target == 1]\n",
    "\n",
    "    features_downsampled = pd.concat(\n",
    "        [features_zeros.sample(frac=fraction, random_state=12345)] + [features_ones]) #случайная малая выборка (обрезка значения \n",
    "    #по frac в процентном содержании)\n",
    "    target_downsampled = pd.concat(\n",
    "        [target_zeros.sample(frac=fraction, random_state=12345)] + [target_ones])\n",
    "    \n",
    "    features_downsampled, target_downsampled = shuffle(\n",
    "        features_downsampled, target_downsampled, random_state=12345)\n",
    "    \n",
    "    return features_downsampled, target_downsampled\n",
    "\n"
   ]
  },
  {
   "cell_type": "code",
   "execution_count": 27,
   "metadata": {},
   "outputs": [],
   "source": [
    "features_downsampled, target_downsampled = downsample(features_train, target_train, 0.3)"
   ]
  },
  {
   "cell_type": "code",
   "execution_count": 28,
   "metadata": {},
   "outputs": [
    {
     "data": {
      "text/plain": [
       "0    1085\n",
       "1     927\n",
       "Name: Exited, dtype: int64"
      ]
     },
     "execution_count": 28,
     "metadata": {},
     "output_type": "execute_result"
    }
   ],
   "source": [
    "target_downsampled.value_counts()"
   ]
  },
  {
   "cell_type": "code",
   "execution_count": 29,
   "metadata": {},
   "outputs": [
    {
     "name": "stdout",
     "output_type": "stream",
     "text": [
      "F1 0.6143277723258096 Количество деревьев: 30 Глубина: 7\n"
     ]
    }
   ],
   "source": [
    "model_randomfor_down = None\n",
    "best_result = 0\n",
    "best_est = 0\n",
    "best_depth = 0\n",
    "for est in range(10, 101, 10): \n",
    "    for depth in range (1, 15):\n",
    "        model = RandomForestClassifier(random_state=12345, n_estimators=est, max_depth=depth)\n",
    "        model.fit(features_downsampled, target_downsampled) \n",
    "        predictions_valid = model.predict(features_valid) \n",
    "        result = f1_score(target_valid, predictions_valid)\n",
    "        if result > best_result:\n",
    "            model_randomfor_down = model\n",
    "            best_result = result\n",
    "            best_est = est\n",
    "            best_depth = depth\n",
    "\n",
    "print(\"F1\", best_result, \"Количество деревьев:\", best_est, \"Глубина:\", best_depth)"
   ]
  },
  {
   "cell_type": "code",
   "execution_count": 30,
   "metadata": {},
   "outputs": [
    {
     "name": "stdout",
     "output_type": "stream",
     "text": [
      "F1: 0.6113537117903929 Глубина дерева: 5\n"
     ]
    }
   ],
   "source": [
    "model_tree_down = None\n",
    "result_tree = 0\n",
    "best_depth1 = 0\n",
    "for depth in range(1, 15):\n",
    "    model_tr = DecisionTreeClassifier(random_state=12345, max_depth=depth) \n",
    "    model_tr.fit(features_downsampled, target_downsampled) \n",
    "    predictions_valid1 = model_tr.predict(features_valid) \n",
    "    result1 = f1_score(target_valid, predictions_valid1)\n",
    "    if result1 > result_tree:\n",
    "        model_tree_down = model_tr\n",
    "        result_tree = result1\n",
    "        depth1 = depth\n",
    "\n",
    "print(\"F1:\", result_tree, \"Глубина дерева:\", depth1)"
   ]
  },
  {
   "cell_type": "code",
   "execution_count": 31,
   "metadata": {},
   "outputs": [
    {
     "name": "stdout",
     "output_type": "stream",
     "text": [
      "Целевой признак, F1-мера: 0.5051020408163265\n"
     ]
    }
   ],
   "source": [
    "log_f1 = 0 \n",
    "for n in range(1,2):\n",
    "    for i in range(100,110):\n",
    "        model_log1 = LogisticRegression(solver = 'liblinear', max_iter = i, C = n)\n",
    "        model_log1.fit(features_downsampled, target_downsampled)\n",
    "        model_log_prediction = model_log1.predict(features_valid)\n",
    "        new_f1 = f1_score(target_valid, model_log_prediction)\n",
    "        if new_f1 > log_f1:\n",
    "            log_f1 = new_f1\n",
    "            log_f_dowm = model_log1\n",
    "\n",
    "\n",
    "print(\"Целевой признак, F1-мера:\",log_f1)"
   ]
  },
  {
   "cell_type": "code",
   "execution_count": 32,
   "metadata": {},
   "outputs": [
    {
     "name": "stdout",
     "output_type": "stream",
     "text": [
      "Дерево решений\n",
      "AUC-ROC = 0.8178950792016926\n",
      "Случайный лес\n",
      "AUC-ROC = 0.8569234764872953\n",
      "Логистическая регрессия\n",
      "AUC-ROC = 0.7745992260917633\n"
     ]
    },
    {
     "data": {
      "image/png": "[encoded data removed]",
      "text/plain": [
       "<Figure size 432x288 with 1 Axes>"
      ]
     },
     "metadata": {
      "needs_background": "light"
     },
     "output_type": "display_data"
    }
   ],
   "source": [
    "print('Дерево решений')\n",
    "probabilities_valid_tree = model_tree_down.predict_proba(features_valid)\n",
    "probabilities_one_valid = probabilities_valid_tree[:, 1]\n",
    "print('AUC-ROC =',roc_auc_score(target_valid, probabilities_one_valid))\n",
    "print('Случайный лес')\n",
    "fpr, tpr, thresholds = roc_curve(target_valid, probabilities_one_valid)\n",
    "probabilities_valid_random = model_randomfor_down.predict_proba(features_valid)\n",
    "probabilities_one_valid = probabilities_valid_random[:, 1]\n",
    "print('AUC-ROC =',roc_auc_score(target_valid, probabilities_one_valid))\n",
    "print('Логистическая регрессия')\n",
    "fpr1, tpr1, thresholds1 = roc_curve(target_valid, probabilities_one_valid)\n",
    "probabilities_valid_log = log_f_dowm.predict_proba(features_valid)\n",
    "probabilities_one_valid = probabilities_valid_log[:, 1]\n",
    "print('AUC-ROC =',roc_auc_score(target_valid, probabilities_one_valid))\n",
    "fpr2, tpr2, thresholds2 = roc_curve(target_valid, probabilities_one_valid)\n",
    "\n",
    "\n",
    "plt.figure()\n",
    "\n",
    "plt.plot([0, 1], [0, 1], linestyle='--')\n",
    "plt.plot(fpr, tpr, label = 'Дерево решений')\n",
    "plt.plot(fpr1, tpr1, label = 'Случайный лес')\n",
    "plt.plot(fpr2, tpr2, label = 'Логистическая регрессия')\n",
    "plt.legend()\n",
    "plt.xlabel('False Positive Rate')\n",
    "plt.ylabel('True Positive Rate')\n",
    "plt.ylim([0.0, 1.0])\n",
    "plt.xlim([0.0, 1.0])\n",
    "plt.title('ROC-кривые')\n",
    "plt.show()"
   ]
  },
  {
   "cell_type": "markdown",
   "metadata": {},
   "source": [
    "Сбалансировав выборки по целевому признаку двумя различными способами можно заметить, что метод с увеличением выборки дает наибольший показатель выборки."
   ]
  },
  {
   "cell_type": "markdown",
   "metadata": {},
   "source": [
    "## Тестирование модели"
   ]
  },
  {
   "cell_type": "code",
   "execution_count": 33,
   "metadata": {},
   "outputs": [],
   "source": [
    "#features_ful = pd.concat([features_upsampled] + [features_valid]) #cоединение таблиц данных и повтор \n",
    "#ful_target = pd.concat([target_upsampled] + [target_valid])"
   ]
  },
  {
   "cell_type": "markdown",
   "metadata": {},
   "source": [
    "Тестирование моделей повышающей выборки:"
   ]
  },
  {
   "cell_type": "code",
   "execution_count": 34,
   "metadata": {},
   "outputs": [
    {
     "data": {
      "text/plain": [
       "0.5853131749460043"
      ]
     },
     "execution_count": 34,
     "metadata": {},
     "output_type": "execute_result"
    }
   ],
   "source": [
    "model_prediction = model_randomfor.predict(features_test)\n",
    "f1_score(target_test, model_prediction)"
   ]
  },
  {
   "cell_type": "code",
   "execution_count": 35,
   "metadata": {},
   "outputs": [
    {
     "data": {
      "text/plain": [
       "0.5836501901140685"
      ]
     },
     "execution_count": 35,
     "metadata": {},
     "output_type": "execute_result"
    }
   ],
   "source": [
    "model_prediction44 = model_tree.predict(features_test)\n",
    "f1_score(target_test, model_prediction44)"
   ]
  },
  {
   "cell_type": "code",
   "execution_count": 36,
   "metadata": {},
   "outputs": [
    {
     "data": {
      "text/plain": [
       "0.49595290654893304"
      ]
     },
     "execution_count": 36,
     "metadata": {},
     "output_type": "execute_result"
    }
   ],
   "source": [
    "model_prediction44 = model_log.predict(features_test)\n",
    "f1_score(target_test, model_prediction44)"
   ]
  },
  {
   "cell_type": "markdown",
   "metadata": {},
   "source": [
    "Тестирование моделей понижающей выборки:"
   ]
  },
  {
   "cell_type": "code",
   "execution_count": 37,
   "metadata": {},
   "outputs": [
    {
     "data": {
      "text/plain": [
       "0.5987525987525988"
      ]
     },
     "execution_count": 37,
     "metadata": {},
     "output_type": "execute_result"
    }
   ],
   "source": [
    "model_prediction = model_tree_down.predict(features_test)\n",
    "f1_score(target_test, model_prediction)"
   ]
  },
  {
   "cell_type": "code",
   "execution_count": 38,
   "metadata": {},
   "outputs": [
    {
     "data": {
      "text/plain": [
       "0.6015180265654649"
      ]
     },
     "execution_count": 38,
     "metadata": {},
     "output_type": "execute_result"
    }
   ],
   "source": [
    "model_prediction = model_randomfor_down.predict(features_test)\n",
    "f1_score(target_test, model_prediction)"
   ]
  },
  {
   "cell_type": "code",
   "execution_count": 39,
   "metadata": {},
   "outputs": [
    {
     "data": {
      "text/plain": [
       "0.49791144527986636"
      ]
     },
     "execution_count": 39,
     "metadata": {},
     "output_type": "execute_result"
    }
   ],
   "source": [
    "model_prediction = log_f_dowm.predict(features_test)\n",
    "f1_score(target_test, model_prediction)"
   ]
  },
  {
   "cell_type": "markdown",
   "metadata": {},
   "source": [
    "На тестировании модели с понижающей выборкой показали себя лучше, стоит использовать в конечном счете их."
   ]
  },
  {
   "cell_type": "markdown",
   "metadata": {},
   "source": [
    "Вывод: В данной работе нам предстояло подготовить данные: обработать пропуски, убрать лишние столбцы, что могли оказать оказать пагубное воздействие на модели, а так же разделить данные на три выборки(так как тестовую нам не предоставили). Иследование проводилось на трех моделях: \"Дерево решений\", \"Случайный лес\", \"Логистическая регрессия\". Модели оценивались по метрике Ф1, после балансировки показания метрики выросли. На обучении лучше себя показали модели после балансировке увеличением выборки, однако на тесте показатели метрики Ф1 выше у балансировки малой выборкой. Так же были построены AUC-ROC кривые до балансировки и после, по этим показателям (ближе к 1) можно судить, что алгоритмы упорядочены. По итогу работы: стоит использовать модель случайного леса сбалансированного малой выборкой."
   ]
  },
  {
   "cell_type": "code",
   "execution_count": null,
   "metadata": {},
   "outputs": [],
   "source": []
  }
 ],
 "metadata": {
  "ExecuteTimeLog": [
   {
    "duration": 1347,
    "start_time": "2022-01-18T11:25:14.591Z"
   },
   {
    "duration": 36,
    "start_time": "2022-01-18T11:26:18.478Z"
   },
   {
    "duration": 33,
    "start_time": "2022-01-18T11:26:29.655Z"
   },
   {
    "duration": 27,
    "start_time": "2022-01-18T11:26:38.143Z"
   },
   {
    "duration": 12,
    "start_time": "2022-01-18T11:29:15.879Z"
   },
   {
    "duration": 668,
    "start_time": "2022-01-18T11:29:30.763Z"
   },
   {
    "duration": 13,
    "start_time": "2022-01-18T11:29:43.050Z"
   },
   {
    "duration": 9,
    "start_time": "2022-01-18T11:29:48.273Z"
   },
   {
    "duration": 15,
    "start_time": "2022-01-18T11:30:14.564Z"
   },
   {
    "duration": 11,
    "start_time": "2022-01-18T11:32:16.469Z"
   },
   {
    "duration": 12,
    "start_time": "2022-01-18T11:32:28.837Z"
   },
   {
    "duration": 459,
    "start_time": "2022-01-18T11:32:48.399Z"
   },
   {
    "duration": 373,
    "start_time": "2022-01-18T11:33:27.300Z"
   },
   {
    "duration": 356,
    "start_time": "2022-01-18T11:33:41.300Z"
   },
   {
    "duration": 757,
    "start_time": "2022-01-18T11:33:48.811Z"
   },
   {
    "duration": 5,
    "start_time": "2022-01-18T11:34:10.696Z"
   },
   {
    "duration": 11,
    "start_time": "2022-01-18T11:34:16.643Z"
   },
   {
    "duration": 37,
    "start_time": "2022-01-18T11:40:30.130Z"
   },
   {
    "duration": 9,
    "start_time": "2022-01-18T11:40:43.945Z"
   },
   {
    "duration": 20,
    "start_time": "2022-01-18T11:40:59.003Z"
   },
   {
    "duration": 10,
    "start_time": "2022-01-18T11:43:37.158Z"
   },
   {
    "duration": 10,
    "start_time": "2022-01-18T11:44:23.557Z"
   },
   {
    "duration": 418,
    "start_time": "2022-01-18T11:44:51.731Z"
   },
   {
    "duration": 9,
    "start_time": "2022-01-18T11:48:15.572Z"
   },
   {
    "duration": 10,
    "start_time": "2022-01-18T11:48:16.595Z"
   },
   {
    "duration": 875,
    "start_time": "2022-01-18T11:48:18.374Z"
   },
   {
    "duration": 377,
    "start_time": "2022-01-18T11:50:48.232Z"
   },
   {
    "duration": 547,
    "start_time": "2022-01-18T11:52:04.597Z"
   },
   {
    "duration": 456,
    "start_time": "2022-01-18T11:52:12.316Z"
   },
   {
    "duration": 366,
    "start_time": "2022-01-18T11:58:36.202Z"
   },
   {
    "duration": 14,
    "start_time": "2022-01-18T11:58:46.895Z"
   },
   {
    "duration": 17,
    "start_time": "2022-01-18T11:58:50.729Z"
   },
   {
    "duration": 12,
    "start_time": "2022-01-18T11:59:11.740Z"
   },
   {
    "duration": 1432,
    "start_time": "2022-01-18T11:59:26.112Z"
   },
   {
    "duration": 37,
    "start_time": "2022-01-18T11:59:27.547Z"
   },
   {
    "duration": 28,
    "start_time": "2022-01-18T11:59:27.587Z"
   },
   {
    "duration": 11,
    "start_time": "2022-01-18T11:59:27.618Z"
   },
   {
    "duration": 17,
    "start_time": "2022-01-18T11:59:27.660Z"
   },
   {
    "duration": 5,
    "start_time": "2022-01-18T11:59:27.680Z"
   },
   {
    "duration": 15,
    "start_time": "2022-01-18T11:59:27.687Z"
   },
   {
    "duration": 14,
    "start_time": "2022-01-18T11:59:27.705Z"
   },
   {
    "duration": 16,
    "start_time": "2022-01-18T11:59:27.760Z"
   },
   {
    "duration": 12,
    "start_time": "2022-01-18T11:59:27.779Z"
   },
   {
    "duration": 12,
    "start_time": "2022-01-18T11:59:27.793Z"
   },
   {
    "duration": 51,
    "start_time": "2022-01-18T11:59:27.808Z"
   },
   {
    "duration": 624,
    "start_time": "2022-01-18T11:59:27.862Z"
   },
   {
    "duration": 409,
    "start_time": "2022-01-18T12:00:37.108Z"
   },
   {
    "duration": 57,
    "start_time": "2022-01-18T12:03:42.676Z"
   },
   {
    "duration": 58,
    "start_time": "2022-01-18T12:04:37.596Z"
   },
   {
    "duration": 58,
    "start_time": "2022-01-18T12:05:19.468Z"
   },
   {
    "duration": 1342,
    "start_time": "2022-01-18T12:06:03.644Z"
   },
   {
    "duration": 36,
    "start_time": "2022-01-18T12:06:04.989Z"
   },
   {
    "duration": 34,
    "start_time": "2022-01-18T12:06:05.029Z"
   },
   {
    "duration": 13,
    "start_time": "2022-01-18T12:06:05.066Z"
   },
   {
    "duration": 15,
    "start_time": "2022-01-18T12:06:05.082Z"
   },
   {
    "duration": 5,
    "start_time": "2022-01-18T12:06:05.100Z"
   },
   {
    "duration": 57,
    "start_time": "2022-01-18T12:06:05.107Z"
   },
   {
    "duration": 39,
    "start_time": "2022-01-18T12:06:05.166Z"
   },
   {
    "duration": 3,
    "start_time": "2022-01-18T12:06:05.209Z"
   },
   {
    "duration": 47,
    "start_time": "2022-01-18T12:06:05.214Z"
   },
   {
    "duration": 9,
    "start_time": "2022-01-18T12:06:05.263Z"
   },
   {
    "duration": 11,
    "start_time": "2022-01-18T12:06:05.275Z"
   },
   {
    "duration": 99,
    "start_time": "2022-01-18T12:06:05.289Z"
   },
   {
    "duration": 71,
    "start_time": "2022-01-18T12:06:05.391Z"
   },
   {
    "duration": 58,
    "start_time": "2022-01-18T12:06:05.464Z"
   },
   {
    "duration": 1378,
    "start_time": "2022-01-18T12:06:34.893Z"
   },
   {
    "duration": 41,
    "start_time": "2022-01-18T12:06:36.274Z"
   },
   {
    "duration": 28,
    "start_time": "2022-01-18T12:06:36.318Z"
   },
   {
    "duration": 12,
    "start_time": "2022-01-18T12:06:36.359Z"
   },
   {
    "duration": 16,
    "start_time": "2022-01-18T12:06:36.374Z"
   },
   {
    "duration": 6,
    "start_time": "2022-01-18T12:06:36.392Z"
   },
   {
    "duration": 61,
    "start_time": "2022-01-18T12:06:36.400Z"
   },
   {
    "duration": 3,
    "start_time": "2022-01-18T12:06:36.463Z"
   },
   {
    "duration": 14,
    "start_time": "2022-01-18T12:06:36.470Z"
   },
   {
    "duration": 14,
    "start_time": "2022-01-18T12:06:36.487Z"
   },
   {
    "duration": 55,
    "start_time": "2022-01-18T12:06:36.504Z"
   },
   {
    "duration": 9,
    "start_time": "2022-01-18T12:06:36.562Z"
   },
   {
    "duration": 89,
    "start_time": "2022-01-18T12:06:36.574Z"
   },
   {
    "duration": 59,
    "start_time": "2022-01-18T12:06:36.665Z"
   },
   {
    "duration": 83,
    "start_time": "2022-01-18T12:06:36.727Z"
   },
   {
    "duration": 231,
    "start_time": "2022-01-18T12:09:31.352Z"
   },
   {
    "duration": 1298,
    "start_time": "2022-01-18T12:10:03.276Z"
   },
   {
    "duration": 109,
    "start_time": "2022-01-18T12:11:46.792Z"
   },
   {
    "duration": 91,
    "start_time": "2022-01-18T12:21:33.246Z"
   },
   {
    "duration": 8994,
    "start_time": "2022-01-18T12:30:56.222Z"
   },
   {
    "duration": 11490,
    "start_time": "2022-01-18T12:31:28.977Z"
   },
   {
    "duration": 53462,
    "start_time": "2022-01-18T12:32:45.081Z"
   },
   {
    "duration": 305,
    "start_time": "2022-01-18T12:39:37.657Z"
   },
   {
    "duration": 105,
    "start_time": "2022-01-18T12:57:21.003Z"
   },
   {
    "duration": 104,
    "start_time": "2022-01-18T12:58:09.563Z"
   },
   {
    "duration": 111,
    "start_time": "2022-01-18T12:58:28.512Z"
   },
   {
    "duration": 558,
    "start_time": "2022-01-18T12:58:37.151Z"
   },
   {
    "duration": 479,
    "start_time": "2022-01-18T12:59:49.419Z"
   },
   {
    "duration": 1467,
    "start_time": "2022-01-18T13:00:25.520Z"
   },
   {
    "duration": 38,
    "start_time": "2022-01-18T13:00:26.989Z"
   },
   {
    "duration": 41,
    "start_time": "2022-01-18T13:00:27.030Z"
   },
   {
    "duration": 16,
    "start_time": "2022-01-18T13:00:27.075Z"
   },
   {
    "duration": 18,
    "start_time": "2022-01-18T13:00:27.094Z"
   },
   {
    "duration": 47,
    "start_time": "2022-01-18T13:00:27.115Z"
   },
   {
    "duration": 14,
    "start_time": "2022-01-18T13:00:27.165Z"
   },
   {
    "duration": 2,
    "start_time": "2022-01-18T13:00:27.182Z"
   },
   {
    "duration": 13,
    "start_time": "2022-01-18T13:00:27.188Z"
   },
   {
    "duration": 60,
    "start_time": "2022-01-18T13:00:27.204Z"
   },
   {
    "duration": 11,
    "start_time": "2022-01-18T13:00:27.267Z"
   },
   {
    "duration": 10,
    "start_time": "2022-01-18T13:00:27.280Z"
   },
   {
    "duration": 52298,
    "start_time": "2022-01-18T13:00:27.293Z"
   },
   {
    "duration": 597,
    "start_time": "2022-01-18T13:01:19.594Z"
   },
   {
    "duration": 593,
    "start_time": "2022-01-18T13:06:26.344Z"
   },
   {
    "duration": 486,
    "start_time": "2022-01-18T13:07:12.574Z"
   },
   {
    "duration": 34,
    "start_time": "2022-01-18T13:07:32.818Z"
   },
   {
    "duration": 53,
    "start_time": "2022-01-18T13:11:45.507Z"
   },
   {
    "duration": 437,
    "start_time": "2022-01-18T13:25:58.273Z"
   },
   {
    "duration": 1771,
    "start_time": "2022-01-18T13:27:09.108Z"
   },
   {
    "duration": 476,
    "start_time": "2022-01-18T13:29:30.379Z"
   },
   {
    "duration": 46,
    "start_time": "2022-01-18T13:30:16.174Z"
   },
   {
    "duration": 6,
    "start_time": "2022-01-18T13:30:50.337Z"
   },
   {
    "duration": 1447,
    "start_time": "2022-01-18T13:30:50.347Z"
   },
   {
    "duration": 37,
    "start_time": "2022-01-18T13:30:51.797Z"
   },
   {
    "duration": 32,
    "start_time": "2022-01-18T13:30:51.836Z"
   },
   {
    "duration": 12,
    "start_time": "2022-01-18T13:30:51.870Z"
   },
   {
    "duration": 15,
    "start_time": "2022-01-18T13:30:51.884Z"
   },
   {
    "duration": 5,
    "start_time": "2022-01-18T13:30:51.901Z"
   },
   {
    "duration": 54,
    "start_time": "2022-01-18T13:30:51.909Z"
   },
   {
    "duration": 3,
    "start_time": "2022-01-18T13:30:51.967Z"
   },
   {
    "duration": 15,
    "start_time": "2022-01-18T13:30:51.973Z"
   },
   {
    "duration": 11,
    "start_time": "2022-01-18T13:30:51.991Z"
   },
   {
    "duration": 59,
    "start_time": "2022-01-18T13:30:52.005Z"
   },
   {
    "duration": 9,
    "start_time": "2022-01-18T13:30:52.066Z"
   },
   {
    "duration": 30,
    "start_time": "2022-01-18T13:30:52.078Z"
   },
   {
    "duration": 51750,
    "start_time": "2022-01-18T13:30:52.110Z"
   },
   {
    "duration": 490,
    "start_time": "2022-01-18T13:31:43.863Z"
   },
   {
    "duration": 1312,
    "start_time": "2022-01-18T13:31:44.356Z"
   },
   {
    "duration": 4,
    "start_time": "2022-01-18T13:37:21.446Z"
   },
   {
    "duration": 1446,
    "start_time": "2022-01-18T13:37:21.454Z"
   },
   {
    "duration": 38,
    "start_time": "2022-01-18T13:37:22.903Z"
   },
   {
    "duration": 33,
    "start_time": "2022-01-18T13:37:22.943Z"
   },
   {
    "duration": 14,
    "start_time": "2022-01-18T13:37:22.978Z"
   },
   {
    "duration": 15,
    "start_time": "2022-01-18T13:37:22.994Z"
   },
   {
    "duration": 5,
    "start_time": "2022-01-18T13:37:23.011Z"
   },
   {
    "duration": 49,
    "start_time": "2022-01-18T13:37:23.019Z"
   },
   {
    "duration": 3,
    "start_time": "2022-01-18T13:37:23.071Z"
   },
   {
    "duration": 16,
    "start_time": "2022-01-18T13:37:23.076Z"
   },
   {
    "duration": 11,
    "start_time": "2022-01-18T13:37:23.095Z"
   },
   {
    "duration": 562,
    "start_time": "2022-01-18T13:37:23.108Z"
   },
   {
    "duration": -104,
    "start_time": "2022-01-18T13:37:23.776Z"
   },
   {
    "duration": -105,
    "start_time": "2022-01-18T13:37:23.779Z"
   },
   {
    "duration": -112,
    "start_time": "2022-01-18T13:37:23.787Z"
   },
   {
    "duration": -119,
    "start_time": "2022-01-18T13:37:23.797Z"
   },
   {
    "duration": 4,
    "start_time": "2022-01-18T13:37:59.130Z"
   },
   {
    "duration": 1376,
    "start_time": "2022-01-18T13:37:59.136Z"
   },
   {
    "duration": 39,
    "start_time": "2022-01-18T13:38:00.515Z"
   },
   {
    "duration": 30,
    "start_time": "2022-01-18T13:38:00.561Z"
   },
   {
    "duration": 12,
    "start_time": "2022-01-18T13:38:00.594Z"
   },
   {
    "duration": 60,
    "start_time": "2022-01-18T13:38:00.609Z"
   },
   {
    "duration": 6,
    "start_time": "2022-01-18T13:38:00.674Z"
   },
   {
    "duration": 17,
    "start_time": "2022-01-18T13:38:00.684Z"
   },
   {
    "duration": 4,
    "start_time": "2022-01-18T13:38:00.703Z"
   },
   {
    "duration": 61,
    "start_time": "2022-01-18T13:38:00.709Z"
   },
   {
    "duration": 11,
    "start_time": "2022-01-18T13:38:00.773Z"
   },
   {
    "duration": 488,
    "start_time": "2022-01-18T13:38:00.786Z"
   },
   {
    "duration": -110,
    "start_time": "2022-01-18T13:38:01.387Z"
   },
   {
    "duration": -112,
    "start_time": "2022-01-18T13:38:01.390Z"
   },
   {
    "duration": -113,
    "start_time": "2022-01-18T13:38:01.393Z"
   },
   {
    "duration": -114,
    "start_time": "2022-01-18T13:38:01.395Z"
   },
   {
    "duration": 22,
    "start_time": "2022-01-18T13:38:27.021Z"
   },
   {
    "duration": 5,
    "start_time": "2022-01-18T13:38:34.812Z"
   },
   {
    "duration": 1384,
    "start_time": "2022-01-18T13:38:34.819Z"
   },
   {
    "duration": 55,
    "start_time": "2022-01-18T13:38:36.207Z"
   },
   {
    "duration": 42,
    "start_time": "2022-01-18T13:38:36.266Z"
   },
   {
    "duration": 18,
    "start_time": "2022-01-18T13:38:36.311Z"
   },
   {
    "duration": 23,
    "start_time": "2022-01-18T13:38:36.359Z"
   },
   {
    "duration": 7,
    "start_time": "2022-01-18T13:38:36.385Z"
   },
   {
    "duration": 14,
    "start_time": "2022-01-18T13:38:36.395Z"
   },
   {
    "duration": 45,
    "start_time": "2022-01-18T13:38:36.414Z"
   },
   {
    "duration": 19,
    "start_time": "2022-01-18T13:38:36.463Z"
   },
   {
    "duration": 12,
    "start_time": "2022-01-18T13:38:36.485Z"
   },
   {
    "duration": 63,
    "start_time": "2022-01-18T13:38:36.500Z"
   },
   {
    "duration": 31,
    "start_time": "2022-01-18T13:38:36.565Z"
   },
   {
    "duration": 47807,
    "start_time": "2022-01-18T13:38:36.599Z"
   },
   {
    "duration": 426,
    "start_time": "2022-01-18T13:39:24.408Z"
   },
   {
    "duration": 925,
    "start_time": "2022-01-18T13:39:24.836Z"
   },
   {
    "duration": 21,
    "start_time": "2022-01-18T13:41:05.851Z"
   },
   {
    "duration": 5,
    "start_time": "2022-01-18T13:41:11.938Z"
   },
   {
    "duration": 1449,
    "start_time": "2022-01-18T13:41:11.947Z"
   },
   {
    "duration": 37,
    "start_time": "2022-01-18T13:41:13.399Z"
   },
   {
    "duration": 32,
    "start_time": "2022-01-18T13:41:13.439Z"
   },
   {
    "duration": 12,
    "start_time": "2022-01-18T13:41:13.473Z"
   },
   {
    "duration": 19,
    "start_time": "2022-01-18T13:41:13.487Z"
   },
   {
    "duration": 55,
    "start_time": "2022-01-18T13:41:13.509Z"
   },
   {
    "duration": 11,
    "start_time": "2022-01-18T13:41:13.568Z"
   },
   {
    "duration": 3,
    "start_time": "2022-01-18T13:41:13.582Z"
   },
   {
    "duration": 25,
    "start_time": "2022-01-18T13:41:13.587Z"
   },
   {
    "duration": 47,
    "start_time": "2022-01-18T13:41:13.615Z"
   },
   {
    "duration": 21,
    "start_time": "2022-01-18T13:41:13.664Z"
   },
   {
    "duration": 31,
    "start_time": "2022-01-18T13:41:13.688Z"
   },
   {
    "duration": 49053,
    "start_time": "2022-01-18T13:41:13.721Z"
   },
   {
    "duration": 409,
    "start_time": "2022-01-18T13:42:02.776Z"
   },
   {
    "duration": 1184,
    "start_time": "2022-01-18T13:42:03.188Z"
   },
   {
    "duration": 532,
    "start_time": "2022-01-18T13:46:58.757Z"
   },
   {
    "duration": 25,
    "start_time": "2022-01-18T13:47:44.252Z"
   },
   {
    "duration": 6,
    "start_time": "2022-01-18T13:50:52.547Z"
   },
   {
    "duration": 1928,
    "start_time": "2022-01-18T13:50:52.556Z"
   },
   {
    "duration": 38,
    "start_time": "2022-01-18T13:50:54.488Z"
   },
   {
    "duration": 38,
    "start_time": "2022-01-18T13:50:54.529Z"
   },
   {
    "duration": 18,
    "start_time": "2022-01-18T13:50:54.570Z"
   },
   {
    "duration": 68,
    "start_time": "2022-01-18T13:50:54.591Z"
   },
   {
    "duration": 6,
    "start_time": "2022-01-18T13:50:54.663Z"
   },
   {
    "duration": 13,
    "start_time": "2022-01-18T13:50:54.671Z"
   },
   {
    "duration": 4,
    "start_time": "2022-01-18T13:50:54.688Z"
   },
   {
    "duration": 16,
    "start_time": "2022-01-18T13:50:54.694Z"
   },
   {
    "duration": 58,
    "start_time": "2022-01-18T13:50:54.712Z"
   },
   {
    "duration": 21,
    "start_time": "2022-01-18T13:50:54.773Z"
   },
   {
    "duration": 63,
    "start_time": "2022-01-18T13:50:54.796Z"
   },
   {
    "duration": 46681,
    "start_time": "2022-01-18T13:50:54.862Z"
   },
   {
    "duration": 428,
    "start_time": "2022-01-18T13:51:41.545Z"
   },
   {
    "duration": 88,
    "start_time": "2022-01-18T13:51:41.976Z"
   },
   {
    "duration": 1393,
    "start_time": "2022-01-18T13:51:42.068Z"
   },
   {
    "duration": 605,
    "start_time": "2022-01-18T13:54:40.758Z"
   },
   {
    "duration": 29,
    "start_time": "2022-01-18T13:54:49.840Z"
   },
   {
    "duration": 403,
    "start_time": "2022-01-18T13:57:08.769Z"
   },
   {
    "duration": 588,
    "start_time": "2022-01-18T13:57:25.731Z"
   },
   {
    "duration": 385,
    "start_time": "2022-01-18T13:57:32.100Z"
   },
   {
    "duration": 434,
    "start_time": "2022-01-18T13:58:30.804Z"
   },
   {
    "duration": 4,
    "start_time": "2022-01-18T13:58:43.290Z"
   },
   {
    "duration": 1289,
    "start_time": "2022-01-18T13:58:43.296Z"
   },
   {
    "duration": 37,
    "start_time": "2022-01-18T13:58:44.588Z"
   },
   {
    "duration": 33,
    "start_time": "2022-01-18T13:58:44.628Z"
   },
   {
    "duration": 12,
    "start_time": "2022-01-18T13:58:44.663Z"
   },
   {
    "duration": 18,
    "start_time": "2022-01-18T13:58:44.677Z"
   },
   {
    "duration": 5,
    "start_time": "2022-01-18T13:58:44.697Z"
   },
   {
    "duration": 59,
    "start_time": "2022-01-18T13:58:44.706Z"
   },
   {
    "duration": 4,
    "start_time": "2022-01-18T13:58:44.768Z"
   },
   {
    "duration": 14,
    "start_time": "2022-01-18T13:58:44.774Z"
   },
   {
    "duration": 11,
    "start_time": "2022-01-18T13:58:44.791Z"
   },
   {
    "duration": 65,
    "start_time": "2022-01-18T13:58:44.804Z"
   },
   {
    "duration": 30,
    "start_time": "2022-01-18T13:58:44.871Z"
   },
   {
    "duration": 44173,
    "start_time": "2022-01-18T13:58:44.903Z"
   },
   {
    "duration": 380,
    "start_time": "2022-01-18T13:59:29.079Z"
   },
   {
    "duration": 101,
    "start_time": "2022-01-18T13:59:29.462Z"
   },
   {
    "duration": 998,
    "start_time": "2022-01-18T13:59:29.566Z"
   },
   {
    "duration": 19,
    "start_time": "2022-01-18T14:01:05.394Z"
   },
   {
    "duration": 5,
    "start_time": "2022-01-18T14:02:51.960Z"
   },
   {
    "duration": 1356,
    "start_time": "2022-01-18T14:02:51.968Z"
   },
   {
    "duration": 43,
    "start_time": "2022-01-18T14:02:53.327Z"
   },
   {
    "duration": 28,
    "start_time": "2022-01-18T14:02:53.374Z"
   },
   {
    "duration": 11,
    "start_time": "2022-01-18T14:02:53.405Z"
   },
   {
    "duration": 48,
    "start_time": "2022-01-18T14:02:53.419Z"
   },
   {
    "duration": 5,
    "start_time": "2022-01-18T14:02:53.470Z"
   },
   {
    "duration": 11,
    "start_time": "2022-01-18T14:02:53.479Z"
   },
   {
    "duration": 3,
    "start_time": "2022-01-18T14:02:53.493Z"
   },
   {
    "duration": 63,
    "start_time": "2022-01-18T14:02:53.499Z"
   },
   {
    "duration": 11,
    "start_time": "2022-01-18T14:02:53.564Z"
   },
   {
    "duration": 17,
    "start_time": "2022-01-18T14:02:53.578Z"
   },
   {
    "duration": 64,
    "start_time": "2022-01-18T14:02:53.597Z"
   },
   {
    "duration": 30,
    "start_time": "2022-01-18T14:02:53.664Z"
   },
   {
    "duration": 163,
    "start_time": "2022-01-18T14:02:53.697Z"
   },
   {
    "duration": 1810,
    "start_time": "2022-01-18T14:02:53.862Z"
   },
   {
    "duration": 41140,
    "start_time": "2022-01-18T14:02:55.674Z"
   },
   {
    "duration": 315,
    "start_time": "2022-01-18T14:03:36.817Z"
   },
   {
    "duration": 1836,
    "start_time": "2022-01-18T14:04:42.336Z"
   },
   {
    "duration": 5223,
    "start_time": "2022-01-18T14:06:22.449Z"
   },
   {
    "duration": 8,
    "start_time": "2022-01-18T14:06:39.617Z"
   },
   {
    "duration": 9,
    "start_time": "2022-01-18T14:06:52.232Z"
   },
   {
    "duration": 797,
    "start_time": "2022-01-18T14:11:24.324Z"
   },
   {
    "duration": 23,
    "start_time": "2022-01-18T14:11:46.143Z"
   },
   {
    "duration": 8,
    "start_time": "2022-01-18T14:12:23.094Z"
   },
   {
    "duration": 8,
    "start_time": "2022-01-18T14:12:37.037Z"
   },
   {
    "duration": 18,
    "start_time": "2022-01-18T14:14:26.723Z"
   },
   {
    "duration": 7,
    "start_time": "2022-01-18T14:14:28.280Z"
   },
   {
    "duration": 417,
    "start_time": "2022-01-18T14:19:27.503Z"
   },
   {
    "duration": 391,
    "start_time": "2022-01-18T14:21:23.347Z"
   },
   {
    "duration": 377,
    "start_time": "2022-01-18T14:23:23.774Z"
   },
   {
    "duration": 470,
    "start_time": "2022-01-18T14:25:33.155Z"
   },
   {
    "duration": 502,
    "start_time": "2022-01-18T14:26:34.404Z"
   },
   {
    "duration": 656,
    "start_time": "2022-01-18T14:27:35.617Z"
   },
   {
    "duration": 58098,
    "start_time": "2022-01-18T16:37:59.841Z"
   },
   {
    "duration": 56868,
    "start_time": "2022-01-18T16:40:27.197Z"
   },
   {
    "duration": 56940,
    "start_time": "2022-01-18T16:43:42.997Z"
   },
   {
    "duration": 405,
    "start_time": "2022-01-18T16:47:14.783Z"
   },
   {
    "duration": 381,
    "start_time": "2022-01-18T16:51:37.161Z"
   },
   {
    "duration": 39,
    "start_time": "2022-01-18T16:55:14.582Z"
   },
   {
    "duration": 379,
    "start_time": "2022-01-18T16:57:08.232Z"
   },
   {
    "duration": 365,
    "start_time": "2022-01-18T16:59:00.856Z"
   },
   {
    "duration": 1789,
    "start_time": "2022-01-18T17:01:02.276Z"
   },
   {
    "duration": 1858,
    "start_time": "2022-01-18T17:01:21.125Z"
   },
   {
    "duration": 455,
    "start_time": "2022-01-18T17:03:18.801Z"
   },
   {
    "duration": 533,
    "start_time": "2022-01-18T17:07:57.322Z"
   },
   {
    "duration": 28,
    "start_time": "2022-01-18T17:16:55.973Z"
   },
   {
    "duration": 27,
    "start_time": "2022-01-18T17:17:01.646Z"
   },
   {
    "duration": 19,
    "start_time": "2022-01-18T17:20:46.440Z"
   },
   {
    "duration": 7,
    "start_time": "2022-01-18T17:20:58.404Z"
   },
   {
    "duration": 7,
    "start_time": "2022-01-18T17:22:17.818Z"
   },
   {
    "duration": 11,
    "start_time": "2022-01-18T17:22:29.957Z"
   },
   {
    "duration": 399,
    "start_time": "2022-01-18T17:22:38.199Z"
   },
   {
    "duration": 6,
    "start_time": "2022-01-18T17:23:00.207Z"
   },
   {
    "duration": 11,
    "start_time": "2022-01-18T17:24:26.827Z"
   },
   {
    "duration": 5,
    "start_time": "2022-01-18T17:24:40.537Z"
   },
   {
    "duration": 88063,
    "start_time": "2022-01-18T17:26:59.567Z"
   },
   {
    "duration": 410,
    "start_time": "2022-01-18T17:29:31.397Z"
   },
   {
    "duration": 70780,
    "start_time": "2022-01-18T17:31:44.924Z"
   },
   {
    "duration": 26,
    "start_time": "2022-01-18T17:34:07.204Z"
   },
   {
    "duration": 414,
    "start_time": "2022-01-18T17:35:29.358Z"
   },
   {
    "duration": 412,
    "start_time": "2022-01-18T17:35:35.469Z"
   },
   {
    "duration": 397,
    "start_time": "2022-01-18T17:35:42.703Z"
   },
   {
    "duration": 401,
    "start_time": "2022-01-18T17:35:52.967Z"
   },
   {
    "duration": 273,
    "start_time": "2022-01-18T17:36:02.979Z"
   },
   {
    "duration": 70632,
    "start_time": "2022-01-18T17:36:40.514Z"
   },
   {
    "duration": 349,
    "start_time": "2022-01-18T17:38:56.113Z"
   },
   {
    "duration": 15,
    "start_time": "2022-01-18T17:40:05.133Z"
   },
   {
    "duration": 10,
    "start_time": "2022-01-18T17:40:43.225Z"
   },
   {
    "duration": 4,
    "start_time": "2022-01-18T17:42:38.392Z"
   },
   {
    "duration": 1345,
    "start_time": "2022-01-18T17:42:38.399Z"
   },
   {
    "duration": 37,
    "start_time": "2022-01-18T17:42:39.747Z"
   },
   {
    "duration": 33,
    "start_time": "2022-01-18T17:42:39.787Z"
   },
   {
    "duration": 13,
    "start_time": "2022-01-18T17:42:39.823Z"
   },
   {
    "duration": 16,
    "start_time": "2022-01-18T17:42:39.860Z"
   },
   {
    "duration": 5,
    "start_time": "2022-01-18T17:42:39.878Z"
   },
   {
    "duration": 12,
    "start_time": "2022-01-18T17:42:39.886Z"
   },
   {
    "duration": 3,
    "start_time": "2022-01-18T17:42:39.902Z"
   },
   {
    "duration": 53,
    "start_time": "2022-01-18T17:42:39.908Z"
   },
   {
    "duration": 12,
    "start_time": "2022-01-18T17:42:39.964Z"
   },
   {
    "duration": 17,
    "start_time": "2022-01-18T17:42:39.978Z"
   },
   {
    "duration": 23,
    "start_time": "2022-01-18T17:42:39.998Z"
   },
   {
    "duration": 32,
    "start_time": "2022-01-18T17:42:40.060Z"
   },
   {
    "duration": 41325,
    "start_time": "2022-01-18T17:42:40.094Z"
   },
   {
    "duration": 313,
    "start_time": "2022-01-18T17:43:21.421Z"
   },
   {
    "duration": 1737,
    "start_time": "2022-01-18T17:43:21.736Z"
   },
   {
    "duration": 99,
    "start_time": "2022-01-18T17:43:23.562Z"
   },
   {
    "duration": 689,
    "start_time": "2022-01-18T17:43:23.664Z"
   },
   {
    "duration": 17,
    "start_time": "2022-01-18T17:43:24.359Z"
   },
   {
    "duration": 7,
    "start_time": "2022-01-18T17:43:24.378Z"
   },
   {
    "duration": 56328,
    "start_time": "2022-01-18T17:43:24.387Z"
   },
   {
    "duration": 522,
    "start_time": "2022-01-18T17:44:20.717Z"
   },
   {
    "duration": 2340,
    "start_time": "2022-01-18T17:44:18.901Z"
   },
   {
    "duration": 2338,
    "start_time": "2022-01-18T17:44:18.905Z"
   },
   {
    "duration": 2324,
    "start_time": "2022-01-18T17:44:18.920Z"
   },
   {
    "duration": 2279,
    "start_time": "2022-01-18T17:44:18.967Z"
   },
   {
    "duration": 2277,
    "start_time": "2022-01-18T17:44:18.970Z"
   },
   {
    "duration": 2275,
    "start_time": "2022-01-18T17:44:18.974Z"
   },
   {
    "duration": 2273,
    "start_time": "2022-01-18T17:44:18.977Z"
   },
   {
    "duration": 2272,
    "start_time": "2022-01-18T17:44:18.980Z"
   },
   {
    "duration": 2269,
    "start_time": "2022-01-18T17:44:18.984Z"
   },
   {
    "duration": 406,
    "start_time": "2022-01-18T17:45:26.907Z"
   },
   {
    "duration": 1937,
    "start_time": "2022-01-18T17:45:31.321Z"
   },
   {
    "duration": 561,
    "start_time": "2022-01-18T17:45:42.932Z"
   },
   {
    "duration": 7,
    "start_time": "2022-01-18T17:45:49.197Z"
   },
   {
    "duration": 28,
    "start_time": "2022-01-18T17:45:52.427Z"
   },
   {
    "duration": 12,
    "start_time": "2022-01-18T17:45:55.231Z"
   },
   {
    "duration": 16,
    "start_time": "2022-01-18T17:45:57.753Z"
   },
   {
    "duration": 71430,
    "start_time": "2022-01-18T17:47:40.234Z"
   },
   {
    "duration": 4,
    "start_time": "2022-01-18T18:26:45.370Z"
   },
   {
    "duration": 1536,
    "start_time": "2022-01-18T18:26:45.377Z"
   },
   {
    "duration": 45,
    "start_time": "2022-01-18T18:26:46.919Z"
   },
   {
    "duration": 31,
    "start_time": "2022-01-18T18:26:46.966Z"
   },
   {
    "duration": 12,
    "start_time": "2022-01-18T18:26:46.999Z"
   },
   {
    "duration": 52,
    "start_time": "2022-01-18T18:26:47.014Z"
   },
   {
    "duration": 6,
    "start_time": "2022-01-18T18:26:47.072Z"
   },
   {
    "duration": 16,
    "start_time": "2022-01-18T18:26:47.082Z"
   },
   {
    "duration": 3,
    "start_time": "2022-01-18T18:26:47.100Z"
   },
   {
    "duration": 62,
    "start_time": "2022-01-18T18:26:47.106Z"
   },
   {
    "duration": 11,
    "start_time": "2022-01-18T18:26:47.171Z"
   },
   {
    "duration": 19,
    "start_time": "2022-01-18T18:26:47.184Z"
   },
   {
    "duration": 66,
    "start_time": "2022-01-18T18:26:47.206Z"
   },
   {
    "duration": 37,
    "start_time": "2022-01-18T18:26:47.276Z"
   },
   {
    "duration": 42804,
    "start_time": "2022-01-18T18:26:47.315Z"
   },
   {
    "duration": 337,
    "start_time": "2022-01-18T18:27:30.123Z"
   },
   {
    "duration": 1707,
    "start_time": "2022-01-18T18:27:30.462Z"
   },
   {
    "duration": 187,
    "start_time": "2022-01-18T18:27:32.172Z"
   },
   {
    "duration": 979,
    "start_time": "2022-01-18T18:27:32.362Z"
   },
   {
    "duration": 36,
    "start_time": "2022-01-18T18:27:33.345Z"
   },
   {
    "duration": 18,
    "start_time": "2022-01-18T18:27:33.384Z"
   },
   {
    "duration": 59030,
    "start_time": "2022-01-18T18:27:33.409Z"
   },
   {
    "duration": 430,
    "start_time": "2022-01-18T18:28:32.442Z"
   },
   {
    "duration": 1884,
    "start_time": "2022-01-18T18:28:32.875Z"
   },
   {
    "duration": 787,
    "start_time": "2022-01-18T18:28:34.763Z"
   },
   {
    "duration": 10,
    "start_time": "2022-01-18T18:28:35.560Z"
   },
   {
    "duration": 35,
    "start_time": "2022-01-18T18:28:35.573Z"
   },
   {
    "duration": 9,
    "start_time": "2022-01-18T18:28:35.611Z"
   },
   {
    "duration": 46,
    "start_time": "2022-01-18T18:28:35.622Z"
   },
   {
    "duration": 70979,
    "start_time": "2022-01-18T18:28:35.673Z"
   },
   {
    "duration": 5,
    "start_time": "2022-01-19T08:18:58.951Z"
   },
   {
    "duration": 3,
    "start_time": "2022-01-19T08:21:04.112Z"
   },
   {
    "duration": 1886,
    "start_time": "2022-01-19T08:21:04.116Z"
   },
   {
    "duration": 28,
    "start_time": "2022-01-19T08:21:06.004Z"
   },
   {
    "duration": 17,
    "start_time": "2022-01-19T08:21:06.034Z"
   },
   {
    "duration": 12,
    "start_time": "2022-01-19T08:21:06.052Z"
   },
   {
    "duration": 20,
    "start_time": "2022-01-19T08:21:06.065Z"
   },
   {
    "duration": 4,
    "start_time": "2022-01-19T08:21:06.087Z"
   },
   {
    "duration": 8,
    "start_time": "2022-01-19T08:21:06.092Z"
   },
   {
    "duration": 1,
    "start_time": "2022-01-19T08:21:06.103Z"
   },
   {
    "duration": 10,
    "start_time": "2022-01-19T08:21:06.106Z"
   },
   {
    "duration": 6,
    "start_time": "2022-01-19T08:21:06.117Z"
   },
   {
    "duration": 9,
    "start_time": "2022-01-19T08:21:06.125Z"
   },
   {
    "duration": 13,
    "start_time": "2022-01-19T08:21:06.172Z"
   },
   {
    "duration": 20,
    "start_time": "2022-01-19T08:21:06.187Z"
   },
   {
    "duration": 26089,
    "start_time": "2022-01-19T08:21:06.208Z"
   },
   {
    "duration": 212,
    "start_time": "2022-01-19T08:21:32.299Z"
   },
   {
    "duration": 1167,
    "start_time": "2022-01-19T08:21:32.513Z"
   },
   {
    "duration": 91,
    "start_time": "2022-01-19T08:21:33.683Z"
   },
   {
    "duration": 582,
    "start_time": "2022-01-19T08:21:33.777Z"
   },
   {
    "duration": 12,
    "start_time": "2022-01-19T08:21:34.361Z"
   },
   {
    "duration": 5,
    "start_time": "2022-01-19T08:21:34.374Z"
   },
   {
    "duration": 34448,
    "start_time": "2022-01-19T08:21:34.381Z"
   },
   {
    "duration": 278,
    "start_time": "2022-01-19T08:22:08.831Z"
   },
   {
    "duration": 1464,
    "start_time": "2022-01-19T08:22:09.110Z"
   },
   {
    "duration": 513,
    "start_time": "2022-01-19T08:22:10.576Z"
   },
   {
    "duration": 4,
    "start_time": "2022-01-19T08:22:11.091Z"
   },
   {
    "duration": 26,
    "start_time": "2022-01-19T08:22:11.098Z"
   },
   {
    "duration": 20,
    "start_time": "2022-01-19T08:22:11.126Z"
   },
   {
    "duration": 36,
    "start_time": "2022-01-19T08:22:11.148Z"
   },
   {
    "duration": 7,
    "start_time": "2022-01-19T08:22:11.186Z"
   },
   {
    "duration": 77,
    "start_time": "2022-01-19T08:22:11.195Z"
   },
   {
    "duration": 43994,
    "start_time": "2022-01-19T08:22:11.275Z"
   },
   {
    "duration": 417,
    "start_time": "2022-01-19T08:22:55.272Z"
   },
   {
    "duration": 5,
    "start_time": "2022-01-19T08:23:20.117Z"
   },
   {
    "duration": 16744,
    "start_time": "2022-01-19T08:48:46.730Z"
   },
   {
    "duration": 112,
    "start_time": "2022-01-19T08:52:53.577Z"
   },
   {
    "duration": 854,
    "start_time": "2022-01-19T08:53:28.023Z"
   },
   {
    "duration": 408,
    "start_time": "2022-01-19T09:10:04.450Z"
   },
   {
    "duration": 6,
    "start_time": "2022-01-19T09:12:35.659Z"
   },
   {
    "duration": 14,
    "start_time": "2022-01-19T09:14:23.996Z"
   },
   {
    "duration": 36,
    "start_time": "2022-01-19T09:14:26.137Z"
   },
   {
    "duration": 4,
    "start_time": "2022-01-19T09:53:23.620Z"
   },
   {
    "duration": 3,
    "start_time": "2022-01-19T09:54:11.371Z"
   },
   {
    "duration": 1086,
    "start_time": "2022-01-19T09:54:11.375Z"
   },
   {
    "duration": 29,
    "start_time": "2022-01-19T09:54:12.463Z"
   },
   {
    "duration": 14,
    "start_time": "2022-01-19T09:54:12.494Z"
   },
   {
    "duration": 8,
    "start_time": "2022-01-19T09:54:12.510Z"
   },
   {
    "duration": 9,
    "start_time": "2022-01-19T09:54:12.520Z"
   },
   {
    "duration": 4,
    "start_time": "2022-01-19T09:54:12.530Z"
   },
   {
    "duration": 37,
    "start_time": "2022-01-19T09:54:12.535Z"
   },
   {
    "duration": 2,
    "start_time": "2022-01-19T09:54:12.574Z"
   },
   {
    "duration": 9,
    "start_time": "2022-01-19T09:54:12.578Z"
   },
   {
    "duration": 7,
    "start_time": "2022-01-19T09:54:12.588Z"
   },
   {
    "duration": 10,
    "start_time": "2022-01-19T09:54:12.596Z"
   },
   {
    "duration": 17,
    "start_time": "2022-01-19T09:54:12.607Z"
   },
   {
    "duration": 52,
    "start_time": "2022-01-19T09:54:12.625Z"
   },
   {
    "duration": 26281,
    "start_time": "2022-01-19T09:54:12.678Z"
   },
   {
    "duration": 228,
    "start_time": "2022-01-19T09:54:38.961Z"
   },
   {
    "duration": 1283,
    "start_time": "2022-01-19T09:54:39.190Z"
   },
   {
    "duration": 98,
    "start_time": "2022-01-19T09:54:40.475Z"
   },
   {
    "duration": 359,
    "start_time": "2022-01-19T09:54:40.575Z"
   },
   {
    "duration": 12,
    "start_time": "2022-01-19T09:54:40.936Z"
   },
   {
    "duration": 4,
    "start_time": "2022-01-19T09:54:40.950Z"
   },
   {
    "duration": 34628,
    "start_time": "2022-01-19T09:54:40.956Z"
   },
   {
    "duration": 277,
    "start_time": "2022-01-19T09:55:15.586Z"
   },
   {
    "duration": 1513,
    "start_time": "2022-01-19T09:55:15.864Z"
   },
   {
    "duration": 565,
    "start_time": "2022-01-19T09:55:17.379Z"
   },
   {
    "duration": 5,
    "start_time": "2022-01-19T09:55:17.946Z"
   },
   {
    "duration": 28,
    "start_time": "2022-01-19T09:55:17.956Z"
   },
   {
    "duration": 8,
    "start_time": "2022-01-19T09:55:17.986Z"
   },
   {
    "duration": 16561,
    "start_time": "2022-01-19T09:55:17.996Z"
   },
   {
    "duration": 122,
    "start_time": "2022-01-19T09:55:34.559Z"
   },
   {
    "duration": 895,
    "start_time": "2022-01-19T09:55:34.682Z"
   },
   {
    "duration": 581,
    "start_time": "2022-01-19T09:55:35.579Z"
   },
   {
    "duration": 3,
    "start_time": "2022-01-19T09:55:36.161Z"
   },
   {
    "duration": 22,
    "start_time": "2022-01-19T09:55:36.165Z"
   },
   {
    "duration": 6,
    "start_time": "2022-01-19T09:55:36.188Z"
   },
   {
    "duration": 9,
    "start_time": "2022-01-19T09:55:36.196Z"
   },
   {
    "duration": 71,
    "start_time": "2022-01-19T09:55:36.207Z"
   },
   {
    "duration": 105,
    "start_time": "2022-01-19T09:55:36.280Z"
   },
   {
    "duration": 9,
    "start_time": "2022-01-19T09:55:36.386Z"
   }
  ],
  "kernelspec": {
   "display_name": "Python 3",
   "language": "python",
   "name": "python3"
  },
  "language_info": {
   "codemirror_mode": {
    "name": "ipython",
    "version": 3
   },
   "file_extension": ".py",
   "mimetype": "text/x-python",
   "name": "python",
   "nbconvert_exporter": "python",
   "pygments_lexer": "ipython3",
   "version": "3.8.8"
  },
  "toc": {
   "base_numbering": 1,
   "nav_menu": {},
   "number_sections": true,
   "sideBar": true,
   "skip_h1_title": true,
   "title_cell": "Содержание",
   "title_sidebar": "Contents",
   "toc_cell": true,
   "toc_position": {},
   "toc_section_display": true,
   "toc_window_display": false
  }
 },
 "nbformat": 4,
 "nbformat_minor": 2
}

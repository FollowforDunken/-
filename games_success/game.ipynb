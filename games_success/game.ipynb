{
 "cells": [
  {
   "cell_type": "markdown",
   "metadata": {},
   "source": [
    "# План работы:\n",
    "1. Изучить общую информацию\n",
    "2. Подготовить данные\n",
    "3. Провести исследовательский анализ данных\n",
    "- Посмотреть, сколько игр выпускалось в разные годы. \n",
    "- Посмотреть, как менялись продажи по платформам.\n",
    "- Возять данные за актуальный период.\n",
    "- Посмотреть, как влияют на продажи внутри одной популярной платформы отзывы пользователей и критиков. Построить диаграмму рассеяния и посчитать корреляцию между отзывами и продажами. \n",
    "- Соотнесити выводы с продажами игр на других платформах.\n",
    "- Просмотреть на общее распределение игр по жанрам.\n",
    "4. Составить портрет пользователя каждого региона\n",
    "5. Проверить гипотезы:\n",
    "- Средние пользовательские рейтинги платформ Xbox One и PC одинаковые;\n",
    "- Средние пользовательские рейтинги жанров Action (англ. «действие», экшен-игры) и Sports (англ. «спортивные соревнования») разные."
   ]
  },
  {
   "cell_type": "markdown",
   "metadata": {},
   "source": [
    "## Изучение данных"
   ]
  },
  {
   "cell_type": "code",
   "execution_count": 1,
   "metadata": {},
   "outputs": [
    {
     "data": {
      "text/html": [
       "<div>\n",
       "<style scoped>\n",
       "    .dataframe tbody tr th:only-of-type {\n",
       "        vertical-align: middle;\n",
       "    }\n",
       "\n",
       "    .dataframe tbody tr th {\n",
       "        vertical-align: top;\n",
       "    }\n",
       "\n",
       "    .dataframe thead th {\n",
       "        text-align: right;\n",
       "    }\n",
       "</style>\n",
       "<table border=\"1\" class=\"dataframe\">\n",
       "  <thead>\n",
       "    <tr style=\"text-align: right;\">\n",
       "      <th></th>\n",
       "      <th>Name</th>\n",
       "      <th>Platform</th>\n",
       "      <th>Year_of_Release</th>\n",
       "      <th>Genre</th>\n",
       "      <th>NA_sales</th>\n",
       "      <th>EU_sales</th>\n",
       "      <th>JP_sales</th>\n",
       "      <th>Other_sales</th>\n",
       "      <th>Critic_Score</th>\n",
       "      <th>User_Score</th>\n",
       "      <th>Rating</th>\n",
       "    </tr>\n",
       "  </thead>\n",
       "  <tbody>\n",
       "    <tr>\n",
       "      <td>5580</td>\n",
       "      <td>OverBlood</td>\n",
       "      <td>PS</td>\n",
       "      <td>1996.0</td>\n",
       "      <td>Action</td>\n",
       "      <td>0.05</td>\n",
       "      <td>0.04</td>\n",
       "      <td>0.21</td>\n",
       "      <td>0.02</td>\n",
       "      <td>NaN</td>\n",
       "      <td>NaN</td>\n",
       "      <td>NaN</td>\n",
       "    </tr>\n",
       "    <tr>\n",
       "      <td>4584</td>\n",
       "      <td>Superman: Shadow of Apokolips</td>\n",
       "      <td>PS2</td>\n",
       "      <td>2002.0</td>\n",
       "      <td>Action</td>\n",
       "      <td>0.21</td>\n",
       "      <td>0.16</td>\n",
       "      <td>0.00</td>\n",
       "      <td>0.05</td>\n",
       "      <td>64.0</td>\n",
       "      <td>7.2</td>\n",
       "      <td>E</td>\n",
       "    </tr>\n",
       "    <tr>\n",
       "      <td>7808</td>\n",
       "      <td>Quantum Theory</td>\n",
       "      <td>PS3</td>\n",
       "      <td>2010.0</td>\n",
       "      <td>Shooter</td>\n",
       "      <td>0.05</td>\n",
       "      <td>0.09</td>\n",
       "      <td>0.02</td>\n",
       "      <td>0.03</td>\n",
       "      <td>43.0</td>\n",
       "      <td>5.3</td>\n",
       "      <td>M</td>\n",
       "    </tr>\n",
       "    <tr>\n",
       "      <td>12926</td>\n",
       "      <td>Defendin' De Penguin</td>\n",
       "      <td>Wii</td>\n",
       "      <td>2008.0</td>\n",
       "      <td>Strategy</td>\n",
       "      <td>0.05</td>\n",
       "      <td>0.00</td>\n",
       "      <td>0.00</td>\n",
       "      <td>0.00</td>\n",
       "      <td>NaN</td>\n",
       "      <td>NaN</td>\n",
       "      <td>NaN</td>\n",
       "    </tr>\n",
       "    <tr>\n",
       "      <td>15655</td>\n",
       "      <td>Super Dodge Ball</td>\n",
       "      <td>NG</td>\n",
       "      <td>1995.0</td>\n",
       "      <td>Sports</td>\n",
       "      <td>0.00</td>\n",
       "      <td>0.00</td>\n",
       "      <td>0.02</td>\n",
       "      <td>0.00</td>\n",
       "      <td>NaN</td>\n",
       "      <td>NaN</td>\n",
       "      <td>NaN</td>\n",
       "    </tr>\n",
       "    <tr>\n",
       "      <td>13612</td>\n",
       "      <td>Twilight Syndrome: Kinjiratera Toshi Densetsu</td>\n",
       "      <td>DS</td>\n",
       "      <td>2008.0</td>\n",
       "      <td>Adventure</td>\n",
       "      <td>0.00</td>\n",
       "      <td>0.00</td>\n",
       "      <td>0.04</td>\n",
       "      <td>0.00</td>\n",
       "      <td>NaN</td>\n",
       "      <td>NaN</td>\n",
       "      <td>NaN</td>\n",
       "    </tr>\n",
       "    <tr>\n",
       "      <td>6409</td>\n",
       "      <td>Are You Smarter than a 5th Grader? Game Time</td>\n",
       "      <td>Wii</td>\n",
       "      <td>2009.0</td>\n",
       "      <td>Puzzle</td>\n",
       "      <td>0.25</td>\n",
       "      <td>0.00</td>\n",
       "      <td>0.00</td>\n",
       "      <td>0.02</td>\n",
       "      <td>NaN</td>\n",
       "      <td>tbd</td>\n",
       "      <td>E</td>\n",
       "    </tr>\n",
       "    <tr>\n",
       "      <td>1377</td>\n",
       "      <td>Dead Space</td>\n",
       "      <td>X360</td>\n",
       "      <td>2008.0</td>\n",
       "      <td>Action</td>\n",
       "      <td>0.89</td>\n",
       "      <td>0.39</td>\n",
       "      <td>0.00</td>\n",
       "      <td>0.13</td>\n",
       "      <td>89.0</td>\n",
       "      <td>8.7</td>\n",
       "      <td>M</td>\n",
       "    </tr>\n",
       "    <tr>\n",
       "      <td>9209</td>\n",
       "      <td>Age of Empires: Collector's Edition</td>\n",
       "      <td>PC</td>\n",
       "      <td>2000.0</td>\n",
       "      <td>Strategy</td>\n",
       "      <td>0.02</td>\n",
       "      <td>0.10</td>\n",
       "      <td>0.00</td>\n",
       "      <td>0.02</td>\n",
       "      <td>NaN</td>\n",
       "      <td>8</td>\n",
       "      <td>T</td>\n",
       "    </tr>\n",
       "    <tr>\n",
       "      <td>14089</td>\n",
       "      <td>Just Dance 2017</td>\n",
       "      <td>XOne</td>\n",
       "      <td>2016.0</td>\n",
       "      <td>Misc</td>\n",
       "      <td>0.03</td>\n",
       "      <td>0.00</td>\n",
       "      <td>0.00</td>\n",
       "      <td>0.00</td>\n",
       "      <td>75.0</td>\n",
       "      <td>8</td>\n",
       "      <td>E10+</td>\n",
       "    </tr>\n",
       "    <tr>\n",
       "      <td>6216</td>\n",
       "      <td>Indiana Jones and the Staff of Kings</td>\n",
       "      <td>PS2</td>\n",
       "      <td>2009.0</td>\n",
       "      <td>Action</td>\n",
       "      <td>0.11</td>\n",
       "      <td>0.01</td>\n",
       "      <td>0.00</td>\n",
       "      <td>0.16</td>\n",
       "      <td>55.0</td>\n",
       "      <td>7.5</td>\n",
       "      <td>T</td>\n",
       "    </tr>\n",
       "    <tr>\n",
       "      <td>6694</td>\n",
       "      <td>Indiana Jones and the Staff of Kings</td>\n",
       "      <td>PSP</td>\n",
       "      <td>2009.0</td>\n",
       "      <td>Action</td>\n",
       "      <td>0.11</td>\n",
       "      <td>0.09</td>\n",
       "      <td>0.00</td>\n",
       "      <td>0.05</td>\n",
       "      <td>63.0</td>\n",
       "      <td>7.8</td>\n",
       "      <td>T</td>\n",
       "    </tr>\n",
       "    <tr>\n",
       "      <td>6150</td>\n",
       "      <td>Transformers: Dark of the Moon</td>\n",
       "      <td>X360</td>\n",
       "      <td>2011.0</td>\n",
       "      <td>Action</td>\n",
       "      <td>0.13</td>\n",
       "      <td>0.12</td>\n",
       "      <td>0.00</td>\n",
       "      <td>0.03</td>\n",
       "      <td>59.0</td>\n",
       "      <td>6.7</td>\n",
       "      <td>T</td>\n",
       "    </tr>\n",
       "    <tr>\n",
       "      <td>11763</td>\n",
       "      <td>Supremacy MMA</td>\n",
       "      <td>PSV</td>\n",
       "      <td>2012.0</td>\n",
       "      <td>Fighting</td>\n",
       "      <td>0.02</td>\n",
       "      <td>0.04</td>\n",
       "      <td>0.00</td>\n",
       "      <td>0.01</td>\n",
       "      <td>NaN</td>\n",
       "      <td>NaN</td>\n",
       "      <td>NaN</td>\n",
       "    </tr>\n",
       "    <tr>\n",
       "      <td>5393</td>\n",
       "      <td>Tenchu Z</td>\n",
       "      <td>X360</td>\n",
       "      <td>2006.0</td>\n",
       "      <td>Action</td>\n",
       "      <td>0.27</td>\n",
       "      <td>0.02</td>\n",
       "      <td>0.02</td>\n",
       "      <td>0.03</td>\n",
       "      <td>56.0</td>\n",
       "      <td>7.3</td>\n",
       "      <td>M</td>\n",
       "    </tr>\n",
       "  </tbody>\n",
       "</table>\n",
       "</div>"
      ],
      "text/plain": [
       "                                                Name Platform  \\\n",
       "5580                                       OverBlood       PS   \n",
       "4584                   Superman: Shadow of Apokolips      PS2   \n",
       "7808                                  Quantum Theory      PS3   \n",
       "12926                           Defendin' De Penguin      Wii   \n",
       "15655                               Super Dodge Ball       NG   \n",
       "13612  Twilight Syndrome: Kinjiratera Toshi Densetsu       DS   \n",
       "6409    Are You Smarter than a 5th Grader? Game Time      Wii   \n",
       "1377                                      Dead Space     X360   \n",
       "9209             Age of Empires: Collector's Edition       PC   \n",
       "14089                                Just Dance 2017     XOne   \n",
       "6216            Indiana Jones and the Staff of Kings      PS2   \n",
       "6694            Indiana Jones and the Staff of Kings      PSP   \n",
       "6150                  Transformers: Dark of the Moon     X360   \n",
       "11763                                  Supremacy MMA      PSV   \n",
       "5393                                        Tenchu Z     X360   \n",
       "\n",
       "       Year_of_Release      Genre  NA_sales  EU_sales  JP_sales  Other_sales  \\\n",
       "5580            1996.0     Action      0.05      0.04      0.21         0.02   \n",
       "4584            2002.0     Action      0.21      0.16      0.00         0.05   \n",
       "7808            2010.0    Shooter      0.05      0.09      0.02         0.03   \n",
       "12926           2008.0   Strategy      0.05      0.00      0.00         0.00   \n",
       "15655           1995.0     Sports      0.00      0.00      0.02         0.00   \n",
       "13612           2008.0  Adventure      0.00      0.00      0.04         0.00   \n",
       "6409            2009.0     Puzzle      0.25      0.00      0.00         0.02   \n",
       "1377            2008.0     Action      0.89      0.39      0.00         0.13   \n",
       "9209            2000.0   Strategy      0.02      0.10      0.00         0.02   \n",
       "14089           2016.0       Misc      0.03      0.00      0.00         0.00   \n",
       "6216            2009.0     Action      0.11      0.01      0.00         0.16   \n",
       "6694            2009.0     Action      0.11      0.09      0.00         0.05   \n",
       "6150            2011.0     Action      0.13      0.12      0.00         0.03   \n",
       "11763           2012.0   Fighting      0.02      0.04      0.00         0.01   \n",
       "5393            2006.0     Action      0.27      0.02      0.02         0.03   \n",
       "\n",
       "       Critic_Score User_Score Rating  \n",
       "5580            NaN        NaN    NaN  \n",
       "4584           64.0        7.2      E  \n",
       "7808           43.0        5.3      M  \n",
       "12926           NaN        NaN    NaN  \n",
       "15655           NaN        NaN    NaN  \n",
       "13612           NaN        NaN    NaN  \n",
       "6409            NaN        tbd      E  \n",
       "1377           89.0        8.7      M  \n",
       "9209            NaN          8      T  \n",
       "14089          75.0          8   E10+  \n",
       "6216           55.0        7.5      T  \n",
       "6694           63.0        7.8      T  \n",
       "6150           59.0        6.7      T  \n",
       "11763           NaN        NaN    NaN  \n",
       "5393           56.0        7.3      M  "
      ]
     },
     "execution_count": 1,
     "metadata": {},
     "output_type": "execute_result"
    }
   ],
   "source": [
    "import pandas as pd\n",
    "import matplotlib.pyplot as plt\n",
    "import numpy as np\n",
    "import warnings \n",
    "warnings.simplefilter('ignore')\n",
    "data = pd.read_csv('/datasets/games.csv')\n",
    "data.sample(15)"
   ]
  },
  {
   "cell_type": "markdown",
   "metadata": {},
   "source": [
    "- Name — название игры\n",
    "- Platform — платформа\n",
    "- Year_of_Release — год выпуска\n",
    "- Genre — жанр игры\n",
    "- NA_sales — продажи в Северной Америке (миллионы проданных копий)\n",
    "- EU_sales — продажи в Европе (миллионы проданных копий)\n",
    "- JP_sales — продажи в Японии (миллионы проданных копий)\n",
    "- Other_sales — продажи в других странах (миллионы проданных копий)\n",
    "- Critic_Score — оценка критиков (максимум 100)\n",
    "- User_Score — оценка пользователей (максимум 10)\n",
    "- Rating — рейтинг от организации ESRB (англ. Entertainment Software Rating Board). Эта ассоциация определяет рейтинг компьютерных игр и присваивает им подходящую возрастную категорию."
   ]
  },
  {
   "cell_type": "code",
   "execution_count": 2,
   "metadata": {
    "scrolled": true
   },
   "outputs": [
    {
     "name": "stdout",
     "output_type": "stream",
     "text": [
      "<class 'pandas.core.frame.DataFrame'>\n",
      "RangeIndex: 16715 entries, 0 to 16714\n",
      "Data columns (total 11 columns):\n",
      "Name               16713 non-null object\n",
      "Platform           16715 non-null object\n",
      "Year_of_Release    16446 non-null float64\n",
      "Genre              16713 non-null object\n",
      "NA_sales           16715 non-null float64\n",
      "EU_sales           16715 non-null float64\n",
      "JP_sales           16715 non-null float64\n",
      "Other_sales        16715 non-null float64\n",
      "Critic_Score       8137 non-null float64\n",
      "User_Score         10014 non-null object\n",
      "Rating             9949 non-null object\n",
      "dtypes: float64(6), object(5)\n",
      "memory usage: 1.4+ MB\n"
     ]
    }
   ],
   "source": [
    "data.info()"
   ]
  },
  {
   "cell_type": "markdown",
   "metadata": {},
   "source": [
    "Изучив общую информацию видно, что в столбцах с оценками и рейтингом очень много пропусков, так же видны пропуски в названии игр и годах выпуска"
   ]
  },
  {
   "cell_type": "markdown",
   "metadata": {},
   "source": [
    "## Подготовка данных"
   ]
  },
  {
   "cell_type": "code",
   "execution_count": 3,
   "metadata": {},
   "outputs": [],
   "source": [
    "data.columns = data.columns.str.lower() #приведение к нижнему регистру названий столбцов"
   ]
  },
  {
   "cell_type": "code",
   "execution_count": 4,
   "metadata": {},
   "outputs": [
    {
     "data": {
      "text/html": [
       "<div>\n",
       "<style scoped>\n",
       "    .dataframe tbody tr th:only-of-type {\n",
       "        vertical-align: middle;\n",
       "    }\n",
       "\n",
       "    .dataframe tbody tr th {\n",
       "        vertical-align: top;\n",
       "    }\n",
       "\n",
       "    .dataframe thead th {\n",
       "        text-align: right;\n",
       "    }\n",
       "</style>\n",
       "<table border=\"1\" class=\"dataframe\">\n",
       "  <thead>\n",
       "    <tr style=\"text-align: right;\">\n",
       "      <th></th>\n",
       "      <th>name</th>\n",
       "      <th>platform</th>\n",
       "      <th>year_of_release</th>\n",
       "      <th>genre</th>\n",
       "      <th>na_sales</th>\n",
       "      <th>eu_sales</th>\n",
       "      <th>jp_sales</th>\n",
       "      <th>other_sales</th>\n",
       "      <th>critic_score</th>\n",
       "      <th>user_score</th>\n",
       "      <th>rating</th>\n",
       "    </tr>\n",
       "  </thead>\n",
       "  <tbody>\n",
       "    <tr>\n",
       "      <td>0</td>\n",
       "      <td>Wii Sports</td>\n",
       "      <td>Wii</td>\n",
       "      <td>2006.0</td>\n",
       "      <td>Sports</td>\n",
       "      <td>41.36</td>\n",
       "      <td>28.96</td>\n",
       "      <td>3.77</td>\n",
       "      <td>8.45</td>\n",
       "      <td>76.0</td>\n",
       "      <td>8</td>\n",
       "      <td>E</td>\n",
       "    </tr>\n",
       "    <tr>\n",
       "      <td>1</td>\n",
       "      <td>Super Mario Bros.</td>\n",
       "      <td>NES</td>\n",
       "      <td>1985.0</td>\n",
       "      <td>Platform</td>\n",
       "      <td>29.08</td>\n",
       "      <td>3.58</td>\n",
       "      <td>6.81</td>\n",
       "      <td>0.77</td>\n",
       "      <td>NaN</td>\n",
       "      <td>NaN</td>\n",
       "      <td>NaN</td>\n",
       "    </tr>\n",
       "    <tr>\n",
       "      <td>2</td>\n",
       "      <td>Mario Kart Wii</td>\n",
       "      <td>Wii</td>\n",
       "      <td>2008.0</td>\n",
       "      <td>Racing</td>\n",
       "      <td>15.68</td>\n",
       "      <td>12.76</td>\n",
       "      <td>3.79</td>\n",
       "      <td>3.29</td>\n",
       "      <td>82.0</td>\n",
       "      <td>8.3</td>\n",
       "      <td>E</td>\n",
       "    </tr>\n",
       "    <tr>\n",
       "      <td>3</td>\n",
       "      <td>Wii Sports Resort</td>\n",
       "      <td>Wii</td>\n",
       "      <td>2009.0</td>\n",
       "      <td>Sports</td>\n",
       "      <td>15.61</td>\n",
       "      <td>10.93</td>\n",
       "      <td>3.28</td>\n",
       "      <td>2.95</td>\n",
       "      <td>80.0</td>\n",
       "      <td>8</td>\n",
       "      <td>E</td>\n",
       "    </tr>\n",
       "    <tr>\n",
       "      <td>4</td>\n",
       "      <td>Pokemon Red/Pokemon Blue</td>\n",
       "      <td>GB</td>\n",
       "      <td>1996.0</td>\n",
       "      <td>Role-Playing</td>\n",
       "      <td>11.27</td>\n",
       "      <td>8.89</td>\n",
       "      <td>10.22</td>\n",
       "      <td>1.00</td>\n",
       "      <td>NaN</td>\n",
       "      <td>NaN</td>\n",
       "      <td>NaN</td>\n",
       "    </tr>\n",
       "  </tbody>\n",
       "</table>\n",
       "</div>"
      ],
      "text/plain": [
       "                       name platform  year_of_release         genre  na_sales  \\\n",
       "0                Wii Sports      Wii           2006.0        Sports     41.36   \n",
       "1         Super Mario Bros.      NES           1985.0      Platform     29.08   \n",
       "2            Mario Kart Wii      Wii           2008.0        Racing     15.68   \n",
       "3         Wii Sports Resort      Wii           2009.0        Sports     15.61   \n",
       "4  Pokemon Red/Pokemon Blue       GB           1996.0  Role-Playing     11.27   \n",
       "\n",
       "   eu_sales  jp_sales  other_sales  critic_score user_score rating  \n",
       "0     28.96      3.77         8.45          76.0          8      E  \n",
       "1      3.58      6.81         0.77           NaN        NaN    NaN  \n",
       "2     12.76      3.79         3.29          82.0        8.3      E  \n",
       "3     10.93      3.28         2.95          80.0          8      E  \n",
       "4      8.89     10.22         1.00           NaN        NaN    NaN  "
      ]
     },
     "execution_count": 4,
     "metadata": {},
     "output_type": "execute_result"
    }
   ],
   "source": [
    "data.head()"
   ]
  },
  {
   "cell_type": "code",
   "execution_count": 5,
   "metadata": {},
   "outputs": [],
   "source": [
    "data = data.dropna(subset=[\"name\"]).reset_index(drop=True)\n",
    "data = data.dropna(subset=[\"year_of_release\"]).reset_index(drop=True) \n",
    "#удаление строк c пропусками в столбцах: \"название игры\" и \"год выпуска\",так как подобрать замену подобрать невозможно,"
   ]
  },
  {
   "cell_type": "code",
   "execution_count": 6,
   "metadata": {},
   "outputs": [],
   "source": [
    "data['year_of_release'] = data['year_of_release'].astype('int')"
   ]
  },
  {
   "cell_type": "code",
   "execution_count": 7,
   "metadata": {},
   "outputs": [],
   "source": [
    "data['na_sales'] = round(data['na_sales'],1) # округлили продажы до десятых для удобства работы\n",
    "data['eu_sales'] = round(data['eu_sales'],1)\n",
    "data['jp_sales'] = round(data['jp_sales'],1)\n",
    "data['other_sales'] = round(data['other_sales'],1)"
   ]
  },
  {
   "cell_type": "code",
   "execution_count": 8,
   "metadata": {},
   "outputs": [
    {
     "data": {
      "text/plain": [
       "name                  0\n",
       "platform              0\n",
       "year_of_release       0\n",
       "genre                 0\n",
       "na_sales              0\n",
       "eu_sales              0\n",
       "jp_sales              0\n",
       "other_sales           0\n",
       "critic_score       8461\n",
       "user_score         6605\n",
       "rating             6676\n",
       "dtype: int64"
      ]
     },
     "execution_count": 8,
     "metadata": {},
     "output_type": "execute_result"
    }
   ],
   "source": [
    "data.isna().sum() # подсчёт пропусков"
   ]
  },
  {
   "cell_type": "code",
   "execution_count": 9,
   "metadata": {},
   "outputs": [
    {
     "data": {
      "text/plain": [
       "array(['E', 'RP', 'M', 'T', 'E10+'], dtype=object)"
      ]
     },
     "execution_count": 9,
     "metadata": {},
     "output_type": "execute_result"
    }
   ],
   "source": [
    "data['rating'] = data['rating'].replace('K-A', 'E')\n",
    "data['rating'] = data['rating'].fillna('RP')\n",
    "data['rating'] = data['rating'].replace('AO', 'M')\n",
    "data['rating'] = data['rating'].replace('EC', 'E')\n",
    "data['rating'].unique()"
   ]
  },
  {
   "cell_type": "code",
   "execution_count": 10,
   "metadata": {},
   "outputs": [],
   "source": [
    "columns_to_replace=['critic_score','user_score']\n",
    "for columns in columns_to_replace:\n",
    "    data[columns] = pd.to_numeric(data[columns], errors='coerce')"
   ]
  },
  {
   "cell_type": "code",
   "execution_count": 11,
   "metadata": {
    "scrolled": true
   },
   "outputs": [
    {
     "data": {
      "text/plain": [
       "name                  0\n",
       "platform              0\n",
       "year_of_release       0\n",
       "genre                 0\n",
       "na_sales              0\n",
       "eu_sales              0\n",
       "jp_sales              0\n",
       "other_sales           0\n",
       "critic_score       8461\n",
       "user_score         8981\n",
       "rating                0\n",
       "dtype: int64"
      ]
     },
     "execution_count": 11,
     "metadata": {},
     "output_type": "execute_result"
    }
   ],
   "source": [
    "data.isna().sum()"
   ]
  },
  {
   "cell_type": "code",
   "execution_count": 12,
   "metadata": {},
   "outputs": [],
   "source": [
    "data['sum_sales'] = data['na_sales'] + data['eu_sales'] + data['jp_sales'] + data['other_sales']"
   ]
  },
  {
   "cell_type": "code",
   "execution_count": 13,
   "metadata": {},
   "outputs": [
    {
     "data": {
      "text/html": [
       "<div>\n",
       "<style scoped>\n",
       "    .dataframe tbody tr th:only-of-type {\n",
       "        vertical-align: middle;\n",
       "    }\n",
       "\n",
       "    .dataframe tbody tr th {\n",
       "        vertical-align: top;\n",
       "    }\n",
       "\n",
       "    .dataframe thead th {\n",
       "        text-align: right;\n",
       "    }\n",
       "</style>\n",
       "<table border=\"1\" class=\"dataframe\">\n",
       "  <thead>\n",
       "    <tr style=\"text-align: right;\">\n",
       "      <th></th>\n",
       "      <th>name</th>\n",
       "      <th>platform</th>\n",
       "      <th>year_of_release</th>\n",
       "      <th>genre</th>\n",
       "      <th>na_sales</th>\n",
       "      <th>eu_sales</th>\n",
       "      <th>jp_sales</th>\n",
       "      <th>other_sales</th>\n",
       "      <th>critic_score</th>\n",
       "      <th>user_score</th>\n",
       "      <th>rating</th>\n",
       "      <th>sum_sales</th>\n",
       "    </tr>\n",
       "  </thead>\n",
       "  <tbody>\n",
       "    <tr>\n",
       "      <td>0</td>\n",
       "      <td>Wii Sports</td>\n",
       "      <td>Wii</td>\n",
       "      <td>2006</td>\n",
       "      <td>Sports</td>\n",
       "      <td>41.4</td>\n",
       "      <td>29.0</td>\n",
       "      <td>3.8</td>\n",
       "      <td>8.4</td>\n",
       "      <td>76.0</td>\n",
       "      <td>8.0</td>\n",
       "      <td>E</td>\n",
       "      <td>82.6</td>\n",
       "    </tr>\n",
       "    <tr>\n",
       "      <td>1</td>\n",
       "      <td>Super Mario Bros.</td>\n",
       "      <td>NES</td>\n",
       "      <td>1985</td>\n",
       "      <td>Platform</td>\n",
       "      <td>29.1</td>\n",
       "      <td>3.6</td>\n",
       "      <td>6.8</td>\n",
       "      <td>0.8</td>\n",
       "      <td>NaN</td>\n",
       "      <td>NaN</td>\n",
       "      <td>RP</td>\n",
       "      <td>40.3</td>\n",
       "    </tr>\n",
       "    <tr>\n",
       "      <td>2</td>\n",
       "      <td>Mario Kart Wii</td>\n",
       "      <td>Wii</td>\n",
       "      <td>2008</td>\n",
       "      <td>Racing</td>\n",
       "      <td>15.7</td>\n",
       "      <td>12.8</td>\n",
       "      <td>3.8</td>\n",
       "      <td>3.3</td>\n",
       "      <td>82.0</td>\n",
       "      <td>8.3</td>\n",
       "      <td>E</td>\n",
       "      <td>35.6</td>\n",
       "    </tr>\n",
       "    <tr>\n",
       "      <td>3</td>\n",
       "      <td>Wii Sports Resort</td>\n",
       "      <td>Wii</td>\n",
       "      <td>2009</td>\n",
       "      <td>Sports</td>\n",
       "      <td>15.6</td>\n",
       "      <td>10.9</td>\n",
       "      <td>3.3</td>\n",
       "      <td>3.0</td>\n",
       "      <td>80.0</td>\n",
       "      <td>8.0</td>\n",
       "      <td>E</td>\n",
       "      <td>32.8</td>\n",
       "    </tr>\n",
       "    <tr>\n",
       "      <td>4</td>\n",
       "      <td>Pokemon Red/Pokemon Blue</td>\n",
       "      <td>GB</td>\n",
       "      <td>1996</td>\n",
       "      <td>Role-Playing</td>\n",
       "      <td>11.3</td>\n",
       "      <td>8.9</td>\n",
       "      <td>10.2</td>\n",
       "      <td>1.0</td>\n",
       "      <td>NaN</td>\n",
       "      <td>NaN</td>\n",
       "      <td>RP</td>\n",
       "      <td>31.4</td>\n",
       "    </tr>\n",
       "  </tbody>\n",
       "</table>\n",
       "</div>"
      ],
      "text/plain": [
       "                       name platform  year_of_release         genre  na_sales  \\\n",
       "0                Wii Sports      Wii             2006        Sports      41.4   \n",
       "1         Super Mario Bros.      NES             1985      Platform      29.1   \n",
       "2            Mario Kart Wii      Wii             2008        Racing      15.7   \n",
       "3         Wii Sports Resort      Wii             2009        Sports      15.6   \n",
       "4  Pokemon Red/Pokemon Blue       GB             1996  Role-Playing      11.3   \n",
       "\n",
       "   eu_sales  jp_sales  other_sales  critic_score  user_score rating  sum_sales  \n",
       "0      29.0       3.8          8.4          76.0         8.0      E       82.6  \n",
       "1       3.6       6.8          0.8           NaN         NaN     RP       40.3  \n",
       "2      12.8       3.8          3.3          82.0         8.3      E       35.6  \n",
       "3      10.9       3.3          3.0          80.0         8.0      E       32.8  \n",
       "4       8.9      10.2          1.0           NaN         NaN     RP       31.4  "
      ]
     },
     "execution_count": 13,
     "metadata": {},
     "output_type": "execute_result"
    }
   ],
   "source": [
    "data.head()"
   ]
  },
  {
   "cell_type": "markdown",
   "metadata": {},
   "source": [
    " Вывод:\n",
    "- Заменили названия столбцов;\n",
    "- Преобразовать данные в нужные типы. Столбец с годом выпуска привели к типу \"int\" для удобста работы, столбцы с продажами в миллионах округлили до десятых за ненадобностью излишней точности.\n",
    "- Пропуски в столбцых с названием игры и годом выпуска удалили за ограниченностью информации, пропуски в столбцах с рейтингом  \"tbd\" - подлежит уточнению заменили на \"NaN\". К пропуску в столбцах с рейтином могло привести , то что данные игры уже не являются актуальными (старые по годам игры, возможно рейтинг как таковой не велся в тех годах или просто не дошел до нашей таблицы). Рейтинг пропущенные знаечния заменим на \"RP\" - ожидает оценки, K-A это старое название рейтинга E, также рейтинг только для взрослых и для взрослых(АО и М) заменим на М, тоже самое сделаем для детей и для любого возраста(Е, ЕС)\n",
    "- Подсчитаны суммарные продажи во всех регионах и записаны в отдельный столбец \"sum_sales\"."
   ]
  },
  {
   "cell_type": "markdown",
   "metadata": {},
   "source": [
    "## Исследовательский анализ"
   ]
  },
  {
   "cell_type": "markdown",
   "metadata": {},
   "source": [
    "Посмотрем сколько игр выпускалось в разные годы. Важны ли данные за все периоды? "
   ]
  },
  {
   "cell_type": "code",
   "execution_count": 14,
   "metadata": {
    "scrolled": true
   },
   "outputs": [
    {
     "data": {
      "text/plain": [
       "<matplotlib.axes._subplots.AxesSubplot at 0x7f5f40a31a50>"
      ]
     },
     "execution_count": 14,
     "metadata": {},
     "output_type": "execute_result"
    },
    {
     "data": {
      "image/png": "[encoded data removed]",
      "text/plain": [
       "<Figure size 432x288 with 1 Axes>"
      ]
     },
     "metadata": {
      "needs_background": "light"
     },
     "output_type": "display_data"
    }
   ],
   "source": [
    "data['year_of_release'].plot(kind = 'hist', histtype = 'step', bins = 30, linewidth = 2, alpha = 1, label = 'игры в год', legend = True)"
   ]
  },
  {
   "cell_type": "markdown",
   "metadata": {},
   "source": [
    "График показывает колличество игр выпускаемых в тот или иной год."
   ]
  },
  {
   "cell_type": "markdown",
   "metadata": {},
   "source": [
    "Посмотрите, как менялись продажи по платформам. Выберите платформы с наибольшими суммарными продажами и постройте распределение по годам. За какой характерный срок появляются новые и исчезают старые платформы?"
   ]
  },
  {
   "cell_type": "code",
   "execution_count": 15,
   "metadata": {},
   "outputs": [],
   "source": [
    "data_piv = data.pivot_table(index = ['platform'], values = ['sum_sales'], aggfunc = ['sum'])"
   ]
  },
  {
   "cell_type": "code",
   "execution_count": 16,
   "metadata": {
    "scrolled": true
   },
   "outputs": [
    {
     "data": {
      "text/html": [
       "<div>\n",
       "<style scoped>\n",
       "    .dataframe tbody tr th:only-of-type {\n",
       "        vertical-align: middle;\n",
       "    }\n",
       "\n",
       "    .dataframe tbody tr th {\n",
       "        vertical-align: top;\n",
       "    }\n",
       "\n",
       "    .dataframe thead th {\n",
       "        text-align: right;\n",
       "    }\n",
       "</style>\n",
       "<table border=\"1\" class=\"dataframe\">\n",
       "  <thead>\n",
       "    <tr style=\"text-align: right;\">\n",
       "      <th></th>\n",
       "      <th>sum_sales</th>\n",
       "    </tr>\n",
       "    <tr>\n",
       "      <th>platform</th>\n",
       "      <th></th>\n",
       "    </tr>\n",
       "  </thead>\n",
       "  <tbody>\n",
       "    <tr>\n",
       "      <td>PS2</td>\n",
       "      <td>1195.2</td>\n",
       "    </tr>\n",
       "    <tr>\n",
       "      <td>X360</td>\n",
       "      <td>937.2</td>\n",
       "    </tr>\n",
       "    <tr>\n",
       "      <td>PS3</td>\n",
       "      <td>911.4</td>\n",
       "    </tr>\n",
       "    <tr>\n",
       "      <td>Wii</td>\n",
       "      <td>869.4</td>\n",
       "    </tr>\n",
       "    <tr>\n",
       "      <td>DS</td>\n",
       "      <td>768.2</td>\n",
       "    </tr>\n",
       "    <tr>\n",
       "      <td>PS</td>\n",
       "      <td>702.1</td>\n",
       "    </tr>\n",
       "    <tr>\n",
       "      <td>PS4</td>\n",
       "      <td>306.1</td>\n",
       "    </tr>\n",
       "    <tr>\n",
       "      <td>GBA</td>\n",
       "      <td>297.6</td>\n",
       "    </tr>\n",
       "    <tr>\n",
       "      <td>PSP</td>\n",
       "      <td>272.8</td>\n",
       "    </tr>\n",
       "    <tr>\n",
       "      <td>GB</td>\n",
       "      <td>254.2</td>\n",
       "    </tr>\n",
       "    <tr>\n",
       "      <td>3DS</td>\n",
       "      <td>251.1</td>\n",
       "    </tr>\n",
       "    <tr>\n",
       "      <td>NES</td>\n",
       "      <td>249.3</td>\n",
       "    </tr>\n",
       "    <tr>\n",
       "      <td>PC</td>\n",
       "      <td>234.2</td>\n",
       "    </tr>\n",
       "    <tr>\n",
       "      <td>XB</td>\n",
       "      <td>231.2</td>\n",
       "    </tr>\n",
       "    <tr>\n",
       "      <td>N64</td>\n",
       "      <td>212.4</td>\n",
       "    </tr>\n",
       "    <tr>\n",
       "      <td>SNES</td>\n",
       "      <td>200.1</td>\n",
       "    </tr>\n",
       "    <tr>\n",
       "      <td>GC</td>\n",
       "      <td>185.1</td>\n",
       "    </tr>\n",
       "    <tr>\n",
       "      <td>XOne</td>\n",
       "      <td>154.1</td>\n",
       "    </tr>\n",
       "    <tr>\n",
       "      <td>2600</td>\n",
       "      <td>83.9</td>\n",
       "    </tr>\n",
       "    <tr>\n",
       "      <td>WiiU</td>\n",
       "      <td>78.6</td>\n",
       "    </tr>\n",
       "    <tr>\n",
       "      <td>PSV</td>\n",
       "      <td>44.5</td>\n",
       "    </tr>\n",
       "    <tr>\n",
       "      <td>SAT</td>\n",
       "      <td>33.5</td>\n",
       "    </tr>\n",
       "    <tr>\n",
       "      <td>GEN</td>\n",
       "      <td>28.2</td>\n",
       "    </tr>\n",
       "    <tr>\n",
       "      <td>DC</td>\n",
       "      <td>15.6</td>\n",
       "    </tr>\n",
       "    <tr>\n",
       "      <td>SCD</td>\n",
       "      <td>1.8</td>\n",
       "    </tr>\n",
       "    <tr>\n",
       "      <td>WS</td>\n",
       "      <td>1.4</td>\n",
       "    </tr>\n",
       "    <tr>\n",
       "      <td>NG</td>\n",
       "      <td>1.3</td>\n",
       "    </tr>\n",
       "    <tr>\n",
       "      <td>3DO</td>\n",
       "      <td>0.1</td>\n",
       "    </tr>\n",
       "    <tr>\n",
       "      <td>TG16</td>\n",
       "      <td>0.1</td>\n",
       "    </tr>\n",
       "    <tr>\n",
       "      <td>PCFX</td>\n",
       "      <td>0.0</td>\n",
       "    </tr>\n",
       "    <tr>\n",
       "      <td>GG</td>\n",
       "      <td>0.0</td>\n",
       "    </tr>\n",
       "  </tbody>\n",
       "</table>\n",
       "</div>"
      ],
      "text/plain": [
       "          sum_sales\n",
       "platform           \n",
       "PS2          1195.2\n",
       "X360          937.2\n",
       "PS3           911.4\n",
       "Wii           869.4\n",
       "DS            768.2\n",
       "PS            702.1\n",
       "PS4           306.1\n",
       "GBA           297.6\n",
       "PSP           272.8\n",
       "GB            254.2\n",
       "3DS           251.1\n",
       "NES           249.3\n",
       "PC            234.2\n",
       "XB            231.2\n",
       "N64           212.4\n",
       "SNES          200.1\n",
       "GC            185.1\n",
       "XOne          154.1\n",
       "2600           83.9\n",
       "WiiU           78.6\n",
       "PSV            44.5\n",
       "SAT            33.5\n",
       "GEN            28.2\n",
       "DC             15.6\n",
       "SCD             1.8\n",
       "WS              1.4\n",
       "NG              1.3\n",
       "3DO             0.1\n",
       "TG16            0.1\n",
       "PCFX            0.0\n",
       "GG              0.0"
      ]
     },
     "execution_count": 16,
     "metadata": {},
     "output_type": "execute_result"
    }
   ],
   "source": [
    "data_piv.columns=['sum_sales']\n",
    "data_piv = data_piv.sort_values(by=\"sum_sales\", ascending = False)\n",
    "data_piv"
   ]
  },
  {
   "cell_type": "code",
   "execution_count": 17,
   "metadata": {},
   "outputs": [
    {
     "data": {
      "text/plain": [
       "Text(0, 0.5, 'Сумма заработанных средств\\nмлн')"
      ]
     },
     "execution_count": 17,
     "metadata": {},
     "output_type": "execute_result"
    },
    {
     "data": {
      "image/png": "[encoded data removed]",
      "text/plain": [
       "<Figure size 1440x720 with 1 Axes>"
      ]
     },
     "metadata": {
      "needs_background": "light"
     },
     "output_type": "display_data"
    }
   ],
   "source": [
    "data_piv.plot(kind='bar',figsize = (20, 10))\n",
    "plt.xlabel(\"Платформа\", fontsize=14)\n",
    "plt.ylabel(\"Сумма заработанных средств\\nмлн\", fontsize=14)"
   ]
  },
  {
   "cell_type": "markdown",
   "metadata": {},
   "source": [
    "График показывает заработанные деньги той или иной платформой"
   ]
  },
  {
   "cell_type": "code",
   "execution_count": 18,
   "metadata": {},
   "outputs": [
    {
     "data": {
      "text/plain": [
       "<matplotlib.axes._subplots.AxesSubplot at 0x7f5f3788cf50>"
      ]
     },
     "execution_count": 18,
     "metadata": {},
     "output_type": "execute_result"
    },
    {
     "data": {
      "image/png": "[encoded data removed]",
      "text/plain": [
       "<Figure size 1440x720 with 1 Axes>"
      ]
     },
     "metadata": {
      "needs_background": "light"
     },
     "output_type": "display_data"
    }
   ],
   "source": [
    "data_count_game = data.pivot_table(index = ['year_of_release'], values = ['name'], aggfunc = ['count'])\n",
    "data_count_game.columns = ['count_game']\n",
    "data_count_game.sort_values(by=\"count_game\", ascending = False).plot(kind='bar',figsize = (20, 10))"
   ]
  },
  {
   "cell_type": "code",
   "execution_count": 19,
   "metadata": {},
   "outputs": [
    {
     "data": {
      "text/plain": [
       "Text(0.5, 1.0, 'Колличество проданных игр в год, в зависимости от платформы')"
      ]
     },
     "execution_count": 19,
     "metadata": {},
     "output_type": "execute_result"
    },
    {
     "data": {
      "image/png": "[encoded data removed]",
      "text/plain": [
       "<Figure size 1440x720 with 1 Axes>"
      ]
     },
     "metadata": {
      "needs_background": "light"
     },
     "output_type": "display_data"
    }
   ],
   "source": [
    "axis = data[data['platform'] == 'PS2'].pivot_table(index = 'year_of_release', values = 'sum_sales', aggfunc = 'sum').plot(y = 'sum_sales',grid = True, style = '-', label = 'PS2', figsize = (20, 10), legend = True)\n",
    "for i in data_piv.index[1:10]:\n",
    "    data[data['platform'] == i].pivot_table(index = 'year_of_release', values = 'sum_sales', aggfunc = 'sum').plot(y = 'sum_sales', grid = True, style = '-', label = i, ax = axis, legend = True)\n",
    "\n",
    "plt.xlabel(\"Год\", fontsize=14)\n",
    "plt.ylabel(\"Сумма проданых копий\\nмлн\", fontsize=14)\n",
    "plt.title('Колличество проданных игр в год, в зависимости от платформы', fontsize=14)"
   ]
  },
  {
   "cell_type": "code",
   "execution_count": 20,
   "metadata": {},
   "outputs": [
    {
     "data": {
      "text/plain": [
       "Text(0.5, 1.0, 'Колличество проданных игр в год, в зависимости от платформы')"
      ]
     },
     "execution_count": 20,
     "metadata": {},
     "output_type": "execute_result"
    },
    {
     "data": {
      "image/png": "[encoded data removed]",
      "text/plain": [
       "<Figure size 1440x720 with 1 Axes>"
      ]
     },
     "metadata": {
      "needs_background": "light"
     },
     "output_type": "display_data"
    }
   ],
   "source": [
    "axis1 = data[data['platform'] == '3DS'].pivot_table(index = 'year_of_release', values = 'sum_sales', aggfunc = 'sum').plot(y = 'sum_sales',grid = True, style = '-', label = '3DS', figsize = (20, 10), legend = True)\n",
    "for i in data_piv.index[11:20]:\n",
    "    data[data['platform'] == i].pivot_table(index = 'year_of_release', values = 'sum_sales', aggfunc = 'sum').plot(y = 'sum_sales', grid = True, style = '-', label = i, ax = axis1, legend = True)\n",
    "\n",
    "plt.xlabel(\"Год\", fontsize=14)\n",
    "plt.ylabel(\"Сумма проданых копий\\nмлн\", fontsize=14)\n",
    "plt.title('Колличество проданных игр в год, в зависимости от платформы', fontsize=14)"
   ]
  },
  {
   "cell_type": "markdown",
   "metadata": {},
   "source": [
    "Судя по исследованным данным, актуальными являются игры вышедшие после 2000 года. Возьмем данные за актуальный период. Актуальный период определите самостоятельно в результате исследования предыдущих вопросов. Основной фактор — эти данные помогут построить прогноз на 2017 год. "
   ]
  },
  {
   "cell_type": "code",
   "execution_count": 21,
   "metadata": {},
   "outputs": [
    {
     "name": "stdout",
     "output_type": "stream",
     "text": [
      "<class 'pandas.core.frame.DataFrame'>\n",
      "Int64Index: 14120 entries, 0 to 16443\n",
      "Data columns (total 12 columns):\n",
      "name               14120 non-null object\n",
      "platform           14120 non-null object\n",
      "year_of_release    14120 non-null int64\n",
      "genre              14120 non-null object\n",
      "na_sales           14120 non-null float64\n",
      "eu_sales           14120 non-null float64\n",
      "jp_sales           14120 non-null float64\n",
      "other_sales        14120 non-null float64\n",
      "critic_score       7744 non-null float64\n",
      "user_score         7264 non-null float64\n",
      "rating             14120 non-null object\n",
      "sum_sales          14120 non-null float64\n",
      "dtypes: float64(7), int64(1), object(4)\n",
      "memory usage: 1.4+ MB\n"
     ]
    }
   ],
   "source": [
    "data_actual = data.query('year_of_release > 2000') # выборка по актуальным данным\n",
    "data_actual.info()"
   ]
  },
  {
   "cell_type": "markdown",
   "metadata": {},
   "source": [
    "Какие платформы лидируют по продажам, растут или падают? Выберите несколько потенциально прибыльных платформ."
   ]
  },
  {
   "cell_type": "code",
   "execution_count": 22,
   "metadata": {},
   "outputs": [
    {
     "data": {
      "text/plain": [
       "Text(0, 0.5, 'Сумма заработанных средств\\nмлн')"
      ]
     },
     "execution_count": 22,
     "metadata": {},
     "output_type": "execute_result"
    },
    {
     "data": {
      "image/png": "[encoded data removed]",
      "text/plain": [
       "<Figure size 1440x720 with 1 Axes>"
      ]
     },
     "metadata": {
      "needs_background": "light"
     },
     "output_type": "display_data"
    }
   ],
   "source": [
    "data_sum_sal = data_actual.pivot_table(index = ['platform'], values = ['sum_sales'], aggfunc = ['sum'])\n",
    "data_sum_sal.columns = ['sum_sales']\n",
    "data_sum_sal.sort_values(by=\"sum_sales\", ascending = False).plot(kind='bar',figsize = (20, 10))\n",
    "plt.xlabel(\"Платформа\", fontsize=14)\n",
    "plt.ylabel(\"Сумма заработанных средств\\nмлн\", fontsize=14)"
   ]
  },
  {
   "cell_type": "markdown",
   "metadata": {},
   "source": [
    "График показывает заработанные средства по каждой из актуальных платформ"
   ]
  },
  {
   "cell_type": "markdown",
   "metadata": {},
   "source": [
    "Постройте график «ящик с усами» по глобальным продажам игр в разбивке по платформам. Опишите результат."
   ]
  },
  {
   "cell_type": "code",
   "execution_count": 23,
   "metadata": {},
   "outputs": [
    {
     "data": {
      "text/plain": [
       "<matplotlib.axes._subplots.AxesSubplot at 0x7f5fa511d050>"
      ]
     },
     "execution_count": 23,
     "metadata": {},
     "output_type": "execute_result"
    },
    {
     "data": {
      "image/png": "[encoded data removed]",
      "text/plain": [
       "<Figure size 1080x720 with 1 Axes>"
      ]
     },
     "metadata": {
      "needs_background": "light"
     },
     "output_type": "display_data"
    }
   ],
   "source": [
    "data_sum_sal.boxplot('sum_sales', figsize=(15, 10))"
   ]
  },
  {
   "cell_type": "markdown",
   "metadata": {},
   "source": [
    "Построив график видно, что средняя продажа игр по платформам составляет 200 штук."
   ]
  },
  {
   "cell_type": "markdown",
   "metadata": {},
   "source": [
    "Посмотрите, как влияют на продажи внутри одной популярной платформы отзывы пользователей и критиков. Постройте диаграмму рассеяния и посчитайте корреляцию между отзывами и продажами. Сформулируйте выводы."
   ]
  },
  {
   "cell_type": "code",
   "execution_count": 24,
   "metadata": {},
   "outputs": [
    {
     "data": {
      "text/html": [
       "<div>\n",
       "<style scoped>\n",
       "    .dataframe tbody tr th:only-of-type {\n",
       "        vertical-align: middle;\n",
       "    }\n",
       "\n",
       "    .dataframe tbody tr th {\n",
       "        vertical-align: top;\n",
       "    }\n",
       "\n",
       "    .dataframe thead th {\n",
       "        text-align: right;\n",
       "    }\n",
       "</style>\n",
       "<table border=\"1\" class=\"dataframe\">\n",
       "  <thead>\n",
       "    <tr style=\"text-align: right;\">\n",
       "      <th></th>\n",
       "      <th>name</th>\n",
       "      <th>platform</th>\n",
       "      <th>year_of_release</th>\n",
       "      <th>genre</th>\n",
       "      <th>na_sales</th>\n",
       "      <th>eu_sales</th>\n",
       "      <th>jp_sales</th>\n",
       "      <th>other_sales</th>\n",
       "      <th>critic_score</th>\n",
       "      <th>user_score</th>\n",
       "      <th>rating</th>\n",
       "      <th>sum_sales</th>\n",
       "    </tr>\n",
       "  </thead>\n",
       "  <tbody>\n",
       "    <tr>\n",
       "      <td>17</td>\n",
       "      <td>Grand Theft Auto: San Andreas</td>\n",
       "      <td>PS2</td>\n",
       "      <td>2004</td>\n",
       "      <td>Action</td>\n",
       "      <td>9.4</td>\n",
       "      <td>0.4</td>\n",
       "      <td>0.4</td>\n",
       "      <td>10.6</td>\n",
       "      <td>95.0</td>\n",
       "      <td>9.0</td>\n",
       "      <td>M</td>\n",
       "      <td>20.8</td>\n",
       "    </tr>\n",
       "    <tr>\n",
       "      <td>24</td>\n",
       "      <td>Grand Theft Auto: Vice City</td>\n",
       "      <td>PS2</td>\n",
       "      <td>2002</td>\n",
       "      <td>Action</td>\n",
       "      <td>8.4</td>\n",
       "      <td>5.5</td>\n",
       "      <td>0.5</td>\n",
       "      <td>1.8</td>\n",
       "      <td>95.0</td>\n",
       "      <td>8.7</td>\n",
       "      <td>M</td>\n",
       "      <td>16.2</td>\n",
       "    </tr>\n",
       "    <tr>\n",
       "      <td>28</td>\n",
       "      <td>Gran Turismo 3: A-Spec</td>\n",
       "      <td>PS2</td>\n",
       "      <td>2001</td>\n",
       "      <td>Racing</td>\n",
       "      <td>6.8</td>\n",
       "      <td>5.1</td>\n",
       "      <td>1.9</td>\n",
       "      <td>1.2</td>\n",
       "      <td>95.0</td>\n",
       "      <td>8.4</td>\n",
       "      <td>E</td>\n",
       "      <td>15.0</td>\n",
       "    </tr>\n",
       "    <tr>\n",
       "      <td>38</td>\n",
       "      <td>Grand Theft Auto III</td>\n",
       "      <td>PS2</td>\n",
       "      <td>2001</td>\n",
       "      <td>Action</td>\n",
       "      <td>7.0</td>\n",
       "      <td>4.5</td>\n",
       "      <td>0.3</td>\n",
       "      <td>1.3</td>\n",
       "      <td>97.0</td>\n",
       "      <td>8.5</td>\n",
       "      <td>M</td>\n",
       "      <td>13.1</td>\n",
       "    </tr>\n",
       "    <tr>\n",
       "      <td>48</td>\n",
       "      <td>Gran Turismo 4</td>\n",
       "      <td>PS2</td>\n",
       "      <td>2004</td>\n",
       "      <td>Racing</td>\n",
       "      <td>3.0</td>\n",
       "      <td>0.0</td>\n",
       "      <td>1.1</td>\n",
       "      <td>7.5</td>\n",
       "      <td>89.0</td>\n",
       "      <td>8.5</td>\n",
       "      <td>E</td>\n",
       "      <td>11.6</td>\n",
       "    </tr>\n",
       "  </tbody>\n",
       "</table>\n",
       "</div>"
      ],
      "text/plain": [
       "                             name platform  year_of_release   genre  na_sales  \\\n",
       "17  Grand Theft Auto: San Andreas      PS2             2004  Action       9.4   \n",
       "24    Grand Theft Auto: Vice City      PS2             2002  Action       8.4   \n",
       "28         Gran Turismo 3: A-Spec      PS2             2001  Racing       6.8   \n",
       "38           Grand Theft Auto III      PS2             2001  Action       7.0   \n",
       "48                 Gran Turismo 4      PS2             2004  Racing       3.0   \n",
       "\n",
       "    eu_sales  jp_sales  other_sales  critic_score  user_score rating  \\\n",
       "17       0.4       0.4         10.6          95.0         9.0      M   \n",
       "24       5.5       0.5          1.8          95.0         8.7      M   \n",
       "28       5.1       1.9          1.2          95.0         8.4      E   \n",
       "38       4.5       0.3          1.3          97.0         8.5      M   \n",
       "48       0.0       1.1          7.5          89.0         8.5      E   \n",
       "\n",
       "    sum_sales  \n",
       "17       20.8  \n",
       "24       16.2  \n",
       "28       15.0  \n",
       "38       13.1  \n",
       "48       11.6  "
      ]
     },
     "execution_count": 24,
     "metadata": {},
     "output_type": "execute_result"
    }
   ],
   "source": [
    "data_PS2 = data_actual[data_actual['platform'] == 'PS2']\n",
    "data_PS2.head()"
   ]
  },
  {
   "cell_type": "code",
   "execution_count": 25,
   "metadata": {},
   "outputs": [
    {
     "data": {
      "text/plain": [
       "Text(0, 0.5, 'Сумма продаж')"
      ]
     },
     "execution_count": 25,
     "metadata": {},
     "output_type": "execute_result"
    },
    {
     "data": {
      "image/png": "[encoded data removed]",
      "text/plain": [
       "<Figure size 432x288 with 1 Axes>"
      ]
     },
     "metadata": {
      "needs_background": "light"
     },
     "output_type": "display_data"
    }
   ],
   "source": [
    "data_PS2.plot(x='user_score', y='sum_sales', kind='scatter',grid=True)\n",
    "plt.xlabel(\"Пользовательская оценка\", fontsize=14)\n",
    "plt.ylabel(\"Сумма продаж\", fontsize=14)"
   ]
  },
  {
   "cell_type": "code",
   "execution_count": 26,
   "metadata": {},
   "outputs": [
    {
     "data": {
      "text/plain": [
       "0.17196318589438073"
      ]
     },
     "execution_count": 26,
     "metadata": {},
     "output_type": "execute_result"
    }
   ],
   "source": [
    "data_PS2['user_score'].corr(data_PS2['sum_sales'])"
   ]
  },
  {
   "cell_type": "markdown",
   "metadata": {},
   "source": [
    "Корреляция в 0.17 говорит о наличии слабой связи. То есть рейтинг пользователей не влияет на продажи"
   ]
  },
  {
   "cell_type": "code",
   "execution_count": 27,
   "metadata": {},
   "outputs": [
    {
     "data": {
      "text/plain": [
       "Text(0, 0.5, 'Сумма продаж')"
      ]
     },
     "execution_count": 27,
     "metadata": {},
     "output_type": "execute_result"
    },
    {
     "data": {
      "image/png": "[encoded data removed]",
      "text/plain": [
       "<Figure size 432x288 with 1 Axes>"
      ]
     },
     "metadata": {
      "needs_background": "light"
     },
     "output_type": "display_data"
    }
   ],
   "source": [
    "data_PS2.plot(x='critic_score', y='sum_sales', kind='scatter',grid=True)\n",
    "plt.xlabel(\"Оценка критиков\", fontsize=14)\n",
    "plt.ylabel(\"Сумма продаж\", fontsize=14)"
   ]
  },
  {
   "cell_type": "code",
   "execution_count": 28,
   "metadata": {},
   "outputs": [
    {
     "data": {
      "text/plain": [
       "0.3944168239059008"
      ]
     },
     "execution_count": 28,
     "metadata": {},
     "output_type": "execute_result"
    }
   ],
   "source": [
    "data_PS2['critic_score'].corr(data_PS2['sum_sales'])"
   ]
  },
  {
   "cell_type": "markdown",
   "metadata": {},
   "source": [
    "Корреляция в 0.39 говорит о наличии связи, однако не слишком сильной. Не говорит о наличии прямой связи."
   ]
  },
  {
   "cell_type": "markdown",
   "metadata": {},
   "source": [
    "Соотнесите выводы с продажами игр на других платформах:"
   ]
  },
  {
   "cell_type": "code",
   "execution_count": 29,
   "metadata": {},
   "outputs": [
    {
     "data": {
      "text/html": [
       "<div>\n",
       "<style scoped>\n",
       "    .dataframe tbody tr th:only-of-type {\n",
       "        vertical-align: middle;\n",
       "    }\n",
       "\n",
       "    .dataframe tbody tr th {\n",
       "        vertical-align: top;\n",
       "    }\n",
       "\n",
       "    .dataframe thead th {\n",
       "        text-align: right;\n",
       "    }\n",
       "</style>\n",
       "<table border=\"1\" class=\"dataframe\">\n",
       "  <thead>\n",
       "    <tr style=\"text-align: right;\">\n",
       "      <th></th>\n",
       "      <th>critic_score</th>\n",
       "      <th>sum_sales</th>\n",
       "      <th>user_score</th>\n",
       "    </tr>\n",
       "    <tr>\n",
       "      <th>platform</th>\n",
       "      <th></th>\n",
       "      <th></th>\n",
       "      <th></th>\n",
       "    </tr>\n",
       "  </thead>\n",
       "  <tbody>\n",
       "    <tr>\n",
       "      <td>3DS</td>\n",
       "      <td>67.156627</td>\n",
       "      <td>251.1</td>\n",
       "      <td>6.852047</td>\n",
       "    </tr>\n",
       "    <tr>\n",
       "      <td>DC</td>\n",
       "      <td>84.750000</td>\n",
       "      <td>1.3</td>\n",
       "      <td>8.750000</td>\n",
       "    </tr>\n",
       "    <tr>\n",
       "      <td>DS</td>\n",
       "      <td>63.728814</td>\n",
       "      <td>768.2</td>\n",
       "      <td>7.022656</td>\n",
       "    </tr>\n",
       "    <tr>\n",
       "      <td>GB</td>\n",
       "      <td>NaN</td>\n",
       "      <td>9.3</td>\n",
       "      <td>NaN</td>\n",
       "    </tr>\n",
       "    <tr>\n",
       "      <td>GBA</td>\n",
       "      <td>67.311628</td>\n",
       "      <td>297.6</td>\n",
       "      <td>7.669323</td>\n",
       "    </tr>\n",
       "    <tr>\n",
       "      <td>GC</td>\n",
       "      <td>69.601831</td>\n",
       "      <td>185.1</td>\n",
       "      <td>7.615686</td>\n",
       "    </tr>\n",
       "    <tr>\n",
       "      <td>N64</td>\n",
       "      <td>NaN</td>\n",
       "      <td>3.2</td>\n",
       "      <td>NaN</td>\n",
       "    </tr>\n",
       "    <tr>\n",
       "      <td>PC</td>\n",
       "      <td>75.693997</td>\n",
       "      <td>180.3</td>\n",
       "      <td>7.025275</td>\n",
       "    </tr>\n",
       "    <tr>\n",
       "      <td>PS</td>\n",
       "      <td>66.725000</td>\n",
       "      <td>41.8</td>\n",
       "      <td>7.647368</td>\n",
       "    </tr>\n",
       "    <tr>\n",
       "      <td>PS2</td>\n",
       "      <td>68.663659</td>\n",
       "      <td>1156.6</td>\n",
       "      <td>7.627458</td>\n",
       "    </tr>\n",
       "    <tr>\n",
       "      <td>PS3</td>\n",
       "      <td>70.468905</td>\n",
       "      <td>911.4</td>\n",
       "      <td>6.719512</td>\n",
       "    </tr>\n",
       "    <tr>\n",
       "      <td>PS4</td>\n",
       "      <td>72.091270</td>\n",
       "      <td>306.1</td>\n",
       "      <td>6.748249</td>\n",
       "    </tr>\n",
       "    <tr>\n",
       "      <td>PSP</td>\n",
       "      <td>67.535088</td>\n",
       "      <td>272.8</td>\n",
       "      <td>7.236842</td>\n",
       "    </tr>\n",
       "    <tr>\n",
       "      <td>PSV</td>\n",
       "      <td>70.731092</td>\n",
       "      <td>44.5</td>\n",
       "      <td>7.334507</td>\n",
       "    </tr>\n",
       "    <tr>\n",
       "      <td>WS</td>\n",
       "      <td>NaN</td>\n",
       "      <td>0.2</td>\n",
       "      <td>NaN</td>\n",
       "    </tr>\n",
       "    <tr>\n",
       "      <td>Wii</td>\n",
       "      <td>62.778169</td>\n",
       "      <td>869.4</td>\n",
       "      <td>6.737956</td>\n",
       "    </tr>\n",
       "    <tr>\n",
       "      <td>WiiU</td>\n",
       "      <td>70.733333</td>\n",
       "      <td>78.6</td>\n",
       "      <td>6.904000</td>\n",
       "    </tr>\n",
       "    <tr>\n",
       "      <td>X360</td>\n",
       "      <td>68.685682</td>\n",
       "      <td>937.2</td>\n",
       "      <td>6.680741</td>\n",
       "    </tr>\n",
       "    <tr>\n",
       "      <td>XB</td>\n",
       "      <td>69.899291</td>\n",
       "      <td>230.3</td>\n",
       "      <td>7.523333</td>\n",
       "    </tr>\n",
       "    <tr>\n",
       "      <td>XOne</td>\n",
       "      <td>73.325444</td>\n",
       "      <td>154.1</td>\n",
       "      <td>6.521429</td>\n",
       "    </tr>\n",
       "  </tbody>\n",
       "</table>\n",
       "</div>"
      ],
      "text/plain": [
       "          critic_score  sum_sales  user_score\n",
       "platform                                     \n",
       "3DS          67.156627      251.1    6.852047\n",
       "DC           84.750000        1.3    8.750000\n",
       "DS           63.728814      768.2    7.022656\n",
       "GB                 NaN        9.3         NaN\n",
       "GBA          67.311628      297.6    7.669323\n",
       "GC           69.601831      185.1    7.615686\n",
       "N64                NaN        3.2         NaN\n",
       "PC           75.693997      180.3    7.025275\n",
       "PS           66.725000       41.8    7.647368\n",
       "PS2          68.663659     1156.6    7.627458\n",
       "PS3          70.468905      911.4    6.719512\n",
       "PS4          72.091270      306.1    6.748249\n",
       "PSP          67.535088      272.8    7.236842\n",
       "PSV          70.731092       44.5    7.334507\n",
       "WS                 NaN        0.2         NaN\n",
       "Wii          62.778169      869.4    6.737956\n",
       "WiiU         70.733333       78.6    6.904000\n",
       "X360         68.685682      937.2    6.680741\n",
       "XB           69.899291      230.3    7.523333\n",
       "XOne         73.325444      154.1    6.521429"
      ]
     },
     "execution_count": 29,
     "metadata": {},
     "output_type": "execute_result"
    }
   ],
   "source": [
    "data_piv_pl=data_actual.pivot_table(index = 'platform', values = ['critic_score','user_score','sum_sales'],aggfunc={'critic_score':np.mean,'user_score':np.mean,'sum_sales':sum})\n",
    "data_piv_pl"
   ]
  },
  {
   "cell_type": "code",
   "execution_count": 30,
   "metadata": {
    "scrolled": true
   },
   "outputs": [
    {
     "name": "stdout",
     "output_type": "stream",
     "text": [
      "По критикам корреляция для платформы PS2 = 0.3944168239059008\n",
      "По критикам корреляция для платформы X360 = 0.3935204022157279\n",
      "По критикам корреляция для платформы PS3 = 0.4352417782508607\n",
      "По критикам корреляция для платформы Wii = 0.17772635750444254\n",
      "По критикам корреляция для платформы DS = 0.23660372316320408\n",
      "По критикам корреляция для платформы PS = 0.07222023673442801\n",
      "По критикам корреляция для платформы PS4 = 0.40644116536825853\n",
      "По критикам корреляция для платформы GBA = 0.2420556386014029\n",
      "По критикам корреляция для платформы PSP = 0.31511045813280286\n",
      "По критикам корреляция для платформы GB = nan\n",
      "По критикам корреляция для платформы 3DS = 0.3496307137539301\n",
      "По критикам корреляция для платформы NES = nan\n",
      "По критикам корреляция для платформы PC = 0.25087674929853226\n",
      "По критикам корреляция для платформы XB = 0.38477789992144656\n",
      "По критикам корреляция для платформы N64 = nan\n",
      "По критикам корреляция для платформы SNES = nan\n",
      "По критикам корреляция для платформы GC = 0.32389974433641616\n",
      "По критикам корреляция для платформы XOne = 0.4207952150760362\n",
      "По критикам корреляция для платформы 2600 = nan\n",
      "По критикам корреляция для платформы WiiU = 0.35649805403807966\n",
      "По критикам корреляция для платформы PSV = 0.11780823545447466\n",
      "По критикам корреляция для платформы SAT = nan\n",
      "По критикам корреляция для платформы GEN = nan\n",
      "По критикам корреляция для платформы DC = -0.19569842191603265\n",
      "По критикам корреляция для платформы SCD = nan\n",
      "По критикам корреляция для платформы WS = nan\n",
      "По критикам корреляция для платформы NG = nan\n",
      "По критикам корреляция для платформы 3DO = nan\n",
      "По критикам корреляция для платформы TG16 = nan\n",
      "По критикам корреляция для платформы PCFX = nan\n",
      "По критикам корреляция для платформы GG = nan\n"
     ]
    }
   ],
   "source": [
    "for i in data_piv.index:\n",
    "    data_i = data_actual[data_actual['platform'] == i]\n",
    "    a=data_i['critic_score'].corr(data_i['sum_sales'])\n",
    "    print(\"По критикам корреляция для платформы\",i,'=',a)"
   ]
  },
  {
   "cell_type": "markdown",
   "metadata": {},
   "source": [
    "Изучив корреляции всех платформ, видно, что значение не поднимается выше 0.45, говорит о наличии связи, однако не слишком сильной. Прямой связи нет."
   ]
  },
  {
   "cell_type": "code",
   "execution_count": 31,
   "metadata": {
    "scrolled": true
   },
   "outputs": [
    {
     "name": "stdout",
     "output_type": "stream",
     "text": [
      "По игрокам корреляция для платформы PS2 = 0.17196318589438073\n",
      "По игрокам корреляция для платформы X360 = 0.11473403276904934\n",
      "По игрокам корреляция для платформы PS3 = 0.12860621020104063\n",
      "По игрокам корреляция для платформы Wii = 0.11276152512855593\n",
      "По игрокам корреляция для платформы DS = 0.12971733164861593\n",
      "По игрокам корреляция для платформы PS = 0.03515472155809678\n",
      "По игрокам корреляция для платформы PS4 = -0.03311301528027405\n",
      "По игрокам корреляция для платформы GBA = 0.10763601631027937\n",
      "По игрокам корреляция для платформы PSP = 0.21585337857517928\n",
      "По игрокам корреляция для платформы GB = nan\n",
      "По игрокам корреляция для платформы 3DS = 0.22388597553491293\n",
      "По игрокам корреляция для платформы NES = nan\n",
      "По игрокам корреляция для платформы PC = -0.008644585545424419\n",
      "По игрокам корреляция для платформы XB = 0.17529024166355847\n",
      "По игрокам корреляция для платформы N64 = nan\n",
      "По игрокам корреляция для платформы SNES = nan\n",
      "По игрокам корреляция для платформы GC = 0.22897630347952325\n",
      "По игрокам корреляция для платформы XOne = -0.06732244012922815\n",
      "По игрокам корреляция для платформы 2600 = nan\n",
      "По игрокам корреляция для платформы WiiU = 0.40486355819621866\n",
      "По игрокам корреляция для платформы PSV = 0.024850136283858446\n",
      "По игрокам корреляция для платформы SAT = nan\n",
      "По игрокам корреляция для платформы GEN = nan\n",
      "По игрокам корреляция для платформы DC = 0.8479983040050881\n",
      "По игрокам корреляция для платформы SCD = nan\n",
      "По игрокам корреляция для платформы WS = nan\n",
      "По игрокам корреляция для платформы NG = nan\n",
      "По игрокам корреляция для платформы 3DO = nan\n",
      "По игрокам корреляция для платформы TG16 = nan\n",
      "По игрокам корреляция для платформы PCFX = nan\n",
      "По игрокам корреляция для платформы GG = nan\n"
     ]
    }
   ],
   "source": [
    "for i in data_piv.index:\n",
    "    data_i = data_actual[data_actual['platform'] == i]\n",
    "    a=data_i['user_score'].corr(data_i['sum_sales'])\n",
    "    print(\"По игрокам корреляция для платформы\",i,'=',a)"
   ]
  },
  {
   "cell_type": "markdown",
   "metadata": {},
   "source": [
    "Изучив корреляции всех платформ по игрокам, видно, что значение не поднимается выше 0.4, прямой связи нет. Однако есть и исключение платформа \"DC\" имеет очень сильную связь, но возможно по ней у нас слишком маленькая выборка."
   ]
  },
  {
   "cell_type": "markdown",
   "metadata": {},
   "source": [
    "Посмотрите на общее распределение игр по жанрам. Что можно сказать о самых прибыльных жанрах? Выделяются ли жанры с высокими и низкими продажами?"
   ]
  },
  {
   "cell_type": "code",
   "execution_count": 32,
   "metadata": {},
   "outputs": [
    {
     "data": {
      "text/html": [
       "<div>\n",
       "<style scoped>\n",
       "    .dataframe tbody tr th:only-of-type {\n",
       "        vertical-align: middle;\n",
       "    }\n",
       "\n",
       "    .dataframe tbody tr th {\n",
       "        vertical-align: top;\n",
       "    }\n",
       "\n",
       "    .dataframe thead th {\n",
       "        text-align: right;\n",
       "    }\n",
       "</style>\n",
       "<table border=\"1\" class=\"dataframe\">\n",
       "  <thead>\n",
       "    <tr style=\"text-align: right;\">\n",
       "      <th></th>\n",
       "      <th>sum_sales</th>\n",
       "    </tr>\n",
       "    <tr>\n",
       "      <th>genre</th>\n",
       "      <th></th>\n",
       "    </tr>\n",
       "  </thead>\n",
       "  <tbody>\n",
       "    <tr>\n",
       "      <td>Action</td>\n",
       "      <td>1438.7</td>\n",
       "    </tr>\n",
       "    <tr>\n",
       "      <td>Sports</td>\n",
       "      <td>1057.8</td>\n",
       "    </tr>\n",
       "    <tr>\n",
       "      <td>Shooter</td>\n",
       "      <td>883.7</td>\n",
       "    </tr>\n",
       "    <tr>\n",
       "      <td>Role-Playing</td>\n",
       "      <td>680.0</td>\n",
       "    </tr>\n",
       "    <tr>\n",
       "      <td>Misc</td>\n",
       "      <td>679.4</td>\n",
       "    </tr>\n",
       "    <tr>\n",
       "      <td>Racing</td>\n",
       "      <td>520.0</td>\n",
       "    </tr>\n",
       "    <tr>\n",
       "      <td>Platform</td>\n",
       "      <td>462.9</td>\n",
       "    </tr>\n",
       "    <tr>\n",
       "      <td>Simulation</td>\n",
       "      <td>317.4</td>\n",
       "    </tr>\n",
       "    <tr>\n",
       "      <td>Fighting</td>\n",
       "      <td>280.7</td>\n",
       "    </tr>\n",
       "    <tr>\n",
       "      <td>Adventure</td>\n",
       "      <td>157.2</td>\n",
       "    </tr>\n",
       "    <tr>\n",
       "      <td>Puzzle</td>\n",
       "      <td>125.9</td>\n",
       "    </tr>\n",
       "    <tr>\n",
       "      <td>Strategy</td>\n",
       "      <td>95.4</td>\n",
       "    </tr>\n",
       "  </tbody>\n",
       "</table>\n",
       "</div>"
      ],
      "text/plain": [
       "              sum_sales\n",
       "genre                  \n",
       "Action           1438.7\n",
       "Sports           1057.8\n",
       "Shooter           883.7\n",
       "Role-Playing      680.0\n",
       "Misc              679.4\n",
       "Racing            520.0\n",
       "Platform          462.9\n",
       "Simulation        317.4\n",
       "Fighting          280.7\n",
       "Adventure         157.2\n",
       "Puzzle            125.9\n",
       "Strategy           95.4"
      ]
     },
     "execution_count": 32,
     "metadata": {},
     "output_type": "execute_result"
    }
   ],
   "source": [
    "data_genre = data_actual.pivot_table(index = ['genre'], values = ['sum_sales'], aggfunc = ['sum'])\n",
    "data_genre.columns = ['sum_sales']\n",
    "data_genre.sort_values(by=\"sum_sales\", ascending = False)"
   ]
  },
  {
   "cell_type": "code",
   "execution_count": 33,
   "metadata": {},
   "outputs": [
    {
     "data": {
      "text/plain": [
       "Text(0, 0.5, 'Сумма продаж в млн.')"
      ]
     },
     "execution_count": 33,
     "metadata": {},
     "output_type": "execute_result"
    },
    {
     "data": {
      "image/png": "[encoded data removed]",
      "text/plain": [
       "<Figure size 1440x720 with 1 Axes>"
      ]
     },
     "metadata": {
      "needs_background": "light"
     },
     "output_type": "display_data"
    }
   ],
   "source": [
    "data_genre.sort_values(by=\"sum_sales\", ascending = False).plot(kind='bar',figsize = (20, 10))\n",
    "plt.xlabel(\"Жанр игры\", fontsize=14)\n",
    "plt.ylabel(\"Сумма продаж в млн.\", fontsize=14)"
   ]
  },
  {
   "cell_type": "markdown",
   "metadata": {},
   "source": [
    "Можно выделить, что самыми популярными играми по жанрам являются экшены, а самими низко продаваемыми стратегии."
   ]
  },
  {
   "cell_type": "code",
   "execution_count": 34,
   "metadata": {},
   "outputs": [
    {
     "data": {
      "text/html": [
       "<div>\n",
       "<style scoped>\n",
       "    .dataframe tbody tr th:only-of-type {\n",
       "        vertical-align: middle;\n",
       "    }\n",
       "\n",
       "    .dataframe tbody tr th {\n",
       "        vertical-align: top;\n",
       "    }\n",
       "\n",
       "    .dataframe thead th {\n",
       "        text-align: right;\n",
       "    }\n",
       "</style>\n",
       "<table border=\"1\" class=\"dataframe\">\n",
       "  <thead>\n",
       "    <tr style=\"text-align: right;\">\n",
       "      <th></th>\n",
       "      <th>mean_sales</th>\n",
       "    </tr>\n",
       "    <tr>\n",
       "      <th>genre</th>\n",
       "      <th></th>\n",
       "    </tr>\n",
       "  </thead>\n",
       "  <tbody>\n",
       "    <tr>\n",
       "      <td>Shooter</td>\n",
       "      <td>0.796844</td>\n",
       "    </tr>\n",
       "    <tr>\n",
       "      <td>Platform</td>\n",
       "      <td>0.665086</td>\n",
       "    </tr>\n",
       "    <tr>\n",
       "      <td>Sports</td>\n",
       "      <td>0.557323</td>\n",
       "    </tr>\n",
       "    <tr>\n",
       "      <td>Role-Playing</td>\n",
       "      <td>0.535012</td>\n",
       "    </tr>\n",
       "    <tr>\n",
       "      <td>Racing</td>\n",
       "      <td>0.524194</td>\n",
       "    </tr>\n",
       "    <tr>\n",
       "      <td>Action</td>\n",
       "      <td>0.474036</td>\n",
       "    </tr>\n",
       "    <tr>\n",
       "      <td>Fighting</td>\n",
       "      <td>0.459411</td>\n",
       "    </tr>\n",
       "    <tr>\n",
       "      <td>Misc</td>\n",
       "      <td>0.430818</td>\n",
       "    </tr>\n",
       "    <tr>\n",
       "      <td>Simulation</td>\n",
       "      <td>0.421514</td>\n",
       "    </tr>\n",
       "    <tr>\n",
       "      <td>Puzzle</td>\n",
       "      <td>0.269593</td>\n",
       "    </tr>\n",
       "    <tr>\n",
       "      <td>Strategy</td>\n",
       "      <td>0.178987</td>\n",
       "    </tr>\n",
       "    <tr>\n",
       "      <td>Adventure</td>\n",
       "      <td>0.133447</td>\n",
       "    </tr>\n",
       "  </tbody>\n",
       "</table>\n",
       "</div>"
      ],
      "text/plain": [
       "              mean_sales\n",
       "genre                   \n",
       "Shooter         0.796844\n",
       "Platform        0.665086\n",
       "Sports          0.557323\n",
       "Role-Playing    0.535012\n",
       "Racing          0.524194\n",
       "Action          0.474036\n",
       "Fighting        0.459411\n",
       "Misc            0.430818\n",
       "Simulation      0.421514\n",
       "Puzzle          0.269593\n",
       "Strategy        0.178987\n",
       "Adventure       0.133447"
      ]
     },
     "execution_count": 34,
     "metadata": {},
     "output_type": "execute_result"
    }
   ],
   "source": [
    "data_genre_mean = data_actual.pivot_table(index = ['genre'], values = ['sum_sales'], aggfunc = ['mean'])\n",
    "data_genre_mean.columns = ['mean_sales']\n",
    "data_genre_mean.sort_values(by=\"mean_sales\", ascending = False)"
   ]
  },
  {
   "cell_type": "code",
   "execution_count": 35,
   "metadata": {},
   "outputs": [
    {
     "data": {
      "text/plain": [
       "Text(0, 0.5, 'Средние продажи в млн.')"
      ]
     },
     "execution_count": 35,
     "metadata": {},
     "output_type": "execute_result"
    },
    {
     "data": {
      "image/png": "[encoded data removed]",
      "text/plain": [
       "<Figure size 1440x720 with 1 Axes>"
      ]
     },
     "metadata": {
      "needs_background": "light"
     },
     "output_type": "display_data"
    }
   ],
   "source": [
    "data_genre_mean.sort_values(by=\"mean_sales\", ascending = False).plot(kind='bar',figsize = (20, 10))\n",
    "plt.xlabel(\"Жанр игры\", fontsize=14)\n",
    "plt.ylabel(\"Средние продажи в млн.\", fontsize=14)"
   ]
  },
  {
   "cell_type": "markdown",
   "metadata": {},
   "source": [
    "Сравнив жанры по суммарным и средним продажам, можно заметить, что по общей сумме продаж лидируют экшены в то время как средний показатель говорит о предпочтении шутеров, а экшен находится аж на 6 месте. Можно предполжить, что среди жанра \"Экшен\" встречаются атрефакты, которые так влияют на статистику. Обратив внимание на жанр \"Шутер\" можно сказать о том что он стабильно приносит прибыль. Так что если есть желание создать новую игру стоит задуматься о просто стрелялке)."
   ]
  },
  {
   "cell_type": "markdown",
   "metadata": {},
   "source": [
    "## Составим портрет для каждого региона (NA, EU, JP):"
   ]
  },
  {
   "cell_type": "code",
   "execution_count": 36,
   "metadata": {},
   "outputs": [
    {
     "data": {
      "text/html": [
       "<div>\n",
       "<style scoped>\n",
       "    .dataframe tbody tr th:only-of-type {\n",
       "        vertical-align: middle;\n",
       "    }\n",
       "\n",
       "    .dataframe tbody tr th {\n",
       "        vertical-align: top;\n",
       "    }\n",
       "\n",
       "    .dataframe thead th {\n",
       "        text-align: right;\n",
       "    }\n",
       "</style>\n",
       "<table border=\"1\" class=\"dataframe\">\n",
       "  <thead>\n",
       "    <tr style=\"text-align: right;\">\n",
       "      <th></th>\n",
       "      <th>name</th>\n",
       "      <th>platform</th>\n",
       "      <th>year_of_release</th>\n",
       "      <th>genre</th>\n",
       "      <th>na_sales</th>\n",
       "      <th>eu_sales</th>\n",
       "      <th>jp_sales</th>\n",
       "      <th>other_sales</th>\n",
       "      <th>critic_score</th>\n",
       "      <th>user_score</th>\n",
       "      <th>rating</th>\n",
       "      <th>sum_sales</th>\n",
       "    </tr>\n",
       "  </thead>\n",
       "  <tbody>\n",
       "    <tr>\n",
       "      <td>0</td>\n",
       "      <td>Wii Sports</td>\n",
       "      <td>Wii</td>\n",
       "      <td>2006</td>\n",
       "      <td>Sports</td>\n",
       "      <td>41.4</td>\n",
       "      <td>29.0</td>\n",
       "      <td>3.8</td>\n",
       "      <td>8.4</td>\n",
       "      <td>76.0</td>\n",
       "      <td>8.0</td>\n",
       "      <td>E</td>\n",
       "      <td>82.6</td>\n",
       "    </tr>\n",
       "    <tr>\n",
       "      <td>2</td>\n",
       "      <td>Mario Kart Wii</td>\n",
       "      <td>Wii</td>\n",
       "      <td>2008</td>\n",
       "      <td>Racing</td>\n",
       "      <td>15.7</td>\n",
       "      <td>12.8</td>\n",
       "      <td>3.8</td>\n",
       "      <td>3.3</td>\n",
       "      <td>82.0</td>\n",
       "      <td>8.3</td>\n",
       "      <td>E</td>\n",
       "      <td>35.6</td>\n",
       "    </tr>\n",
       "    <tr>\n",
       "      <td>3</td>\n",
       "      <td>Wii Sports Resort</td>\n",
       "      <td>Wii</td>\n",
       "      <td>2009</td>\n",
       "      <td>Sports</td>\n",
       "      <td>15.6</td>\n",
       "      <td>10.9</td>\n",
       "      <td>3.3</td>\n",
       "      <td>3.0</td>\n",
       "      <td>80.0</td>\n",
       "      <td>8.0</td>\n",
       "      <td>E</td>\n",
       "      <td>32.8</td>\n",
       "    </tr>\n",
       "    <tr>\n",
       "      <td>6</td>\n",
       "      <td>New Super Mario Bros.</td>\n",
       "      <td>DS</td>\n",
       "      <td>2006</td>\n",
       "      <td>Platform</td>\n",
       "      <td>11.3</td>\n",
       "      <td>9.1</td>\n",
       "      <td>6.5</td>\n",
       "      <td>2.9</td>\n",
       "      <td>89.0</td>\n",
       "      <td>8.5</td>\n",
       "      <td>E</td>\n",
       "      <td>29.8</td>\n",
       "    </tr>\n",
       "    <tr>\n",
       "      <td>7</td>\n",
       "      <td>Wii Play</td>\n",
       "      <td>Wii</td>\n",
       "      <td>2006</td>\n",
       "      <td>Misc</td>\n",
       "      <td>14.0</td>\n",
       "      <td>9.2</td>\n",
       "      <td>2.9</td>\n",
       "      <td>2.8</td>\n",
       "      <td>58.0</td>\n",
       "      <td>6.6</td>\n",
       "      <td>E</td>\n",
       "      <td>28.9</td>\n",
       "    </tr>\n",
       "  </tbody>\n",
       "</table>\n",
       "</div>"
      ],
      "text/plain": [
       "                    name platform  year_of_release     genre  na_sales  \\\n",
       "0             Wii Sports      Wii             2006    Sports      41.4   \n",
       "2         Mario Kart Wii      Wii             2008    Racing      15.7   \n",
       "3      Wii Sports Resort      Wii             2009    Sports      15.6   \n",
       "6  New Super Mario Bros.       DS             2006  Platform      11.3   \n",
       "7               Wii Play      Wii             2006      Misc      14.0   \n",
       "\n",
       "   eu_sales  jp_sales  other_sales  critic_score  user_score rating  sum_sales  \n",
       "0      29.0       3.8          8.4          76.0         8.0      E       82.6  \n",
       "2      12.8       3.8          3.3          82.0         8.3      E       35.6  \n",
       "3      10.9       3.3          3.0          80.0         8.0      E       32.8  \n",
       "6       9.1       6.5          2.9          89.0         8.5      E       29.8  \n",
       "7       9.2       2.9          2.8          58.0         6.6      E       28.9  "
      ]
     },
     "execution_count": 36,
     "metadata": {},
     "output_type": "execute_result"
    }
   ],
   "source": [
    "data_actual.head()"
   ]
  },
  {
   "cell_type": "markdown",
   "metadata": {},
   "source": [
    "Самые популярные платформы (топ-5). Опишите различия в долях продаж:"
   ]
  },
  {
   "cell_type": "code",
   "execution_count": 37,
   "metadata": {
    "scrolled": true
   },
   "outputs": [
    {
     "name": "stdout",
     "output_type": "stream",
     "text": [
      "Таблица по платформам для региона: na_sales           sum_sales\n",
      "platform           \n",
      "X360          595.6\n",
      "PS2           550.3\n",
      "Wii           484.2\n",
      "PS3           388.1\n",
      "DS            375.0\n",
      "\n",
      "Таблица по платформам для региона: eu_sales           sum_sales\n",
      "platform           \n",
      "PS3           322.4\n",
      "PS2           312.5\n",
      "X360          261.3\n",
      "Wii           253.5\n",
      "DS            180.2\n",
      "\n",
      "Таблица по платформам для региона: jp_sales           sum_sales\n",
      "platform           \n",
      "DS            167.6\n",
      "PS2           121.4\n",
      "3DS            99.5\n",
      "PS3            73.2\n",
      "PSP            67.5\n",
      "\n"
     ]
    }
   ],
   "source": [
    "reg = [\"na_sales\",'eu_sales','jp_sales']\n",
    "for i in reg:\n",
    "    data_i = data_actual.pivot_table(index = ['platform'], values = [i], aggfunc = ['sum'])\n",
    "    data_i.columns = ['sum_sales']\n",
    "    data_i=data_i.sort_values(by=\"sum_sales\", ascending = False).head()\n",
    "    print(\"Таблица по платформам для региона:\",i,data_i)\n",
    "    print()\n",
    "    "
   ]
  },
  {
   "cell_type": "markdown",
   "metadata": {},
   "source": [
    "Видно, что популярность платформ в каждом регионе отличается. В северной америке больше всего популярен Х360, в европе ПС3, в Японии DS. Доли продаж всех платформ больше всего в северной америке."
   ]
  },
  {
   "cell_type": "markdown",
   "metadata": {},
   "source": [
    "Самые популярные жанры (топ-5):"
   ]
  },
  {
   "cell_type": "code",
   "execution_count": 38,
   "metadata": {},
   "outputs": [
    {
     "name": "stdout",
     "output_type": "stream",
     "text": [
      "Таблица по жанрам для региона: na_sales\n",
      "              na_sales\n",
      "genre                 \n",
      "Action           727.1\n",
      "Sports           563.7\n",
      "Shooter          486.3\n",
      "Misc             355.1\n",
      "Role-Playing     272.6\n",
      "\n",
      "Таблица по жанрам для региона: eu_sales\n",
      "         eu_sales\n",
      "genre            \n",
      "Action      440.3\n",
      "Sports      319.0\n",
      "Shooter     284.5\n",
      "Misc        185.6\n",
      "Racing      178.5\n",
      "\n",
      "Таблица по жанрам для региона: jp_sales\n",
      "              jp_sales\n",
      "genre                 \n",
      "Role-Playing     220.5\n",
      "Action           118.0\n",
      "Misc              79.3\n",
      "Sports            66.3\n",
      "Platform          51.4\n",
      "\n"
     ]
    }
   ],
   "source": [
    "for i in reg:\n",
    "    data_i = data_actual.pivot_table(index = ['genre'], values = [i], aggfunc = ['sum'])\n",
    "    data_i.columns = [i]\n",
    "    data_i=data_i.sort_values(by=i, ascending = False).head()\n",
    "    print(\"Таблица по жанрам для региона:\",i)\n",
    "    print(data_i)\n",
    "    print()"
   ]
  },
  {
   "cell_type": "markdown",
   "metadata": {},
   "source": [
    "В каждом регионе в топ 5 входят такие жанры как: Экшен, Шутер, Спорт, Музыкальный. Только в Японии самым популярным жанром являются ролевые игры. По нашей выборке можно сделать вывод, что мир предпочитает активные игры (экшены, шутеры, спортивные,музыкальные)."
   ]
  },
  {
   "cell_type": "markdown",
   "metadata": {},
   "source": [
    "Влияет ли рейтинг ESRB на продажи в отдельном регионе?"
   ]
  },
  {
   "cell_type": "code",
   "execution_count": 39,
   "metadata": {},
   "outputs": [
    {
     "name": "stdout",
     "output_type": "stream",
     "text": [
      "Таблица по жанрам для региона: na_sales\n",
      "        na_sales\n",
      "rating          \n",
      "E         1214.8\n",
      "M          722.8\n",
      "T          678.7\n",
      "RP         437.4\n",
      "E10+       341.3\n",
      "\n",
      "Таблица по жанрам для региона: eu_sales\n",
      "        eu_sales\n",
      "rating          \n",
      "E          652.3\n",
      "M          461.9\n",
      "T          357.2\n",
      "RP         308.5\n",
      "E10+       175.1\n",
      "\n",
      "Таблица по жанрам для региона: jp_sales\n",
      "        jp_sales\n",
      "rating          \n",
      "RP         335.4\n",
      "E          184.2\n",
      "T          117.2\n",
      "M           52.6\n",
      "E10+        37.6\n",
      "\n"
     ]
    }
   ],
   "source": [
    "for i in reg:\n",
    "    data_i = data_actual.pivot_table(index = ['rating'], values = [i], aggfunc = ['sum'])\n",
    "    data_i.columns = [i]\n",
    "    data_i=data_i.sort_values(by=i, ascending = False)\n",
    "    print(\"Таблица по жанрам для региона:\",i)\n",
    "    print(data_i)\n",
    "    print()"
   ]
  },
  {
   "cell_type": "code",
   "execution_count": 40,
   "metadata": {},
   "outputs": [
    {
     "data": {
      "text/html": [
       "<div>\n",
       "<style scoped>\n",
       "    .dataframe tbody tr th:only-of-type {\n",
       "        vertical-align: middle;\n",
       "    }\n",
       "\n",
       "    .dataframe tbody tr th {\n",
       "        vertical-align: top;\n",
       "    }\n",
       "\n",
       "    .dataframe thead tr th {\n",
       "        text-align: left;\n",
       "    }\n",
       "\n",
       "    .dataframe thead tr:last-of-type th {\n",
       "        text-align: right;\n",
       "    }\n",
       "</style>\n",
       "<table border=\"1\" class=\"dataframe\">\n",
       "  <thead>\n",
       "    <tr>\n",
       "      <th></th>\n",
       "      <th colspan=\"3\" halign=\"left\">sum</th>\n",
       "    </tr>\n",
       "    <tr>\n",
       "      <th></th>\n",
       "      <th>eu_sales</th>\n",
       "      <th>jp_sales</th>\n",
       "      <th>na_sales</th>\n",
       "    </tr>\n",
       "    <tr>\n",
       "      <th>rating</th>\n",
       "      <th></th>\n",
       "      <th></th>\n",
       "      <th></th>\n",
       "    </tr>\n",
       "  </thead>\n",
       "  <tbody>\n",
       "    <tr>\n",
       "      <td>E</td>\n",
       "      <td>652.3</td>\n",
       "      <td>184.2</td>\n",
       "      <td>1214.8</td>\n",
       "    </tr>\n",
       "    <tr>\n",
       "      <td>E10+</td>\n",
       "      <td>175.1</td>\n",
       "      <td>37.6</td>\n",
       "      <td>341.3</td>\n",
       "    </tr>\n",
       "    <tr>\n",
       "      <td>M</td>\n",
       "      <td>461.9</td>\n",
       "      <td>52.6</td>\n",
       "      <td>722.8</td>\n",
       "    </tr>\n",
       "    <tr>\n",
       "      <td>RP</td>\n",
       "      <td>308.5</td>\n",
       "      <td>335.4</td>\n",
       "      <td>437.4</td>\n",
       "    </tr>\n",
       "    <tr>\n",
       "      <td>T</td>\n",
       "      <td>357.2</td>\n",
       "      <td>117.2</td>\n",
       "      <td>678.7</td>\n",
       "    </tr>\n",
       "  </tbody>\n",
       "</table>\n",
       "</div>"
      ],
      "text/plain": [
       "            sum                  \n",
       "       eu_sales jp_sales na_sales\n",
       "rating                           \n",
       "E         652.3    184.2   1214.8\n",
       "E10+      175.1     37.6    341.3\n",
       "M         461.9     52.6    722.8\n",
       "RP        308.5    335.4    437.4\n",
       "T         357.2    117.2    678.7"
      ]
     },
     "execution_count": 40,
     "metadata": {},
     "output_type": "execute_result"
    }
   ],
   "source": [
    "data_piv_rating = data_actual.pivot_table(index = ['rating'], values = [\"na_sales\",'eu_sales','jp_sales'], aggfunc = ['sum'])\n",
    "data_piv_rating"
   ]
  },
  {
   "cell_type": "markdown",
   "metadata": {},
   "source": [
    "- E -рейтинг для всех, \n",
    "- М - для взрослых;\n",
    "- Т - для подростков;\n",
    "- E10+ - для детей от 10 лет;\n",
    "- RP - ожидается уточнения.\n",
    "\n",
    "Больше всего продаж у рейтинга Е (для всех), меньше всех у рейтинга Е10+ (для детей от 10 лет) для каждого региона."
   ]
  },
  {
   "cell_type": "markdown",
   "metadata": {},
   "source": [
    "## Проверим гипотезы"
   ]
  },
  {
   "cell_type": "markdown",
   "metadata": {},
   "source": [
    "Средние пользовательские рейтинги платформ Xbox One и PC одинаковые;\n",
    "\n",
    "Средние пользовательские рейтинги жанров Action (англ. «действие», экшен-игры) и Sports (англ. «спортивные соревнования») разные."
   ]
  },
  {
   "cell_type": "markdown",
   "metadata": {},
   "source": [
    "Но: Средние пользовательские рейтинги платформ Xbox One и PC не различаются с вероятностью 95%. Н1: соответственно различаются."
   ]
  },
  {
   "cell_type": "code",
   "execution_count": 41,
   "metadata": {},
   "outputs": [],
   "source": [
    "data_actuall = data_actual.dropna(subset=[\"user_score\"]).reset_index(drop=True) "
   ]
  },
  {
   "cell_type": "code",
   "execution_count": 42,
   "metadata": {},
   "outputs": [
    {
     "name": "stdout",
     "output_type": "stream",
     "text": [
      "<class 'pandas.core.frame.DataFrame'>\n",
      "RangeIndex: 7264 entries, 0 to 7263\n",
      "Data columns (total 12 columns):\n",
      "name               7264 non-null object\n",
      "platform           7264 non-null object\n",
      "year_of_release    7264 non-null int64\n",
      "genre              7264 non-null object\n",
      "na_sales           7264 non-null float64\n",
      "eu_sales           7264 non-null float64\n",
      "jp_sales           7264 non-null float64\n",
      "other_sales        7264 non-null float64\n",
      "critic_score       6710 non-null float64\n",
      "user_score         7264 non-null float64\n",
      "rating             7264 non-null object\n",
      "sum_sales          7264 non-null float64\n",
      "dtypes: float64(7), int64(1), object(4)\n",
      "memory usage: 681.1+ KB\n"
     ]
    }
   ],
   "source": [
    "data_actuall.info()"
   ]
  },
  {
   "cell_type": "code",
   "execution_count": 43,
   "metadata": {},
   "outputs": [
    {
     "data": {
      "text/plain": [
       "1.9069968429360695"
      ]
     },
     "execution_count": 43,
     "metadata": {},
     "output_type": "execute_result"
    }
   ],
   "source": [
    "variance_X = np.var(data_actuall[data_actuall['platform'] == 'XOne']['user_score'],ddof=1)\n",
    "variance_X # дписперсия выборки по ХОne"
   ]
  },
  {
   "cell_type": "code",
   "execution_count": 44,
   "metadata": {},
   "outputs": [
    {
     "data": {
      "text/plain": [
       "2.317434587420832"
      ]
     },
     "execution_count": 44,
     "metadata": {},
     "output_type": "execute_result"
    }
   ],
   "source": [
    "variance_PC = np.var(data_actuall[data_actuall['platform'] == 'PC']['user_score'],ddof=1)\n",
    "variance_PC # дписперсия выборки по РС"
   ]
  },
  {
   "cell_type": "markdown",
   "metadata": {},
   "source": [
    "Дисперсии не равны(параметр совокупностей разные),учтем это при проверке гипотезы:"
   ]
  },
  {
   "cell_type": "code",
   "execution_count": 45,
   "metadata": {},
   "outputs": [
    {
     "name": "stdout",
     "output_type": "stream",
     "text": [
      "Отвергаем нулевую гипотезу 2.2075890056219328e-05\n"
     ]
    }
   ],
   "source": [
    "from scipy import stats as st\n",
    "alpha = 0.05\n",
    "results = st.ttest_ind(data_actuall[data_actuall['platform'] == 'XOne']['user_score'], data_actuall[data_actuall['platform'] == 'PC']['user_score'], equal_var = False)\n",
    "if results.pvalue < alpha:\n",
    "    print('Отвергаем нулевую гипотезу',results.pvalue)\n",
    "else:\n",
    "    print('Не получилось отвергнуть нулевую гипотезу',results.pvalue)"
   ]
  },
  {
   "cell_type": "markdown",
   "metadata": {},
   "source": [
    "Но: среднее одной совокупности равно среднему другой с вероятностью 95%. Н1: соответственно не равно."
   ]
  },
  {
   "cell_type": "code",
   "execution_count": 46,
   "metadata": {},
   "outputs": [
    {
     "data": {
      "text/plain": [
       "2.004512311062291"
      ]
     },
     "execution_count": 46,
     "metadata": {},
     "output_type": "execute_result"
    }
   ],
   "source": [
    "variance_A = np.var(data_actuall[data_actuall['genre'] == 'Action']['user_score'],ddof=1)\n",
    "variance_A # дписперсия выборки по жанра Экшен"
   ]
  },
  {
   "cell_type": "code",
   "execution_count": 47,
   "metadata": {},
   "outputs": [
    {
     "data": {
      "text/plain": [
       "2.63490943283214"
      ]
     },
     "execution_count": 47,
     "metadata": {},
     "output_type": "execute_result"
    }
   ],
   "source": [
    "variance_S = np.var(data_actuall[data_actuall['genre'] == 'Sports']['user_score'],ddof=1)\n",
    "variance_S # дписперсия выборки жанра Спорт"
   ]
  },
  {
   "cell_type": "markdown",
   "metadata": {},
   "source": [
    "Дисперсии не равны(параметр совокупностей разные),учтем это при проверке гипотезы:"
   ]
  },
  {
   "cell_type": "code",
   "execution_count": 48,
   "metadata": {},
   "outputs": [
    {
     "name": "stdout",
     "output_type": "stream",
     "text": [
      "Не получилось отвергнуть нулевую гипотезу 0.07686681371741208\n"
     ]
    }
   ],
   "source": [
    "results = st.ttest_ind(data_actuall[data_actuall['genre'] == 'Action']['user_score'], data_actuall[data_actuall['genre'] == 'Sports']['user_score'],equal_var = False)\n",
    "if results.pvalue < alpha:\n",
    "    print('Отвергаем нулевую гипотезу',results.pvalue)\n",
    "else:\n",
    "    print('Не получилось отвергнуть нулевую гипотезу',results.pvalue)"
   ]
  },
  {
   "cell_type": "markdown",
   "metadata": {},
   "source": [
    "## Вывод"
   ]
  },
  {
   "cell_type": "markdown",
   "metadata": {},
   "source": [
    "Вывод\n",
    "Проведен анализ данных по продажам игр с 1980 по 2016 года. Анализирую данные пришли к выводу, что с выходом новых платформ постепенно затухают старые, и можно спрогнозировать что в 2017 году рынок захватят ХOne, PS4, WiiU. При этом также не сложно спрогнозировать, какие платформы будут выбраны в каждом регионе. При анализе, можно заметить, что по сути рейтинги пользователей никак не влияют на продажи, впрочем рейтинге критиков совсем чуть чуть влияют на продажи. Самые популярные жанры экшн и шутеры. На западе любят спортвные симуляторы, а в японии ролевые игры."
   ]
  },
  {
   "cell_type": "code",
   "execution_count": null,
   "metadata": {},
   "outputs": [],
   "source": []
  }
 ],
 "metadata": {
  "ExecuteTimeLog": [
   {
    "duration": 5559,
    "start_time": "2021-11-27T14:20:48.540Z"
   },
   {
    "duration": 70,
    "start_time": "2021-11-27T14:21:16.051Z"
   },
   {
    "duration": 15,
    "start_time": "2021-11-27T14:56:01.121Z"
   },
   {
    "duration": 6,
    "start_time": "2021-11-27T15:01:00.316Z"
   },
   {
    "duration": 5,
    "start_time": "2021-11-27T15:01:18.049Z"
   },
   {
    "duration": 23,
    "start_time": "2021-11-27T15:01:33.314Z"
   },
   {
    "duration": 689,
    "start_time": "2021-11-27T15:01:46.165Z"
   },
   {
    "duration": 378,
    "start_time": "2021-11-27T15:02:00.716Z"
   },
   {
    "duration": 374,
    "start_time": "2021-11-27T15:03:10.453Z"
   },
   {
    "duration": 389,
    "start_time": "2021-11-27T15:03:35.721Z"
   },
   {
    "duration": 7,
    "start_time": "2021-11-27T15:03:44.573Z"
   },
   {
    "duration": 18,
    "start_time": "2021-11-27T15:03:49.738Z"
   },
   {
    "duration": 4,
    "start_time": "2021-11-27T15:04:00.089Z"
   },
   {
    "duration": 17,
    "start_time": "2021-11-27T15:04:02.162Z"
   },
   {
    "duration": 5,
    "start_time": "2021-11-27T15:04:33.380Z"
   },
   {
    "duration": 732,
    "start_time": "2021-11-28T07:50:38.968Z"
   },
   {
    "duration": 10,
    "start_time": "2021-11-28T07:50:39.702Z"
   },
   {
    "duration": 3,
    "start_time": "2021-11-28T07:50:39.717Z"
   },
   {
    "duration": 31,
    "start_time": "2021-11-28T07:50:39.722Z"
   },
   {
    "duration": 51,
    "start_time": "2021-11-28T07:51:11.738Z"
   },
   {
    "duration": 13,
    "start_time": "2021-11-28T07:51:32.823Z"
   },
   {
    "duration": 727,
    "start_time": "2021-11-28T07:53:46.409Z"
   },
   {
    "duration": 10,
    "start_time": "2021-11-28T07:53:47.137Z"
   },
   {
    "duration": 3,
    "start_time": "2021-11-28T07:53:47.151Z"
   },
   {
    "duration": 15,
    "start_time": "2021-11-28T07:53:47.156Z"
   },
   {
    "duration": 478,
    "start_time": "2021-11-28T08:03:21.401Z"
   },
   {
    "duration": 353,
    "start_time": "2021-11-28T08:03:46.542Z"
   },
   {
    "duration": 14,
    "start_time": "2021-11-28T08:07:29.036Z"
   },
   {
    "duration": 3,
    "start_time": "2021-11-28T08:08:22.794Z"
   },
   {
    "duration": 14,
    "start_time": "2021-11-28T08:08:33.569Z"
   },
   {
    "duration": 4,
    "start_time": "2021-11-28T09:15:27.892Z"
   },
   {
    "duration": 12,
    "start_time": "2021-11-28T09:15:33.887Z"
   },
   {
    "duration": 8914,
    "start_time": "2021-11-28T09:16:23.518Z"
   },
   {
    "duration": 9844,
    "start_time": "2021-11-28T09:16:41.875Z"
   },
   {
    "duration": 4,
    "start_time": "2021-11-28T09:17:10.800Z"
   },
   {
    "duration": 5,
    "start_time": "2021-11-28T09:17:38.734Z"
   },
   {
    "duration": 12,
    "start_time": "2021-11-28T09:17:43.275Z"
   },
   {
    "duration": 6,
    "start_time": "2021-11-28T09:18:13.152Z"
   },
   {
    "duration": 13,
    "start_time": "2021-11-28T09:18:17.041Z"
   },
   {
    "duration": 6,
    "start_time": "2021-11-28T09:23:04.373Z"
   },
   {
    "duration": 10,
    "start_time": "2021-11-28T09:23:37.207Z"
   },
   {
    "duration": 504,
    "start_time": "2021-11-28T09:26:18.955Z"
   },
   {
    "duration": 20,
    "start_time": "2021-11-28T09:26:32.350Z"
   },
   {
    "duration": 384,
    "start_time": "2021-11-28T09:41:15.456Z"
   },
   {
    "duration": 9,
    "start_time": "2021-11-28T09:41:28.392Z"
   },
   {
    "duration": 10,
    "start_time": "2021-11-28T09:41:36.285Z"
   },
   {
    "duration": 8,
    "start_time": "2021-11-28T09:42:22.338Z"
   },
   {
    "duration": 5,
    "start_time": "2021-11-28T09:44:41.616Z"
   },
   {
    "duration": 12,
    "start_time": "2021-11-28T09:44:50.703Z"
   },
   {
    "duration": 5,
    "start_time": "2021-11-28T09:45:09.752Z"
   },
   {
    "duration": 13,
    "start_time": "2021-11-28T09:45:11.687Z"
   },
   {
    "duration": 4,
    "start_time": "2021-11-28T09:45:23.989Z"
   },
   {
    "duration": 13,
    "start_time": "2021-11-28T09:45:25.602Z"
   },
   {
    "duration": 1383,
    "start_time": "2021-11-28T09:48:06.518Z"
   },
   {
    "duration": 174,
    "start_time": "2021-11-28T10:03:43.154Z"
   },
   {
    "duration": 187,
    "start_time": "2021-11-28T10:04:30.310Z"
   },
   {
    "duration": 173,
    "start_time": "2021-11-28T10:04:36.320Z"
   },
   {
    "duration": 7,
    "start_time": "2021-11-28T10:08:54.881Z"
   },
   {
    "duration": 16,
    "start_time": "2021-11-28T10:09:09.878Z"
   },
   {
    "duration": 264,
    "start_time": "2021-11-28T10:10:16.925Z"
   },
   {
    "duration": 176,
    "start_time": "2021-11-28T10:10:46.717Z"
   },
   {
    "duration": 185,
    "start_time": "2021-11-28T10:10:52.152Z"
   },
   {
    "duration": 200,
    "start_time": "2021-11-28T10:10:58.302Z"
   },
   {
    "duration": 179,
    "start_time": "2021-11-28T10:11:20.947Z"
   },
   {
    "duration": 188,
    "start_time": "2021-11-28T10:11:33.371Z"
   },
   {
    "duration": 182,
    "start_time": "2021-11-28T10:11:38.311Z"
   },
   {
    "duration": 174,
    "start_time": "2021-11-28T10:11:53.742Z"
   },
   {
    "duration": 14,
    "start_time": "2021-11-28T10:18:37.417Z"
   },
   {
    "duration": 15,
    "start_time": "2021-11-28T10:19:34.005Z"
   },
   {
    "duration": 339,
    "start_time": "2021-11-28T10:24:36.926Z"
   },
   {
    "duration": 370,
    "start_time": "2021-11-28T10:24:47.504Z"
   },
   {
    "duration": 431,
    "start_time": "2021-11-28T10:25:07.558Z"
   },
   {
    "duration": 357,
    "start_time": "2021-11-28T10:27:05.457Z"
   },
   {
    "duration": 368,
    "start_time": "2021-11-28T10:28:24.835Z"
   },
   {
    "duration": 388,
    "start_time": "2021-11-28T10:28:34.906Z"
   },
   {
    "duration": 126,
    "start_time": "2021-11-28T10:29:08.962Z"
   },
   {
    "duration": 138,
    "start_time": "2021-11-28T10:29:22.773Z"
   },
   {
    "duration": 398,
    "start_time": "2021-11-28T10:29:34.681Z"
   },
   {
    "duration": 356,
    "start_time": "2021-11-28T10:29:49.016Z"
   },
   {
    "duration": 16,
    "start_time": "2021-11-28T10:30:07.995Z"
   },
   {
    "duration": 351,
    "start_time": "2021-11-28T10:30:48.625Z"
   },
   {
    "duration": 359,
    "start_time": "2021-11-28T10:30:58.447Z"
   },
   {
    "duration": 390,
    "start_time": "2021-11-28T10:36:23.535Z"
   },
   {
    "duration": 14,
    "start_time": "2021-11-28T10:38:09.842Z"
   },
   {
    "duration": 763,
    "start_time": "2021-11-28T10:40:20.814Z"
   },
   {
    "duration": 12,
    "start_time": "2021-11-28T10:40:21.580Z"
   },
   {
    "duration": 4,
    "start_time": "2021-11-28T10:40:21.594Z"
   },
   {
    "duration": 12,
    "start_time": "2021-11-28T10:40:21.607Z"
   },
   {
    "duration": 15,
    "start_time": "2021-11-28T10:40:21.620Z"
   },
   {
    "duration": 3,
    "start_time": "2021-11-28T10:40:21.637Z"
   },
   {
    "duration": 8,
    "start_time": "2021-11-28T10:40:21.642Z"
   },
   {
    "duration": 14,
    "start_time": "2021-11-28T10:40:21.653Z"
   },
   {
    "duration": 45,
    "start_time": "2021-11-28T10:40:21.669Z"
   },
   {
    "duration": 8,
    "start_time": "2021-11-28T10:40:21.716Z"
   },
   {
    "duration": 11,
    "start_time": "2021-11-28T10:40:21.725Z"
   },
   {
    "duration": 9,
    "start_time": "2021-11-28T10:40:21.738Z"
   },
   {
    "duration": 13,
    "start_time": "2021-11-28T10:40:21.749Z"
   },
   {
    "duration": 226,
    "start_time": "2021-11-28T10:40:21.764Z"
   },
   {
    "duration": 18,
    "start_time": "2021-11-28T10:40:21.991Z"
   },
   {
    "duration": 15,
    "start_time": "2021-11-28T10:40:22.011Z"
   },
   {
    "duration": 198,
    "start_time": "2021-11-28T10:40:22.028Z"
   },
   {
    "duration": 418,
    "start_time": "2021-11-28T10:40:22.228Z"
   },
   {
    "duration": 103,
    "start_time": "2021-11-28T10:40:22.545Z"
   },
   {
    "duration": 359,
    "start_time": "2021-11-28T10:42:19.485Z"
   },
   {
    "duration": 389,
    "start_time": "2021-11-28T10:43:12.278Z"
   },
   {
    "duration": 703,
    "start_time": "2021-11-28T10:43:24.744Z"
   },
   {
    "duration": 10,
    "start_time": "2021-11-28T10:43:25.450Z"
   },
   {
    "duration": 13,
    "start_time": "2021-11-28T10:43:25.462Z"
   },
   {
    "duration": 23,
    "start_time": "2021-11-28T10:43:25.477Z"
   },
   {
    "duration": 21,
    "start_time": "2021-11-28T10:43:25.502Z"
   },
   {
    "duration": 9,
    "start_time": "2021-11-28T10:43:25.526Z"
   },
   {
    "duration": 9,
    "start_time": "2021-11-28T10:43:25.537Z"
   },
   {
    "duration": 13,
    "start_time": "2021-11-28T10:43:25.548Z"
   },
   {
    "duration": 15,
    "start_time": "2021-11-28T10:43:25.564Z"
   },
   {
    "duration": 8,
    "start_time": "2021-11-28T10:43:25.581Z"
   },
   {
    "duration": 22,
    "start_time": "2021-11-28T10:43:25.590Z"
   },
   {
    "duration": 15,
    "start_time": "2021-11-28T10:43:25.613Z"
   },
   {
    "duration": 13,
    "start_time": "2021-11-28T10:43:25.630Z"
   },
   {
    "duration": 203,
    "start_time": "2021-11-28T10:43:25.645Z"
   },
   {
    "duration": 7,
    "start_time": "2021-11-28T10:43:25.850Z"
   },
   {
    "duration": 20,
    "start_time": "2021-11-28T10:43:25.858Z"
   },
   {
    "duration": 211,
    "start_time": "2021-11-28T10:43:25.880Z"
   },
   {
    "duration": 21,
    "start_time": "2021-11-28T10:43:26.093Z"
   },
   {
    "duration": 9,
    "start_time": "2021-11-28T10:43:26.116Z"
   },
   {
    "duration": 371,
    "start_time": "2021-11-28T10:45:46.003Z"
   },
   {
    "duration": 249,
    "start_time": "2021-11-28T10:46:12.503Z"
   },
   {
    "duration": 446,
    "start_time": "2021-11-28T10:46:31.405Z"
   },
   {
    "duration": 3,
    "start_time": "2021-11-28T10:47:01.221Z"
   },
   {
    "duration": 7,
    "start_time": "2021-11-28T10:47:08.407Z"
   },
   {
    "duration": 362,
    "start_time": "2021-11-28T10:47:14.951Z"
   },
   {
    "duration": 356,
    "start_time": "2021-11-28T10:47:20.788Z"
   },
   {
    "duration": 544,
    "start_time": "2021-11-28T10:47:26.194Z"
   },
   {
    "duration": 778,
    "start_time": "2021-11-28T10:48:07.724Z"
   },
   {
    "duration": 13,
    "start_time": "2021-11-28T10:48:08.505Z"
   },
   {
    "duration": 4,
    "start_time": "2021-11-28T10:48:08.521Z"
   },
   {
    "duration": 16,
    "start_time": "2021-11-28T10:48:08.528Z"
   },
   {
    "duration": 17,
    "start_time": "2021-11-28T10:48:08.546Z"
   },
   {
    "duration": 43,
    "start_time": "2021-11-28T10:48:08.565Z"
   },
   {
    "duration": 12,
    "start_time": "2021-11-28T10:48:08.610Z"
   },
   {
    "duration": 18,
    "start_time": "2021-11-28T10:48:08.624Z"
   },
   {
    "duration": 12,
    "start_time": "2021-11-28T10:48:08.644Z"
   },
   {
    "duration": 10,
    "start_time": "2021-11-28T10:48:08.658Z"
   },
   {
    "duration": 44,
    "start_time": "2021-11-28T10:48:08.670Z"
   },
   {
    "duration": 10,
    "start_time": "2021-11-28T10:48:08.716Z"
   },
   {
    "duration": 14,
    "start_time": "2021-11-28T10:48:08.727Z"
   },
   {
    "duration": 218,
    "start_time": "2021-11-28T10:48:08.743Z"
   },
   {
    "duration": 8,
    "start_time": "2021-11-28T10:48:08.962Z"
   },
   {
    "duration": 34,
    "start_time": "2021-11-28T10:48:08.972Z"
   },
   {
    "duration": 210,
    "start_time": "2021-11-28T10:48:09.009Z"
   },
   {
    "duration": 12,
    "start_time": "2021-11-28T10:48:09.220Z"
   },
   {
    "duration": 3,
    "start_time": "2021-11-28T10:48:09.233Z"
   },
   {
    "duration": 10,
    "start_time": "2021-11-28T10:48:09.238Z"
   },
   {
    "duration": 418,
    "start_time": "2021-11-28T10:48:52.857Z"
   },
   {
    "duration": 345,
    "start_time": "2021-11-28T10:48:59.068Z"
   },
   {
    "duration": 335,
    "start_time": "2021-11-28T10:49:04.205Z"
   },
   {
    "duration": 365,
    "start_time": "2021-11-28T10:49:25.098Z"
   },
   {
    "duration": 8,
    "start_time": "2021-11-28T10:49:50.020Z"
   },
   {
    "duration": 167,
    "start_time": "2021-11-28T10:50:12.392Z"
   },
   {
    "duration": 8,
    "start_time": "2021-11-28T10:50:34.421Z"
   },
   {
    "duration": 327,
    "start_time": "2021-11-28T10:50:57.400Z"
   },
   {
    "duration": 352,
    "start_time": "2021-11-28T10:52:34.779Z"
   },
   {
    "duration": 744,
    "start_time": "2021-11-28T10:53:45.622Z"
   },
   {
    "duration": 13,
    "start_time": "2021-11-28T10:53:46.367Z"
   },
   {
    "duration": 7,
    "start_time": "2021-11-28T10:53:46.383Z"
   },
   {
    "duration": 20,
    "start_time": "2021-11-28T10:53:46.393Z"
   },
   {
    "duration": 20,
    "start_time": "2021-11-28T10:53:46.415Z"
   },
   {
    "duration": 5,
    "start_time": "2021-11-28T10:53:46.437Z"
   },
   {
    "duration": 25,
    "start_time": "2021-11-28T10:53:46.444Z"
   },
   {
    "duration": 19,
    "start_time": "2021-11-28T10:53:46.472Z"
   },
   {
    "duration": 14,
    "start_time": "2021-11-28T10:53:46.493Z"
   },
   {
    "duration": 7,
    "start_time": "2021-11-28T10:53:46.509Z"
   },
   {
    "duration": 14,
    "start_time": "2021-11-28T10:53:46.517Z"
   },
   {
    "duration": 5,
    "start_time": "2021-11-28T10:53:46.532Z"
   },
   {
    "duration": 15,
    "start_time": "2021-11-28T10:53:46.539Z"
   },
   {
    "duration": 219,
    "start_time": "2021-11-28T10:53:46.555Z"
   },
   {
    "duration": 8,
    "start_time": "2021-11-28T10:53:46.777Z"
   },
   {
    "duration": 37,
    "start_time": "2021-11-28T10:53:46.786Z"
   },
   {
    "duration": 199,
    "start_time": "2021-11-28T10:53:46.825Z"
   },
   {
    "duration": 12,
    "start_time": "2021-11-28T10:53:47.026Z"
   },
   {
    "duration": 17,
    "start_time": "2021-11-28T10:53:47.039Z"
   },
   {
    "duration": 234,
    "start_time": "2021-11-28T10:53:47.058Z"
   },
   {
    "duration": 23,
    "start_time": "2021-11-28T10:53:47.294Z"
   },
   {
    "duration": 161,
    "start_time": "2021-11-28T10:55:53.453Z"
   },
   {
    "duration": 17,
    "start_time": "2021-11-28T10:55:59.912Z"
   },
   {
    "duration": 776,
    "start_time": "2021-11-28T10:58:29.974Z"
   },
   {
    "duration": 10,
    "start_time": "2021-11-28T10:58:30.751Z"
   },
   {
    "duration": 15,
    "start_time": "2021-11-28T10:58:30.763Z"
   },
   {
    "duration": 39,
    "start_time": "2021-11-28T10:58:30.780Z"
   },
   {
    "duration": 28,
    "start_time": "2021-11-28T10:58:30.821Z"
   },
   {
    "duration": 12,
    "start_time": "2021-11-28T10:58:30.850Z"
   },
   {
    "duration": 14,
    "start_time": "2021-11-28T10:58:30.863Z"
   },
   {
    "duration": 18,
    "start_time": "2021-11-28T10:58:30.880Z"
   },
   {
    "duration": 23,
    "start_time": "2021-11-28T10:58:30.900Z"
   },
   {
    "duration": 23,
    "start_time": "2021-11-28T10:58:30.925Z"
   },
   {
    "duration": 22,
    "start_time": "2021-11-28T10:58:30.949Z"
   },
   {
    "duration": 20,
    "start_time": "2021-11-28T10:58:30.972Z"
   },
   {
    "duration": 21,
    "start_time": "2021-11-28T10:58:30.993Z"
   },
   {
    "duration": 198,
    "start_time": "2021-11-28T10:58:31.015Z"
   },
   {
    "duration": 11,
    "start_time": "2021-11-28T10:58:31.215Z"
   },
   {
    "duration": 16,
    "start_time": "2021-11-28T10:58:31.227Z"
   },
   {
    "duration": 294,
    "start_time": "2021-11-28T10:58:31.245Z"
   },
   {
    "duration": 16,
    "start_time": "2021-11-28T10:58:31.541Z"
   },
   {
    "duration": 491,
    "start_time": "2021-11-28T11:11:48.801Z"
   },
   {
    "duration": 526,
    "start_time": "2021-11-28T11:12:15.432Z"
   },
   {
    "duration": 625,
    "start_time": "2021-11-28T11:15:08.538Z"
   },
   {
    "duration": 414,
    "start_time": "2021-11-28T11:18:24.637Z"
   },
   {
    "duration": 760,
    "start_time": "2021-11-28T11:18:44.933Z"
   },
   {
    "duration": 13,
    "start_time": "2021-11-28T11:18:45.696Z"
   },
   {
    "duration": 3,
    "start_time": "2021-11-28T11:18:45.712Z"
   },
   {
    "duration": 17,
    "start_time": "2021-11-28T11:18:45.717Z"
   },
   {
    "duration": 21,
    "start_time": "2021-11-28T11:18:45.736Z"
   },
   {
    "duration": 3,
    "start_time": "2021-11-28T11:18:45.759Z"
   },
   {
    "duration": 7,
    "start_time": "2021-11-28T11:18:45.764Z"
   },
   {
    "duration": 37,
    "start_time": "2021-11-28T11:18:45.773Z"
   },
   {
    "duration": 11,
    "start_time": "2021-11-28T11:18:45.812Z"
   },
   {
    "duration": 11,
    "start_time": "2021-11-28T11:18:45.825Z"
   },
   {
    "duration": 16,
    "start_time": "2021-11-28T11:18:45.837Z"
   },
   {
    "duration": 12,
    "start_time": "2021-11-28T11:18:45.855Z"
   },
   {
    "duration": 47,
    "start_time": "2021-11-28T11:18:45.869Z"
   },
   {
    "duration": 201,
    "start_time": "2021-11-28T11:18:45.918Z"
   },
   {
    "duration": 12,
    "start_time": "2021-11-28T11:18:46.121Z"
   },
   {
    "duration": 5,
    "start_time": "2021-11-28T11:18:46.135Z"
   },
   {
    "duration": 313,
    "start_time": "2021-11-28T11:18:46.141Z"
   },
   {
    "duration": 574,
    "start_time": "2021-11-28T11:18:46.456Z"
   },
   {
    "duration": 618,
    "start_time": "2021-11-28T11:18:47.032Z"
   },
   {
    "duration": 9,
    "start_time": "2021-11-28T11:26:20.457Z"
   },
   {
    "duration": 714,
    "start_time": "2021-11-28T11:27:01.960Z"
   },
   {
    "duration": 640,
    "start_time": "2021-11-28T11:28:33.790Z"
   },
   {
    "duration": 587,
    "start_time": "2021-11-28T11:28:46.213Z"
   },
   {
    "duration": 23,
    "start_time": "2021-11-28T11:31:30.274Z"
   },
   {
    "duration": 14,
    "start_time": "2021-11-28T11:31:43.677Z"
   },
   {
    "duration": 414,
    "start_time": "2021-11-28T11:43:17.358Z"
   },
   {
    "duration": 349,
    "start_time": "2021-11-28T11:46:36.142Z"
   },
   {
    "duration": 6,
    "start_time": "2021-11-28T13:33:07.862Z"
   },
   {
    "duration": 22,
    "start_time": "2021-11-28T13:33:15.357Z"
   },
   {
    "duration": 15,
    "start_time": "2021-11-28T13:33:21.488Z"
   },
   {
    "duration": 418,
    "start_time": "2021-11-28T13:34:57.420Z"
   },
   {
    "duration": 928,
    "start_time": "2021-11-28T13:35:34.377Z"
   },
   {
    "duration": 492,
    "start_time": "2021-11-28T13:36:45.029Z"
   },
   {
    "duration": 14,
    "start_time": "2021-11-28T13:38:07.015Z"
   },
   {
    "duration": 13,
    "start_time": "2021-11-28T13:38:42.263Z"
   },
   {
    "duration": 731,
    "start_time": "2021-11-28T13:38:51.462Z"
   },
   {
    "duration": 11,
    "start_time": "2021-11-28T13:38:52.195Z"
   },
   {
    "duration": 3,
    "start_time": "2021-11-28T13:38:52.209Z"
   },
   {
    "duration": 20,
    "start_time": "2021-11-28T13:38:52.213Z"
   },
   {
    "duration": 26,
    "start_time": "2021-11-28T13:38:52.235Z"
   },
   {
    "duration": 4,
    "start_time": "2021-11-28T13:38:52.262Z"
   },
   {
    "duration": 9,
    "start_time": "2021-11-28T13:38:52.268Z"
   },
   {
    "duration": 28,
    "start_time": "2021-11-28T13:38:52.280Z"
   },
   {
    "duration": 11,
    "start_time": "2021-11-28T13:38:52.310Z"
   },
   {
    "duration": 20,
    "start_time": "2021-11-28T13:38:52.323Z"
   },
   {
    "duration": 16,
    "start_time": "2021-11-28T13:38:52.345Z"
   },
   {
    "duration": 11,
    "start_time": "2021-11-28T13:38:52.362Z"
   },
   {
    "duration": 13,
    "start_time": "2021-11-28T13:38:52.374Z"
   },
   {
    "duration": 202,
    "start_time": "2021-11-28T13:38:52.407Z"
   },
   {
    "duration": 12,
    "start_time": "2021-11-28T13:38:52.612Z"
   },
   {
    "duration": 12,
    "start_time": "2021-11-28T13:38:52.626Z"
   },
   {
    "duration": 335,
    "start_time": "2021-11-28T13:38:52.640Z"
   },
   {
    "duration": 591,
    "start_time": "2021-11-28T13:38:52.976Z"
   },
   {
    "duration": 634,
    "start_time": "2021-11-28T13:38:53.569Z"
   },
   {
    "duration": 752,
    "start_time": "2021-11-28T13:38:54.207Z"
   },
   {
    "duration": 16,
    "start_time": "2021-11-28T13:38:54.961Z"
   },
   {
    "duration": 468,
    "start_time": "2021-11-28T13:38:54.979Z"
   },
   {
    "duration": 277,
    "start_time": "2021-11-28T13:38:55.450Z"
   },
   {
    "duration": 18,
    "start_time": "2021-11-28T13:38:55.729Z"
   },
   {
    "duration": 16,
    "start_time": "2021-11-28T13:38:55.749Z"
   },
   {
    "duration": 481,
    "start_time": "2021-11-28T13:38:55.766Z"
   },
   {
    "duration": 15,
    "start_time": "2021-11-28T13:41:03.745Z"
   },
   {
    "duration": 18,
    "start_time": "2021-11-28T13:42:08.515Z"
   },
   {
    "duration": 12,
    "start_time": "2021-11-28T13:42:35.784Z"
   },
   {
    "duration": 1405,
    "start_time": "2021-11-28T13:44:27.267Z"
   },
   {
    "duration": 21,
    "start_time": "2021-11-28T13:49:03.405Z"
   },
   {
    "duration": 730,
    "start_time": "2021-11-28T13:49:11.343Z"
   },
   {
    "duration": 14,
    "start_time": "2021-11-28T13:49:12.075Z"
   },
   {
    "duration": 6,
    "start_time": "2021-11-28T13:49:12.091Z"
   },
   {
    "duration": 19,
    "start_time": "2021-11-28T13:49:12.099Z"
   },
   {
    "duration": 21,
    "start_time": "2021-11-28T13:49:12.120Z"
   },
   {
    "duration": 5,
    "start_time": "2021-11-28T13:49:12.143Z"
   },
   {
    "duration": 15,
    "start_time": "2021-11-28T13:49:12.150Z"
   },
   {
    "duration": 13,
    "start_time": "2021-11-28T13:49:12.169Z"
   },
   {
    "duration": 12,
    "start_time": "2021-11-28T13:49:12.207Z"
   },
   {
    "duration": 11,
    "start_time": "2021-11-28T13:49:12.221Z"
   },
   {
    "duration": 15,
    "start_time": "2021-11-28T13:49:12.234Z"
   },
   {
    "duration": 10,
    "start_time": "2021-11-28T13:49:12.252Z"
   },
   {
    "duration": 47,
    "start_time": "2021-11-28T13:49:12.264Z"
   },
   {
    "duration": 206,
    "start_time": "2021-11-28T13:49:12.313Z"
   },
   {
    "duration": 11,
    "start_time": "2021-11-28T13:49:12.521Z"
   },
   {
    "duration": 12,
    "start_time": "2021-11-28T13:49:12.534Z"
   },
   {
    "duration": 374,
    "start_time": "2021-11-28T13:49:12.548Z"
   },
   {
    "duration": 591,
    "start_time": "2021-11-28T13:49:12.924Z"
   },
   {
    "duration": 631,
    "start_time": "2021-11-28T13:49:13.517Z"
   },
   {
    "duration": 630,
    "start_time": "2021-11-28T13:49:14.151Z"
   },
   {
    "duration": 23,
    "start_time": "2021-11-28T13:49:14.783Z"
   },
   {
    "duration": 443,
    "start_time": "2021-11-28T13:49:14.808Z"
   },
   {
    "duration": 280,
    "start_time": "2021-11-28T13:49:15.254Z"
   },
   {
    "duration": 19,
    "start_time": "2021-11-28T13:49:15.536Z"
   },
   {
    "duration": 431,
    "start_time": "2021-11-28T13:49:15.558Z"
   },
   {
    "duration": 46,
    "start_time": "2021-11-28T13:49:15.944Z"
   },
   {
    "duration": 46,
    "start_time": "2021-11-28T13:49:15.946Z"
   },
   {
    "duration": 20,
    "start_time": "2021-11-28T13:49:39.839Z"
   },
   {
    "duration": 14,
    "start_time": "2021-11-28T13:49:55.316Z"
   },
   {
    "duration": 22,
    "start_time": "2021-11-28T13:50:57.557Z"
   },
   {
    "duration": 19,
    "start_time": "2021-11-28T13:51:54.200Z"
   },
   {
    "duration": 369,
    "start_time": "2021-11-28T13:53:23.278Z"
   },
   {
    "duration": 275,
    "start_time": "2021-11-28T13:53:55.254Z"
   },
   {
    "duration": 320,
    "start_time": "2021-11-28T13:57:44.189Z"
   },
   {
    "duration": 17,
    "start_time": "2021-11-28T13:59:02.093Z"
   },
   {
    "duration": 18,
    "start_time": "2021-11-28T14:00:12.819Z"
   },
   {
    "duration": 18,
    "start_time": "2021-11-28T14:00:30.358Z"
   },
   {
    "duration": 368,
    "start_time": "2021-11-28T14:02:45.675Z"
   },
   {
    "duration": 359,
    "start_time": "2021-11-28T14:03:17.537Z"
   },
   {
    "duration": 5,
    "start_time": "2021-11-28T14:03:50.912Z"
   },
   {
    "duration": 6,
    "start_time": "2021-11-28T14:04:06.407Z"
   },
   {
    "duration": 76,
    "start_time": "2021-11-28T14:09:23.737Z"
   },
   {
    "duration": 69,
    "start_time": "2021-11-28T14:15:46.741Z"
   },
   {
    "duration": 77,
    "start_time": "2021-11-28T14:16:01.303Z"
   },
   {
    "duration": 79,
    "start_time": "2021-11-28T14:16:15.721Z"
   },
   {
    "duration": 82,
    "start_time": "2021-11-28T14:19:11.004Z"
   },
   {
    "duration": 79,
    "start_time": "2021-11-28T14:19:56.886Z"
   },
   {
    "duration": 380,
    "start_time": "2021-11-28T14:29:21.641Z"
   },
   {
    "duration": 17,
    "start_time": "2021-11-28T14:29:50.670Z"
   },
   {
    "duration": 395,
    "start_time": "2021-11-28T14:29:54.317Z"
   },
   {
    "duration": 13,
    "start_time": "2021-11-28T14:35:02.345Z"
   },
   {
    "duration": 15,
    "start_time": "2021-11-28T15:18:33.856Z"
   },
   {
    "duration": 15,
    "start_time": "2021-11-28T15:18:43.432Z"
   },
   {
    "duration": 26,
    "start_time": "2021-11-28T15:21:06.265Z"
   },
   {
    "duration": 26,
    "start_time": "2021-11-28T15:21:17.858Z"
   },
   {
    "duration": 385,
    "start_time": "2021-11-28T15:21:51.427Z"
   },
   {
    "duration": 32,
    "start_time": "2021-11-28T15:22:12.046Z"
   },
   {
    "duration": 32,
    "start_time": "2021-11-28T15:23:02.974Z"
   },
   {
    "duration": 33,
    "start_time": "2021-11-28T15:23:12.401Z"
   },
   {
    "duration": 29,
    "start_time": "2021-11-28T15:32:54.127Z"
   },
   {
    "duration": 31,
    "start_time": "2021-11-28T15:34:06.632Z"
   },
   {
    "duration": 31,
    "start_time": "2021-11-28T15:40:58.694Z"
   },
   {
    "duration": 360,
    "start_time": "2021-11-28T15:45:15.178Z"
   },
   {
    "duration": 36,
    "start_time": "2021-11-28T15:45:42.529Z"
   },
   {
    "duration": 34,
    "start_time": "2021-11-28T15:54:09.032Z"
   },
   {
    "duration": 32,
    "start_time": "2021-11-28T15:55:14.844Z"
   },
   {
    "duration": 32,
    "start_time": "2021-11-28T15:55:57.575Z"
   },
   {
    "duration": 34,
    "start_time": "2021-11-28T15:56:09.176Z"
   },
   {
    "duration": 717,
    "start_time": "2021-11-28T15:58:56.340Z"
   },
   {
    "duration": 11,
    "start_time": "2021-11-28T15:58:57.058Z"
   },
   {
    "duration": 3,
    "start_time": "2021-11-28T15:58:57.073Z"
   },
   {
    "duration": 15,
    "start_time": "2021-11-28T15:58:57.077Z"
   },
   {
    "duration": 13,
    "start_time": "2021-11-28T15:58:57.107Z"
   },
   {
    "duration": 3,
    "start_time": "2021-11-28T15:58:57.122Z"
   },
   {
    "duration": 7,
    "start_time": "2021-11-28T15:58:57.127Z"
   },
   {
    "duration": 11,
    "start_time": "2021-11-28T15:58:57.136Z"
   },
   {
    "duration": 12,
    "start_time": "2021-11-28T15:58:57.149Z"
   },
   {
    "duration": 52,
    "start_time": "2021-11-28T15:58:57.163Z"
   },
   {
    "duration": 23,
    "start_time": "2021-11-28T15:58:57.217Z"
   },
   {
    "duration": 5,
    "start_time": "2021-11-28T15:58:57.242Z"
   },
   {
    "duration": 14,
    "start_time": "2021-11-28T15:58:57.249Z"
   },
   {
    "duration": 202,
    "start_time": "2021-11-28T15:58:57.265Z"
   },
   {
    "duration": 13,
    "start_time": "2021-11-28T15:58:57.469Z"
   },
   {
    "duration": 40,
    "start_time": "2021-11-28T15:58:57.484Z"
   },
   {
    "duration": 301,
    "start_time": "2021-11-28T15:58:57.525Z"
   },
   {
    "duration": 556,
    "start_time": "2021-11-28T15:58:57.827Z"
   },
   {
    "duration": 601,
    "start_time": "2021-11-28T15:58:58.385Z"
   },
   {
    "duration": 613,
    "start_time": "2021-11-28T15:58:58.988Z"
   },
   {
    "duration": 14,
    "start_time": "2021-11-28T15:58:59.607Z"
   },
   {
    "duration": 438,
    "start_time": "2021-11-28T15:58:59.626Z"
   },
   {
    "duration": 275,
    "start_time": "2021-11-28T15:59:00.066Z"
   },
   {
    "duration": 15,
    "start_time": "2021-11-28T15:59:00.343Z"
   },
   {
    "duration": 369,
    "start_time": "2021-11-28T15:59:00.360Z"
   },
   {
    "duration": 5,
    "start_time": "2021-11-28T15:59:00.731Z"
   },
   {
    "duration": 332,
    "start_time": "2021-11-28T15:59:00.738Z"
   },
   {
    "duration": 5,
    "start_time": "2021-11-28T15:59:01.072Z"
   },
   {
    "duration": 45,
    "start_time": "2021-11-28T15:59:01.079Z"
   },
   {
    "duration": 106,
    "start_time": "2021-11-28T15:59:01.125Z"
   },
   {
    "duration": 102,
    "start_time": "2021-11-28T15:59:01.234Z"
   },
   {
    "duration": 18,
    "start_time": "2021-11-28T15:59:01.338Z"
   },
   {
    "duration": 429,
    "start_time": "2021-11-28T15:59:01.358Z"
   },
   {
    "duration": 26,
    "start_time": "2021-11-28T15:59:01.790Z"
   },
   {
    "duration": 34,
    "start_time": "2021-11-28T15:59:01.818Z"
   },
   {
    "duration": 116,
    "start_time": "2021-11-28T15:59:01.854Z"
   },
   {
    "duration": 59,
    "start_time": "2021-11-28T15:59:01.973Z"
   },
   {
    "duration": 17,
    "start_time": "2021-11-28T16:06:21.697Z"
   },
   {
    "duration": 10318,
    "start_time": "2021-11-28T16:16:22.523Z"
   },
   {
    "duration": 1061,
    "start_time": "2021-11-28T16:16:44.977Z"
   },
   {
    "duration": 117,
    "start_time": "2021-11-28T16:46:42.294Z"
   },
   {
    "duration": 393,
    "start_time": "2021-11-28T16:51:42.856Z"
   },
   {
    "duration": 8,
    "start_time": "2021-11-28T16:53:20.527Z"
   },
   {
    "duration": 13,
    "start_time": "2021-11-28T16:53:25.440Z"
   },
   {
    "duration": 18,
    "start_time": "2021-11-28T16:53:46.880Z"
   },
   {
    "duration": 9,
    "start_time": "2021-11-28T16:55:02.121Z"
   },
   {
    "duration": 9,
    "start_time": "2021-11-28T16:55:12.659Z"
   },
   {
    "duration": 8,
    "start_time": "2021-11-28T17:03:13.602Z"
   },
   {
    "duration": 9,
    "start_time": "2021-11-28T17:11:49.034Z"
   },
   {
    "duration": 13,
    "start_time": "2021-11-28T17:12:11.231Z"
   },
   {
    "duration": 15,
    "start_time": "2021-11-28T17:18:19.738Z"
   },
   {
    "duration": 10,
    "start_time": "2021-11-28T17:21:47.300Z"
   },
   {
    "duration": 115,
    "start_time": "2021-11-28T17:22:13.474Z"
   },
   {
    "duration": 8,
    "start_time": "2021-11-28T17:22:23.302Z"
   },
   {
    "duration": 15,
    "start_time": "2021-11-28T17:31:45.276Z"
   },
   {
    "duration": 8,
    "start_time": "2021-11-28T17:32:56.016Z"
   },
   {
    "duration": 953,
    "start_time": "2021-11-29T08:26:31.497Z"
   },
   {
    "duration": 29,
    "start_time": "2021-11-29T08:26:32.453Z"
   },
   {
    "duration": 4,
    "start_time": "2021-11-29T08:26:32.485Z"
   },
   {
    "duration": 24,
    "start_time": "2021-11-29T08:26:32.493Z"
   },
   {
    "duration": 25,
    "start_time": "2021-11-29T08:26:32.520Z"
   },
   {
    "duration": 36,
    "start_time": "2021-11-29T08:26:32.548Z"
   },
   {
    "duration": 22,
    "start_time": "2021-11-29T08:26:32.587Z"
   },
   {
    "duration": 18,
    "start_time": "2021-11-29T08:26:32.612Z"
   },
   {
    "duration": 20,
    "start_time": "2021-11-29T08:26:32.635Z"
   },
   {
    "duration": 16,
    "start_time": "2021-11-29T08:26:32.684Z"
   },
   {
    "duration": 15,
    "start_time": "2021-11-29T08:26:32.702Z"
   },
   {
    "duration": 13,
    "start_time": "2021-11-29T08:26:32.719Z"
   },
   {
    "duration": 48,
    "start_time": "2021-11-29T08:26:32.735Z"
   },
   {
    "duration": 298,
    "start_time": "2021-11-29T08:26:32.785Z"
   },
   {
    "duration": 16,
    "start_time": "2021-11-29T08:26:33.086Z"
   },
   {
    "duration": 12,
    "start_time": "2021-11-29T08:26:33.105Z"
   },
   {
    "duration": 502,
    "start_time": "2021-11-29T08:26:33.119Z"
   },
   {
    "duration": 983,
    "start_time": "2021-11-29T08:26:33.623Z"
   },
   {
    "duration": 949,
    "start_time": "2021-11-29T08:26:34.608Z"
   },
   {
    "duration": 948,
    "start_time": "2021-11-29T08:26:35.560Z"
   },
   {
    "duration": 17,
    "start_time": "2021-11-29T08:26:36.511Z"
   },
   {
    "duration": 918,
    "start_time": "2021-11-29T08:26:36.530Z"
   },
   {
    "duration": 441,
    "start_time": "2021-11-29T08:26:37.450Z"
   },
   {
    "duration": 27,
    "start_time": "2021-11-29T08:26:37.893Z"
   },
   {
    "duration": 469,
    "start_time": "2021-11-29T08:26:37.923Z"
   },
   {
    "duration": 7,
    "start_time": "2021-11-29T08:26:38.394Z"
   },
   {
    "duration": 404,
    "start_time": "2021-11-29T08:26:38.406Z"
   },
   {
    "duration": 7,
    "start_time": "2021-11-29T08:26:38.813Z"
   },
   {
    "duration": 24,
    "start_time": "2021-11-29T08:26:38.822Z"
   },
   {
    "duration": 152,
    "start_time": "2021-11-29T08:26:38.848Z"
   },
   {
    "duration": 134,
    "start_time": "2021-11-29T08:26:39.002Z"
   },
   {
    "duration": 45,
    "start_time": "2021-11-29T08:26:39.138Z"
   },
   {
    "duration": 738,
    "start_time": "2021-11-29T08:26:39.186Z"
   },
   {
    "duration": 20,
    "start_time": "2021-11-29T08:26:39.926Z"
   },
   {
    "duration": 65,
    "start_time": "2021-11-29T08:26:39.948Z"
   },
   {
    "duration": 120,
    "start_time": "2021-11-29T08:26:40.015Z"
   },
   {
    "duration": 63,
    "start_time": "2021-11-29T08:26:40.138Z"
   },
   {
    "duration": 15,
    "start_time": "2021-11-29T08:26:40.204Z"
   },
   {
    "duration": 470,
    "start_time": "2021-11-29T08:26:40.221Z"
   },
   {
    "duration": 12,
    "start_time": "2021-11-29T08:26:40.693Z"
   },
   {
    "duration": 686,
    "start_time": "2021-11-29T09:53:18.972Z"
   },
   {
    "duration": 9,
    "start_time": "2021-11-29T09:53:19.659Z"
   },
   {
    "duration": 20,
    "start_time": "2021-11-29T09:53:19.670Z"
   },
   {
    "duration": 19,
    "start_time": "2021-11-29T09:53:19.691Z"
   },
   {
    "duration": 34,
    "start_time": "2021-11-29T09:53:19.712Z"
   },
   {
    "duration": 17,
    "start_time": "2021-11-29T09:53:19.747Z"
   },
   {
    "duration": 25,
    "start_time": "2021-11-29T09:53:19.766Z"
   },
   {
    "duration": 38,
    "start_time": "2021-11-29T09:53:19.794Z"
   },
   {
    "duration": 22,
    "start_time": "2021-11-29T09:53:19.834Z"
   },
   {
    "duration": 16,
    "start_time": "2021-11-29T09:53:19.857Z"
   },
   {
    "duration": 12,
    "start_time": "2021-11-29T09:53:19.875Z"
   },
   {
    "duration": 10,
    "start_time": "2021-11-29T09:53:19.888Z"
   },
   {
    "duration": 19,
    "start_time": "2021-11-29T09:53:19.899Z"
   },
   {
    "duration": 173,
    "start_time": "2021-11-29T09:53:19.919Z"
   },
   {
    "duration": 10,
    "start_time": "2021-11-29T09:53:20.094Z"
   },
   {
    "duration": 32,
    "start_time": "2021-11-29T09:53:20.105Z"
   },
   {
    "duration": 273,
    "start_time": "2021-11-29T09:53:20.139Z"
   },
   {
    "duration": 501,
    "start_time": "2021-11-29T09:53:20.414Z"
   },
   {
    "duration": 543,
    "start_time": "2021-11-29T09:53:20.916Z"
   },
   {
    "duration": 549,
    "start_time": "2021-11-29T09:53:21.461Z"
   },
   {
    "duration": 13,
    "start_time": "2021-11-29T09:53:22.011Z"
   },
   {
    "duration": 383,
    "start_time": "2021-11-29T09:53:22.026Z"
   },
   {
    "duration": 243,
    "start_time": "2021-11-29T09:53:22.413Z"
   },
   {
    "duration": 14,
    "start_time": "2021-11-29T09:53:22.658Z"
   },
   {
    "duration": 315,
    "start_time": "2021-11-29T09:53:22.674Z"
   },
   {
    "duration": 4,
    "start_time": "2021-11-29T09:53:22.991Z"
   },
   {
    "duration": 291,
    "start_time": "2021-11-29T09:53:22.997Z"
   },
   {
    "duration": 4,
    "start_time": "2021-11-29T09:53:23.290Z"
   },
   {
    "duration": 18,
    "start_time": "2021-11-29T09:53:23.295Z"
   },
   {
    "duration": 80,
    "start_time": "2021-11-29T09:53:23.315Z"
   },
   {
    "duration": 63,
    "start_time": "2021-11-29T09:53:23.396Z"
   },
   {
    "duration": 34,
    "start_time": "2021-11-29T09:53:23.460Z"
   },
   {
    "duration": 352,
    "start_time": "2021-11-29T09:53:23.495Z"
   },
   {
    "duration": 12,
    "start_time": "2021-11-29T09:53:23.848Z"
   },
   {
    "duration": 42,
    "start_time": "2021-11-29T09:53:23.861Z"
   },
   {
    "duration": 84,
    "start_time": "2021-11-29T09:53:23.904Z"
   },
   {
    "duration": 27,
    "start_time": "2021-11-29T09:53:23.989Z"
   },
   {
    "duration": 9,
    "start_time": "2021-11-29T09:53:24.017Z"
   },
   {
    "duration": 361,
    "start_time": "2021-11-29T09:53:24.027Z"
   },
   {
    "duration": 9,
    "start_time": "2021-11-29T09:53:24.389Z"
   },
   {
    "duration": 10,
    "start_time": "2021-11-29T09:54:46.828Z"
   },
   {
    "duration": 9,
    "start_time": "2021-11-29T09:54:50.920Z"
   },
   {
    "duration": 8,
    "start_time": "2021-11-29T09:56:59.545Z"
   },
   {
    "duration": 11,
    "start_time": "2021-11-29T09:57:22.327Z"
   },
   {
    "duration": 9,
    "start_time": "2021-11-29T09:57:32.303Z"
   },
   {
    "duration": 9,
    "start_time": "2021-11-29T09:58:32.304Z"
   },
   {
    "duration": 731,
    "start_time": "2021-11-29T09:59:04.017Z"
   },
   {
    "duration": 9,
    "start_time": "2021-11-29T09:59:04.749Z"
   },
   {
    "duration": 3,
    "start_time": "2021-11-29T09:59:04.760Z"
   },
   {
    "duration": 18,
    "start_time": "2021-11-29T09:59:04.764Z"
   },
   {
    "duration": 19,
    "start_time": "2021-11-29T09:59:04.784Z"
   },
   {
    "duration": 3,
    "start_time": "2021-11-29T09:59:04.805Z"
   },
   {
    "duration": 6,
    "start_time": "2021-11-29T09:59:04.810Z"
   },
   {
    "duration": 8,
    "start_time": "2021-11-29T09:59:04.818Z"
   },
   {
    "duration": 12,
    "start_time": "2021-11-29T09:59:04.828Z"
   },
   {
    "duration": 10,
    "start_time": "2021-11-29T09:59:04.842Z"
   },
   {
    "duration": 11,
    "start_time": "2021-11-29T09:59:04.854Z"
   },
   {
    "duration": 26,
    "start_time": "2021-11-29T09:59:04.866Z"
   },
   {
    "duration": 13,
    "start_time": "2021-11-29T09:59:04.893Z"
   },
   {
    "duration": 175,
    "start_time": "2021-11-29T09:59:04.907Z"
   },
   {
    "duration": 12,
    "start_time": "2021-11-29T09:59:05.083Z"
   },
   {
    "duration": 7,
    "start_time": "2021-11-29T09:59:05.096Z"
   },
   {
    "duration": 276,
    "start_time": "2021-11-29T09:59:05.105Z"
   },
   {
    "duration": 506,
    "start_time": "2021-11-29T09:59:05.383Z"
   },
   {
    "duration": 552,
    "start_time": "2021-11-29T09:59:05.891Z"
   },
   {
    "duration": 560,
    "start_time": "2021-11-29T09:59:06.445Z"
   },
   {
    "duration": 12,
    "start_time": "2021-11-29T09:59:07.007Z"
   },
   {
    "duration": 392,
    "start_time": "2021-11-29T09:59:07.020Z"
   },
   {
    "duration": 237,
    "start_time": "2021-11-29T09:59:07.415Z"
   },
   {
    "duration": 13,
    "start_time": "2021-11-29T09:59:07.654Z"
   },
   {
    "duration": 331,
    "start_time": "2021-11-29T09:59:07.669Z"
   },
   {
    "duration": 5,
    "start_time": "2021-11-29T09:59:08.002Z"
   },
   {
    "duration": 300,
    "start_time": "2021-11-29T09:59:08.008Z"
   },
   {
    "duration": 5,
    "start_time": "2021-11-29T09:59:08.309Z"
   },
   {
    "duration": 20,
    "start_time": "2021-11-29T09:59:08.315Z"
   },
   {
    "duration": 83,
    "start_time": "2021-11-29T09:59:08.336Z"
   },
   {
    "duration": 79,
    "start_time": "2021-11-29T09:59:08.421Z"
   },
   {
    "duration": 12,
    "start_time": "2021-11-29T09:59:08.502Z"
   },
   {
    "duration": 356,
    "start_time": "2021-11-29T09:59:08.516Z"
   },
   {
    "duration": 15,
    "start_time": "2021-11-29T09:59:08.874Z"
   },
   {
    "duration": 34,
    "start_time": "2021-11-29T09:59:08.891Z"
   },
   {
    "duration": 84,
    "start_time": "2021-11-29T09:59:08.926Z"
   },
   {
    "duration": 26,
    "start_time": "2021-11-29T09:59:09.012Z"
   },
   {
    "duration": 9,
    "start_time": "2021-11-29T09:59:09.039Z"
   },
   {
    "duration": 8,
    "start_time": "2021-11-29T09:59:09.050Z"
   },
   {
    "duration": 353,
    "start_time": "2021-11-29T09:59:09.059Z"
   },
   {
    "duration": 8,
    "start_time": "2021-11-29T09:59:09.414Z"
   },
   {
    "duration": 9,
    "start_time": "2021-11-29T09:59:45.840Z"
   },
   {
    "duration": 9,
    "start_time": "2021-11-29T10:04:20.670Z"
   },
   {
    "duration": 8,
    "start_time": "2021-11-29T10:04:32.783Z"
   },
   {
    "duration": 627,
    "start_time": "2021-11-29T10:05:54.133Z"
   },
   {
    "duration": 9,
    "start_time": "2021-11-29T10:05:54.762Z"
   },
   {
    "duration": 13,
    "start_time": "2021-11-29T10:05:54.772Z"
   },
   {
    "duration": 32,
    "start_time": "2021-11-29T10:05:54.787Z"
   },
   {
    "duration": 28,
    "start_time": "2021-11-29T10:05:54.820Z"
   },
   {
    "duration": 13,
    "start_time": "2021-11-29T10:05:54.849Z"
   },
   {
    "duration": 32,
    "start_time": "2021-11-29T10:05:54.863Z"
   },
   {
    "duration": 16,
    "start_time": "2021-11-29T10:05:54.897Z"
   },
   {
    "duration": 23,
    "start_time": "2021-11-29T10:05:54.915Z"
   },
   {
    "duration": 21,
    "start_time": "2021-11-29T10:05:54.940Z"
   },
   {
    "duration": 35,
    "start_time": "2021-11-29T10:05:54.962Z"
   },
   {
    "duration": 20,
    "start_time": "2021-11-29T10:05:54.998Z"
   },
   {
    "duration": 16,
    "start_time": "2021-11-29T10:05:55.019Z"
   },
   {
    "duration": 203,
    "start_time": "2021-11-29T10:05:55.037Z"
   },
   {
    "duration": 10,
    "start_time": "2021-11-29T10:05:55.242Z"
   },
   {
    "duration": 24,
    "start_time": "2021-11-29T10:05:55.254Z"
   },
   {
    "duration": 331,
    "start_time": "2021-11-29T10:05:55.280Z"
   },
   {
    "duration": 518,
    "start_time": "2021-11-29T10:05:55.614Z"
   },
   {
    "duration": 539,
    "start_time": "2021-11-29T10:05:56.133Z"
   },
   {
    "duration": 537,
    "start_time": "2021-11-29T10:05:56.674Z"
   },
   {
    "duration": 11,
    "start_time": "2021-11-29T10:05:57.213Z"
   },
   {
    "duration": 390,
    "start_time": "2021-11-29T10:05:57.226Z"
   },
   {
    "duration": 237,
    "start_time": "2021-11-29T10:05:57.618Z"
   },
   {
    "duration": 13,
    "start_time": "2021-11-29T10:05:57.857Z"
   },
   {
    "duration": 322,
    "start_time": "2021-11-29T10:05:57.872Z"
   },
   {
    "duration": 4,
    "start_time": "2021-11-29T10:05:58.196Z"
   },
   {
    "duration": 302,
    "start_time": "2021-11-29T10:05:58.201Z"
   },
   {
    "duration": 4,
    "start_time": "2021-11-29T10:05:58.504Z"
   },
   {
    "duration": 40,
    "start_time": "2021-11-29T10:05:58.510Z"
   },
   {
    "duration": 76,
    "start_time": "2021-11-29T10:05:58.551Z"
   },
   {
    "duration": 78,
    "start_time": "2021-11-29T10:05:58.629Z"
   },
   {
    "duration": 13,
    "start_time": "2021-11-29T10:05:58.709Z"
   },
   {
    "duration": 356,
    "start_time": "2021-11-29T10:05:58.723Z"
   },
   {
    "duration": 15,
    "start_time": "2021-11-29T10:05:59.081Z"
   },
   {
    "duration": 29,
    "start_time": "2021-11-29T10:05:59.098Z"
   },
   {
    "duration": 94,
    "start_time": "2021-11-29T10:05:59.129Z"
   },
   {
    "duration": 25,
    "start_time": "2021-11-29T10:05:59.225Z"
   },
   {
    "duration": 9,
    "start_time": "2021-11-29T10:05:59.251Z"
   },
   {
    "duration": 7,
    "start_time": "2021-11-29T10:05:59.262Z"
   },
   {
    "duration": 330,
    "start_time": "2021-11-29T10:05:59.288Z"
   },
   {
    "duration": 9,
    "start_time": "2021-11-29T10:05:59.620Z"
   },
   {
    "duration": 9,
    "start_time": "2021-11-29T10:29:17.370Z"
   },
   {
    "duration": 9,
    "start_time": "2021-11-29T10:32:07.726Z"
   },
   {
    "duration": 8,
    "start_time": "2021-11-29T10:32:20.173Z"
   },
   {
    "duration": 8,
    "start_time": "2021-11-29T10:32:42.053Z"
   },
   {
    "duration": 8,
    "start_time": "2021-11-29T10:32:52.984Z"
   },
   {
    "duration": 8,
    "start_time": "2021-11-29T10:36:17.295Z"
   },
   {
    "duration": 589,
    "start_time": "2021-11-29T18:49:35.033Z"
   },
   {
    "duration": 534,
    "start_time": "2021-11-29T18:49:49.292Z"
   },
   {
    "duration": 519,
    "start_time": "2021-11-29T18:49:57.718Z"
   },
   {
    "duration": 615,
    "start_time": "2021-11-29T18:50:08.806Z"
   },
   {
    "duration": 306,
    "start_time": "2021-11-29T18:50:28.261Z"
   },
   {
    "duration": 382,
    "start_time": "2021-11-29T18:51:52.066Z"
   },
   {
    "duration": 532,
    "start_time": "2021-11-29T18:52:22.357Z"
   },
   {
    "duration": 129,
    "start_time": "2021-11-29T18:54:14.659Z"
   },
   {
    "duration": 419,
    "start_time": "2021-11-29T18:54:28.580Z"
   },
   {
    "duration": 402,
    "start_time": "2021-11-29T18:54:42.063Z"
   },
   {
    "duration": 407,
    "start_time": "2021-11-29T18:55:21.046Z"
   },
   {
    "duration": 349,
    "start_time": "2021-11-29T18:57:04.377Z"
   },
   {
    "duration": 345,
    "start_time": "2021-11-29T18:57:35.375Z"
   },
   {
    "duration": 334,
    "start_time": "2021-11-29T18:57:58.051Z"
   },
   {
    "duration": 326,
    "start_time": "2021-11-30T06:52:44.119Z"
   },
   {
    "duration": 618,
    "start_time": "2021-11-30T06:52:52.743Z"
   },
   {
    "duration": 9,
    "start_time": "2021-11-30T06:52:53.363Z"
   },
   {
    "duration": 3,
    "start_time": "2021-11-30T06:52:53.374Z"
   },
   {
    "duration": 21,
    "start_time": "2021-11-30T06:52:53.379Z"
   },
   {
    "duration": 19,
    "start_time": "2021-11-30T06:52:53.402Z"
   },
   {
    "duration": 4,
    "start_time": "2021-11-30T06:52:53.423Z"
   },
   {
    "duration": 6,
    "start_time": "2021-11-30T06:52:53.429Z"
   },
   {
    "duration": 12,
    "start_time": "2021-11-30T06:52:53.437Z"
   },
   {
    "duration": 10,
    "start_time": "2021-11-30T06:52:53.452Z"
   },
   {
    "duration": 10,
    "start_time": "2021-11-30T06:52:53.493Z"
   },
   {
    "duration": 10,
    "start_time": "2021-11-30T06:52:53.505Z"
   },
   {
    "duration": 4,
    "start_time": "2021-11-30T06:52:53.517Z"
   },
   {
    "duration": 13,
    "start_time": "2021-11-30T06:52:53.523Z"
   },
   {
    "duration": 206,
    "start_time": "2021-11-30T06:52:53.537Z"
   },
   {
    "duration": 11,
    "start_time": "2021-11-30T06:52:53.744Z"
   },
   {
    "duration": 8,
    "start_time": "2021-11-30T06:52:53.756Z"
   },
   {
    "duration": 476,
    "start_time": "2021-11-30T06:52:53.765Z"
   },
   {
    "duration": 574,
    "start_time": "2021-11-30T06:52:54.242Z"
   },
   {
    "duration": 589,
    "start_time": "2021-11-30T06:52:54.817Z"
   },
   {
    "duration": 579,
    "start_time": "2021-11-30T06:52:55.408Z"
   },
   {
    "duration": 12,
    "start_time": "2021-11-30T06:52:55.988Z"
   },
   {
    "duration": 432,
    "start_time": "2021-11-30T06:52:56.002Z"
   },
   {
    "duration": 268,
    "start_time": "2021-11-30T06:52:56.435Z"
   },
   {
    "duration": 15,
    "start_time": "2021-11-30T06:52:56.704Z"
   },
   {
    "duration": 313,
    "start_time": "2021-11-30T06:52:56.721Z"
   },
   {
    "duration": 5,
    "start_time": "2021-11-30T06:52:57.036Z"
   },
   {
    "duration": 315,
    "start_time": "2021-11-30T06:52:57.044Z"
   },
   {
    "duration": 4,
    "start_time": "2021-11-30T06:52:57.361Z"
   },
   {
    "duration": 28,
    "start_time": "2021-11-30T06:52:57.367Z"
   },
   {
    "duration": 71,
    "start_time": "2021-11-30T06:52:57.411Z"
   },
   {
    "duration": 67,
    "start_time": "2021-11-30T06:52:57.491Z"
   },
   {
    "duration": 32,
    "start_time": "2021-11-30T06:52:57.560Z"
   },
   {
    "duration": 389,
    "start_time": "2021-11-30T06:52:57.594Z"
   },
   {
    "duration": 18,
    "start_time": "2021-11-30T06:52:57.984Z"
   },
   {
    "duration": 12,
    "start_time": "2021-11-30T06:52:58.004Z"
   },
   {
    "duration": 27,
    "start_time": "2021-11-30T06:52:58.017Z"
   },
   {
    "duration": 108,
    "start_time": "2021-11-30T06:52:58.046Z"
   },
   {
    "duration": 39,
    "start_time": "2021-11-30T06:52:58.156Z"
   },
   {
    "duration": 9,
    "start_time": "2021-11-30T06:52:58.197Z"
   },
   {
    "duration": 5,
    "start_time": "2021-11-30T06:52:58.208Z"
   },
   {
    "duration": 7,
    "start_time": "2021-11-30T06:52:58.214Z"
   },
   {
    "duration": 1111,
    "start_time": "2021-11-30T06:52:58.223Z"
   },
   {
    "duration": 3539,
    "start_time": "2021-11-30T06:52:55.797Z"
   },
   {
    "duration": 3533,
    "start_time": "2021-11-30T06:52:55.804Z"
   },
   {
    "duration": 674,
    "start_time": "2021-11-30T06:53:25.369Z"
   },
   {
    "duration": 9,
    "start_time": "2021-11-30T06:53:26.045Z"
   },
   {
    "duration": 9,
    "start_time": "2021-11-30T06:53:26.056Z"
   },
   {
    "duration": 20,
    "start_time": "2021-11-30T06:53:26.067Z"
   },
   {
    "duration": 24,
    "start_time": "2021-11-30T06:53:26.088Z"
   },
   {
    "duration": 8,
    "start_time": "2021-11-30T06:53:26.113Z"
   },
   {
    "duration": 9,
    "start_time": "2021-11-30T06:53:26.122Z"
   },
   {
    "duration": 14,
    "start_time": "2021-11-30T06:53:26.134Z"
   },
   {
    "duration": 14,
    "start_time": "2021-11-30T06:53:26.149Z"
   },
   {
    "duration": 21,
    "start_time": "2021-11-30T06:53:26.165Z"
   },
   {
    "duration": 19,
    "start_time": "2021-11-30T06:53:26.187Z"
   },
   {
    "duration": 7,
    "start_time": "2021-11-30T06:53:26.208Z"
   },
   {
    "duration": 16,
    "start_time": "2021-11-30T06:53:26.216Z"
   },
   {
    "duration": 188,
    "start_time": "2021-11-30T06:53:26.233Z"
   },
   {
    "duration": 11,
    "start_time": "2021-11-30T06:53:26.422Z"
   },
   {
    "duration": 8,
    "start_time": "2021-11-30T06:53:26.434Z"
   },
   {
    "duration": 497,
    "start_time": "2021-11-30T06:53:26.443Z"
   },
   {
    "duration": 559,
    "start_time": "2021-11-30T06:53:26.941Z"
   },
   {
    "duration": 601,
    "start_time": "2021-11-30T06:53:27.502Z"
   },
   {
    "duration": 588,
    "start_time": "2021-11-30T06:53:28.105Z"
   },
   {
    "duration": 11,
    "start_time": "2021-11-30T06:53:28.695Z"
   },
   {
    "duration": 418,
    "start_time": "2021-11-30T06:53:28.708Z"
   },
   {
    "duration": 259,
    "start_time": "2021-11-30T06:53:29.129Z"
   },
   {
    "duration": 15,
    "start_time": "2021-11-30T06:53:29.392Z"
   },
   {
    "duration": 318,
    "start_time": "2021-11-30T06:53:29.409Z"
   },
   {
    "duration": 4,
    "start_time": "2021-11-30T06:53:29.728Z"
   },
   {
    "duration": 292,
    "start_time": "2021-11-30T06:53:29.734Z"
   },
   {
    "duration": 5,
    "start_time": "2021-11-30T06:53:30.027Z"
   },
   {
    "duration": 24,
    "start_time": "2021-11-30T06:53:30.034Z"
   },
   {
    "duration": 83,
    "start_time": "2021-11-30T06:53:30.059Z"
   },
   {
    "duration": 82,
    "start_time": "2021-11-30T06:53:30.144Z"
   },
   {
    "duration": 13,
    "start_time": "2021-11-30T06:53:30.228Z"
   },
   {
    "duration": 393,
    "start_time": "2021-11-30T06:53:30.243Z"
   },
   {
    "duration": 14,
    "start_time": "2021-11-30T06:53:30.637Z"
   },
   {
    "duration": 28,
    "start_time": "2021-11-30T06:53:30.653Z"
   },
   {
    "duration": 39,
    "start_time": "2021-11-30T06:53:30.682Z"
   },
   {
    "duration": 91,
    "start_time": "2021-11-30T06:53:30.723Z"
   },
   {
    "duration": 27,
    "start_time": "2021-11-30T06:53:30.815Z"
   },
   {
    "duration": 9,
    "start_time": "2021-11-30T06:53:30.843Z"
   },
   {
    "duration": 6,
    "start_time": "2021-11-30T06:53:30.854Z"
   },
   {
    "duration": 31,
    "start_time": "2021-11-30T06:53:30.861Z"
   },
   {
    "duration": 330,
    "start_time": "2021-11-30T06:53:30.894Z"
   },
   {
    "duration": 7,
    "start_time": "2021-11-30T06:53:31.226Z"
   },
   {
    "duration": 661,
    "start_time": "2021-11-30T06:54:51.797Z"
   },
   {
    "duration": 9,
    "start_time": "2021-11-30T06:54:52.460Z"
   },
   {
    "duration": 3,
    "start_time": "2021-11-30T06:54:52.471Z"
   },
   {
    "duration": 16,
    "start_time": "2021-11-30T06:54:52.476Z"
   },
   {
    "duration": 14,
    "start_time": "2021-11-30T06:54:52.493Z"
   },
   {
    "duration": 3,
    "start_time": "2021-11-30T06:54:52.509Z"
   },
   {
    "duration": 5,
    "start_time": "2021-11-30T06:54:52.514Z"
   },
   {
    "duration": 8,
    "start_time": "2021-11-30T06:54:52.521Z"
   },
   {
    "duration": 9,
    "start_time": "2021-11-30T06:54:52.531Z"
   },
   {
    "duration": 8,
    "start_time": "2021-11-30T06:54:52.541Z"
   },
   {
    "duration": 10,
    "start_time": "2021-11-30T06:54:52.551Z"
   },
   {
    "duration": 33,
    "start_time": "2021-11-30T06:54:52.562Z"
   },
   {
    "duration": 13,
    "start_time": "2021-11-30T06:54:52.597Z"
   },
   {
    "duration": 199,
    "start_time": "2021-11-30T06:54:52.612Z"
   },
   {
    "duration": 11,
    "start_time": "2021-11-30T06:54:52.812Z"
   },
   {
    "duration": 17,
    "start_time": "2021-11-30T06:54:52.825Z"
   },
   {
    "duration": 477,
    "start_time": "2021-11-30T06:54:52.843Z"
   },
   {
    "duration": 550,
    "start_time": "2021-11-30T06:54:53.321Z"
   },
   {
    "duration": 583,
    "start_time": "2021-11-30T06:54:53.873Z"
   },
   {
    "duration": 603,
    "start_time": "2021-11-30T06:54:54.457Z"
   },
   {
    "duration": 12,
    "start_time": "2021-11-30T06:54:55.061Z"
   },
   {
    "duration": 430,
    "start_time": "2021-11-30T06:54:55.075Z"
   },
   {
    "duration": 256,
    "start_time": "2021-11-30T06:54:55.508Z"
   },
   {
    "duration": 15,
    "start_time": "2021-11-30T06:54:55.766Z"
   },
   {
    "duration": 320,
    "start_time": "2021-11-30T06:54:55.782Z"
   },
   {
    "duration": 5,
    "start_time": "2021-11-30T06:54:56.104Z"
   },
   {
    "duration": 319,
    "start_time": "2021-11-30T06:54:56.110Z"
   },
   {
    "duration": 5,
    "start_time": "2021-11-30T06:54:56.431Z"
   },
   {
    "duration": 19,
    "start_time": "2021-11-30T06:54:56.437Z"
   },
   {
    "duration": 91,
    "start_time": "2021-11-30T06:54:56.458Z"
   },
   {
    "duration": 86,
    "start_time": "2021-11-30T06:54:56.550Z"
   },
   {
    "duration": 14,
    "start_time": "2021-11-30T06:54:56.638Z"
   },
   {
    "duration": 417,
    "start_time": "2021-11-30T06:54:56.654Z"
   },
   {
    "duration": 26,
    "start_time": "2021-11-30T06:54:57.073Z"
   },
   {
    "duration": 246,
    "start_time": "2021-11-30T06:54:57.101Z"
   },
   {
    "duration": 3530,
    "start_time": "2021-11-30T06:54:53.819Z"
   },
   {
    "duration": 3527,
    "start_time": "2021-11-30T06:54:53.823Z"
   },
   {
    "duration": 3526,
    "start_time": "2021-11-30T06:54:53.825Z"
   },
   {
    "duration": 3524,
    "start_time": "2021-11-30T06:54:53.828Z"
   },
   {
    "duration": 3523,
    "start_time": "2021-11-30T06:54:53.830Z"
   },
   {
    "duration": 3516,
    "start_time": "2021-11-30T06:54:53.838Z"
   },
   {
    "duration": 3515,
    "start_time": "2021-11-30T06:54:53.840Z"
   },
   {
    "duration": 3513,
    "start_time": "2021-11-30T06:54:53.843Z"
   },
   {
    "duration": 3511,
    "start_time": "2021-11-30T06:54:53.845Z"
   },
   {
    "duration": 433,
    "start_time": "2021-11-30T06:56:07.442Z"
   },
   {
    "duration": 610,
    "start_time": "2021-11-30T06:56:15.647Z"
   },
   {
    "duration": 9,
    "start_time": "2021-11-30T06:56:16.259Z"
   },
   {
    "duration": 3,
    "start_time": "2021-11-30T06:56:16.270Z"
   },
   {
    "duration": 20,
    "start_time": "2021-11-30T06:56:16.275Z"
   },
   {
    "duration": 13,
    "start_time": "2021-11-30T06:56:16.297Z"
   },
   {
    "duration": 3,
    "start_time": "2021-11-30T06:56:16.312Z"
   },
   {
    "duration": 5,
    "start_time": "2021-11-30T06:56:16.317Z"
   },
   {
    "duration": 12,
    "start_time": "2021-11-30T06:56:16.324Z"
   },
   {
    "duration": 10,
    "start_time": "2021-11-30T06:56:16.337Z"
   },
   {
    "duration": 8,
    "start_time": "2021-11-30T06:56:16.348Z"
   },
   {
    "duration": 38,
    "start_time": "2021-11-30T06:56:16.357Z"
   },
   {
    "duration": 6,
    "start_time": "2021-11-30T06:56:16.396Z"
   },
   {
    "duration": 13,
    "start_time": "2021-11-30T06:56:16.403Z"
   },
   {
    "duration": 200,
    "start_time": "2021-11-30T06:56:16.418Z"
   },
   {
    "duration": 11,
    "start_time": "2021-11-30T06:56:16.620Z"
   },
   {
    "duration": 8,
    "start_time": "2021-11-30T06:56:16.632Z"
   },
   {
    "duration": 484,
    "start_time": "2021-11-30T06:56:16.642Z"
   },
   {
    "duration": 557,
    "start_time": "2021-11-30T06:56:17.128Z"
   },
   {
    "duration": 579,
    "start_time": "2021-11-30T06:56:17.687Z"
   },
   {
    "duration": 594,
    "start_time": "2021-11-30T06:56:18.268Z"
   },
   {
    "duration": 12,
    "start_time": "2021-11-30T06:56:18.863Z"
   },
   {
    "duration": 413,
    "start_time": "2021-11-30T06:56:18.891Z"
   },
   {
    "duration": 259,
    "start_time": "2021-11-30T06:56:19.307Z"
   },
   {
    "duration": 24,
    "start_time": "2021-11-30T06:56:19.568Z"
   },
   {
    "duration": 306,
    "start_time": "2021-11-30T06:56:19.594Z"
   },
   {
    "duration": 5,
    "start_time": "2021-11-30T06:56:19.901Z"
   },
   {
    "duration": 316,
    "start_time": "2021-11-30T06:56:19.908Z"
   },
   {
    "duration": 5,
    "start_time": "2021-11-30T06:56:20.226Z"
   },
   {
    "duration": 17,
    "start_time": "2021-11-30T06:56:20.233Z"
   },
   {
    "duration": 100,
    "start_time": "2021-11-30T06:56:20.252Z"
   },
   {
    "duration": 88,
    "start_time": "2021-11-30T06:56:20.354Z"
   },
   {
    "duration": 14,
    "start_time": "2021-11-30T06:56:20.444Z"
   },
   {
    "duration": 385,
    "start_time": "2021-11-30T06:56:20.460Z"
   },
   {
    "duration": 14,
    "start_time": "2021-11-30T06:56:20.846Z"
   },
   {
    "duration": 441,
    "start_time": "2021-11-30T06:56:20.862Z"
   },
   {
    "duration": 12,
    "start_time": "2021-11-30T06:56:21.305Z"
   },
   {
    "duration": 33,
    "start_time": "2021-11-30T06:56:21.318Z"
   },
   {
    "duration": 42,
    "start_time": "2021-11-30T06:56:21.353Z"
   },
   {
    "duration": 26,
    "start_time": "2021-11-30T06:56:21.397Z"
   },
   {
    "duration": 9,
    "start_time": "2021-11-30T06:56:21.425Z"
   },
   {
    "duration": 10,
    "start_time": "2021-11-30T06:56:21.435Z"
   },
   {
    "duration": 17,
    "start_time": "2021-11-30T06:56:21.446Z"
   },
   {
    "duration": 358,
    "start_time": "2021-11-30T06:56:21.465Z"
   },
   {
    "duration": 8,
    "start_time": "2021-11-30T06:56:21.824Z"
   },
   {
    "duration": 374,
    "start_time": "2021-11-30T06:57:40.945Z"
   },
   {
    "duration": 372,
    "start_time": "2021-11-30T06:58:11.514Z"
   },
   {
    "duration": 382,
    "start_time": "2021-11-30T06:58:17.601Z"
   },
   {
    "duration": 378,
    "start_time": "2021-11-30T06:58:31.219Z"
   },
   {
    "duration": 465,
    "start_time": "2021-11-30T06:58:48.163Z"
   },
   {
    "duration": 17,
    "start_time": "2021-11-30T08:28:17.941Z"
   },
   {
    "duration": 975,
    "start_time": "2021-11-30T08:30:00.323Z"
   },
   {
    "duration": 990,
    "start_time": "2021-11-30T08:30:23.014Z"
   },
   {
    "duration": 28,
    "start_time": "2021-11-30T08:30:47.445Z"
   },
   {
    "duration": 700,
    "start_time": "2021-11-30T08:30:58.237Z"
   },
   {
    "duration": 5,
    "start_time": "2021-11-30T08:47:41.269Z"
   },
   {
    "duration": 6,
    "start_time": "2021-11-30T08:47:46.549Z"
   },
   {
    "duration": 7,
    "start_time": "2021-11-30T08:48:25.693Z"
   },
   {
    "duration": 6,
    "start_time": "2021-11-30T08:49:32.755Z"
   },
   {
    "duration": 7,
    "start_time": "2021-11-30T08:49:43.732Z"
   },
   {
    "duration": 9,
    "start_time": "2021-11-30T08:50:20.002Z"
   },
   {
    "duration": 7,
    "start_time": "2021-11-30T08:52:09.515Z"
   },
   {
    "duration": 7,
    "start_time": "2021-11-30T08:52:11.235Z"
   },
   {
    "duration": 7,
    "start_time": "2021-11-30T08:52:49.165Z"
   },
   {
    "duration": 7,
    "start_time": "2021-11-30T08:53:33.666Z"
   },
   {
    "duration": 7,
    "start_time": "2021-11-30T08:53:35.585Z"
   },
   {
    "duration": 8,
    "start_time": "2021-11-30T08:53:59.080Z"
   },
   {
    "duration": 669,
    "start_time": "2021-11-30T08:56:59.961Z"
   },
   {
    "duration": 10,
    "start_time": "2021-11-30T08:57:00.632Z"
   },
   {
    "duration": 3,
    "start_time": "2021-11-30T08:57:00.644Z"
   },
   {
    "duration": 26,
    "start_time": "2021-11-30T08:57:00.648Z"
   },
   {
    "duration": 27,
    "start_time": "2021-11-30T08:57:00.675Z"
   },
   {
    "duration": 4,
    "start_time": "2021-11-30T08:57:00.704Z"
   },
   {
    "duration": 8,
    "start_time": "2021-11-30T08:57:00.709Z"
   },
   {
    "duration": 9,
    "start_time": "2021-11-30T08:57:00.719Z"
   },
   {
    "duration": 11,
    "start_time": "2021-11-30T08:57:00.729Z"
   },
   {
    "duration": 14,
    "start_time": "2021-11-30T08:57:00.742Z"
   },
   {
    "duration": 13,
    "start_time": "2021-11-30T08:57:00.758Z"
   },
   {
    "duration": 23,
    "start_time": "2021-11-30T08:57:00.772Z"
   },
   {
    "duration": 23,
    "start_time": "2021-11-30T08:57:00.796Z"
   },
   {
    "duration": 193,
    "start_time": "2021-11-30T08:57:00.820Z"
   },
   {
    "duration": 12,
    "start_time": "2021-11-30T08:57:01.015Z"
   },
   {
    "duration": 10,
    "start_time": "2021-11-30T08:57:01.029Z"
   },
   {
    "duration": 491,
    "start_time": "2021-11-30T08:57:01.041Z"
   },
   {
    "duration": 565,
    "start_time": "2021-11-30T08:57:01.534Z"
   },
   {
    "duration": 601,
    "start_time": "2021-11-30T08:57:02.101Z"
   },
   {
    "duration": 598,
    "start_time": "2021-11-30T08:57:02.704Z"
   },
   {
    "duration": 15,
    "start_time": "2021-11-30T08:57:03.304Z"
   },
   {
    "duration": 442,
    "start_time": "2021-11-30T08:57:03.320Z"
   },
   {
    "duration": 267,
    "start_time": "2021-11-30T08:57:03.766Z"
   },
   {
    "duration": 16,
    "start_time": "2021-11-30T08:57:04.036Z"
   },
   {
    "duration": 353,
    "start_time": "2021-11-30T08:57:04.054Z"
   },
   {
    "duration": 6,
    "start_time": "2021-11-30T08:57:04.409Z"
   },
   {
    "duration": 306,
    "start_time": "2021-11-30T08:57:04.417Z"
   },
   {
    "duration": 5,
    "start_time": "2021-11-30T08:57:04.725Z"
   },
   {
    "duration": 22,
    "start_time": "2021-11-30T08:57:04.732Z"
   },
   {
    "duration": 90,
    "start_time": "2021-11-30T08:57:04.756Z"
   },
   {
    "duration": 84,
    "start_time": "2021-11-30T08:57:04.848Z"
   },
   {
    "duration": 13,
    "start_time": "2021-11-30T08:57:04.933Z"
   },
   {
    "duration": 433,
    "start_time": "2021-11-30T08:57:04.948Z"
   },
   {
    "duration": 13,
    "start_time": "2021-11-30T08:57:05.383Z"
   },
   {
    "duration": 442,
    "start_time": "2021-11-30T08:57:05.398Z"
   },
   {
    "duration": 12,
    "start_time": "2021-11-30T08:57:05.842Z"
   },
   {
    "duration": 43,
    "start_time": "2021-11-30T08:57:05.856Z"
   },
   {
    "duration": 27,
    "start_time": "2021-11-30T08:57:05.900Z"
   },
   {
    "duration": 25,
    "start_time": "2021-11-30T08:57:05.929Z"
   },
   {
    "duration": 39,
    "start_time": "2021-11-30T08:57:05.956Z"
   },
   {
    "duration": 7,
    "start_time": "2021-11-30T08:57:05.996Z"
   },
   {
    "duration": 8,
    "start_time": "2021-11-30T08:57:06.004Z"
   },
   {
    "duration": 6,
    "start_time": "2021-11-30T08:57:06.013Z"
   },
   {
    "duration": 9,
    "start_time": "2021-11-30T08:57:06.020Z"
   },
   {
    "duration": 384,
    "start_time": "2021-11-30T08:57:06.030Z"
   },
   {
    "duration": 7,
    "start_time": "2021-11-30T08:57:06.416Z"
   },
   {
    "duration": 7,
    "start_time": "2021-11-30T08:57:06.425Z"
   },
   {
    "duration": 11,
    "start_time": "2021-11-30T08:57:06.434Z"
   }
  ],
  "kernelspec": {
   "display_name": "Python 3",
   "language": "python",
   "name": "python3"
  },
  "language_info": {
   "codemirror_mode": {
    "name": "ipython",
    "version": 3
   },
   "file_extension": ".py",
   "mimetype": "text/x-python",
   "name": "python",
   "nbconvert_exporter": "python",
   "pygments_lexer": "ipython3",
   "version": "3.8.8"
  },
  "toc": {
   "base_numbering": 1,
   "nav_menu": {},
   "number_sections": true,
   "sideBar": true,
   "skip_h1_title": true,
   "title_cell": "Table of Contents",
   "title_sidebar": "Contents",
   "toc_cell": false,
   "toc_position": {},
   "toc_section_display": true,
   "toc_window_display": false
  }
 },
 "nbformat": 4,
 "nbformat_minor": 2
}

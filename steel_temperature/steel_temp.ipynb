{
 "cells": [
  {
   "cell_type": "markdown",
   "metadata": {},
   "source": [
    "# Предсказание температуры стали"
   ]
  },
  {
   "cell_type": "markdown",
   "metadata": {},
   "source": [
    "## Загрузка библиотек"
   ]
  },
  {
   "cell_type": "code",
   "execution_count": 1,
   "metadata": {},
   "outputs": [],
   "source": [
    "import pandas as pd\n",
    "import numpy as np\n",
    "import matplotlib.pyplot as plt\n",
    "import seaborn as sns\n",
    "import warnings\n",
    "warnings.filterwarnings(\"ignore\")\n",
    "from sklearn.model_selection import train_test_split, RandomizedSearchCV\n",
    "from sklearn.linear_model import LinearRegression\n",
    "from sklearn.ensemble import RandomForestRegressor\n",
    "from catboost import CatBoostRegressor\n",
    "from xgboost import XGBRegressor\n",
    "from sklearn.metrics import mean_absolute_error\n"
   ]
  },
  {
   "cell_type": "markdown",
   "metadata": {},
   "source": [
    "## Анализ данных"
   ]
  },
  {
   "cell_type": "markdown",
   "metadata": {},
   "source": [
    "Выводим данные об электродах:"
   ]
  },
  {
   "cell_type": "code",
   "execution_count": 2,
   "metadata": {},
   "outputs": [],
   "source": [
    "#Функция вывода общей инфы\n",
    "def data_info(data):\n",
    "    print('Размер датасета:',data.shape)\n",
    "    display(data.head())\n",
    "    tab = pd.concat([data.dtypes, data.isna().mean()*100], axis=1)\n",
    "    tab.columns=['data_type', 'nan_part, %']\n",
    "    display(tab.sort_values(by='nan_part, %', ascending=False))\n",
    "    display(data.describe())"
   ]
  },
  {
   "cell_type": "code",
   "execution_count": 3,
   "metadata": {},
   "outputs": [],
   "source": [
    "data1 = pd.read_csv('/datasets/final_steel/data_arc.csv')"
   ]
  },
  {
   "cell_type": "code",
   "execution_count": 4,
   "metadata": {},
   "outputs": [
    {
     "name": "stdout",
     "output_type": "stream",
     "text": [
      "Размер датасета: (14876, 5)\n"
     ]
    },
    {
     "data": {
      "text/html": [
       "<div>\n",
       "<style scoped>\n",
       "    .dataframe tbody tr th:only-of-type {\n",
       "        vertical-align: middle;\n",
       "    }\n",
       "\n",
       "    .dataframe tbody tr th {\n",
       "        vertical-align: top;\n",
       "    }\n",
       "\n",
       "    .dataframe thead th {\n",
       "        text-align: right;\n",
       "    }\n",
       "</style>\n",
       "<table border=\"1\" class=\"dataframe\">\n",
       "  <thead>\n",
       "    <tr style=\"text-align: right;\">\n",
       "      <th></th>\n",
       "      <th>key</th>\n",
       "      <th>Начало нагрева дугой</th>\n",
       "      <th>Конец нагрева дугой</th>\n",
       "      <th>Активная мощность</th>\n",
       "      <th>Реактивная мощность</th>\n",
       "    </tr>\n",
       "  </thead>\n",
       "  <tbody>\n",
       "    <tr>\n",
       "      <th>0</th>\n",
       "      <td>1</td>\n",
       "      <td>2019-05-03 11:02:14</td>\n",
       "      <td>2019-05-03 11:06:02</td>\n",
       "      <td>0.976059</td>\n",
       "      <td>0.687084</td>\n",
       "    </tr>\n",
       "    <tr>\n",
       "      <th>1</th>\n",
       "      <td>1</td>\n",
       "      <td>2019-05-03 11:07:28</td>\n",
       "      <td>2019-05-03 11:10:33</td>\n",
       "      <td>0.805607</td>\n",
       "      <td>0.520285</td>\n",
       "    </tr>\n",
       "    <tr>\n",
       "      <th>2</th>\n",
       "      <td>1</td>\n",
       "      <td>2019-05-03 11:11:44</td>\n",
       "      <td>2019-05-03 11:14:36</td>\n",
       "      <td>0.744363</td>\n",
       "      <td>0.498805</td>\n",
       "    </tr>\n",
       "    <tr>\n",
       "      <th>3</th>\n",
       "      <td>1</td>\n",
       "      <td>2019-05-03 11:18:14</td>\n",
       "      <td>2019-05-03 11:24:19</td>\n",
       "      <td>1.659363</td>\n",
       "      <td>1.062669</td>\n",
       "    </tr>\n",
       "    <tr>\n",
       "      <th>4</th>\n",
       "      <td>1</td>\n",
       "      <td>2019-05-03 11:26:09</td>\n",
       "      <td>2019-05-03 11:28:37</td>\n",
       "      <td>0.692755</td>\n",
       "      <td>0.414397</td>\n",
       "    </tr>\n",
       "  </tbody>\n",
       "</table>\n",
       "</div>"
      ],
      "text/plain": [
       "   key Начало нагрева дугой  Конец нагрева дугой  Активная мощность  \\\n",
       "0    1  2019-05-03 11:02:14  2019-05-03 11:06:02           0.976059   \n",
       "1    1  2019-05-03 11:07:28  2019-05-03 11:10:33           0.805607   \n",
       "2    1  2019-05-03 11:11:44  2019-05-03 11:14:36           0.744363   \n",
       "3    1  2019-05-03 11:18:14  2019-05-03 11:24:19           1.659363   \n",
       "4    1  2019-05-03 11:26:09  2019-05-03 11:28:37           0.692755   \n",
       "\n",
       "   Реактивная мощность  \n",
       "0             0.687084  \n",
       "1             0.520285  \n",
       "2             0.498805  \n",
       "3             1.062669  \n",
       "4             0.414397  "
      ]
     },
     "metadata": {},
     "output_type": "display_data"
    },
    {
     "data": {
      "text/html": [
       "<div>\n",
       "<style scoped>\n",
       "    .dataframe tbody tr th:only-of-type {\n",
       "        vertical-align: middle;\n",
       "    }\n",
       "\n",
       "    .dataframe tbody tr th {\n",
       "        vertical-align: top;\n",
       "    }\n",
       "\n",
       "    .dataframe thead th {\n",
       "        text-align: right;\n",
       "    }\n",
       "</style>\n",
       "<table border=\"1\" class=\"dataframe\">\n",
       "  <thead>\n",
       "    <tr style=\"text-align: right;\">\n",
       "      <th></th>\n",
       "      <th>data_type</th>\n",
       "      <th>nan_part, %</th>\n",
       "    </tr>\n",
       "  </thead>\n",
       "  <tbody>\n",
       "    <tr>\n",
       "      <th>key</th>\n",
       "      <td>int64</td>\n",
       "      <td>0.0</td>\n",
       "    </tr>\n",
       "    <tr>\n",
       "      <th>Начало нагрева дугой</th>\n",
       "      <td>object</td>\n",
       "      <td>0.0</td>\n",
       "    </tr>\n",
       "    <tr>\n",
       "      <th>Конец нагрева дугой</th>\n",
       "      <td>object</td>\n",
       "      <td>0.0</td>\n",
       "    </tr>\n",
       "    <tr>\n",
       "      <th>Активная мощность</th>\n",
       "      <td>float64</td>\n",
       "      <td>0.0</td>\n",
       "    </tr>\n",
       "    <tr>\n",
       "      <th>Реактивная мощность</th>\n",
       "      <td>float64</td>\n",
       "      <td>0.0</td>\n",
       "    </tr>\n",
       "  </tbody>\n",
       "</table>\n",
       "</div>"
      ],
      "text/plain": [
       "                     data_type  nan_part, %\n",
       "key                      int64          0.0\n",
       "Начало нагрева дугой    object          0.0\n",
       "Конец нагрева дугой     object          0.0\n",
       "Активная мощность      float64          0.0\n",
       "Реактивная мощность    float64          0.0"
      ]
     },
     "metadata": {},
     "output_type": "display_data"
    },
    {
     "data": {
      "text/html": [
       "<div>\n",
       "<style scoped>\n",
       "    .dataframe tbody tr th:only-of-type {\n",
       "        vertical-align: middle;\n",
       "    }\n",
       "\n",
       "    .dataframe tbody tr th {\n",
       "        vertical-align: top;\n",
       "    }\n",
       "\n",
       "    .dataframe thead th {\n",
       "        text-align: right;\n",
       "    }\n",
       "</style>\n",
       "<table border=\"1\" class=\"dataframe\">\n",
       "  <thead>\n",
       "    <tr style=\"text-align: right;\">\n",
       "      <th></th>\n",
       "      <th>key</th>\n",
       "      <th>Активная мощность</th>\n",
       "      <th>Реактивная мощность</th>\n",
       "    </tr>\n",
       "  </thead>\n",
       "  <tbody>\n",
       "    <tr>\n",
       "      <th>count</th>\n",
       "      <td>14876.000000</td>\n",
       "      <td>14876.000000</td>\n",
       "      <td>14876.000000</td>\n",
       "    </tr>\n",
       "    <tr>\n",
       "      <th>mean</th>\n",
       "      <td>1615.220422</td>\n",
       "      <td>0.670441</td>\n",
       "      <td>0.452592</td>\n",
       "    </tr>\n",
       "    <tr>\n",
       "      <th>std</th>\n",
       "      <td>934.571502</td>\n",
       "      <td>0.408159</td>\n",
       "      <td>5.878702</td>\n",
       "    </tr>\n",
       "    <tr>\n",
       "      <th>min</th>\n",
       "      <td>1.000000</td>\n",
       "      <td>0.030002</td>\n",
       "      <td>-715.504924</td>\n",
       "    </tr>\n",
       "    <tr>\n",
       "      <th>25%</th>\n",
       "      <td>806.000000</td>\n",
       "      <td>0.395297</td>\n",
       "      <td>0.290991</td>\n",
       "    </tr>\n",
       "    <tr>\n",
       "      <th>50%</th>\n",
       "      <td>1617.000000</td>\n",
       "      <td>0.555517</td>\n",
       "      <td>0.415962</td>\n",
       "    </tr>\n",
       "    <tr>\n",
       "      <th>75%</th>\n",
       "      <td>2429.000000</td>\n",
       "      <td>0.857034</td>\n",
       "      <td>0.637371</td>\n",
       "    </tr>\n",
       "    <tr>\n",
       "      <th>max</th>\n",
       "      <td>3241.000000</td>\n",
       "      <td>3.731596</td>\n",
       "      <td>2.676388</td>\n",
       "    </tr>\n",
       "  </tbody>\n",
       "</table>\n",
       "</div>"
      ],
      "text/plain": [
       "                key  Активная мощность  Реактивная мощность\n",
       "count  14876.000000       14876.000000         14876.000000\n",
       "mean    1615.220422           0.670441             0.452592\n",
       "std      934.571502           0.408159             5.878702\n",
       "min        1.000000           0.030002          -715.504924\n",
       "25%      806.000000           0.395297             0.290991\n",
       "50%     1617.000000           0.555517             0.415962\n",
       "75%     2429.000000           0.857034             0.637371\n",
       "max     3241.000000           3.731596             2.676388"
      ]
     },
     "metadata": {},
     "output_type": "display_data"
    }
   ],
   "source": [
    "data_info(data1)"
   ]
  },
  {
   "cell_type": "code",
   "execution_count": 5,
   "metadata": {},
   "outputs": [
    {
     "data": {
      "text/html": [
       "<div>\n",
       "<style scoped>\n",
       "    .dataframe tbody tr th:only-of-type {\n",
       "        vertical-align: middle;\n",
       "    }\n",
       "\n",
       "    .dataframe tbody tr th {\n",
       "        vertical-align: top;\n",
       "    }\n",
       "\n",
       "    .dataframe thead th {\n",
       "        text-align: right;\n",
       "    }\n",
       "</style>\n",
       "<table border=\"1\" class=\"dataframe\">\n",
       "  <thead>\n",
       "    <tr style=\"text-align: right;\">\n",
       "      <th></th>\n",
       "      <th>key</th>\n",
       "      <th>Начало нагрева дугой</th>\n",
       "      <th>Конец нагрева дугой</th>\n",
       "      <th>Активная мощность</th>\n",
       "      <th>Реактивная мощность</th>\n",
       "    </tr>\n",
       "  </thead>\n",
       "  <tbody>\n",
       "    <tr>\n",
       "      <th>9780</th>\n",
       "      <td>2116</td>\n",
       "      <td>2019-07-24 00:44:48</td>\n",
       "      <td>2019-07-24 00:46:37</td>\n",
       "      <td>0.495782</td>\n",
       "      <td>-715.504924</td>\n",
       "    </tr>\n",
       "  </tbody>\n",
       "</table>\n",
       "</div>"
      ],
      "text/plain": [
       "       key Начало нагрева дугой  Конец нагрева дугой  Активная мощность  \\\n",
       "9780  2116  2019-07-24 00:44:48  2019-07-24 00:46:37           0.495782   \n",
       "\n",
       "      Реактивная мощность  \n",
       "9780          -715.504924  "
      ]
     },
     "execution_count": 5,
     "metadata": {},
     "output_type": "execute_result"
    }
   ],
   "source": [
    "data1[data1['Реактивная мощность'] < 0]"
   ]
  },
  {
   "cell_type": "markdown",
   "metadata": {},
   "source": [
    "Учитывая, что строка с отрицательным значением только одна, делаем вывод, что перед нами аномалия, которая связана либо с зависанием системы, либо с поломкой датчика определения реактивной мощности. Данные строки исключим из анализа.\n",
    "Далее построим диграммы размаха для активной и реактивной мощностей, а также рассмотрим взаимосвязь между ними:"
   ]
  },
  {
   "cell_type": "code",
   "execution_count": 6,
   "metadata": {},
   "outputs": [
    {
     "data": {
      "text/plain": [
       "Text(0.5, 1.0, 'Диаграмма размаха активной мощности')"
      ]
     },
     "execution_count": 6,
     "metadata": {},
     "output_type": "execute_result"
    },
    {
     "data": {
      "image/png": "[encoded data removed]",
      "text/plain": [
       "<Figure size 504x360 with 1 Axes>"
      ]
     },
     "metadata": {
      "needs_background": "light"
     },
     "output_type": "display_data"
    }
   ],
   "source": [
    "data1['Активная мощность'].plot(grid = True, \n",
    "                                   style = 'o', \n",
    "                                   figsize = (7, 5), \n",
    "                                   kind= 'box', \n",
    "                                   subplots = True, \n",
    "                                   fontsize=12)\n",
    "plt.ylabel(\"Активная мощность\", fontsize=14)\n",
    "plt.title('Диаграмма размаха активной мощности', fontsize=16)"
   ]
  },
  {
   "cell_type": "code",
   "execution_count": 7,
   "metadata": {},
   "outputs": [
    {
     "data": {
      "text/plain": [
       "Text(0.5, 1.0, 'Диаграмма размаха реактивной мощности')"
      ]
     },
     "execution_count": 7,
     "metadata": {},
     "output_type": "execute_result"
    },
    {
     "data": {
      "image/png": "[encoded data removed]",
      "text/plain": [
       "<Figure size 504x360 with 1 Axes>"
      ]
     },
     "metadata": {
      "needs_background": "light"
     },
     "output_type": "display_data"
    }
   ],
   "source": [
    "data1[data1['Реактивная мощность'] >= 0]['Реактивная мощность'].plot(grid = True, \n",
    "                                                                           style = 'o', \n",
    "                                                                           figsize = (7, 5), \n",
    "                                                                           kind= 'box', \n",
    "                                                                           subplots = True, \n",
    "                                                                           fontsize=12)\n",
    "plt.ylabel(\"Реактивная мощность\", fontsize=14)\n",
    "plt.title('Диаграмма размаха реактивной мощности', fontsize=16)"
   ]
  },
  {
   "cell_type": "code",
   "execution_count": 8,
   "metadata": {},
   "outputs": [
    {
     "data": {
      "image/png": "[encoded data removed]",
      "text/plain": [
       "<Figure size 432x288 with 1 Axes>"
      ]
     },
     "metadata": {
      "needs_background": "light"
     },
     "output_type": "display_data"
    }
   ],
   "source": [
    "data1[data1['Реактивная мощность'] >= 0].plot(x='Активная мощность', \n",
    "                                                    y='Реактивная мощность', \n",
    "                                                    kind='scatter', alpha=0.3)\n",
    "plt.title('Диаграмма размаха реактивной мощности', fontsize=16)\n",
    "plt.show()"
   ]
  },
  {
   "cell_type": "code",
   "execution_count": 9,
   "metadata": {},
   "outputs": [
    {
     "data": {
      "image/png": "[encoded data removed]",
      "text/plain": [
       "<Figure size 1080x1080 with 2 Axes>"
      ]
     },
     "metadata": {
      "needs_background": "light"
     },
     "output_type": "display_data"
    }
   ],
   "source": [
    "correlation_mat = data1.corr()\n",
    "\n",
    "plt.subplots(figsize=(15,15)) \n",
    "sns.heatmap(correlation_mat, annot = True)\n",
    "\n",
    "plt.show()"
   ]
  },
  {
   "cell_type": "markdown",
   "metadata": {},
   "source": [
    "Данные параметры сильно коррелируют. В дальнейшем следует объеденить их в один параметр Полная мощность (https://ru.wikipedia.org/wiki/Электрическая_мощность). Выбросы не критичны и вероятно связаны с различным временем, необходимым для получения нужного хим.состава при использовании разных легирующих элементов в зависимости от технологического процесса (предположение: так как некоторые техпроцессы используются чаще, чем другие, следовательно и выбросы соответствуют тем, что используются реже).Данное предположение проверим на этапе формирования признаков для построения модели"
   ]
  },
  {
   "cell_type": "markdown",
   "metadata": {},
   "source": [
    "Данные о подаче сыпучих материалов (объём):"
   ]
  },
  {
   "cell_type": "code",
   "execution_count": 10,
   "metadata": {},
   "outputs": [],
   "source": [
    "data2 = pd.read_csv('/datasets/final_steel/data_bulk.csv')\n"
   ]
  },
  {
   "cell_type": "code",
   "execution_count": 11,
   "metadata": {},
   "outputs": [
    {
     "name": "stdout",
     "output_type": "stream",
     "text": [
      "Размер датасета: (3129, 16)\n"
     ]
    },
    {
     "data": {
      "text/html": [
       "<div>\n",
       "<style scoped>\n",
       "    .dataframe tbody tr th:only-of-type {\n",
       "        vertical-align: middle;\n",
       "    }\n",
       "\n",
       "    .dataframe tbody tr th {\n",
       "        vertical-align: top;\n",
       "    }\n",
       "\n",
       "    .dataframe thead th {\n",
       "        text-align: right;\n",
       "    }\n",
       "</style>\n",
       "<table border=\"1\" class=\"dataframe\">\n",
       "  <thead>\n",
       "    <tr style=\"text-align: right;\">\n",
       "      <th></th>\n",
       "      <th>key</th>\n",
       "      <th>Bulk 1</th>\n",
       "      <th>Bulk 2</th>\n",
       "      <th>Bulk 3</th>\n",
       "      <th>Bulk 4</th>\n",
       "      <th>Bulk 5</th>\n",
       "      <th>Bulk 6</th>\n",
       "      <th>Bulk 7</th>\n",
       "      <th>Bulk 8</th>\n",
       "      <th>Bulk 9</th>\n",
       "      <th>Bulk 10</th>\n",
       "      <th>Bulk 11</th>\n",
       "      <th>Bulk 12</th>\n",
       "      <th>Bulk 13</th>\n",
       "      <th>Bulk 14</th>\n",
       "      <th>Bulk 15</th>\n",
       "    </tr>\n",
       "  </thead>\n",
       "  <tbody>\n",
       "    <tr>\n",
       "      <th>0</th>\n",
       "      <td>1</td>\n",
       "      <td>NaN</td>\n",
       "      <td>NaN</td>\n",
       "      <td>NaN</td>\n",
       "      <td>43.0</td>\n",
       "      <td>NaN</td>\n",
       "      <td>NaN</td>\n",
       "      <td>NaN</td>\n",
       "      <td>NaN</td>\n",
       "      <td>NaN</td>\n",
       "      <td>NaN</td>\n",
       "      <td>NaN</td>\n",
       "      <td>206.0</td>\n",
       "      <td>NaN</td>\n",
       "      <td>150.0</td>\n",
       "      <td>154.0</td>\n",
       "    </tr>\n",
       "    <tr>\n",
       "      <th>1</th>\n",
       "      <td>2</td>\n",
       "      <td>NaN</td>\n",
       "      <td>NaN</td>\n",
       "      <td>NaN</td>\n",
       "      <td>73.0</td>\n",
       "      <td>NaN</td>\n",
       "      <td>NaN</td>\n",
       "      <td>NaN</td>\n",
       "      <td>NaN</td>\n",
       "      <td>NaN</td>\n",
       "      <td>NaN</td>\n",
       "      <td>NaN</td>\n",
       "      <td>206.0</td>\n",
       "      <td>NaN</td>\n",
       "      <td>149.0</td>\n",
       "      <td>154.0</td>\n",
       "    </tr>\n",
       "    <tr>\n",
       "      <th>2</th>\n",
       "      <td>3</td>\n",
       "      <td>NaN</td>\n",
       "      <td>NaN</td>\n",
       "      <td>NaN</td>\n",
       "      <td>34.0</td>\n",
       "      <td>NaN</td>\n",
       "      <td>NaN</td>\n",
       "      <td>NaN</td>\n",
       "      <td>NaN</td>\n",
       "      <td>NaN</td>\n",
       "      <td>NaN</td>\n",
       "      <td>NaN</td>\n",
       "      <td>205.0</td>\n",
       "      <td>NaN</td>\n",
       "      <td>152.0</td>\n",
       "      <td>153.0</td>\n",
       "    </tr>\n",
       "    <tr>\n",
       "      <th>3</th>\n",
       "      <td>4</td>\n",
       "      <td>NaN</td>\n",
       "      <td>NaN</td>\n",
       "      <td>NaN</td>\n",
       "      <td>81.0</td>\n",
       "      <td>NaN</td>\n",
       "      <td>NaN</td>\n",
       "      <td>NaN</td>\n",
       "      <td>NaN</td>\n",
       "      <td>NaN</td>\n",
       "      <td>NaN</td>\n",
       "      <td>NaN</td>\n",
       "      <td>207.0</td>\n",
       "      <td>NaN</td>\n",
       "      <td>153.0</td>\n",
       "      <td>154.0</td>\n",
       "    </tr>\n",
       "    <tr>\n",
       "      <th>4</th>\n",
       "      <td>5</td>\n",
       "      <td>NaN</td>\n",
       "      <td>NaN</td>\n",
       "      <td>NaN</td>\n",
       "      <td>78.0</td>\n",
       "      <td>NaN</td>\n",
       "      <td>NaN</td>\n",
       "      <td>NaN</td>\n",
       "      <td>NaN</td>\n",
       "      <td>NaN</td>\n",
       "      <td>NaN</td>\n",
       "      <td>NaN</td>\n",
       "      <td>203.0</td>\n",
       "      <td>NaN</td>\n",
       "      <td>151.0</td>\n",
       "      <td>152.0</td>\n",
       "    </tr>\n",
       "  </tbody>\n",
       "</table>\n",
       "</div>"
      ],
      "text/plain": [
       "   key  Bulk 1  Bulk 2  Bulk 3  Bulk 4  Bulk 5  Bulk 6  Bulk 7  Bulk 8  \\\n",
       "0    1     NaN     NaN     NaN    43.0     NaN     NaN     NaN     NaN   \n",
       "1    2     NaN     NaN     NaN    73.0     NaN     NaN     NaN     NaN   \n",
       "2    3     NaN     NaN     NaN    34.0     NaN     NaN     NaN     NaN   \n",
       "3    4     NaN     NaN     NaN    81.0     NaN     NaN     NaN     NaN   \n",
       "4    5     NaN     NaN     NaN    78.0     NaN     NaN     NaN     NaN   \n",
       "\n",
       "   Bulk 9  Bulk 10  Bulk 11  Bulk 12  Bulk 13  Bulk 14  Bulk 15  \n",
       "0     NaN      NaN      NaN    206.0      NaN    150.0    154.0  \n",
       "1     NaN      NaN      NaN    206.0      NaN    149.0    154.0  \n",
       "2     NaN      NaN      NaN    205.0      NaN    152.0    153.0  \n",
       "3     NaN      NaN      NaN    207.0      NaN    153.0    154.0  \n",
       "4     NaN      NaN      NaN    203.0      NaN    151.0    152.0  "
      ]
     },
     "metadata": {},
     "output_type": "display_data"
    },
    {
     "data": {
      "text/html": [
       "<div>\n",
       "<style scoped>\n",
       "    .dataframe tbody tr th:only-of-type {\n",
       "        vertical-align: middle;\n",
       "    }\n",
       "\n",
       "    .dataframe tbody tr th {\n",
       "        vertical-align: top;\n",
       "    }\n",
       "\n",
       "    .dataframe thead th {\n",
       "        text-align: right;\n",
       "    }\n",
       "</style>\n",
       "<table border=\"1\" class=\"dataframe\">\n",
       "  <thead>\n",
       "    <tr style=\"text-align: right;\">\n",
       "      <th></th>\n",
       "      <th>data_type</th>\n",
       "      <th>nan_part, %</th>\n",
       "    </tr>\n",
       "  </thead>\n",
       "  <tbody>\n",
       "    <tr>\n",
       "      <th>Bulk 8</th>\n",
       "      <td>float64</td>\n",
       "      <td>99.968041</td>\n",
       "    </tr>\n",
       "    <tr>\n",
       "      <th>Bulk 13</th>\n",
       "      <td>float64</td>\n",
       "      <td>99.424736</td>\n",
       "    </tr>\n",
       "    <tr>\n",
       "      <th>Bulk 9</th>\n",
       "      <td>float64</td>\n",
       "      <td>99.392777</td>\n",
       "    </tr>\n",
       "    <tr>\n",
       "      <th>Bulk 2</th>\n",
       "      <td>float64</td>\n",
       "      <td>99.296900</td>\n",
       "    </tr>\n",
       "    <tr>\n",
       "      <th>Bulk 7</th>\n",
       "      <td>float64</td>\n",
       "      <td>99.201023</td>\n",
       "    </tr>\n",
       "    <tr>\n",
       "      <th>Bulk 5</th>\n",
       "      <td>float64</td>\n",
       "      <td>97.539150</td>\n",
       "    </tr>\n",
       "    <tr>\n",
       "      <th>Bulk 10</th>\n",
       "      <td>float64</td>\n",
       "      <td>94.375200</td>\n",
       "    </tr>\n",
       "    <tr>\n",
       "      <th>Bulk 11</th>\n",
       "      <td>float64</td>\n",
       "      <td>94.343241</td>\n",
       "    </tr>\n",
       "    <tr>\n",
       "      <th>Bulk 1</th>\n",
       "      <td>float64</td>\n",
       "      <td>91.946309</td>\n",
       "    </tr>\n",
       "    <tr>\n",
       "      <th>Bulk 6</th>\n",
       "      <td>float64</td>\n",
       "      <td>81.591563</td>\n",
       "    </tr>\n",
       "    <tr>\n",
       "      <th>Bulk 4</th>\n",
       "      <td>float64</td>\n",
       "      <td>67.593480</td>\n",
       "    </tr>\n",
       "    <tr>\n",
       "      <th>Bulk 3</th>\n",
       "      <td>float64</td>\n",
       "      <td>58.517098</td>\n",
       "    </tr>\n",
       "    <tr>\n",
       "      <th>Bulk 15</th>\n",
       "      <td>float64</td>\n",
       "      <td>28.155960</td>\n",
       "    </tr>\n",
       "    <tr>\n",
       "      <th>Bulk 12</th>\n",
       "      <td>float64</td>\n",
       "      <td>21.700224</td>\n",
       "    </tr>\n",
       "    <tr>\n",
       "      <th>Bulk 14</th>\n",
       "      <td>float64</td>\n",
       "      <td>10.322787</td>\n",
       "    </tr>\n",
       "    <tr>\n",
       "      <th>key</th>\n",
       "      <td>int64</td>\n",
       "      <td>0.000000</td>\n",
       "    </tr>\n",
       "  </tbody>\n",
       "</table>\n",
       "</div>"
      ],
      "text/plain": [
       "        data_type  nan_part, %\n",
       "Bulk 8    float64    99.968041\n",
       "Bulk 13   float64    99.424736\n",
       "Bulk 9    float64    99.392777\n",
       "Bulk 2    float64    99.296900\n",
       "Bulk 7    float64    99.201023\n",
       "Bulk 5    float64    97.539150\n",
       "Bulk 10   float64    94.375200\n",
       "Bulk 11   float64    94.343241\n",
       "Bulk 1    float64    91.946309\n",
       "Bulk 6    float64    81.591563\n",
       "Bulk 4    float64    67.593480\n",
       "Bulk 3    float64    58.517098\n",
       "Bulk 15   float64    28.155960\n",
       "Bulk 12   float64    21.700224\n",
       "Bulk 14   float64    10.322787\n",
       "key         int64     0.000000"
      ]
     },
     "metadata": {},
     "output_type": "display_data"
    },
    {
     "data": {
      "text/html": [
       "<div>\n",
       "<style scoped>\n",
       "    .dataframe tbody tr th:only-of-type {\n",
       "        vertical-align: middle;\n",
       "    }\n",
       "\n",
       "    .dataframe tbody tr th {\n",
       "        vertical-align: top;\n",
       "    }\n",
       "\n",
       "    .dataframe thead th {\n",
       "        text-align: right;\n",
       "    }\n",
       "</style>\n",
       "<table border=\"1\" class=\"dataframe\">\n",
       "  <thead>\n",
       "    <tr style=\"text-align: right;\">\n",
       "      <th></th>\n",
       "      <th>key</th>\n",
       "      <th>Bulk 1</th>\n",
       "      <th>Bulk 2</th>\n",
       "      <th>Bulk 3</th>\n",
       "      <th>Bulk 4</th>\n",
       "      <th>Bulk 5</th>\n",
       "      <th>Bulk 6</th>\n",
       "      <th>Bulk 7</th>\n",
       "      <th>Bulk 8</th>\n",
       "      <th>Bulk 9</th>\n",
       "      <th>Bulk 10</th>\n",
       "      <th>Bulk 11</th>\n",
       "      <th>Bulk 12</th>\n",
       "      <th>Bulk 13</th>\n",
       "      <th>Bulk 14</th>\n",
       "      <th>Bulk 15</th>\n",
       "    </tr>\n",
       "  </thead>\n",
       "  <tbody>\n",
       "    <tr>\n",
       "      <th>count</th>\n",
       "      <td>3129.000000</td>\n",
       "      <td>252.000000</td>\n",
       "      <td>22.000000</td>\n",
       "      <td>1298.000000</td>\n",
       "      <td>1014.000000</td>\n",
       "      <td>77.000000</td>\n",
       "      <td>576.000000</td>\n",
       "      <td>25.000000</td>\n",
       "      <td>1.0</td>\n",
       "      <td>19.000000</td>\n",
       "      <td>176.000000</td>\n",
       "      <td>177.000000</td>\n",
       "      <td>2450.000000</td>\n",
       "      <td>18.000000</td>\n",
       "      <td>2806.000000</td>\n",
       "      <td>2248.000000</td>\n",
       "    </tr>\n",
       "    <tr>\n",
       "      <th>mean</th>\n",
       "      <td>1624.383509</td>\n",
       "      <td>39.242063</td>\n",
       "      <td>253.045455</td>\n",
       "      <td>113.879045</td>\n",
       "      <td>104.394477</td>\n",
       "      <td>107.025974</td>\n",
       "      <td>118.925347</td>\n",
       "      <td>305.600000</td>\n",
       "      <td>49.0</td>\n",
       "      <td>76.315789</td>\n",
       "      <td>83.284091</td>\n",
       "      <td>76.819209</td>\n",
       "      <td>260.471020</td>\n",
       "      <td>181.111111</td>\n",
       "      <td>170.284747</td>\n",
       "      <td>160.513345</td>\n",
       "    </tr>\n",
       "    <tr>\n",
       "      <th>std</th>\n",
       "      <td>933.337642</td>\n",
       "      <td>18.277654</td>\n",
       "      <td>21.180578</td>\n",
       "      <td>75.483494</td>\n",
       "      <td>48.184126</td>\n",
       "      <td>81.790646</td>\n",
       "      <td>72.057776</td>\n",
       "      <td>191.022904</td>\n",
       "      <td>NaN</td>\n",
       "      <td>21.720581</td>\n",
       "      <td>26.060347</td>\n",
       "      <td>59.655365</td>\n",
       "      <td>120.649269</td>\n",
       "      <td>46.088009</td>\n",
       "      <td>65.868652</td>\n",
       "      <td>51.765319</td>\n",
       "    </tr>\n",
       "    <tr>\n",
       "      <th>min</th>\n",
       "      <td>1.000000</td>\n",
       "      <td>10.000000</td>\n",
       "      <td>228.000000</td>\n",
       "      <td>6.000000</td>\n",
       "      <td>12.000000</td>\n",
       "      <td>11.000000</td>\n",
       "      <td>17.000000</td>\n",
       "      <td>47.000000</td>\n",
       "      <td>49.0</td>\n",
       "      <td>63.000000</td>\n",
       "      <td>24.000000</td>\n",
       "      <td>8.000000</td>\n",
       "      <td>53.000000</td>\n",
       "      <td>151.000000</td>\n",
       "      <td>16.000000</td>\n",
       "      <td>1.000000</td>\n",
       "    </tr>\n",
       "    <tr>\n",
       "      <th>25%</th>\n",
       "      <td>816.000000</td>\n",
       "      <td>27.000000</td>\n",
       "      <td>242.000000</td>\n",
       "      <td>58.000000</td>\n",
       "      <td>72.000000</td>\n",
       "      <td>70.000000</td>\n",
       "      <td>69.750000</td>\n",
       "      <td>155.000000</td>\n",
       "      <td>49.0</td>\n",
       "      <td>66.000000</td>\n",
       "      <td>64.000000</td>\n",
       "      <td>25.000000</td>\n",
       "      <td>204.000000</td>\n",
       "      <td>153.250000</td>\n",
       "      <td>119.000000</td>\n",
       "      <td>105.000000</td>\n",
       "    </tr>\n",
       "    <tr>\n",
       "      <th>50%</th>\n",
       "      <td>1622.000000</td>\n",
       "      <td>31.000000</td>\n",
       "      <td>251.500000</td>\n",
       "      <td>97.500000</td>\n",
       "      <td>102.000000</td>\n",
       "      <td>86.000000</td>\n",
       "      <td>100.000000</td>\n",
       "      <td>298.000000</td>\n",
       "      <td>49.0</td>\n",
       "      <td>68.000000</td>\n",
       "      <td>86.500000</td>\n",
       "      <td>64.000000</td>\n",
       "      <td>208.000000</td>\n",
       "      <td>155.500000</td>\n",
       "      <td>151.000000</td>\n",
       "      <td>160.000000</td>\n",
       "    </tr>\n",
       "    <tr>\n",
       "      <th>75%</th>\n",
       "      <td>2431.000000</td>\n",
       "      <td>46.000000</td>\n",
       "      <td>257.750000</td>\n",
       "      <td>152.000000</td>\n",
       "      <td>133.000000</td>\n",
       "      <td>132.000000</td>\n",
       "      <td>157.000000</td>\n",
       "      <td>406.000000</td>\n",
       "      <td>49.0</td>\n",
       "      <td>70.500000</td>\n",
       "      <td>102.000000</td>\n",
       "      <td>106.000000</td>\n",
       "      <td>316.000000</td>\n",
       "      <td>203.500000</td>\n",
       "      <td>205.750000</td>\n",
       "      <td>205.000000</td>\n",
       "    </tr>\n",
       "    <tr>\n",
       "      <th>max</th>\n",
       "      <td>3241.000000</td>\n",
       "      <td>185.000000</td>\n",
       "      <td>325.000000</td>\n",
       "      <td>454.000000</td>\n",
       "      <td>281.000000</td>\n",
       "      <td>603.000000</td>\n",
       "      <td>503.000000</td>\n",
       "      <td>772.000000</td>\n",
       "      <td>49.0</td>\n",
       "      <td>147.000000</td>\n",
       "      <td>159.000000</td>\n",
       "      <td>313.000000</td>\n",
       "      <td>1849.000000</td>\n",
       "      <td>305.000000</td>\n",
       "      <td>636.000000</td>\n",
       "      <td>405.000000</td>\n",
       "    </tr>\n",
       "  </tbody>\n",
       "</table>\n",
       "</div>"
      ],
      "text/plain": [
       "               key      Bulk 1      Bulk 2       Bulk 3       Bulk 4  \\\n",
       "count  3129.000000  252.000000   22.000000  1298.000000  1014.000000   \n",
       "mean   1624.383509   39.242063  253.045455   113.879045   104.394477   \n",
       "std     933.337642   18.277654   21.180578    75.483494    48.184126   \n",
       "min       1.000000   10.000000  228.000000     6.000000    12.000000   \n",
       "25%     816.000000   27.000000  242.000000    58.000000    72.000000   \n",
       "50%    1622.000000   31.000000  251.500000    97.500000   102.000000   \n",
       "75%    2431.000000   46.000000  257.750000   152.000000   133.000000   \n",
       "max    3241.000000  185.000000  325.000000   454.000000   281.000000   \n",
       "\n",
       "           Bulk 5      Bulk 6      Bulk 7  Bulk 8      Bulk 9     Bulk 10  \\\n",
       "count   77.000000  576.000000   25.000000     1.0   19.000000  176.000000   \n",
       "mean   107.025974  118.925347  305.600000    49.0   76.315789   83.284091   \n",
       "std     81.790646   72.057776  191.022904     NaN   21.720581   26.060347   \n",
       "min     11.000000   17.000000   47.000000    49.0   63.000000   24.000000   \n",
       "25%     70.000000   69.750000  155.000000    49.0   66.000000   64.000000   \n",
       "50%     86.000000  100.000000  298.000000    49.0   68.000000   86.500000   \n",
       "75%    132.000000  157.000000  406.000000    49.0   70.500000  102.000000   \n",
       "max    603.000000  503.000000  772.000000    49.0  147.000000  159.000000   \n",
       "\n",
       "          Bulk 11      Bulk 12     Bulk 13      Bulk 14      Bulk 15  \n",
       "count  177.000000  2450.000000   18.000000  2806.000000  2248.000000  \n",
       "mean    76.819209   260.471020  181.111111   170.284747   160.513345  \n",
       "std     59.655365   120.649269   46.088009    65.868652    51.765319  \n",
       "min      8.000000    53.000000  151.000000    16.000000     1.000000  \n",
       "25%     25.000000   204.000000  153.250000   119.000000   105.000000  \n",
       "50%     64.000000   208.000000  155.500000   151.000000   160.000000  \n",
       "75%    106.000000   316.000000  203.500000   205.750000   205.000000  \n",
       "max    313.000000  1849.000000  305.000000   636.000000   405.000000  "
      ]
     },
     "metadata": {},
     "output_type": "display_data"
    }
   ],
   "source": [
    "data_info(data2)"
   ]
  },
  {
   "cell_type": "markdown",
   "metadata": {},
   "source": [
    "Данные о подаче сыпучих материалов (время)"
   ]
  },
  {
   "cell_type": "code",
   "execution_count": 12,
   "metadata": {},
   "outputs": [],
   "source": [
    "data3 = pd.read_csv('/datasets/final_steel/data_bulk_time.csv')\n"
   ]
  },
  {
   "cell_type": "code",
   "execution_count": 13,
   "metadata": {},
   "outputs": [
    {
     "name": "stdout",
     "output_type": "stream",
     "text": [
      "Размер датасета: (3129, 16)\n"
     ]
    },
    {
     "data": {
      "text/html": [
       "<div>\n",
       "<style scoped>\n",
       "    .dataframe tbody tr th:only-of-type {\n",
       "        vertical-align: middle;\n",
       "    }\n",
       "\n",
       "    .dataframe tbody tr th {\n",
       "        vertical-align: top;\n",
       "    }\n",
       "\n",
       "    .dataframe thead th {\n",
       "        text-align: right;\n",
       "    }\n",
       "</style>\n",
       "<table border=\"1\" class=\"dataframe\">\n",
       "  <thead>\n",
       "    <tr style=\"text-align: right;\">\n",
       "      <th></th>\n",
       "      <th>key</th>\n",
       "      <th>Bulk 1</th>\n",
       "      <th>Bulk 2</th>\n",
       "      <th>Bulk 3</th>\n",
       "      <th>Bulk 4</th>\n",
       "      <th>Bulk 5</th>\n",
       "      <th>Bulk 6</th>\n",
       "      <th>Bulk 7</th>\n",
       "      <th>Bulk 8</th>\n",
       "      <th>Bulk 9</th>\n",
       "      <th>Bulk 10</th>\n",
       "      <th>Bulk 11</th>\n",
       "      <th>Bulk 12</th>\n",
       "      <th>Bulk 13</th>\n",
       "      <th>Bulk 14</th>\n",
       "      <th>Bulk 15</th>\n",
       "    </tr>\n",
       "  </thead>\n",
       "  <tbody>\n",
       "    <tr>\n",
       "      <th>0</th>\n",
       "      <td>1</td>\n",
       "      <td>NaN</td>\n",
       "      <td>NaN</td>\n",
       "      <td>NaN</td>\n",
       "      <td>2019-05-03 11:21:30</td>\n",
       "      <td>NaN</td>\n",
       "      <td>NaN</td>\n",
       "      <td>NaN</td>\n",
       "      <td>NaN</td>\n",
       "      <td>NaN</td>\n",
       "      <td>NaN</td>\n",
       "      <td>NaN</td>\n",
       "      <td>2019-05-03 11:03:52</td>\n",
       "      <td>NaN</td>\n",
       "      <td>2019-05-03 11:03:52</td>\n",
       "      <td>2019-05-03 11:03:52</td>\n",
       "    </tr>\n",
       "    <tr>\n",
       "      <th>1</th>\n",
       "      <td>2</td>\n",
       "      <td>NaN</td>\n",
       "      <td>NaN</td>\n",
       "      <td>NaN</td>\n",
       "      <td>2019-05-03 11:46:38</td>\n",
       "      <td>NaN</td>\n",
       "      <td>NaN</td>\n",
       "      <td>NaN</td>\n",
       "      <td>NaN</td>\n",
       "      <td>NaN</td>\n",
       "      <td>NaN</td>\n",
       "      <td>NaN</td>\n",
       "      <td>2019-05-03 11:40:20</td>\n",
       "      <td>NaN</td>\n",
       "      <td>2019-05-03 11:40:20</td>\n",
       "      <td>2019-05-03 11:40:20</td>\n",
       "    </tr>\n",
       "    <tr>\n",
       "      <th>2</th>\n",
       "      <td>3</td>\n",
       "      <td>NaN</td>\n",
       "      <td>NaN</td>\n",
       "      <td>NaN</td>\n",
       "      <td>2019-05-03 12:31:06</td>\n",
       "      <td>NaN</td>\n",
       "      <td>NaN</td>\n",
       "      <td>NaN</td>\n",
       "      <td>NaN</td>\n",
       "      <td>NaN</td>\n",
       "      <td>NaN</td>\n",
       "      <td>NaN</td>\n",
       "      <td>2019-05-03 12:09:40</td>\n",
       "      <td>NaN</td>\n",
       "      <td>2019-05-03 12:09:40</td>\n",
       "      <td>2019-05-03 12:09:40</td>\n",
       "    </tr>\n",
       "    <tr>\n",
       "      <th>3</th>\n",
       "      <td>4</td>\n",
       "      <td>NaN</td>\n",
       "      <td>NaN</td>\n",
       "      <td>NaN</td>\n",
       "      <td>2019-05-03 12:48:43</td>\n",
       "      <td>NaN</td>\n",
       "      <td>NaN</td>\n",
       "      <td>NaN</td>\n",
       "      <td>NaN</td>\n",
       "      <td>NaN</td>\n",
       "      <td>NaN</td>\n",
       "      <td>NaN</td>\n",
       "      <td>2019-05-03 12:41:24</td>\n",
       "      <td>NaN</td>\n",
       "      <td>2019-05-03 12:41:24</td>\n",
       "      <td>2019-05-03 12:41:24</td>\n",
       "    </tr>\n",
       "    <tr>\n",
       "      <th>4</th>\n",
       "      <td>5</td>\n",
       "      <td>NaN</td>\n",
       "      <td>NaN</td>\n",
       "      <td>NaN</td>\n",
       "      <td>2019-05-03 13:18:50</td>\n",
       "      <td>NaN</td>\n",
       "      <td>NaN</td>\n",
       "      <td>NaN</td>\n",
       "      <td>NaN</td>\n",
       "      <td>NaN</td>\n",
       "      <td>NaN</td>\n",
       "      <td>NaN</td>\n",
       "      <td>2019-05-03 13:12:56</td>\n",
       "      <td>NaN</td>\n",
       "      <td>2019-05-03 13:12:56</td>\n",
       "      <td>2019-05-03 13:12:56</td>\n",
       "    </tr>\n",
       "  </tbody>\n",
       "</table>\n",
       "</div>"
      ],
      "text/plain": [
       "   key Bulk 1 Bulk 2 Bulk 3               Bulk 4 Bulk 5 Bulk 6 Bulk 7 Bulk 8  \\\n",
       "0    1    NaN    NaN    NaN  2019-05-03 11:21:30    NaN    NaN    NaN    NaN   \n",
       "1    2    NaN    NaN    NaN  2019-05-03 11:46:38    NaN    NaN    NaN    NaN   \n",
       "2    3    NaN    NaN    NaN  2019-05-03 12:31:06    NaN    NaN    NaN    NaN   \n",
       "3    4    NaN    NaN    NaN  2019-05-03 12:48:43    NaN    NaN    NaN    NaN   \n",
       "4    5    NaN    NaN    NaN  2019-05-03 13:18:50    NaN    NaN    NaN    NaN   \n",
       "\n",
       "  Bulk 9 Bulk 10 Bulk 11              Bulk 12 Bulk 13              Bulk 14  \\\n",
       "0    NaN     NaN     NaN  2019-05-03 11:03:52     NaN  2019-05-03 11:03:52   \n",
       "1    NaN     NaN     NaN  2019-05-03 11:40:20     NaN  2019-05-03 11:40:20   \n",
       "2    NaN     NaN     NaN  2019-05-03 12:09:40     NaN  2019-05-03 12:09:40   \n",
       "3    NaN     NaN     NaN  2019-05-03 12:41:24     NaN  2019-05-03 12:41:24   \n",
       "4    NaN     NaN     NaN  2019-05-03 13:12:56     NaN  2019-05-03 13:12:56   \n",
       "\n",
       "               Bulk 15  \n",
       "0  2019-05-03 11:03:52  \n",
       "1  2019-05-03 11:40:20  \n",
       "2  2019-05-03 12:09:40  \n",
       "3  2019-05-03 12:41:24  \n",
       "4  2019-05-03 13:12:56  "
      ]
     },
     "metadata": {},
     "output_type": "display_data"
    },
    {
     "data": {
      "text/html": [
       "<div>\n",
       "<style scoped>\n",
       "    .dataframe tbody tr th:only-of-type {\n",
       "        vertical-align: middle;\n",
       "    }\n",
       "\n",
       "    .dataframe tbody tr th {\n",
       "        vertical-align: top;\n",
       "    }\n",
       "\n",
       "    .dataframe thead th {\n",
       "        text-align: right;\n",
       "    }\n",
       "</style>\n",
       "<table border=\"1\" class=\"dataframe\">\n",
       "  <thead>\n",
       "    <tr style=\"text-align: right;\">\n",
       "      <th></th>\n",
       "      <th>data_type</th>\n",
       "      <th>nan_part, %</th>\n",
       "    </tr>\n",
       "  </thead>\n",
       "  <tbody>\n",
       "    <tr>\n",
       "      <th>Bulk 8</th>\n",
       "      <td>object</td>\n",
       "      <td>99.968041</td>\n",
       "    </tr>\n",
       "    <tr>\n",
       "      <th>Bulk 13</th>\n",
       "      <td>object</td>\n",
       "      <td>99.424736</td>\n",
       "    </tr>\n",
       "    <tr>\n",
       "      <th>Bulk 9</th>\n",
       "      <td>object</td>\n",
       "      <td>99.392777</td>\n",
       "    </tr>\n",
       "    <tr>\n",
       "      <th>Bulk 2</th>\n",
       "      <td>object</td>\n",
       "      <td>99.296900</td>\n",
       "    </tr>\n",
       "    <tr>\n",
       "      <th>Bulk 7</th>\n",
       "      <td>object</td>\n",
       "      <td>99.201023</td>\n",
       "    </tr>\n",
       "    <tr>\n",
       "      <th>Bulk 5</th>\n",
       "      <td>object</td>\n",
       "      <td>97.539150</td>\n",
       "    </tr>\n",
       "    <tr>\n",
       "      <th>Bulk 10</th>\n",
       "      <td>object</td>\n",
       "      <td>94.375200</td>\n",
       "    </tr>\n",
       "    <tr>\n",
       "      <th>Bulk 11</th>\n",
       "      <td>object</td>\n",
       "      <td>94.343241</td>\n",
       "    </tr>\n",
       "    <tr>\n",
       "      <th>Bulk 1</th>\n",
       "      <td>object</td>\n",
       "      <td>91.946309</td>\n",
       "    </tr>\n",
       "    <tr>\n",
       "      <th>Bulk 6</th>\n",
       "      <td>object</td>\n",
       "      <td>81.591563</td>\n",
       "    </tr>\n",
       "    <tr>\n",
       "      <th>Bulk 4</th>\n",
       "      <td>object</td>\n",
       "      <td>67.593480</td>\n",
       "    </tr>\n",
       "    <tr>\n",
       "      <th>Bulk 3</th>\n",
       "      <td>object</td>\n",
       "      <td>58.517098</td>\n",
       "    </tr>\n",
       "    <tr>\n",
       "      <th>Bulk 15</th>\n",
       "      <td>object</td>\n",
       "      <td>28.155960</td>\n",
       "    </tr>\n",
       "    <tr>\n",
       "      <th>Bulk 12</th>\n",
       "      <td>object</td>\n",
       "      <td>21.700224</td>\n",
       "    </tr>\n",
       "    <tr>\n",
       "      <th>Bulk 14</th>\n",
       "      <td>object</td>\n",
       "      <td>10.322787</td>\n",
       "    </tr>\n",
       "    <tr>\n",
       "      <th>key</th>\n",
       "      <td>int64</td>\n",
       "      <td>0.000000</td>\n",
       "    </tr>\n",
       "  </tbody>\n",
       "</table>\n",
       "</div>"
      ],
      "text/plain": [
       "        data_type  nan_part, %\n",
       "Bulk 8     object    99.968041\n",
       "Bulk 13    object    99.424736\n",
       "Bulk 9     object    99.392777\n",
       "Bulk 2     object    99.296900\n",
       "Bulk 7     object    99.201023\n",
       "Bulk 5     object    97.539150\n",
       "Bulk 10    object    94.375200\n",
       "Bulk 11    object    94.343241\n",
       "Bulk 1     object    91.946309\n",
       "Bulk 6     object    81.591563\n",
       "Bulk 4     object    67.593480\n",
       "Bulk 3     object    58.517098\n",
       "Bulk 15    object    28.155960\n",
       "Bulk 12    object    21.700224\n",
       "Bulk 14    object    10.322787\n",
       "key         int64     0.000000"
      ]
     },
     "metadata": {},
     "output_type": "display_data"
    },
    {
     "data": {
      "text/html": [
       "<div>\n",
       "<style scoped>\n",
       "    .dataframe tbody tr th:only-of-type {\n",
       "        vertical-align: middle;\n",
       "    }\n",
       "\n",
       "    .dataframe tbody tr th {\n",
       "        vertical-align: top;\n",
       "    }\n",
       "\n",
       "    .dataframe thead th {\n",
       "        text-align: right;\n",
       "    }\n",
       "</style>\n",
       "<table border=\"1\" class=\"dataframe\">\n",
       "  <thead>\n",
       "    <tr style=\"text-align: right;\">\n",
       "      <th></th>\n",
       "      <th>key</th>\n",
       "    </tr>\n",
       "  </thead>\n",
       "  <tbody>\n",
       "    <tr>\n",
       "      <th>count</th>\n",
       "      <td>3129.000000</td>\n",
       "    </tr>\n",
       "    <tr>\n",
       "      <th>mean</th>\n",
       "      <td>1624.383509</td>\n",
       "    </tr>\n",
       "    <tr>\n",
       "      <th>std</th>\n",
       "      <td>933.337642</td>\n",
       "    </tr>\n",
       "    <tr>\n",
       "      <th>min</th>\n",
       "      <td>1.000000</td>\n",
       "    </tr>\n",
       "    <tr>\n",
       "      <th>25%</th>\n",
       "      <td>816.000000</td>\n",
       "    </tr>\n",
       "    <tr>\n",
       "      <th>50%</th>\n",
       "      <td>1622.000000</td>\n",
       "    </tr>\n",
       "    <tr>\n",
       "      <th>75%</th>\n",
       "      <td>2431.000000</td>\n",
       "    </tr>\n",
       "    <tr>\n",
       "      <th>max</th>\n",
       "      <td>3241.000000</td>\n",
       "    </tr>\n",
       "  </tbody>\n",
       "</table>\n",
       "</div>"
      ],
      "text/plain": [
       "               key\n",
       "count  3129.000000\n",
       "mean   1624.383509\n",
       "std     933.337642\n",
       "min       1.000000\n",
       "25%     816.000000\n",
       "50%    1622.000000\n",
       "75%    2431.000000\n",
       "max    3241.000000"
      ]
     },
     "metadata": {},
     "output_type": "display_data"
    }
   ],
   "source": [
    "data_info(data3)"
   ]
  },
  {
   "cell_type": "markdown",
   "metadata": {},
   "source": [
    "Пропуски есть. Пропуски соответствуют тому факту, что сыпучий материал в расплав не добавлялся, можем заменить их нулями. В дальнейшем следует создать параметр **Суммарнное колличество подач сыпучих материалов** и **Объем добавленных материалов**. Типы данных меняем для приведения времени в нужный формат. Для всех сыпучих материалов среднее примерно соответствует медиане, что говорит о нормальном распределении данных. "
   ]
  },
  {
   "cell_type": "markdown",
   "metadata": {},
   "source": [
    "Данные о продувке сплава газом:"
   ]
  },
  {
   "cell_type": "code",
   "execution_count": 14,
   "metadata": {},
   "outputs": [],
   "source": [
    "data4 = pd.read_csv('/datasets/final_steel/data_gas.csv')"
   ]
  },
  {
   "cell_type": "code",
   "execution_count": 15,
   "metadata": {},
   "outputs": [
    {
     "name": "stdout",
     "output_type": "stream",
     "text": [
      "Размер датасета: (3239, 2)\n"
     ]
    },
    {
     "data": {
      "text/html": [
       "<div>\n",
       "<style scoped>\n",
       "    .dataframe tbody tr th:only-of-type {\n",
       "        vertical-align: middle;\n",
       "    }\n",
       "\n",
       "    .dataframe tbody tr th {\n",
       "        vertical-align: top;\n",
       "    }\n",
       "\n",
       "    .dataframe thead th {\n",
       "        text-align: right;\n",
       "    }\n",
       "</style>\n",
       "<table border=\"1\" class=\"dataframe\">\n",
       "  <thead>\n",
       "    <tr style=\"text-align: right;\">\n",
       "      <th></th>\n",
       "      <th>key</th>\n",
       "      <th>Газ 1</th>\n",
       "    </tr>\n",
       "  </thead>\n",
       "  <tbody>\n",
       "    <tr>\n",
       "      <th>0</th>\n",
       "      <td>1</td>\n",
       "      <td>29.749986</td>\n",
       "    </tr>\n",
       "    <tr>\n",
       "      <th>1</th>\n",
       "      <td>2</td>\n",
       "      <td>12.555561</td>\n",
       "    </tr>\n",
       "    <tr>\n",
       "      <th>2</th>\n",
       "      <td>3</td>\n",
       "      <td>28.554793</td>\n",
       "    </tr>\n",
       "    <tr>\n",
       "      <th>3</th>\n",
       "      <td>4</td>\n",
       "      <td>18.841219</td>\n",
       "    </tr>\n",
       "    <tr>\n",
       "      <th>4</th>\n",
       "      <td>5</td>\n",
       "      <td>5.413692</td>\n",
       "    </tr>\n",
       "  </tbody>\n",
       "</table>\n",
       "</div>"
      ],
      "text/plain": [
       "   key      Газ 1\n",
       "0    1  29.749986\n",
       "1    2  12.555561\n",
       "2    3  28.554793\n",
       "3    4  18.841219\n",
       "4    5   5.413692"
      ]
     },
     "metadata": {},
     "output_type": "display_data"
    },
    {
     "data": {
      "text/html": [
       "<div>\n",
       "<style scoped>\n",
       "    .dataframe tbody tr th:only-of-type {\n",
       "        vertical-align: middle;\n",
       "    }\n",
       "\n",
       "    .dataframe tbody tr th {\n",
       "        vertical-align: top;\n",
       "    }\n",
       "\n",
       "    .dataframe thead th {\n",
       "        text-align: right;\n",
       "    }\n",
       "</style>\n",
       "<table border=\"1\" class=\"dataframe\">\n",
       "  <thead>\n",
       "    <tr style=\"text-align: right;\">\n",
       "      <th></th>\n",
       "      <th>data_type</th>\n",
       "      <th>nan_part, %</th>\n",
       "    </tr>\n",
       "  </thead>\n",
       "  <tbody>\n",
       "    <tr>\n",
       "      <th>key</th>\n",
       "      <td>int64</td>\n",
       "      <td>0.0</td>\n",
       "    </tr>\n",
       "    <tr>\n",
       "      <th>Газ 1</th>\n",
       "      <td>float64</td>\n",
       "      <td>0.0</td>\n",
       "    </tr>\n",
       "  </tbody>\n",
       "</table>\n",
       "</div>"
      ],
      "text/plain": [
       "      data_type  nan_part, %\n",
       "key       int64          0.0\n",
       "Газ 1   float64          0.0"
      ]
     },
     "metadata": {},
     "output_type": "display_data"
    },
    {
     "data": {
      "text/html": [
       "<div>\n",
       "<style scoped>\n",
       "    .dataframe tbody tr th:only-of-type {\n",
       "        vertical-align: middle;\n",
       "    }\n",
       "\n",
       "    .dataframe tbody tr th {\n",
       "        vertical-align: top;\n",
       "    }\n",
       "\n",
       "    .dataframe thead th {\n",
       "        text-align: right;\n",
       "    }\n",
       "</style>\n",
       "<table border=\"1\" class=\"dataframe\">\n",
       "  <thead>\n",
       "    <tr style=\"text-align: right;\">\n",
       "      <th></th>\n",
       "      <th>key</th>\n",
       "      <th>Газ 1</th>\n",
       "    </tr>\n",
       "  </thead>\n",
       "  <tbody>\n",
       "    <tr>\n",
       "      <th>count</th>\n",
       "      <td>3239.000000</td>\n",
       "      <td>3239.000000</td>\n",
       "    </tr>\n",
       "    <tr>\n",
       "      <th>mean</th>\n",
       "      <td>1621.861377</td>\n",
       "      <td>11.002062</td>\n",
       "    </tr>\n",
       "    <tr>\n",
       "      <th>std</th>\n",
       "      <td>935.386334</td>\n",
       "      <td>6.220327</td>\n",
       "    </tr>\n",
       "    <tr>\n",
       "      <th>min</th>\n",
       "      <td>1.000000</td>\n",
       "      <td>0.008399</td>\n",
       "    </tr>\n",
       "    <tr>\n",
       "      <th>25%</th>\n",
       "      <td>812.500000</td>\n",
       "      <td>7.043089</td>\n",
       "    </tr>\n",
       "    <tr>\n",
       "      <th>50%</th>\n",
       "      <td>1622.000000</td>\n",
       "      <td>9.836267</td>\n",
       "    </tr>\n",
       "    <tr>\n",
       "      <th>75%</th>\n",
       "      <td>2431.500000</td>\n",
       "      <td>13.769915</td>\n",
       "    </tr>\n",
       "    <tr>\n",
       "      <th>max</th>\n",
       "      <td>3241.000000</td>\n",
       "      <td>77.995040</td>\n",
       "    </tr>\n",
       "  </tbody>\n",
       "</table>\n",
       "</div>"
      ],
      "text/plain": [
       "               key        Газ 1\n",
       "count  3239.000000  3239.000000\n",
       "mean   1621.861377    11.002062\n",
       "std     935.386334     6.220327\n",
       "min       1.000000     0.008399\n",
       "25%     812.500000     7.043089\n",
       "50%    1622.000000     9.836267\n",
       "75%    2431.500000    13.769915\n",
       "max    3241.000000    77.995040"
      ]
     },
     "metadata": {},
     "output_type": "display_data"
    }
   ],
   "source": [
    "data_info(data4)"
   ]
  },
  {
   "cell_type": "markdown",
   "metadata": {},
   "source": [
    "Пропусков нет, типы данных менять не нужно. Среднее примерно соответствует медиане, что говорит о нормальном распределении данных."
   ]
  },
  {
   "cell_type": "markdown",
   "metadata": {},
   "source": [
    "Результаты измерения температуры:"
   ]
  },
  {
   "cell_type": "code",
   "execution_count": 16,
   "metadata": {},
   "outputs": [],
   "source": [
    "data5 = pd.read_csv('/datasets/final_steel/data_temp.csv')"
   ]
  },
  {
   "cell_type": "code",
   "execution_count": 17,
   "metadata": {},
   "outputs": [
    {
     "name": "stdout",
     "output_type": "stream",
     "text": [
      "Размер датасета: (15907, 3)\n"
     ]
    },
    {
     "data": {
      "text/html": [
       "<div>\n",
       "<style scoped>\n",
       "    .dataframe tbody tr th:only-of-type {\n",
       "        vertical-align: middle;\n",
       "    }\n",
       "\n",
       "    .dataframe tbody tr th {\n",
       "        vertical-align: top;\n",
       "    }\n",
       "\n",
       "    .dataframe thead th {\n",
       "        text-align: right;\n",
       "    }\n",
       "</style>\n",
       "<table border=\"1\" class=\"dataframe\">\n",
       "  <thead>\n",
       "    <tr style=\"text-align: right;\">\n",
       "      <th></th>\n",
       "      <th>key</th>\n",
       "      <th>Время замера</th>\n",
       "      <th>Температура</th>\n",
       "    </tr>\n",
       "  </thead>\n",
       "  <tbody>\n",
       "    <tr>\n",
       "      <th>0</th>\n",
       "      <td>1</td>\n",
       "      <td>2019-05-03 11:16:18</td>\n",
       "      <td>1571.0</td>\n",
       "    </tr>\n",
       "    <tr>\n",
       "      <th>1</th>\n",
       "      <td>1</td>\n",
       "      <td>2019-05-03 11:25:53</td>\n",
       "      <td>1604.0</td>\n",
       "    </tr>\n",
       "    <tr>\n",
       "      <th>2</th>\n",
       "      <td>1</td>\n",
       "      <td>2019-05-03 11:29:11</td>\n",
       "      <td>1618.0</td>\n",
       "    </tr>\n",
       "    <tr>\n",
       "      <th>3</th>\n",
       "      <td>1</td>\n",
       "      <td>2019-05-03 11:30:01</td>\n",
       "      <td>1601.0</td>\n",
       "    </tr>\n",
       "    <tr>\n",
       "      <th>4</th>\n",
       "      <td>1</td>\n",
       "      <td>2019-05-03 11:30:39</td>\n",
       "      <td>1613.0</td>\n",
       "    </tr>\n",
       "  </tbody>\n",
       "</table>\n",
       "</div>"
      ],
      "text/plain": [
       "   key         Время замера  Температура\n",
       "0    1  2019-05-03 11:16:18       1571.0\n",
       "1    1  2019-05-03 11:25:53       1604.0\n",
       "2    1  2019-05-03 11:29:11       1618.0\n",
       "3    1  2019-05-03 11:30:01       1601.0\n",
       "4    1  2019-05-03 11:30:39       1613.0"
      ]
     },
     "metadata": {},
     "output_type": "display_data"
    },
    {
     "data": {
      "text/html": [
       "<div>\n",
       "<style scoped>\n",
       "    .dataframe tbody tr th:only-of-type {\n",
       "        vertical-align: middle;\n",
       "    }\n",
       "\n",
       "    .dataframe tbody tr th {\n",
       "        vertical-align: top;\n",
       "    }\n",
       "\n",
       "    .dataframe thead th {\n",
       "        text-align: right;\n",
       "    }\n",
       "</style>\n",
       "<table border=\"1\" class=\"dataframe\">\n",
       "  <thead>\n",
       "    <tr style=\"text-align: right;\">\n",
       "      <th></th>\n",
       "      <th>data_type</th>\n",
       "      <th>nan_part, %</th>\n",
       "    </tr>\n",
       "  </thead>\n",
       "  <tbody>\n",
       "    <tr>\n",
       "      <th>Температура</th>\n",
       "      <td>float64</td>\n",
       "      <td>18.237254</td>\n",
       "    </tr>\n",
       "    <tr>\n",
       "      <th>key</th>\n",
       "      <td>int64</td>\n",
       "      <td>0.000000</td>\n",
       "    </tr>\n",
       "    <tr>\n",
       "      <th>Время замера</th>\n",
       "      <td>object</td>\n",
       "      <td>0.000000</td>\n",
       "    </tr>\n",
       "  </tbody>\n",
       "</table>\n",
       "</div>"
      ],
      "text/plain": [
       "             data_type  nan_part, %\n",
       "Температура    float64    18.237254\n",
       "key              int64     0.000000\n",
       "Время замера    object     0.000000"
      ]
     },
     "metadata": {},
     "output_type": "display_data"
    },
    {
     "data": {
      "text/html": [
       "<div>\n",
       "<style scoped>\n",
       "    .dataframe tbody tr th:only-of-type {\n",
       "        vertical-align: middle;\n",
       "    }\n",
       "\n",
       "    .dataframe tbody tr th {\n",
       "        vertical-align: top;\n",
       "    }\n",
       "\n",
       "    .dataframe thead th {\n",
       "        text-align: right;\n",
       "    }\n",
       "</style>\n",
       "<table border=\"1\" class=\"dataframe\">\n",
       "  <thead>\n",
       "    <tr style=\"text-align: right;\">\n",
       "      <th></th>\n",
       "      <th>key</th>\n",
       "      <th>Температура</th>\n",
       "    </tr>\n",
       "  </thead>\n",
       "  <tbody>\n",
       "    <tr>\n",
       "      <th>count</th>\n",
       "      <td>15907.000000</td>\n",
       "      <td>13006.000000</td>\n",
       "    </tr>\n",
       "    <tr>\n",
       "      <th>mean</th>\n",
       "      <td>1607.880870</td>\n",
       "      <td>1591.840920</td>\n",
       "    </tr>\n",
       "    <tr>\n",
       "      <th>std</th>\n",
       "      <td>942.212073</td>\n",
       "      <td>21.375851</td>\n",
       "    </tr>\n",
       "    <tr>\n",
       "      <th>min</th>\n",
       "      <td>1.000000</td>\n",
       "      <td>1191.000000</td>\n",
       "    </tr>\n",
       "    <tr>\n",
       "      <th>25%</th>\n",
       "      <td>790.000000</td>\n",
       "      <td>1581.000000</td>\n",
       "    </tr>\n",
       "    <tr>\n",
       "      <th>50%</th>\n",
       "      <td>1618.000000</td>\n",
       "      <td>1591.000000</td>\n",
       "    </tr>\n",
       "    <tr>\n",
       "      <th>75%</th>\n",
       "      <td>2427.000000</td>\n",
       "      <td>1601.000000</td>\n",
       "    </tr>\n",
       "    <tr>\n",
       "      <th>max</th>\n",
       "      <td>3241.000000</td>\n",
       "      <td>1705.000000</td>\n",
       "    </tr>\n",
       "  </tbody>\n",
       "</table>\n",
       "</div>"
      ],
      "text/plain": [
       "                key   Температура\n",
       "count  15907.000000  13006.000000\n",
       "mean    1607.880870   1591.840920\n",
       "std      942.212073     21.375851\n",
       "min        1.000000   1191.000000\n",
       "25%      790.000000   1581.000000\n",
       "50%     1618.000000   1591.000000\n",
       "75%     2427.000000   1601.000000\n",
       "max     3241.000000   1705.000000"
      ]
     },
     "metadata": {},
     "output_type": "display_data"
    }
   ],
   "source": [
    "data_info(data5)"
   ]
  },
  {
   "cell_type": "markdown",
   "metadata": {},
   "source": [
    "Есть пропуски. Для времени необходимо поменять тип данных. Среднее примерно равно медиане, что говорит о нормальном распределении данных."
   ]
  },
  {
   "cell_type": "code",
   "execution_count": 18,
   "metadata": {},
   "outputs": [
    {
     "data": {
      "text/plain": [
       "Text(0.5, 1.0, 'Диаграмма размаха температуры')"
      ]
     },
     "execution_count": 18,
     "metadata": {},
     "output_type": "execute_result"
    },
    {
     "data": {
      "image/png": "[encoded data removed]",
      "text/plain": [
       "<Figure size 504x360 with 1 Axes>"
      ]
     },
     "metadata": {
      "needs_background": "light"
     },
     "output_type": "display_data"
    }
   ],
   "source": [
    "data5['Температура'].plot(grid = True, \n",
    "                       style = 'o',\n",
    "                       figsize = (7, 5), \n",
    "                       kind= 'box', \n",
    "                       subplots = True, \n",
    "                       fontsize=12)\n",
    "plt.ylabel(\"Температура\", fontsize=14)\n",
    "plt.title('Диаграмма размаха температуры', fontsize=16)"
   ]
  },
  {
   "cell_type": "markdown",
   "metadata": {},
   "source": [
    "Обратим внимание на температуру меньше 1500С"
   ]
  },
  {
   "cell_type": "code",
   "execution_count": 19,
   "metadata": {},
   "outputs": [
    {
     "data": {
      "text/plain": [
       "[      key         Время замера  Температура\n",
       " 4350  867  2019-06-04 14:21:00       1191.0\n",
       " 4351  867  2019-06-04 14:29:35       1575.0\n",
       " 4352  867  2019-06-04 14:30:29       1576.0\n",
       " 4353  867  2019-06-04 14:43:10       1571.0\n",
       " 4354  867  2019-06-04 14:52:54       1600.0\n",
       " 4355  867  2019-06-04 14:57:17       1599.0,\n",
       "        key         Время замера  Температура\n",
       " 5978  1214  2019-06-16 05:32:00       1208.0\n",
       " 5979  1214  2019-06-16 05:49:01       1608.0\n",
       " 5980  1214  2019-06-16 05:51:28       1608.0\n",
       " 5981  1214  2019-06-16 05:51:38       1608.0\n",
       " 5982  1214  2019-06-16 05:52:41       1608.0\n",
       " 5983  1214  2019-06-16 05:53:03       1608.0\n",
       " 5984  1214  2019-06-16 05:53:13       1608.0\n",
       " 5985  1214  2019-06-16 05:54:48       1604.0\n",
       " 5986  1214  2019-06-16 05:57:21       1604.0\n",
       " 5987  1214  2019-06-16 06:00:25       1604.0\n",
       " 5988  1214  2019-06-16 06:06:12       1600.0\n",
       " 5989  1214  2019-06-16 06:07:28       1596.0\n",
       " 5990  1214  2019-06-16 06:08:28       1596.0\n",
       " 5991  1214  2019-06-16 06:09:10       1603.0\n",
       " 5992  1214  2019-06-16 06:12:25       1591.0\n",
       " 5993  1214  2019-06-16 06:14:45       1591.0,\n",
       "        key         Время замера  Температура\n",
       " 7958  1619  2019-06-30 11:03:54       1218.0\n",
       " 7959  1619  2019-06-30 11:04:39       1623.0\n",
       " 7960  1619  2019-06-30 11:10:01       1611.0\n",
       " 7961  1619  2019-06-30 11:16:03       1603.0\n",
       " 7962  1619  2019-06-30 11:21:54       1590.0,\n",
       "        key         Время замера  Температура\n",
       " 8907  1818  2019-07-07 00:00:14       1627.0\n",
       " 8908  1818  2019-07-07 00:13:02       1650.0\n",
       " 8909  1818  2019-07-07 00:25:28       1650.0\n",
       " 8910  1818  2019-07-07 00:26:03       1650.0\n",
       " 8911  1818  2019-07-07 00:26:42       1650.0\n",
       " 8912  1818  2019-07-07 00:27:23       1663.0\n",
       " 8913  1818  2019-07-07 00:30:49       1383.0\n",
       " 8914  1818  2019-07-07 00:31:40       1383.0\n",
       " 8915  1818  2019-07-07 00:32:55       1680.0\n",
       " 8916  1818  2019-07-07 00:36:11       1667.0\n",
       " 8917  1818  2019-07-07 00:36:45       1667.0\n",
       " 8918  1818  2019-07-07 00:38:50       1671.0,\n",
       "        key         Время замера  Температура\n",
       " 8907  1818  2019-07-07 00:00:14       1627.0\n",
       " 8908  1818  2019-07-07 00:13:02       1650.0\n",
       " 8909  1818  2019-07-07 00:25:28       1650.0\n",
       " 8910  1818  2019-07-07 00:26:03       1650.0\n",
       " 8911  1818  2019-07-07 00:26:42       1650.0\n",
       " 8912  1818  2019-07-07 00:27:23       1663.0\n",
       " 8913  1818  2019-07-07 00:30:49       1383.0\n",
       " 8914  1818  2019-07-07 00:31:40       1383.0\n",
       " 8915  1818  2019-07-07 00:32:55       1680.0\n",
       " 8916  1818  2019-07-07 00:36:11       1667.0\n",
       " 8917  1818  2019-07-07 00:36:45       1667.0\n",
       " 8918  1818  2019-07-07 00:38:50       1671.0,\n",
       "         key         Время замера  Температура\n",
       " 10127  2052  2019-07-21 14:51:40       1227.0\n",
       " 10128  2052  2019-07-21 14:52:21       1592.0\n",
       " 10129  2052  2019-07-21 15:06:31       1590.0\n",
       " 10130  2052  2019-07-21 15:15:24       1591.0\n",
       " 10131  2052  2019-07-21 15:24:06       1592.0,\n",
       "         key         Время замера  Температура\n",
       " 12564  2561  2019-08-08 07:34:15       1204.0\n",
       " 12565  2561  2019-08-08 07:35:02          NaN\n",
       " 12566  2561  2019-08-08 07:35:38          NaN\n",
       " 12567  2561  2019-08-08 07:49:07          NaN\n",
       " 12568  2561  2019-08-08 07:54:21          NaN\n",
       " 12569  2561  2019-08-08 07:56:57          NaN]"
      ]
     },
     "execution_count": 19,
     "metadata": {},
     "output_type": "execute_result"
    }
   ],
   "source": [
    "keys = data5[data5['Температура'] < 1500]['key']\n",
    "temp = []\n",
    "for i in keys:\n",
    "    temp.append(data5[data5['key'] == i])\n",
    "temp"
   ]
  },
  {
   "cell_type": "markdown",
   "metadata": {},
   "source": [
    "Выбросы в районе 1200-1400С соответствуют логике, если печи только запускаются в работу, в следствие чего нужно время на нагрев и расплавку чугуна, из которого после получают сталь. Данный сценарий наблюдается в 4-х случаях из 6-ти примерно с одинаковой периодичностью. Данный вопрос следует уточнить у заказчика, для моделирования данные плавки не подходят. Температура плавления чугуна - 1150С (https://ru.wikipedia.org/wiki/Чугун#:~:text=Температура%20плавления%20чугуна%20—%20от,ниже%2C%20чем%20у%20чистого%20железа), а по заданию у нас сразу используется сталь. Для стали диапазон температур от 1350С до 1750С соответствует норме (https://ru.wikipedia.org/wiki/Сталь#:~:text=Температура%20плавления%3A%201450—1520%20°C.%20Удельная,кДж%2Fкг%20(20%20ккал%2Fкг%2C%2023%20Вт·ч%2Fкг)), однако все зависит от самой стали."
   ]
  },
  {
   "cell_type": "code",
   "execution_count": 20,
   "metadata": {},
   "outputs": [
    {
     "data": {
      "text/html": [
       "<div>\n",
       "<style scoped>\n",
       "    .dataframe tbody tr th:only-of-type {\n",
       "        vertical-align: middle;\n",
       "    }\n",
       "\n",
       "    .dataframe tbody tr th {\n",
       "        vertical-align: top;\n",
       "    }\n",
       "\n",
       "    .dataframe thead th {\n",
       "        text-align: right;\n",
       "    }\n",
       "</style>\n",
       "<table border=\"1\" class=\"dataframe\">\n",
       "  <thead>\n",
       "    <tr style=\"text-align: right;\">\n",
       "      <th></th>\n",
       "      <th>key</th>\n",
       "      <th>Время замера</th>\n",
       "      <th>Температура</th>\n",
       "    </tr>\n",
       "  </thead>\n",
       "  <tbody>\n",
       "    <tr>\n",
       "      <th>12268</th>\n",
       "      <td>2500</td>\n",
       "      <td>2019-08-06 03:24:43</td>\n",
       "      <td>NaN</td>\n",
       "    </tr>\n",
       "    <tr>\n",
       "      <th>12269</th>\n",
       "      <td>2500</td>\n",
       "      <td>2019-08-06 03:25:16</td>\n",
       "      <td>NaN</td>\n",
       "    </tr>\n",
       "    <tr>\n",
       "      <th>12270</th>\n",
       "      <td>2500</td>\n",
       "      <td>2019-08-06 03:28:21</td>\n",
       "      <td>NaN</td>\n",
       "    </tr>\n",
       "    <tr>\n",
       "      <th>12272</th>\n",
       "      <td>2501</td>\n",
       "      <td>2019-08-06 04:01:59</td>\n",
       "      <td>NaN</td>\n",
       "    </tr>\n",
       "    <tr>\n",
       "      <th>12273</th>\n",
       "      <td>2501</td>\n",
       "      <td>2019-08-06 04:14:35</td>\n",
       "      <td>NaN</td>\n",
       "    </tr>\n",
       "    <tr>\n",
       "      <th>...</th>\n",
       "      <td>...</td>\n",
       "      <td>...</td>\n",
       "      <td>...</td>\n",
       "    </tr>\n",
       "    <tr>\n",
       "      <th>15901</th>\n",
       "      <td>3240</td>\n",
       "      <td>2019-09-01 03:35:16</td>\n",
       "      <td>NaN</td>\n",
       "    </tr>\n",
       "    <tr>\n",
       "      <th>15903</th>\n",
       "      <td>3241</td>\n",
       "      <td>2019-09-01 04:16:12</td>\n",
       "      <td>NaN</td>\n",
       "    </tr>\n",
       "    <tr>\n",
       "      <th>15904</th>\n",
       "      <td>3241</td>\n",
       "      <td>2019-09-01 04:22:39</td>\n",
       "      <td>NaN</td>\n",
       "    </tr>\n",
       "    <tr>\n",
       "      <th>15905</th>\n",
       "      <td>3241</td>\n",
       "      <td>2019-09-01 04:33:42</td>\n",
       "      <td>NaN</td>\n",
       "    </tr>\n",
       "    <tr>\n",
       "      <th>15906</th>\n",
       "      <td>3241</td>\n",
       "      <td>2019-09-01 04:38:08</td>\n",
       "      <td>NaN</td>\n",
       "    </tr>\n",
       "  </tbody>\n",
       "</table>\n",
       "<p>2901 rows × 3 columns</p>\n",
       "</div>"
      ],
      "text/plain": [
       "        key         Время замера  Температура\n",
       "12268  2500  2019-08-06 03:24:43          NaN\n",
       "12269  2500  2019-08-06 03:25:16          NaN\n",
       "12270  2500  2019-08-06 03:28:21          NaN\n",
       "12272  2501  2019-08-06 04:01:59          NaN\n",
       "12273  2501  2019-08-06 04:14:35          NaN\n",
       "...     ...                  ...          ...\n",
       "15901  3240  2019-09-01 03:35:16          NaN\n",
       "15903  3241  2019-09-01 04:16:12          NaN\n",
       "15904  3241  2019-09-01 04:22:39          NaN\n",
       "15905  3241  2019-09-01 04:33:42          NaN\n",
       "15906  3241  2019-09-01 04:38:08          NaN\n",
       "\n",
       "[2901 rows x 3 columns]"
      ]
     },
     "execution_count": 20,
     "metadata": {},
     "output_type": "execute_result"
    }
   ],
   "source": [
    "data5[data5['Температура'].isna()]"
   ]
  },
  {
   "cell_type": "markdown",
   "metadata": {},
   "source": [
    "Отсутствуют данные для измерения температуры с 2500-й партии. Вероятно, данные находятся на проверке и ещё не загружены в систему, либо произошёл сбой (поломка) в работах датчиков. В любом случае, данные с 2500-й партии для построения модели не подойдут. Учитывая, что температура - целевой признак, но измерений для партии несколько, следует брать за целевое значение последний замер, так как он делается после всех операций тех.процесса получения стали."
   ]
  },
  {
   "cell_type": "markdown",
   "metadata": {},
   "source": [
    "Данные о проволочных материалах (объём):"
   ]
  },
  {
   "cell_type": "code",
   "execution_count": 21,
   "metadata": {},
   "outputs": [],
   "source": [
    "data6 = pd.read_csv('/datasets/final_steel/data_wire.csv')"
   ]
  },
  {
   "cell_type": "code",
   "execution_count": 22,
   "metadata": {},
   "outputs": [
    {
     "name": "stdout",
     "output_type": "stream",
     "text": [
      "Размер датасета: (3081, 10)\n"
     ]
    },
    {
     "data": {
      "text/html": [
       "<div>\n",
       "<style scoped>\n",
       "    .dataframe tbody tr th:only-of-type {\n",
       "        vertical-align: middle;\n",
       "    }\n",
       "\n",
       "    .dataframe tbody tr th {\n",
       "        vertical-align: top;\n",
       "    }\n",
       "\n",
       "    .dataframe thead th {\n",
       "        text-align: right;\n",
       "    }\n",
       "</style>\n",
       "<table border=\"1\" class=\"dataframe\">\n",
       "  <thead>\n",
       "    <tr style=\"text-align: right;\">\n",
       "      <th></th>\n",
       "      <th>key</th>\n",
       "      <th>Wire 1</th>\n",
       "      <th>Wire 2</th>\n",
       "      <th>Wire 3</th>\n",
       "      <th>Wire 4</th>\n",
       "      <th>Wire 5</th>\n",
       "      <th>Wire 6</th>\n",
       "      <th>Wire 7</th>\n",
       "      <th>Wire 8</th>\n",
       "      <th>Wire 9</th>\n",
       "    </tr>\n",
       "  </thead>\n",
       "  <tbody>\n",
       "    <tr>\n",
       "      <th>0</th>\n",
       "      <td>1</td>\n",
       "      <td>60.059998</td>\n",
       "      <td>NaN</td>\n",
       "      <td>NaN</td>\n",
       "      <td>NaN</td>\n",
       "      <td>NaN</td>\n",
       "      <td>NaN</td>\n",
       "      <td>NaN</td>\n",
       "      <td>NaN</td>\n",
       "      <td>NaN</td>\n",
       "    </tr>\n",
       "    <tr>\n",
       "      <th>1</th>\n",
       "      <td>2</td>\n",
       "      <td>96.052315</td>\n",
       "      <td>NaN</td>\n",
       "      <td>NaN</td>\n",
       "      <td>NaN</td>\n",
       "      <td>NaN</td>\n",
       "      <td>NaN</td>\n",
       "      <td>NaN</td>\n",
       "      <td>NaN</td>\n",
       "      <td>NaN</td>\n",
       "    </tr>\n",
       "    <tr>\n",
       "      <th>2</th>\n",
       "      <td>3</td>\n",
       "      <td>91.160157</td>\n",
       "      <td>NaN</td>\n",
       "      <td>NaN</td>\n",
       "      <td>NaN</td>\n",
       "      <td>NaN</td>\n",
       "      <td>NaN</td>\n",
       "      <td>NaN</td>\n",
       "      <td>NaN</td>\n",
       "      <td>NaN</td>\n",
       "    </tr>\n",
       "    <tr>\n",
       "      <th>3</th>\n",
       "      <td>4</td>\n",
       "      <td>89.063515</td>\n",
       "      <td>NaN</td>\n",
       "      <td>NaN</td>\n",
       "      <td>NaN</td>\n",
       "      <td>NaN</td>\n",
       "      <td>NaN</td>\n",
       "      <td>NaN</td>\n",
       "      <td>NaN</td>\n",
       "      <td>NaN</td>\n",
       "    </tr>\n",
       "    <tr>\n",
       "      <th>4</th>\n",
       "      <td>5</td>\n",
       "      <td>89.238236</td>\n",
       "      <td>9.11456</td>\n",
       "      <td>NaN</td>\n",
       "      <td>NaN</td>\n",
       "      <td>NaN</td>\n",
       "      <td>NaN</td>\n",
       "      <td>NaN</td>\n",
       "      <td>NaN</td>\n",
       "      <td>NaN</td>\n",
       "    </tr>\n",
       "  </tbody>\n",
       "</table>\n",
       "</div>"
      ],
      "text/plain": [
       "   key     Wire 1   Wire 2  Wire 3  Wire 4  Wire 5  Wire 6  Wire 7  Wire 8  \\\n",
       "0    1  60.059998      NaN     NaN     NaN     NaN     NaN     NaN     NaN   \n",
       "1    2  96.052315      NaN     NaN     NaN     NaN     NaN     NaN     NaN   \n",
       "2    3  91.160157      NaN     NaN     NaN     NaN     NaN     NaN     NaN   \n",
       "3    4  89.063515      NaN     NaN     NaN     NaN     NaN     NaN     NaN   \n",
       "4    5  89.238236  9.11456     NaN     NaN     NaN     NaN     NaN     NaN   \n",
       "\n",
       "   Wire 9  \n",
       "0     NaN  \n",
       "1     NaN  \n",
       "2     NaN  \n",
       "3     NaN  \n",
       "4     NaN  "
      ]
     },
     "metadata": {},
     "output_type": "display_data"
    },
    {
     "data": {
      "text/html": [
       "<div>\n",
       "<style scoped>\n",
       "    .dataframe tbody tr th:only-of-type {\n",
       "        vertical-align: middle;\n",
       "    }\n",
       "\n",
       "    .dataframe tbody tr th {\n",
       "        vertical-align: top;\n",
       "    }\n",
       "\n",
       "    .dataframe thead th {\n",
       "        text-align: right;\n",
       "    }\n",
       "</style>\n",
       "<table border=\"1\" class=\"dataframe\">\n",
       "  <thead>\n",
       "    <tr style=\"text-align: right;\">\n",
       "      <th></th>\n",
       "      <th>data_type</th>\n",
       "      <th>nan_part, %</th>\n",
       "    </tr>\n",
       "  </thead>\n",
       "  <tbody>\n",
       "    <tr>\n",
       "      <th>Wire 5</th>\n",
       "      <td>float64</td>\n",
       "      <td>99.967543</td>\n",
       "    </tr>\n",
       "    <tr>\n",
       "      <th>Wire 7</th>\n",
       "      <td>float64</td>\n",
       "      <td>99.642973</td>\n",
       "    </tr>\n",
       "    <tr>\n",
       "      <th>Wire 4</th>\n",
       "      <td>float64</td>\n",
       "      <td>99.545602</td>\n",
       "    </tr>\n",
       "    <tr>\n",
       "      <th>Wire 8</th>\n",
       "      <td>float64</td>\n",
       "      <td>99.383317</td>\n",
       "    </tr>\n",
       "    <tr>\n",
       "      <th>Wire 9</th>\n",
       "      <td>float64</td>\n",
       "      <td>99.058747</td>\n",
       "    </tr>\n",
       "    <tr>\n",
       "      <th>Wire 3</th>\n",
       "      <td>float64</td>\n",
       "      <td>97.955209</td>\n",
       "    </tr>\n",
       "    <tr>\n",
       "      <th>Wire 6</th>\n",
       "      <td>float64</td>\n",
       "      <td>97.630639</td>\n",
       "    </tr>\n",
       "    <tr>\n",
       "      <th>Wire 2</th>\n",
       "      <td>float64</td>\n",
       "      <td>64.978903</td>\n",
       "    </tr>\n",
       "    <tr>\n",
       "      <th>Wire 1</th>\n",
       "      <td>float64</td>\n",
       "      <td>0.843882</td>\n",
       "    </tr>\n",
       "    <tr>\n",
       "      <th>key</th>\n",
       "      <td>int64</td>\n",
       "      <td>0.000000</td>\n",
       "    </tr>\n",
       "  </tbody>\n",
       "</table>\n",
       "</div>"
      ],
      "text/plain": [
       "       data_type  nan_part, %\n",
       "Wire 5   float64    99.967543\n",
       "Wire 7   float64    99.642973\n",
       "Wire 4   float64    99.545602\n",
       "Wire 8   float64    99.383317\n",
       "Wire 9   float64    99.058747\n",
       "Wire 3   float64    97.955209\n",
       "Wire 6   float64    97.630639\n",
       "Wire 2   float64    64.978903\n",
       "Wire 1   float64     0.843882\n",
       "key        int64     0.000000"
      ]
     },
     "metadata": {},
     "output_type": "display_data"
    },
    {
     "data": {
      "text/html": [
       "<div>\n",
       "<style scoped>\n",
       "    .dataframe tbody tr th:only-of-type {\n",
       "        vertical-align: middle;\n",
       "    }\n",
       "\n",
       "    .dataframe tbody tr th {\n",
       "        vertical-align: top;\n",
       "    }\n",
       "\n",
       "    .dataframe thead th {\n",
       "        text-align: right;\n",
       "    }\n",
       "</style>\n",
       "<table border=\"1\" class=\"dataframe\">\n",
       "  <thead>\n",
       "    <tr style=\"text-align: right;\">\n",
       "      <th></th>\n",
       "      <th>key</th>\n",
       "      <th>Wire 1</th>\n",
       "      <th>Wire 2</th>\n",
       "      <th>Wire 3</th>\n",
       "      <th>Wire 4</th>\n",
       "      <th>Wire 5</th>\n",
       "      <th>Wire 6</th>\n",
       "      <th>Wire 7</th>\n",
       "      <th>Wire 8</th>\n",
       "      <th>Wire 9</th>\n",
       "    </tr>\n",
       "  </thead>\n",
       "  <tbody>\n",
       "    <tr>\n",
       "      <th>count</th>\n",
       "      <td>3081.000000</td>\n",
       "      <td>3055.000000</td>\n",
       "      <td>1079.000000</td>\n",
       "      <td>63.000000</td>\n",
       "      <td>14.000000</td>\n",
       "      <td>1.000</td>\n",
       "      <td>73.000000</td>\n",
       "      <td>11.000000</td>\n",
       "      <td>19.000000</td>\n",
       "      <td>29.000000</td>\n",
       "    </tr>\n",
       "    <tr>\n",
       "      <th>mean</th>\n",
       "      <td>1623.426485</td>\n",
       "      <td>100.895853</td>\n",
       "      <td>50.577323</td>\n",
       "      <td>189.482681</td>\n",
       "      <td>57.442841</td>\n",
       "      <td>15.132</td>\n",
       "      <td>48.016974</td>\n",
       "      <td>10.039007</td>\n",
       "      <td>53.625193</td>\n",
       "      <td>34.155752</td>\n",
       "    </tr>\n",
       "    <tr>\n",
       "      <th>std</th>\n",
       "      <td>932.996726</td>\n",
       "      <td>42.012518</td>\n",
       "      <td>39.320216</td>\n",
       "      <td>99.513444</td>\n",
       "      <td>28.824667</td>\n",
       "      <td>NaN</td>\n",
       "      <td>33.919845</td>\n",
       "      <td>8.610584</td>\n",
       "      <td>16.881728</td>\n",
       "      <td>19.931616</td>\n",
       "    </tr>\n",
       "    <tr>\n",
       "      <th>min</th>\n",
       "      <td>1.000000</td>\n",
       "      <td>1.918800</td>\n",
       "      <td>0.030160</td>\n",
       "      <td>0.144144</td>\n",
       "      <td>24.148801</td>\n",
       "      <td>15.132</td>\n",
       "      <td>0.034320</td>\n",
       "      <td>0.234208</td>\n",
       "      <td>45.076721</td>\n",
       "      <td>4.622800</td>\n",
       "    </tr>\n",
       "    <tr>\n",
       "      <th>25%</th>\n",
       "      <td>823.000000</td>\n",
       "      <td>72.115684</td>\n",
       "      <td>20.193680</td>\n",
       "      <td>95.135044</td>\n",
       "      <td>40.807002</td>\n",
       "      <td>15.132</td>\n",
       "      <td>25.053600</td>\n",
       "      <td>6.762756</td>\n",
       "      <td>46.094879</td>\n",
       "      <td>22.058401</td>\n",
       "    </tr>\n",
       "    <tr>\n",
       "      <th>50%</th>\n",
       "      <td>1619.000000</td>\n",
       "      <td>100.158234</td>\n",
       "      <td>40.142956</td>\n",
       "      <td>235.194977</td>\n",
       "      <td>45.234282</td>\n",
       "      <td>15.132</td>\n",
       "      <td>42.076324</td>\n",
       "      <td>9.017009</td>\n",
       "      <td>46.279999</td>\n",
       "      <td>30.066399</td>\n",
       "    </tr>\n",
       "    <tr>\n",
       "      <th>75%</th>\n",
       "      <td>2434.000000</td>\n",
       "      <td>126.060483</td>\n",
       "      <td>70.227558</td>\n",
       "      <td>276.252014</td>\n",
       "      <td>76.124619</td>\n",
       "      <td>15.132</td>\n",
       "      <td>64.212723</td>\n",
       "      <td>11.886057</td>\n",
       "      <td>48.089603</td>\n",
       "      <td>43.862003</td>\n",
       "    </tr>\n",
       "    <tr>\n",
       "      <th>max</th>\n",
       "      <td>3241.000000</td>\n",
       "      <td>330.314424</td>\n",
       "      <td>282.780152</td>\n",
       "      <td>385.008668</td>\n",
       "      <td>113.231044</td>\n",
       "      <td>15.132</td>\n",
       "      <td>180.454575</td>\n",
       "      <td>32.847674</td>\n",
       "      <td>102.762401</td>\n",
       "      <td>90.053604</td>\n",
       "    </tr>\n",
       "  </tbody>\n",
       "</table>\n",
       "</div>"
      ],
      "text/plain": [
       "               key       Wire 1       Wire 2      Wire 3      Wire 4  Wire 5  \\\n",
       "count  3081.000000  3055.000000  1079.000000   63.000000   14.000000   1.000   \n",
       "mean   1623.426485   100.895853    50.577323  189.482681   57.442841  15.132   \n",
       "std     932.996726    42.012518    39.320216   99.513444   28.824667     NaN   \n",
       "min       1.000000     1.918800     0.030160    0.144144   24.148801  15.132   \n",
       "25%     823.000000    72.115684    20.193680   95.135044   40.807002  15.132   \n",
       "50%    1619.000000   100.158234    40.142956  235.194977   45.234282  15.132   \n",
       "75%    2434.000000   126.060483    70.227558  276.252014   76.124619  15.132   \n",
       "max    3241.000000   330.314424   282.780152  385.008668  113.231044  15.132   \n",
       "\n",
       "           Wire 6     Wire 7      Wire 8     Wire 9  \n",
       "count   73.000000  11.000000   19.000000  29.000000  \n",
       "mean    48.016974  10.039007   53.625193  34.155752  \n",
       "std     33.919845   8.610584   16.881728  19.931616  \n",
       "min      0.034320   0.234208   45.076721   4.622800  \n",
       "25%     25.053600   6.762756   46.094879  22.058401  \n",
       "50%     42.076324   9.017009   46.279999  30.066399  \n",
       "75%     64.212723  11.886057   48.089603  43.862003  \n",
       "max    180.454575  32.847674  102.762401  90.053604  "
      ]
     },
     "metadata": {},
     "output_type": "display_data"
    }
   ],
   "source": [
    "data_info(data6)"
   ]
  },
  {
   "cell_type": "markdown",
   "metadata": {},
   "source": [
    "Данные о проволочных материалах (время):"
   ]
  },
  {
   "cell_type": "code",
   "execution_count": 23,
   "metadata": {},
   "outputs": [],
   "source": [
    "data7 = pd.read_csv('/datasets/final_steel/data_wire_time.csv')"
   ]
  },
  {
   "cell_type": "code",
   "execution_count": 24,
   "metadata": {},
   "outputs": [
    {
     "name": "stdout",
     "output_type": "stream",
     "text": [
      "Размер датасета: (3081, 10)\n"
     ]
    },
    {
     "data": {
      "text/html": [
       "<div>\n",
       "<style scoped>\n",
       "    .dataframe tbody tr th:only-of-type {\n",
       "        vertical-align: middle;\n",
       "    }\n",
       "\n",
       "    .dataframe tbody tr th {\n",
       "        vertical-align: top;\n",
       "    }\n",
       "\n",
       "    .dataframe thead th {\n",
       "        text-align: right;\n",
       "    }\n",
       "</style>\n",
       "<table border=\"1\" class=\"dataframe\">\n",
       "  <thead>\n",
       "    <tr style=\"text-align: right;\">\n",
       "      <th></th>\n",
       "      <th>key</th>\n",
       "      <th>Wire 1</th>\n",
       "      <th>Wire 2</th>\n",
       "      <th>Wire 3</th>\n",
       "      <th>Wire 4</th>\n",
       "      <th>Wire 5</th>\n",
       "      <th>Wire 6</th>\n",
       "      <th>Wire 7</th>\n",
       "      <th>Wire 8</th>\n",
       "      <th>Wire 9</th>\n",
       "    </tr>\n",
       "  </thead>\n",
       "  <tbody>\n",
       "    <tr>\n",
       "      <th>0</th>\n",
       "      <td>1</td>\n",
       "      <td>2019-05-03 11:11:41</td>\n",
       "      <td>NaN</td>\n",
       "      <td>NaN</td>\n",
       "      <td>NaN</td>\n",
       "      <td>NaN</td>\n",
       "      <td>NaN</td>\n",
       "      <td>NaN</td>\n",
       "      <td>NaN</td>\n",
       "      <td>NaN</td>\n",
       "    </tr>\n",
       "    <tr>\n",
       "      <th>1</th>\n",
       "      <td>2</td>\n",
       "      <td>2019-05-03 11:46:10</td>\n",
       "      <td>NaN</td>\n",
       "      <td>NaN</td>\n",
       "      <td>NaN</td>\n",
       "      <td>NaN</td>\n",
       "      <td>NaN</td>\n",
       "      <td>NaN</td>\n",
       "      <td>NaN</td>\n",
       "      <td>NaN</td>\n",
       "    </tr>\n",
       "    <tr>\n",
       "      <th>2</th>\n",
       "      <td>3</td>\n",
       "      <td>2019-05-03 12:13:47</td>\n",
       "      <td>NaN</td>\n",
       "      <td>NaN</td>\n",
       "      <td>NaN</td>\n",
       "      <td>NaN</td>\n",
       "      <td>NaN</td>\n",
       "      <td>NaN</td>\n",
       "      <td>NaN</td>\n",
       "      <td>NaN</td>\n",
       "    </tr>\n",
       "    <tr>\n",
       "      <th>3</th>\n",
       "      <td>4</td>\n",
       "      <td>2019-05-03 12:48:05</td>\n",
       "      <td>NaN</td>\n",
       "      <td>NaN</td>\n",
       "      <td>NaN</td>\n",
       "      <td>NaN</td>\n",
       "      <td>NaN</td>\n",
       "      <td>NaN</td>\n",
       "      <td>NaN</td>\n",
       "      <td>NaN</td>\n",
       "    </tr>\n",
       "    <tr>\n",
       "      <th>4</th>\n",
       "      <td>5</td>\n",
       "      <td>2019-05-03 13:18:15</td>\n",
       "      <td>2019-05-03 13:32:06</td>\n",
       "      <td>NaN</td>\n",
       "      <td>NaN</td>\n",
       "      <td>NaN</td>\n",
       "      <td>NaN</td>\n",
       "      <td>NaN</td>\n",
       "      <td>NaN</td>\n",
       "      <td>NaN</td>\n",
       "    </tr>\n",
       "  </tbody>\n",
       "</table>\n",
       "</div>"
      ],
      "text/plain": [
       "   key               Wire 1               Wire 2 Wire 3 Wire 4 Wire 5 Wire 6  \\\n",
       "0    1  2019-05-03 11:11:41                  NaN    NaN    NaN    NaN    NaN   \n",
       "1    2  2019-05-03 11:46:10                  NaN    NaN    NaN    NaN    NaN   \n",
       "2    3  2019-05-03 12:13:47                  NaN    NaN    NaN    NaN    NaN   \n",
       "3    4  2019-05-03 12:48:05                  NaN    NaN    NaN    NaN    NaN   \n",
       "4    5  2019-05-03 13:18:15  2019-05-03 13:32:06    NaN    NaN    NaN    NaN   \n",
       "\n",
       "  Wire 7 Wire 8 Wire 9  \n",
       "0    NaN    NaN    NaN  \n",
       "1    NaN    NaN    NaN  \n",
       "2    NaN    NaN    NaN  \n",
       "3    NaN    NaN    NaN  \n",
       "4    NaN    NaN    NaN  "
      ]
     },
     "metadata": {},
     "output_type": "display_data"
    },
    {
     "data": {
      "text/html": [
       "<div>\n",
       "<style scoped>\n",
       "    .dataframe tbody tr th:only-of-type {\n",
       "        vertical-align: middle;\n",
       "    }\n",
       "\n",
       "    .dataframe tbody tr th {\n",
       "        vertical-align: top;\n",
       "    }\n",
       "\n",
       "    .dataframe thead th {\n",
       "        text-align: right;\n",
       "    }\n",
       "</style>\n",
       "<table border=\"1\" class=\"dataframe\">\n",
       "  <thead>\n",
       "    <tr style=\"text-align: right;\">\n",
       "      <th></th>\n",
       "      <th>data_type</th>\n",
       "      <th>nan_part, %</th>\n",
       "    </tr>\n",
       "  </thead>\n",
       "  <tbody>\n",
       "    <tr>\n",
       "      <th>Wire 5</th>\n",
       "      <td>object</td>\n",
       "      <td>99.967543</td>\n",
       "    </tr>\n",
       "    <tr>\n",
       "      <th>Wire 7</th>\n",
       "      <td>object</td>\n",
       "      <td>99.642973</td>\n",
       "    </tr>\n",
       "    <tr>\n",
       "      <th>Wire 4</th>\n",
       "      <td>object</td>\n",
       "      <td>99.545602</td>\n",
       "    </tr>\n",
       "    <tr>\n",
       "      <th>Wire 8</th>\n",
       "      <td>object</td>\n",
       "      <td>99.383317</td>\n",
       "    </tr>\n",
       "    <tr>\n",
       "      <th>Wire 9</th>\n",
       "      <td>object</td>\n",
       "      <td>99.058747</td>\n",
       "    </tr>\n",
       "    <tr>\n",
       "      <th>Wire 3</th>\n",
       "      <td>object</td>\n",
       "      <td>97.955209</td>\n",
       "    </tr>\n",
       "    <tr>\n",
       "      <th>Wire 6</th>\n",
       "      <td>object</td>\n",
       "      <td>97.630639</td>\n",
       "    </tr>\n",
       "    <tr>\n",
       "      <th>Wire 2</th>\n",
       "      <td>object</td>\n",
       "      <td>64.978903</td>\n",
       "    </tr>\n",
       "    <tr>\n",
       "      <th>Wire 1</th>\n",
       "      <td>object</td>\n",
       "      <td>0.843882</td>\n",
       "    </tr>\n",
       "    <tr>\n",
       "      <th>key</th>\n",
       "      <td>int64</td>\n",
       "      <td>0.000000</td>\n",
       "    </tr>\n",
       "  </tbody>\n",
       "</table>\n",
       "</div>"
      ],
      "text/plain": [
       "       data_type  nan_part, %\n",
       "Wire 5    object    99.967543\n",
       "Wire 7    object    99.642973\n",
       "Wire 4    object    99.545602\n",
       "Wire 8    object    99.383317\n",
       "Wire 9    object    99.058747\n",
       "Wire 3    object    97.955209\n",
       "Wire 6    object    97.630639\n",
       "Wire 2    object    64.978903\n",
       "Wire 1    object     0.843882\n",
       "key        int64     0.000000"
      ]
     },
     "metadata": {},
     "output_type": "display_data"
    },
    {
     "data": {
      "text/html": [
       "<div>\n",
       "<style scoped>\n",
       "    .dataframe tbody tr th:only-of-type {\n",
       "        vertical-align: middle;\n",
       "    }\n",
       "\n",
       "    .dataframe tbody tr th {\n",
       "        vertical-align: top;\n",
       "    }\n",
       "\n",
       "    .dataframe thead th {\n",
       "        text-align: right;\n",
       "    }\n",
       "</style>\n",
       "<table border=\"1\" class=\"dataframe\">\n",
       "  <thead>\n",
       "    <tr style=\"text-align: right;\">\n",
       "      <th></th>\n",
       "      <th>key</th>\n",
       "    </tr>\n",
       "  </thead>\n",
       "  <tbody>\n",
       "    <tr>\n",
       "      <th>count</th>\n",
       "      <td>3081.000000</td>\n",
       "    </tr>\n",
       "    <tr>\n",
       "      <th>mean</th>\n",
       "      <td>1623.426485</td>\n",
       "    </tr>\n",
       "    <tr>\n",
       "      <th>std</th>\n",
       "      <td>932.996726</td>\n",
       "    </tr>\n",
       "    <tr>\n",
       "      <th>min</th>\n",
       "      <td>1.000000</td>\n",
       "    </tr>\n",
       "    <tr>\n",
       "      <th>25%</th>\n",
       "      <td>823.000000</td>\n",
       "    </tr>\n",
       "    <tr>\n",
       "      <th>50%</th>\n",
       "      <td>1619.000000</td>\n",
       "    </tr>\n",
       "    <tr>\n",
       "      <th>75%</th>\n",
       "      <td>2434.000000</td>\n",
       "    </tr>\n",
       "    <tr>\n",
       "      <th>max</th>\n",
       "      <td>3241.000000</td>\n",
       "    </tr>\n",
       "  </tbody>\n",
       "</table>\n",
       "</div>"
      ],
      "text/plain": [
       "               key\n",
       "count  3081.000000\n",
       "mean   1623.426485\n",
       "std     932.996726\n",
       "min       1.000000\n",
       "25%     823.000000\n",
       "50%    1619.000000\n",
       "75%    2434.000000\n",
       "max    3241.000000"
      ]
     },
     "metadata": {},
     "output_type": "display_data"
    }
   ],
   "source": [
    "data_info(data7)"
   ]
  },
  {
   "cell_type": "markdown",
   "metadata": {},
   "source": [
    "Пропуски есть. Пропуски соответствуют тому факту, что сыпучий материал в расплав не добавлялся, можем заменить их нулями. В дальнейшем следует создать параметр **Суммарнное колличество подач проволочных материалов** и **Суммарный объем добавленных материалов**. Типы данных меняем для приведения времени в нужный формат. Для всех проволочных материалов среднее примерно соответствует медиане, что говорит о нормальном распределении данных. "
   ]
  },
  {
   "cell_type": "markdown",
   "metadata": {},
   "source": [
    "**Вывод:**\n",
    "\n",
    "1) Для data_arc найденно аномальное отрицательное значение. Плавка №2116, в которой оно присутствует, необходимо исключить из дальнейшей работы. Плавки с температурой ниже 1400С тоже необходимо исключить до внесения ясности от заказчика. При этом параметры реактивная и активная мощности необходимо объеденить в один - полную мощность. Далее при умножении на время получить признак Работа;\n",
    "\n",
    "2) Пропуски в датасетах, касающихся материалов,соответствуют факту, что материалы в расплав не добавлялись, поэтому их можно заменить нулями. При этом следует создать суммарные параметры и далее исключить из построения модели параметры с сильной корреляцией;\n",
    "\n",
    "3) За целевой признак необходимо брать последний температурный замер, так как он делается после всех операций тех.процесса получения стали;\n",
    "\n",
    "4) Необходимо поменять тип данных для времени в датасетах;"
   ]
  },
  {
   "cell_type": "markdown",
   "metadata": {},
   "source": [
    "# план действий:"
   ]
  },
  {
   "cell_type": "markdown",
   "metadata": {},
   "source": [
    "1) Привести данные к нужными типам;\n",
    "\n",
    "2) Избавиться от выбрасов, что могут пагубно влиять на обучение модели;\n",
    "\n",
    "3) Объединить данные начав с температурного и сета по электродам;\n",
    "\n",
    "4) Проработать получившийся сет;\n",
    "\n",
    "5) Разделить данные на тестову, валидационную и обучающую;\n",
    "\n",
    "6) Обучить модели;\n",
    "\n",
    "7) Выбрать оптимальную модель из полученных результатов работы."
   ]
  },
  {
   "cell_type": "markdown",
   "metadata": {},
   "source": [
    "## Предобработка данных"
   ]
  },
  {
   "cell_type": "code",
   "execution_count": 25,
   "metadata": {},
   "outputs": [],
   "source": [
    "def data_typ(dat, stolb):\n",
    "    dat[stolb] = pd.to_datetime(dat[stolb], format = '%Y-%m-%d %H:%M:%S')\n",
    "    dat.info()"
   ]
  },
  {
   "cell_type": "markdown",
   "metadata": {},
   "source": [
    "Исключаем из выборки найденные нами ранее отрицательные мощности"
   ]
  },
  {
   "cell_type": "code",
   "execution_count": 26,
   "metadata": {},
   "outputs": [],
   "source": [
    "data1 = data1.query('key != 2116')"
   ]
  },
  {
   "cell_type": "code",
   "execution_count": 27,
   "metadata": {},
   "outputs": [
    {
     "name": "stdout",
     "output_type": "stream",
     "text": [
      "<class 'pandas.core.frame.DataFrame'>\n",
      "Int64Index: 14872 entries, 0 to 14875\n",
      "Data columns (total 5 columns):\n",
      " #   Column                Non-Null Count  Dtype         \n",
      "---  ------                --------------  -----         \n",
      " 0   key                   14872 non-null  int64         \n",
      " 1   Начало нагрева дугой  14872 non-null  datetime64[ns]\n",
      " 2   Конец нагрева дугой   14872 non-null  object        \n",
      " 3   Активная мощность     14872 non-null  float64       \n",
      " 4   Реактивная мощность   14872 non-null  float64       \n",
      "dtypes: datetime64[ns](1), float64(2), int64(1), object(1)\n",
      "memory usage: 697.1+ KB\n",
      "<class 'pandas.core.frame.DataFrame'>\n",
      "Int64Index: 14872 entries, 0 to 14875\n",
      "Data columns (total 5 columns):\n",
      " #   Column                Non-Null Count  Dtype         \n",
      "---  ------                --------------  -----         \n",
      " 0   key                   14872 non-null  int64         \n",
      " 1   Начало нагрева дугой  14872 non-null  datetime64[ns]\n",
      " 2   Конец нагрева дугой   14872 non-null  datetime64[ns]\n",
      " 3   Активная мощность     14872 non-null  float64       \n",
      " 4   Реактивная мощность   14872 non-null  float64       \n",
      "dtypes: datetime64[ns](2), float64(2), int64(1)\n",
      "memory usage: 697.1 KB\n"
     ]
    }
   ],
   "source": [
    "columns = ['Начало нагрева дугой', 'Конец нагрева дугой']\n",
    "\n",
    "for i in columns:\n",
    "    data_typ(data1, i)"
   ]
  },
  {
   "cell_type": "markdown",
   "metadata": {},
   "source": [
    "Вычислим полную мощность, время нагрева и работу:"
   ]
  },
  {
   "cell_type": "code",
   "execution_count": 28,
   "metadata": {},
   "outputs": [],
   "source": [
    "data1['Время нагрева в сек'] = (data1['Конец нагрева дугой'] - data1['Начало нагрева дугой']).dt.seconds"
   ]
  },
  {
   "cell_type": "code",
   "execution_count": 29,
   "metadata": {},
   "outputs": [
    {
     "data": {
      "text/html": [
       "<div>\n",
       "<style scoped>\n",
       "    .dataframe tbody tr th:only-of-type {\n",
       "        vertical-align: middle;\n",
       "    }\n",
       "\n",
       "    .dataframe tbody tr th {\n",
       "        vertical-align: top;\n",
       "    }\n",
       "\n",
       "    .dataframe thead th {\n",
       "        text-align: right;\n",
       "    }\n",
       "</style>\n",
       "<table border=\"1\" class=\"dataframe\">\n",
       "  <thead>\n",
       "    <tr style=\"text-align: right;\">\n",
       "      <th></th>\n",
       "      <th>key</th>\n",
       "      <th>Начало нагрева дугой</th>\n",
       "      <th>Конец нагрева дугой</th>\n",
       "      <th>Активная мощность</th>\n",
       "      <th>Реактивная мощность</th>\n",
       "      <th>Время нагрева в сек</th>\n",
       "      <th>Полная мощность</th>\n",
       "      <th>Работа</th>\n",
       "    </tr>\n",
       "  </thead>\n",
       "  <tbody>\n",
       "    <tr>\n",
       "      <th>0</th>\n",
       "      <td>1</td>\n",
       "      <td>2019-05-03 11:02:14</td>\n",
       "      <td>2019-05-03 11:06:02</td>\n",
       "      <td>0.976059</td>\n",
       "      <td>0.687084</td>\n",
       "      <td>228</td>\n",
       "      <td>1.193639</td>\n",
       "      <td>272.15</td>\n",
       "    </tr>\n",
       "    <tr>\n",
       "      <th>1</th>\n",
       "      <td>1</td>\n",
       "      <td>2019-05-03 11:07:28</td>\n",
       "      <td>2019-05-03 11:10:33</td>\n",
       "      <td>0.805607</td>\n",
       "      <td>0.520285</td>\n",
       "      <td>185</td>\n",
       "      <td>0.959010</td>\n",
       "      <td>177.42</td>\n",
       "    </tr>\n",
       "    <tr>\n",
       "      <th>2</th>\n",
       "      <td>1</td>\n",
       "      <td>2019-05-03 11:11:44</td>\n",
       "      <td>2019-05-03 11:14:36</td>\n",
       "      <td>0.744363</td>\n",
       "      <td>0.498805</td>\n",
       "      <td>172</td>\n",
       "      <td>0.896038</td>\n",
       "      <td>154.12</td>\n",
       "    </tr>\n",
       "    <tr>\n",
       "      <th>3</th>\n",
       "      <td>1</td>\n",
       "      <td>2019-05-03 11:18:14</td>\n",
       "      <td>2019-05-03 11:24:19</td>\n",
       "      <td>1.659363</td>\n",
       "      <td>1.062669</td>\n",
       "      <td>365</td>\n",
       "      <td>1.970470</td>\n",
       "      <td>719.22</td>\n",
       "    </tr>\n",
       "    <tr>\n",
       "      <th>4</th>\n",
       "      <td>1</td>\n",
       "      <td>2019-05-03 11:26:09</td>\n",
       "      <td>2019-05-03 11:28:37</td>\n",
       "      <td>0.692755</td>\n",
       "      <td>0.414397</td>\n",
       "      <td>148</td>\n",
       "      <td>0.807239</td>\n",
       "      <td>119.47</td>\n",
       "    </tr>\n",
       "  </tbody>\n",
       "</table>\n",
       "</div>"
      ],
      "text/plain": [
       "   key Начало нагрева дугой Конец нагрева дугой  Активная мощность  \\\n",
       "0    1  2019-05-03 11:02:14 2019-05-03 11:06:02           0.976059   \n",
       "1    1  2019-05-03 11:07:28 2019-05-03 11:10:33           0.805607   \n",
       "2    1  2019-05-03 11:11:44 2019-05-03 11:14:36           0.744363   \n",
       "3    1  2019-05-03 11:18:14 2019-05-03 11:24:19           1.659363   \n",
       "4    1  2019-05-03 11:26:09 2019-05-03 11:28:37           0.692755   \n",
       "\n",
       "   Реактивная мощность  Время нагрева в сек  Полная мощность  Работа  \n",
       "0             0.687084                  228         1.193639  272.15  \n",
       "1             0.520285                  185         0.959010  177.42  \n",
       "2             0.498805                  172         0.896038  154.12  \n",
       "3             1.062669                  365         1.970470  719.22  \n",
       "4             0.414397                  148         0.807239  119.47  "
      ]
     },
     "execution_count": 29,
     "metadata": {},
     "output_type": "execute_result"
    }
   ],
   "source": [
    "data1['Полная мощность'] = (data1['Активная мощность']**2 + data1['Реактивная мощность']**2) ** 0.5\n",
    "data1['Работа'] = round(data1['Полная мощность']*data1['Время нагрева в сек'], 2)\n",
    "data1.head()"
   ]
  },
  {
   "cell_type": "code",
   "execution_count": 30,
   "metadata": {},
   "outputs": [
    {
     "data": {
      "text/html": [
       "<div>\n",
       "<style scoped>\n",
       "    .dataframe tbody tr th:only-of-type {\n",
       "        vertical-align: middle;\n",
       "    }\n",
       "\n",
       "    .dataframe tbody tr th {\n",
       "        vertical-align: top;\n",
       "    }\n",
       "\n",
       "    .dataframe thead tr th {\n",
       "        text-align: left;\n",
       "    }\n",
       "\n",
       "    .dataframe thead tr:last-of-type th {\n",
       "        text-align: right;\n",
       "    }\n",
       "</style>\n",
       "<table border=\"1\" class=\"dataframe\">\n",
       "  <thead>\n",
       "    <tr>\n",
       "      <th></th>\n",
       "      <th>sum</th>\n",
       "      <th>len</th>\n",
       "    </tr>\n",
       "    <tr>\n",
       "      <th></th>\n",
       "      <th>Работа</th>\n",
       "      <th>Работа</th>\n",
       "    </tr>\n",
       "    <tr>\n",
       "      <th>key</th>\n",
       "      <th></th>\n",
       "      <th></th>\n",
       "    </tr>\n",
       "  </thead>\n",
       "  <tbody>\n",
       "    <tr>\n",
       "      <th>1</th>\n",
       "      <td>1442.38</td>\n",
       "      <td>5.0</td>\n",
       "    </tr>\n",
       "    <tr>\n",
       "      <th>2</th>\n",
       "      <td>881.23</td>\n",
       "      <td>4.0</td>\n",
       "    </tr>\n",
       "    <tr>\n",
       "      <th>3</th>\n",
       "      <td>525.07</td>\n",
       "      <td>5.0</td>\n",
       "    </tr>\n",
       "    <tr>\n",
       "      <th>4</th>\n",
       "      <td>796.92</td>\n",
       "      <td>4.0</td>\n",
       "    </tr>\n",
       "    <tr>\n",
       "      <th>5</th>\n",
       "      <td>1199.13</td>\n",
       "      <td>4.0</td>\n",
       "    </tr>\n",
       "  </tbody>\n",
       "</table>\n",
       "</div>"
      ],
      "text/plain": [
       "         sum    len\n",
       "      Работа Работа\n",
       "key                \n",
       "1    1442.38    5.0\n",
       "2     881.23    4.0\n",
       "3     525.07    5.0\n",
       "4     796.92    4.0\n",
       "5    1199.13    4.0"
      ]
     },
     "execution_count": 30,
     "metadata": {},
     "output_type": "execute_result"
    }
   ],
   "source": [
    "pv_duga=data1.pivot_table(index = ['key'], values = ['Работа'], aggfunc = [sum, len])\n",
    "pv_duga.head()"
   ]
  },
  {
   "cell_type": "code",
   "execution_count": 31,
   "metadata": {},
   "outputs": [],
   "source": [
    "pv_duga.columns=['work','steps']"
   ]
  },
  {
   "cell_type": "markdown",
   "metadata": {},
   "source": [
    "Конечные признаки для первого сета выглядят так:"
   ]
  },
  {
   "cell_type": "code",
   "execution_count": 32,
   "metadata": {},
   "outputs": [
    {
     "data": {
      "text/html": [
       "<div>\n",
       "<style scoped>\n",
       "    .dataframe tbody tr th:only-of-type {\n",
       "        vertical-align: middle;\n",
       "    }\n",
       "\n",
       "    .dataframe tbody tr th {\n",
       "        vertical-align: top;\n",
       "    }\n",
       "\n",
       "    .dataframe thead th {\n",
       "        text-align: right;\n",
       "    }\n",
       "</style>\n",
       "<table border=\"1\" class=\"dataframe\">\n",
       "  <thead>\n",
       "    <tr style=\"text-align: right;\">\n",
       "      <th></th>\n",
       "      <th>work</th>\n",
       "      <th>steps</th>\n",
       "    </tr>\n",
       "    <tr>\n",
       "      <th>key</th>\n",
       "      <th></th>\n",
       "      <th></th>\n",
       "    </tr>\n",
       "  </thead>\n",
       "  <tbody>\n",
       "    <tr>\n",
       "      <th>1</th>\n",
       "      <td>1442.38</td>\n",
       "      <td>5.0</td>\n",
       "    </tr>\n",
       "    <tr>\n",
       "      <th>2</th>\n",
       "      <td>881.23</td>\n",
       "      <td>4.0</td>\n",
       "    </tr>\n",
       "    <tr>\n",
       "      <th>3</th>\n",
       "      <td>525.07</td>\n",
       "      <td>5.0</td>\n",
       "    </tr>\n",
       "    <tr>\n",
       "      <th>4</th>\n",
       "      <td>796.92</td>\n",
       "      <td>4.0</td>\n",
       "    </tr>\n",
       "    <tr>\n",
       "      <th>5</th>\n",
       "      <td>1199.13</td>\n",
       "      <td>4.0</td>\n",
       "    </tr>\n",
       "  </tbody>\n",
       "</table>\n",
       "</div>"
      ],
      "text/plain": [
       "        work  steps\n",
       "key                \n",
       "1    1442.38    5.0\n",
       "2     881.23    4.0\n",
       "3     525.07    5.0\n",
       "4     796.92    4.0\n",
       "5    1199.13    4.0"
      ]
     },
     "execution_count": 32,
     "metadata": {},
     "output_type": "execute_result"
    }
   ],
   "source": [
    "pv_duga.head()"
   ]
  },
  {
   "cell_type": "code",
   "execution_count": 33,
   "metadata": {},
   "outputs": [
    {
     "name": "stdout",
     "output_type": "stream",
     "text": [
      "<class 'pandas.core.frame.DataFrame'>\n",
      "Int64Index: 3213 entries, 1 to 3241\n",
      "Data columns (total 2 columns):\n",
      " #   Column  Non-Null Count  Dtype  \n",
      "---  ------  --------------  -----  \n",
      " 0   work    3213 non-null   float64\n",
      " 1   steps   3213 non-null   float64\n",
      "dtypes: float64(2)\n",
      "memory usage: 75.3 KB\n"
     ]
    }
   ],
   "source": [
    "pv_duga.info()"
   ]
  },
  {
   "cell_type": "markdown",
   "metadata": {},
   "source": [
    "Для следующего сета данных в качестве признаков используем суммарный объём сыпучих материалов и колличество их подач:"
   ]
  },
  {
   "cell_type": "code",
   "execution_count": 34,
   "metadata": {},
   "outputs": [
    {
     "data": {
      "text/html": [
       "<div>\n",
       "<style scoped>\n",
       "    .dataframe tbody tr th:only-of-type {\n",
       "        vertical-align: middle;\n",
       "    }\n",
       "\n",
       "    .dataframe tbody tr th {\n",
       "        vertical-align: top;\n",
       "    }\n",
       "\n",
       "    .dataframe thead th {\n",
       "        text-align: right;\n",
       "    }\n",
       "</style>\n",
       "<table border=\"1\" class=\"dataframe\">\n",
       "  <thead>\n",
       "    <tr style=\"text-align: right;\">\n",
       "      <th></th>\n",
       "      <th>sum_bulk</th>\n",
       "      <th>count_bulk</th>\n",
       "    </tr>\n",
       "    <tr>\n",
       "      <th>key</th>\n",
       "      <th></th>\n",
       "      <th></th>\n",
       "    </tr>\n",
       "  </thead>\n",
       "  <tbody>\n",
       "    <tr>\n",
       "      <th>1</th>\n",
       "      <td>553.0</td>\n",
       "      <td>4</td>\n",
       "    </tr>\n",
       "    <tr>\n",
       "      <th>2</th>\n",
       "      <td>582.0</td>\n",
       "      <td>4</td>\n",
       "    </tr>\n",
       "    <tr>\n",
       "      <th>3</th>\n",
       "      <td>544.0</td>\n",
       "      <td>4</td>\n",
       "    </tr>\n",
       "    <tr>\n",
       "      <th>4</th>\n",
       "      <td>595.0</td>\n",
       "      <td>4</td>\n",
       "    </tr>\n",
       "    <tr>\n",
       "      <th>5</th>\n",
       "      <td>584.0</td>\n",
       "      <td>4</td>\n",
       "    </tr>\n",
       "  </tbody>\n",
       "</table>\n",
       "</div>"
      ],
      "text/plain": [
       "     sum_bulk  count_bulk\n",
       "key                      \n",
       "1       553.0           4\n",
       "2       582.0           4\n",
       "3       544.0           4\n",
       "4       595.0           4\n",
       "5       584.0           4"
      ]
     },
     "execution_count": 34,
     "metadata": {},
     "output_type": "execute_result"
    }
   ],
   "source": [
    "data_bulk = data2.set_index('key')\n",
    "data_bulk['count_bulk'] = data_bulk.count(axis=1)\n",
    "data_bulk\n",
    "data_bulk['sum_bulk'] = data_bulk[data_bulk.drop('count_bulk', axis=1).columns].sum(axis=1)\n",
    "data_bulk_act = data_bulk[['sum_bulk', 'count_bulk']]\n",
    "data_bulk_act.head()"
   ]
  },
  {
   "cell_type": "markdown",
   "metadata": {},
   "source": [
    "Так же и с проволочными материалами:"
   ]
  },
  {
   "cell_type": "code",
   "execution_count": 35,
   "metadata": {},
   "outputs": [
    {
     "data": {
      "text/html": [
       "<div>\n",
       "<style scoped>\n",
       "    .dataframe tbody tr th:only-of-type {\n",
       "        vertical-align: middle;\n",
       "    }\n",
       "\n",
       "    .dataframe tbody tr th {\n",
       "        vertical-align: top;\n",
       "    }\n",
       "\n",
       "    .dataframe thead th {\n",
       "        text-align: right;\n",
       "    }\n",
       "</style>\n",
       "<table border=\"1\" class=\"dataframe\">\n",
       "  <thead>\n",
       "    <tr style=\"text-align: right;\">\n",
       "      <th></th>\n",
       "      <th>sum_wire</th>\n",
       "      <th>count_wire</th>\n",
       "    </tr>\n",
       "    <tr>\n",
       "      <th>key</th>\n",
       "      <th></th>\n",
       "      <th></th>\n",
       "    </tr>\n",
       "  </thead>\n",
       "  <tbody>\n",
       "    <tr>\n",
       "      <th>1</th>\n",
       "      <td>60.059998</td>\n",
       "      <td>1</td>\n",
       "    </tr>\n",
       "    <tr>\n",
       "      <th>2</th>\n",
       "      <td>96.052315</td>\n",
       "      <td>1</td>\n",
       "    </tr>\n",
       "    <tr>\n",
       "      <th>3</th>\n",
       "      <td>91.160157</td>\n",
       "      <td>1</td>\n",
       "    </tr>\n",
       "    <tr>\n",
       "      <th>4</th>\n",
       "      <td>89.063515</td>\n",
       "      <td>1</td>\n",
       "    </tr>\n",
       "    <tr>\n",
       "      <th>5</th>\n",
       "      <td>98.352796</td>\n",
       "      <td>2</td>\n",
       "    </tr>\n",
       "  </tbody>\n",
       "</table>\n",
       "</div>"
      ],
      "text/plain": [
       "      sum_wire  count_wire\n",
       "key                       \n",
       "1    60.059998           1\n",
       "2    96.052315           1\n",
       "3    91.160157           1\n",
       "4    89.063515           1\n",
       "5    98.352796           2"
      ]
     },
     "execution_count": 35,
     "metadata": {},
     "output_type": "execute_result"
    }
   ],
   "source": [
    "data_wire = data6.set_index('key')\n",
    "data_wire['count_wire'] = data_wire.count(axis=1)\n",
    "data_wire\n",
    "data_wire['sum_wire'] = data_wire[data_wire.drop('count_wire', axis=1).columns].sum(axis=1)\n",
    "data_wire_act = data_wire[['sum_wire', 'count_wire']]\n",
    "data_wire_act.head()"
   ]
  },
  {
   "cell_type": "markdown",
   "metadata": {},
   "source": [
    "Обработаем данные по газу:"
   ]
  },
  {
   "cell_type": "code",
   "execution_count": 36,
   "metadata": {},
   "outputs": [
    {
     "data": {
      "text/html": [
       "<div>\n",
       "<style scoped>\n",
       "    .dataframe tbody tr th:only-of-type {\n",
       "        vertical-align: middle;\n",
       "    }\n",
       "\n",
       "    .dataframe tbody tr th {\n",
       "        vertical-align: top;\n",
       "    }\n",
       "\n",
       "    .dataframe thead th {\n",
       "        text-align: right;\n",
       "    }\n",
       "</style>\n",
       "<table border=\"1\" class=\"dataframe\">\n",
       "  <thead>\n",
       "    <tr style=\"text-align: right;\">\n",
       "      <th></th>\n",
       "      <th>gas</th>\n",
       "    </tr>\n",
       "    <tr>\n",
       "      <th>key</th>\n",
       "      <th></th>\n",
       "    </tr>\n",
       "  </thead>\n",
       "  <tbody>\n",
       "    <tr>\n",
       "      <th>1</th>\n",
       "      <td>29.749986</td>\n",
       "    </tr>\n",
       "    <tr>\n",
       "      <th>2</th>\n",
       "      <td>12.555561</td>\n",
       "    </tr>\n",
       "    <tr>\n",
       "      <th>3</th>\n",
       "      <td>28.554793</td>\n",
       "    </tr>\n",
       "    <tr>\n",
       "      <th>4</th>\n",
       "      <td>18.841219</td>\n",
       "    </tr>\n",
       "    <tr>\n",
       "      <th>5</th>\n",
       "      <td>5.413692</td>\n",
       "    </tr>\n",
       "  </tbody>\n",
       "</table>\n",
       "</div>"
      ],
      "text/plain": [
       "           gas\n",
       "key           \n",
       "1    29.749986\n",
       "2    12.555561\n",
       "3    28.554793\n",
       "4    18.841219\n",
       "5     5.413692"
      ]
     },
     "execution_count": 36,
     "metadata": {},
     "output_type": "execute_result"
    }
   ],
   "source": [
    "data_gas = data4.set_index('key').rename(columns={'Газ 1':'gas'})\n",
    "data_gas.head()"
   ]
  },
  {
   "cell_type": "markdown",
   "metadata": {},
   "source": [
    "Займемся ключевыми данными, а именно температурными замерами:"
   ]
  },
  {
   "cell_type": "code",
   "execution_count": 37,
   "metadata": {},
   "outputs": [
    {
     "data": {
      "text/html": [
       "<div>\n",
       "<style scoped>\n",
       "    .dataframe tbody tr th:only-of-type {\n",
       "        vertical-align: middle;\n",
       "    }\n",
       "\n",
       "    .dataframe tbody tr th {\n",
       "        vertical-align: top;\n",
       "    }\n",
       "\n",
       "    .dataframe thead th {\n",
       "        text-align: right;\n",
       "    }\n",
       "</style>\n",
       "<table border=\"1\" class=\"dataframe\">\n",
       "  <thead>\n",
       "    <tr style=\"text-align: right;\">\n",
       "      <th></th>\n",
       "      <th>key</th>\n",
       "      <th>Время замера</th>\n",
       "      <th>Температура</th>\n",
       "    </tr>\n",
       "  </thead>\n",
       "  <tbody>\n",
       "    <tr>\n",
       "      <th>0</th>\n",
       "      <td>1</td>\n",
       "      <td>2019-05-03 11:16:18</td>\n",
       "      <td>1571.0</td>\n",
       "    </tr>\n",
       "    <tr>\n",
       "      <th>1</th>\n",
       "      <td>1</td>\n",
       "      <td>2019-05-03 11:25:53</td>\n",
       "      <td>1604.0</td>\n",
       "    </tr>\n",
       "    <tr>\n",
       "      <th>2</th>\n",
       "      <td>1</td>\n",
       "      <td>2019-05-03 11:29:11</td>\n",
       "      <td>1618.0</td>\n",
       "    </tr>\n",
       "    <tr>\n",
       "      <th>3</th>\n",
       "      <td>1</td>\n",
       "      <td>2019-05-03 11:30:01</td>\n",
       "      <td>1601.0</td>\n",
       "    </tr>\n",
       "    <tr>\n",
       "      <th>4</th>\n",
       "      <td>1</td>\n",
       "      <td>2019-05-03 11:30:39</td>\n",
       "      <td>1613.0</td>\n",
       "    </tr>\n",
       "  </tbody>\n",
       "</table>\n",
       "</div>"
      ],
      "text/plain": [
       "   key         Время замера  Температура\n",
       "0    1  2019-05-03 11:16:18       1571.0\n",
       "1    1  2019-05-03 11:25:53       1604.0\n",
       "2    1  2019-05-03 11:29:11       1618.0\n",
       "3    1  2019-05-03 11:30:01       1601.0\n",
       "4    1  2019-05-03 11:30:39       1613.0"
      ]
     },
     "execution_count": 37,
     "metadata": {},
     "output_type": "execute_result"
    }
   ],
   "source": [
    "data5.head()"
   ]
  },
  {
   "cell_type": "code",
   "execution_count": 38,
   "metadata": {},
   "outputs": [
    {
     "data": {
      "text/plain": [
       "key                0\n",
       "Время замера       0\n",
       "Температура     2901\n",
       "dtype: int64"
      ]
     },
     "execution_count": 38,
     "metadata": {},
     "output_type": "execute_result"
    }
   ],
   "source": [
    "data5.isna().sum()"
   ]
  },
  {
   "cell_type": "markdown",
   "metadata": {},
   "source": [
    "Из всех измерений температуры оставляем только первое и последнее. Исключаем все плавки с 2500-й(данные в них отсутствуют) и далее и все плавки с начальной температурой < 1400С"
   ]
  },
  {
   "cell_type": "code",
   "execution_count": 39,
   "metadata": {},
   "outputs": [
    {
     "data": {
      "text/html": [
       "<div>\n",
       "<style scoped>\n",
       "    .dataframe tbody tr th:only-of-type {\n",
       "        vertical-align: middle;\n",
       "    }\n",
       "\n",
       "    .dataframe tbody tr th {\n",
       "        vertical-align: top;\n",
       "    }\n",
       "\n",
       "    .dataframe thead th {\n",
       "        text-align: right;\n",
       "    }\n",
       "</style>\n",
       "<table border=\"1\" class=\"dataframe\">\n",
       "  <thead>\n",
       "    <tr style=\"text-align: right;\">\n",
       "      <th></th>\n",
       "      <th>init_temp</th>\n",
       "      <th>last_temp</th>\n",
       "    </tr>\n",
       "    <tr>\n",
       "      <th>key</th>\n",
       "      <th></th>\n",
       "      <th></th>\n",
       "    </tr>\n",
       "  </thead>\n",
       "  <tbody>\n",
       "    <tr>\n",
       "      <th>1</th>\n",
       "      <td>1571.0</td>\n",
       "      <td>1613.0</td>\n",
       "    </tr>\n",
       "    <tr>\n",
       "      <th>2</th>\n",
       "      <td>1581.0</td>\n",
       "      <td>1602.0</td>\n",
       "    </tr>\n",
       "    <tr>\n",
       "      <th>3</th>\n",
       "      <td>1596.0</td>\n",
       "      <td>1599.0</td>\n",
       "    </tr>\n",
       "    <tr>\n",
       "      <th>4</th>\n",
       "      <td>1601.0</td>\n",
       "      <td>1625.0</td>\n",
       "    </tr>\n",
       "    <tr>\n",
       "      <th>5</th>\n",
       "      <td>1576.0</td>\n",
       "      <td>1602.0</td>\n",
       "    </tr>\n",
       "  </tbody>\n",
       "</table>\n",
       "</div>"
      ],
      "text/plain": [
       "     init_temp  last_temp\n",
       "key                      \n",
       "1       1571.0     1613.0\n",
       "2       1581.0     1602.0\n",
       "3       1596.0     1599.0\n",
       "4       1601.0     1625.0\n",
       "5       1576.0     1602.0"
      ]
     },
     "execution_count": 39,
     "metadata": {},
     "output_type": "execute_result"
    }
   ],
   "source": [
    "data_temp = (data5.groupby('key')['Температура']\n",
    "                      .agg(['first', 'last']).loc[:2499])\n",
    "data_temp = data_temp.rename(columns={'first':'init_temp', 'last':'last_temp'})\n",
    "data_temp = data_temp.query('init_temp > 1400') \n",
    "data_temp.head(5)"
   ]
  },
  {
   "cell_type": "code",
   "execution_count": 40,
   "metadata": {},
   "outputs": [
    {
     "data": {
      "text/plain": [
       "(2473, 2)"
      ]
     },
     "execution_count": 40,
     "metadata": {},
     "output_type": "execute_result"
    }
   ],
   "source": [
    "data_temp.shape"
   ]
  },
  {
   "cell_type": "markdown",
   "metadata": {},
   "source": [
    "**Объеденим полученные данные:**"
   ]
  },
  {
   "cell_type": "markdown",
   "metadata": {},
   "source": [
    "Временные данные по подаче сыпущик и проволочных материалов в итоговую таблицу не влючаем, так как их время подачи для данной задачи значения не имеет"
   ]
  },
  {
   "cell_type": "code",
   "execution_count": 41,
   "metadata": {},
   "outputs": [
    {
     "name": "stdout",
     "output_type": "stream",
     "text": [
      "(2473, 9)\n"
     ]
    },
    {
     "data": {
      "text/html": [
       "<div>\n",
       "<style scoped>\n",
       "    .dataframe tbody tr th:only-of-type {\n",
       "        vertical-align: middle;\n",
       "    }\n",
       "\n",
       "    .dataframe tbody tr th {\n",
       "        vertical-align: top;\n",
       "    }\n",
       "\n",
       "    .dataframe thead th {\n",
       "        text-align: right;\n",
       "    }\n",
       "</style>\n",
       "<table border=\"1\" class=\"dataframe\">\n",
       "  <thead>\n",
       "    <tr style=\"text-align: right;\">\n",
       "      <th></th>\n",
       "      <th>init_temp</th>\n",
       "      <th>last_temp</th>\n",
       "      <th>work</th>\n",
       "      <th>steps</th>\n",
       "      <th>sum_bulk</th>\n",
       "      <th>count_bulk</th>\n",
       "      <th>sum_wire</th>\n",
       "      <th>count_wire</th>\n",
       "      <th>gas</th>\n",
       "    </tr>\n",
       "    <tr>\n",
       "      <th>key</th>\n",
       "      <th></th>\n",
       "      <th></th>\n",
       "      <th></th>\n",
       "      <th></th>\n",
       "      <th></th>\n",
       "      <th></th>\n",
       "      <th></th>\n",
       "      <th></th>\n",
       "      <th></th>\n",
       "    </tr>\n",
       "  </thead>\n",
       "  <tbody>\n",
       "    <tr>\n",
       "      <th>2297</th>\n",
       "      <td>1579.0</td>\n",
       "      <td>1582.0</td>\n",
       "      <td>426.19</td>\n",
       "      <td>3.0</td>\n",
       "      <td>360.0</td>\n",
       "      <td>2.0</td>\n",
       "      <td>14.021279</td>\n",
       "      <td>1.0</td>\n",
       "      <td>9.658626</td>\n",
       "    </tr>\n",
       "    <tr>\n",
       "      <th>1417</th>\n",
       "      <td>1559.0</td>\n",
       "      <td>1575.0</td>\n",
       "      <td>953.41</td>\n",
       "      <td>4.0</td>\n",
       "      <td>987.0</td>\n",
       "      <td>6.0</td>\n",
       "      <td>148.209358</td>\n",
       "      <td>2.0</td>\n",
       "      <td>8.855217</td>\n",
       "    </tr>\n",
       "    <tr>\n",
       "      <th>696</th>\n",
       "      <td>1629.0</td>\n",
       "      <td>1598.0</td>\n",
       "      <td>248.14</td>\n",
       "      <td>5.0</td>\n",
       "      <td>616.0</td>\n",
       "      <td>4.0</td>\n",
       "      <td>134.128799</td>\n",
       "      <td>1.0</td>\n",
       "      <td>22.234399</td>\n",
       "    </tr>\n",
       "    <tr>\n",
       "      <th>2329</th>\n",
       "      <td>1586.0</td>\n",
       "      <td>1600.0</td>\n",
       "      <td>1227.81</td>\n",
       "      <td>3.0</td>\n",
       "      <td>553.0</td>\n",
       "      <td>4.0</td>\n",
       "      <td>114.048477</td>\n",
       "      <td>1.0</td>\n",
       "      <td>6.899465</td>\n",
       "    </tr>\n",
       "    <tr>\n",
       "      <th>1269</th>\n",
       "      <td>1627.0</td>\n",
       "      <td>1584.0</td>\n",
       "      <td>1181.26</td>\n",
       "      <td>9.0</td>\n",
       "      <td>1173.0</td>\n",
       "      <td>4.0</td>\n",
       "      <td>425.145752</td>\n",
       "      <td>2.0</td>\n",
       "      <td>20.882042</td>\n",
       "    </tr>\n",
       "    <tr>\n",
       "      <th>667</th>\n",
       "      <td>1586.0</td>\n",
       "      <td>1602.0</td>\n",
       "      <td>754.35</td>\n",
       "      <td>5.0</td>\n",
       "      <td>915.0</td>\n",
       "      <td>4.0</td>\n",
       "      <td>129.214798</td>\n",
       "      <td>1.0</td>\n",
       "      <td>9.115819</td>\n",
       "    </tr>\n",
       "    <tr>\n",
       "      <th>1792</th>\n",
       "      <td>1633.0</td>\n",
       "      <td>1603.0</td>\n",
       "      <td>147.32</td>\n",
       "      <td>2.0</td>\n",
       "      <td>19.0</td>\n",
       "      <td>1.0</td>\n",
       "      <td>86.018402</td>\n",
       "      <td>1.0</td>\n",
       "      <td>5.154943</td>\n",
       "    </tr>\n",
       "    <tr>\n",
       "      <th>1587</th>\n",
       "      <td>1531.0</td>\n",
       "      <td>1581.0</td>\n",
       "      <td>1652.63</td>\n",
       "      <td>5.0</td>\n",
       "      <td>531.0</td>\n",
       "      <td>3.0</td>\n",
       "      <td>198.296795</td>\n",
       "      <td>2.0</td>\n",
       "      <td>10.311039</td>\n",
       "    </tr>\n",
       "    <tr>\n",
       "      <th>204</th>\n",
       "      <td>1603.0</td>\n",
       "      <td>1591.0</td>\n",
       "      <td>526.03</td>\n",
       "      <td>6.0</td>\n",
       "      <td>933.0</td>\n",
       "      <td>4.0</td>\n",
       "      <td>154.539832</td>\n",
       "      <td>2.0</td>\n",
       "      <td>12.104109</td>\n",
       "    </tr>\n",
       "    <tr>\n",
       "      <th>472</th>\n",
       "      <td>1620.0</td>\n",
       "      <td>1594.0</td>\n",
       "      <td>401.36</td>\n",
       "      <td>5.0</td>\n",
       "      <td>940.0</td>\n",
       "      <td>4.0</td>\n",
       "      <td>145.080001</td>\n",
       "      <td>1.0</td>\n",
       "      <td>5.352341</td>\n",
       "    </tr>\n",
       "  </tbody>\n",
       "</table>\n",
       "</div>"
      ],
      "text/plain": [
       "      init_temp  last_temp     work  steps  sum_bulk  count_bulk    sum_wire  \\\n",
       "key                                                                            \n",
       "2297     1579.0     1582.0   426.19    3.0     360.0         2.0   14.021279   \n",
       "1417     1559.0     1575.0   953.41    4.0     987.0         6.0  148.209358   \n",
       "696      1629.0     1598.0   248.14    5.0     616.0         4.0  134.128799   \n",
       "2329     1586.0     1600.0  1227.81    3.0     553.0         4.0  114.048477   \n",
       "1269     1627.0     1584.0  1181.26    9.0    1173.0         4.0  425.145752   \n",
       "667      1586.0     1602.0   754.35    5.0     915.0         4.0  129.214798   \n",
       "1792     1633.0     1603.0   147.32    2.0      19.0         1.0   86.018402   \n",
       "1587     1531.0     1581.0  1652.63    5.0     531.0         3.0  198.296795   \n",
       "204      1603.0     1591.0   526.03    6.0     933.0         4.0  154.539832   \n",
       "472      1620.0     1594.0   401.36    5.0     940.0         4.0  145.080001   \n",
       "\n",
       "      count_wire        gas  \n",
       "key                          \n",
       "2297         1.0   9.658626  \n",
       "1417         2.0   8.855217  \n",
       "696          1.0  22.234399  \n",
       "2329         1.0   6.899465  \n",
       "1269         2.0  20.882042  \n",
       "667          1.0   9.115819  \n",
       "1792         1.0   5.154943  \n",
       "1587         2.0  10.311039  \n",
       "204          2.0  12.104109  \n",
       "472          1.0   5.352341  "
      ]
     },
     "metadata": {},
     "output_type": "display_data"
    },
    {
     "data": {
      "text/html": [
       "<div>\n",
       "<style scoped>\n",
       "    .dataframe tbody tr th:only-of-type {\n",
       "        vertical-align: middle;\n",
       "    }\n",
       "\n",
       "    .dataframe tbody tr th {\n",
       "        vertical-align: top;\n",
       "    }\n",
       "\n",
       "    .dataframe thead th {\n",
       "        text-align: right;\n",
       "    }\n",
       "</style>\n",
       "<table border=\"1\" class=\"dataframe\">\n",
       "  <thead>\n",
       "    <tr style=\"text-align: right;\">\n",
       "      <th></th>\n",
       "      <th>init_temp</th>\n",
       "      <th>last_temp</th>\n",
       "      <th>work</th>\n",
       "      <th>steps</th>\n",
       "      <th>sum_bulk</th>\n",
       "      <th>count_bulk</th>\n",
       "      <th>sum_wire</th>\n",
       "      <th>count_wire</th>\n",
       "      <th>gas</th>\n",
       "    </tr>\n",
       "  </thead>\n",
       "  <tbody>\n",
       "    <tr>\n",
       "      <th>count</th>\n",
       "      <td>2473.000000</td>\n",
       "      <td>2473.000000</td>\n",
       "      <td>2470.000000</td>\n",
       "      <td>2470.000000</td>\n",
       "      <td>2404.000000</td>\n",
       "      <td>2404.000000</td>\n",
       "      <td>2369.000000</td>\n",
       "      <td>2369.000000</td>\n",
       "      <td>2471.000000</td>\n",
       "    </tr>\n",
       "    <tr>\n",
       "      <th>mean</th>\n",
       "      <td>1589.016175</td>\n",
       "      <td>1595.338051</td>\n",
       "      <td>904.993146</td>\n",
       "      <td>4.626721</td>\n",
       "      <td>603.866057</td>\n",
       "      <td>3.545341</td>\n",
       "      <td>125.248227</td>\n",
       "      <td>1.400169</td>\n",
       "      <td>11.139788</td>\n",
       "    </tr>\n",
       "    <tr>\n",
       "      <th>std</th>\n",
       "      <td>24.996127</td>\n",
       "      <td>16.031388</td>\n",
       "      <td>655.651432</td>\n",
       "      <td>1.609741</td>\n",
       "      <td>287.210515</td>\n",
       "      <td>1.242214</td>\n",
       "      <td>64.043741</td>\n",
       "      <td>0.566759</td>\n",
       "      <td>6.328796</td>\n",
       "    </tr>\n",
       "    <tr>\n",
       "      <th>min</th>\n",
       "      <td>1519.000000</td>\n",
       "      <td>1541.000000</td>\n",
       "      <td>15.160000</td>\n",
       "      <td>1.000000</td>\n",
       "      <td>19.000000</td>\n",
       "      <td>1.000000</td>\n",
       "      <td>1.918800</td>\n",
       "      <td>1.000000</td>\n",
       "      <td>0.008399</td>\n",
       "    </tr>\n",
       "    <tr>\n",
       "      <th>25%</th>\n",
       "      <td>1572.000000</td>\n",
       "      <td>1587.000000</td>\n",
       "      <td>461.407500</td>\n",
       "      <td>4.000000</td>\n",
       "      <td>430.000000</td>\n",
       "      <td>3.000000</td>\n",
       "      <td>88.272080</td>\n",
       "      <td>1.000000</td>\n",
       "      <td>7.102961</td>\n",
       "    </tr>\n",
       "    <tr>\n",
       "      <th>50%</th>\n",
       "      <td>1588.000000</td>\n",
       "      <td>1593.000000</td>\n",
       "      <td>768.745000</td>\n",
       "      <td>4.000000</td>\n",
       "      <td>604.000000</td>\n",
       "      <td>4.000000</td>\n",
       "      <td>116.101440</td>\n",
       "      <td>1.000000</td>\n",
       "      <td>9.925930</td>\n",
       "    </tr>\n",
       "    <tr>\n",
       "      <th>75%</th>\n",
       "      <td>1605.000000</td>\n",
       "      <td>1599.000000</td>\n",
       "      <td>1170.257500</td>\n",
       "      <td>6.000000</td>\n",
       "      <td>789.000000</td>\n",
       "      <td>4.000000</td>\n",
       "      <td>151.625755</td>\n",
       "      <td>2.000000</td>\n",
       "      <td>13.872453</td>\n",
       "    </tr>\n",
       "    <tr>\n",
       "      <th>max</th>\n",
       "      <td>1679.000000</td>\n",
       "      <td>1700.000000</td>\n",
       "      <td>10630.970000</td>\n",
       "      <td>16.000000</td>\n",
       "      <td>3235.000000</td>\n",
       "      <td>7.000000</td>\n",
       "      <td>568.777664</td>\n",
       "      <td>5.000000</td>\n",
       "      <td>77.995040</td>\n",
       "    </tr>\n",
       "  </tbody>\n",
       "</table>\n",
       "</div>"
      ],
      "text/plain": [
       "         init_temp    last_temp          work        steps     sum_bulk  \\\n",
       "count  2473.000000  2473.000000   2470.000000  2470.000000  2404.000000   \n",
       "mean   1589.016175  1595.338051    904.993146     4.626721   603.866057   \n",
       "std      24.996127    16.031388    655.651432     1.609741   287.210515   \n",
       "min    1519.000000  1541.000000     15.160000     1.000000    19.000000   \n",
       "25%    1572.000000  1587.000000    461.407500     4.000000   430.000000   \n",
       "50%    1588.000000  1593.000000    768.745000     4.000000   604.000000   \n",
       "75%    1605.000000  1599.000000   1170.257500     6.000000   789.000000   \n",
       "max    1679.000000  1700.000000  10630.970000    16.000000  3235.000000   \n",
       "\n",
       "        count_bulk     sum_wire   count_wire          gas  \n",
       "count  2404.000000  2369.000000  2369.000000  2471.000000  \n",
       "mean      3.545341   125.248227     1.400169    11.139788  \n",
       "std       1.242214    64.043741     0.566759     6.328796  \n",
       "min       1.000000     1.918800     1.000000     0.008399  \n",
       "25%       3.000000    88.272080     1.000000     7.102961  \n",
       "50%       4.000000   116.101440     1.000000     9.925930  \n",
       "75%       4.000000   151.625755     2.000000    13.872453  \n",
       "max       7.000000   568.777664     5.000000    77.995040  "
      ]
     },
     "metadata": {},
     "output_type": "display_data"
    }
   ],
   "source": [
    "df = (\n",
    "    data_temp\n",
    "    .join(pv_duga)\n",
    "    .join(data_bulk_act)\n",
    "    .join(data_wire_act)\n",
    "    .join(data_gas)\n",
    "    )\n",
    "print(df.shape)\n",
    "display(df.sample(10))\n",
    "display(df.describe())"
   ]
  },
  {
   "cell_type": "markdown",
   "metadata": {},
   "source": [
    "Данные логичны, отрицательные значения отсутствуют"
   ]
  },
  {
   "cell_type": "code",
   "execution_count": 42,
   "metadata": {},
   "outputs": [
    {
     "data": {
      "text/plain": [
       "init_temp       0\n",
       "last_temp       0\n",
       "work            3\n",
       "steps           3\n",
       "sum_bulk       69\n",
       "count_bulk     69\n",
       "sum_wire      104\n",
       "count_wire    104\n",
       "gas             2\n",
       "dtype: int64"
      ]
     },
     "execution_count": 42,
     "metadata": {},
     "output_type": "execute_result"
    }
   ],
   "source": [
    "df.isnull().sum()"
   ]
  },
  {
   "cell_type": "markdown",
   "metadata": {},
   "source": [
    "sum_bulk, count_bulk, sum_wire, count_wire, gas пропуски в этих столбцах говорят о том, что подачи не было, заменим их нулями"
   ]
  },
  {
   "cell_type": "markdown",
   "metadata": {},
   "source": [
    "Посмотрим на пропуски по работе:"
   ]
  },
  {
   "cell_type": "code",
   "execution_count": 43,
   "metadata": {},
   "outputs": [
    {
     "data": {
      "text/html": [
       "<div>\n",
       "<style scoped>\n",
       "    .dataframe tbody tr th:only-of-type {\n",
       "        vertical-align: middle;\n",
       "    }\n",
       "\n",
       "    .dataframe tbody tr th {\n",
       "        vertical-align: top;\n",
       "    }\n",
       "\n",
       "    .dataframe thead th {\n",
       "        text-align: right;\n",
       "    }\n",
       "</style>\n",
       "<table border=\"1\" class=\"dataframe\">\n",
       "  <thead>\n",
       "    <tr style=\"text-align: right;\">\n",
       "      <th></th>\n",
       "      <th>init_temp</th>\n",
       "      <th>last_temp</th>\n",
       "      <th>work</th>\n",
       "      <th>steps</th>\n",
       "      <th>sum_bulk</th>\n",
       "      <th>count_bulk</th>\n",
       "      <th>sum_wire</th>\n",
       "      <th>count_wire</th>\n",
       "      <th>gas</th>\n",
       "    </tr>\n",
       "    <tr>\n",
       "      <th>key</th>\n",
       "      <th></th>\n",
       "      <th></th>\n",
       "      <th></th>\n",
       "      <th></th>\n",
       "      <th></th>\n",
       "      <th></th>\n",
       "      <th></th>\n",
       "      <th></th>\n",
       "      <th></th>\n",
       "    </tr>\n",
       "  </thead>\n",
       "  <tbody>\n",
       "    <tr>\n",
       "      <th>195</th>\n",
       "      <td>1583.0</td>\n",
       "      <td>1583.0</td>\n",
       "      <td>NaN</td>\n",
       "      <td>NaN</td>\n",
       "      <td>NaN</td>\n",
       "      <td>NaN</td>\n",
       "      <td>NaN</td>\n",
       "      <td>NaN</td>\n",
       "      <td>0.374436</td>\n",
       "    </tr>\n",
       "    <tr>\n",
       "      <th>279</th>\n",
       "      <td>1603.0</td>\n",
       "      <td>1603.0</td>\n",
       "      <td>NaN</td>\n",
       "      <td>NaN</td>\n",
       "      <td>89.0</td>\n",
       "      <td>1.0</td>\n",
       "      <td>99.066236</td>\n",
       "      <td>1.0</td>\n",
       "      <td>7.232359</td>\n",
       "    </tr>\n",
       "    <tr>\n",
       "      <th>2116</th>\n",
       "      <td>1579.0</td>\n",
       "      <td>1578.0</td>\n",
       "      <td>NaN</td>\n",
       "      <td>NaN</td>\n",
       "      <td>335.0</td>\n",
       "      <td>2.0</td>\n",
       "      <td>75.216965</td>\n",
       "      <td>1.0</td>\n",
       "      <td>11.582547</td>\n",
       "    </tr>\n",
       "  </tbody>\n",
       "</table>\n",
       "</div>"
      ],
      "text/plain": [
       "      init_temp  last_temp  work  steps  sum_bulk  count_bulk   sum_wire  \\\n",
       "key                                                                        \n",
       "195      1583.0     1583.0   NaN    NaN       NaN         NaN        NaN   \n",
       "279      1603.0     1603.0   NaN    NaN      89.0         1.0  99.066236   \n",
       "2116     1579.0     1578.0   NaN    NaN     335.0         2.0  75.216965   \n",
       "\n",
       "      count_wire        gas  \n",
       "key                          \n",
       "195          NaN   0.374436  \n",
       "279          1.0   7.232359  \n",
       "2116         1.0  11.582547  "
      ]
     },
     "execution_count": 43,
     "metadata": {},
     "output_type": "execute_result"
    }
   ],
   "source": [
    "df[df['work'].isnull()]"
   ]
  },
  {
   "cell_type": "markdown",
   "metadata": {},
   "source": [
    "Все логично, температура не изменилась = нет работы, заменяем нулями "
   ]
  },
  {
   "cell_type": "code",
   "execution_count": 44,
   "metadata": {},
   "outputs": [
    {
     "name": "stdout",
     "output_type": "stream",
     "text": [
      "<class 'pandas.core.frame.DataFrame'>\n",
      "Int64Index: 2473 entries, 1 to 2499\n",
      "Data columns (total 9 columns):\n",
      " #   Column      Non-Null Count  Dtype  \n",
      "---  ------      --------------  -----  \n",
      " 0   init_temp   2473 non-null   float64\n",
      " 1   last_temp   2473 non-null   float64\n",
      " 2   work        2473 non-null   float64\n",
      " 3   steps       2473 non-null   float64\n",
      " 4   sum_bulk    2473 non-null   float64\n",
      " 5   count_bulk  2473 non-null   float64\n",
      " 6   sum_wire    2473 non-null   float64\n",
      " 7   count_wire  2473 non-null   float64\n",
      " 8   gas         2473 non-null   float64\n",
      "dtypes: float64(9)\n",
      "memory usage: 257.7 KB\n"
     ]
    }
   ],
   "source": [
    "df = df.fillna(0)\n",
    "df.info()"
   ]
  },
  {
   "cell_type": "code",
   "execution_count": 45,
   "metadata": {},
   "outputs": [
    {
     "data": {
      "image/png": "[encoded data removed]",
      "text/plain": [
       "<Figure size 864x864 with 2 Axes>"
      ]
     },
     "metadata": {
      "needs_background": "light"
     },
     "output_type": "display_data"
    }
   ],
   "source": [
    "plt.figure(figsize=(12, 12))\n",
    "sns.heatmap(df.corr(), annot=True)\n",
    "plt.show()"
   ]
  },
  {
   "cell_type": "markdown",
   "metadata": {},
   "source": [
    "Объем материалов коррелирует с количеством шагов, начальная температура коррелирует с конечной. Данные выглядят логично."
   ]
  },
  {
   "cell_type": "markdown",
   "metadata": {},
   "source": [
    "## Построение моделей"
   ]
  },
  {
   "cell_type": "markdown",
   "metadata": {},
   "source": [
    "Выделяем целевой признак, делим на выборки"
   ]
  },
  {
   "cell_type": "code",
   "execution_count": 46,
   "metadata": {},
   "outputs": [],
   "source": [
    "target = df['last_temp']\n",
    "features = df.drop('last_temp', axis=1)\n",
    "features_train, features_test, target_train, target_test = train_test_split(features, \n",
    "                                                                            target, \n",
    "                                                                            test_size = 0.25, \n",
    "                                                                            random_state = 12345)"
   ]
  },
  {
   "cell_type": "markdown",
   "metadata": {},
   "source": [
    "Приступим к построению моделей. Для работы выбраны следующие модели: линейная регрессия, случайный лес, XGBoost, CatBoost"
   ]
  },
  {
   "cell_type": "markdown",
   "metadata": {},
   "source": [
    "**Линейная регрессия**"
   ]
  },
  {
   "cell_type": "code",
   "execution_count": 47,
   "metadata": {},
   "outputs": [
    {
     "name": "stdout",
     "output_type": "stream",
     "text": [
      "Test MAE= 7.843746993169326\n"
     ]
    }
   ],
   "source": [
    "model = LinearRegression()\n",
    "model.fit(features_train, target_train)\n",
    "result = model.predict(features_test)\n",
    "linreg_score = mean_absolute_error(target_test, result)\n",
    "print('Test MAE=', linreg_score)"
   ]
  },
  {
   "cell_type": "markdown",
   "metadata": {},
   "source": [
    "Минимум достигнут."
   ]
  },
  {
   "cell_type": "markdown",
   "metadata": {},
   "source": [
    "**Случайный лес**"
   ]
  },
  {
   "cell_type": "code",
   "execution_count": 48,
   "metadata": {},
   "outputs": [
    {
     "name": "stdout",
     "output_type": "stream",
     "text": [
      "Лучшие параметры: {'n_estimators': 490, 'min_samples_split': 14, 'min_samples_leaf': 1, 'max_depth': 188}\n",
      "Test MAE= 6.282193516221786\n"
     ]
    }
   ],
   "source": [
    "#диапазон параметров уменьшен по результатам предыдущих моделирований с целью сокращения времени моделирования\n",
    "model = RandomForestRegressor()\n",
    "params = {\n",
    "    'n_estimators':[x for x in range(490, 491, 1)],\n",
    "    'max_depth':[x for x in range(188, 189, 1)], \n",
    "    'min_samples_leaf':[x for x in range(1, 2, 1)],\n",
    "    'min_samples_split':[x for x in range(14, 15, 1)],\n",
    "}\n",
    "grid = RandomizedSearchCV(model, \n",
    "                          params,  \n",
    "                          n_iter = 10, \n",
    "                          random_state = 12345, \n",
    "                          cv = 5)\n",
    "grid.fit(features_train, target_train)\n",
    "result = grid.predict(features_test)\n",
    "forest_score = mean_absolute_error(target_test, result)\n",
    "print('Лучшие параметры:', grid.best_params_)\n",
    "print('Test MAE=', forest_score)"
   ]
  },
  {
   "cell_type": "markdown",
   "metadata": {},
   "source": [
    "**XGBoost**"
   ]
  },
  {
   "cell_type": "code",
   "execution_count": 49,
   "metadata": {},
   "outputs": [
    {
     "name": "stdout",
     "output_type": "stream",
     "text": [
      "Test MAE= 6.129142107986672\n"
     ]
    }
   ],
   "source": [
    "model = XGBRegressor(\n",
    "    n_estimators = 1500,\n",
    "    learning_rate = 0.008,\n",
    "    reg_alpha = 15,\n",
    "    objective = 'reg:squarederror',\n",
    "    random_state = 12345\n",
    ")\n",
    "model.fit(features_train, target_train)\n",
    "\n",
    "result = model.predict(features_test)\n",
    "xgb_score = mean_absolute_error(target_test, result)\n",
    "print('Test MAE=', xgb_score)"
   ]
  },
  {
   "cell_type": "markdown",
   "metadata": {},
   "source": [
    "**CatBoost**"
   ]
  },
  {
   "cell_type": "code",
   "execution_count": 50,
   "metadata": {},
   "outputs": [
    {
     "name": "stdout",
     "output_type": "stream",
     "text": [
      "0:\tlearn: 10.0728577\ttotal: 48.3ms\tremaining: 1m 12s\n",
      "100:\tlearn: 8.1991110\ttotal: 180ms\tremaining: 2.49s\n",
      "200:\tlearn: 7.2387555\ttotal: 313ms\tremaining: 2.02s\n",
      "300:\tlearn: 6.7196259\ttotal: 443ms\tremaining: 1.76s\n",
      "400:\tlearn: 6.4100239\ttotal: 583ms\tremaining: 1.6s\n",
      "500:\tlearn: 6.1888288\ttotal: 719ms\tremaining: 1.43s\n",
      "600:\tlearn: 6.0174456\ttotal: 851ms\tremaining: 1.27s\n",
      "700:\tlearn: 5.8763616\ttotal: 980ms\tremaining: 1.12s\n",
      "800:\tlearn: 5.7575235\ttotal: 1.11s\tremaining: 966ms\n",
      "900:\tlearn: 5.6455733\ttotal: 1.23s\tremaining: 821ms\n",
      "1000:\tlearn: 5.5380546\ttotal: 1.36s\tremaining: 678ms\n",
      "1100:\tlearn: 5.4442911\ttotal: 1.49s\tremaining: 539ms\n",
      "1200:\tlearn: 5.3478785\ttotal: 1.61s\tremaining: 402ms\n",
      "1300:\tlearn: 5.2540114\ttotal: 1.74s\tremaining: 266ms\n",
      "1400:\tlearn: 5.1702703\ttotal: 1.86s\tremaining: 132ms\n",
      "1499:\tlearn: 5.0937632\ttotal: 1.99s\tremaining: 0us\n",
      "\n",
      "Test MAE = 6.00317560257021\n"
     ]
    }
   ],
   "source": [
    "model = CatBoostRegressor(\n",
    "    loss_function='MAE', \n",
    "    random_state = 12345, \n",
    "    iterations = 1500, \n",
    "    learning_rate = 0.008, \n",
    "    l2_leaf_reg = 50,\n",
    "    )\n",
    "model.fit(features_train, target_train, verbose = 100)\n",
    "\n",
    "result = model.predict(features_test)\n",
    "cb_score = mean_absolute_error(target_test, result)\n",
    "print('\\nTest MAE =', cb_score)"
   ]
  },
  {
   "cell_type": "markdown",
   "metadata": {},
   "source": [
    "**Фикция**"
   ]
  },
  {
   "cell_type": "code",
   "execution_count": 51,
   "metadata": {},
   "outputs": [
    {
     "name": "stdout",
     "output_type": "stream",
     "text": [
      "Dummy MAE = 9.746945433442612\n"
     ]
    }
   ],
   "source": [
    "dummy_pred = pd.Series(target_train.mean(), index=target_test.index)\n",
    "dummy_result = mean_absolute_error(target_test, dummy_pred)\n",
    "print('Dummy MAE =', dummy_result)"
   ]
  },
  {
   "cell_type": "markdown",
   "metadata": {},
   "source": [
    "Видно, что у всех моделей показатель MAE выше, чем у Фиктивной - это говорит о том, что они работают как нужно."
   ]
  },
  {
   "cell_type": "code",
   "execution_count": 52,
   "metadata": {},
   "outputs": [
    {
     "data": {
      "text/html": [
       "<div>\n",
       "<style scoped>\n",
       "    .dataframe tbody tr th:only-of-type {\n",
       "        vertical-align: middle;\n",
       "    }\n",
       "\n",
       "    .dataframe tbody tr th {\n",
       "        vertical-align: top;\n",
       "    }\n",
       "\n",
       "    .dataframe thead th {\n",
       "        text-align: right;\n",
       "    }\n",
       "</style>\n",
       "<table border=\"1\" class=\"dataframe\">\n",
       "  <thead>\n",
       "    <tr style=\"text-align: right;\">\n",
       "      <th></th>\n",
       "      <th>MAE_score</th>\n",
       "    </tr>\n",
       "  </thead>\n",
       "  <tbody>\n",
       "    <tr>\n",
       "      <th>CatBoost</th>\n",
       "      <td>6.003176</td>\n",
       "    </tr>\n",
       "    <tr>\n",
       "      <th>XGBoost</th>\n",
       "      <td>6.129142</td>\n",
       "    </tr>\n",
       "    <tr>\n",
       "      <th>RandomForest</th>\n",
       "      <td>6.282194</td>\n",
       "    </tr>\n",
       "    <tr>\n",
       "      <th>LinearRegression</th>\n",
       "      <td>7.843747</td>\n",
       "    </tr>\n",
       "    <tr>\n",
       "      <th>Dummy_mean</th>\n",
       "      <td>9.746945</td>\n",
       "    </tr>\n",
       "  </tbody>\n",
       "</table>\n",
       "</div>"
      ],
      "text/plain": [
       "                  MAE_score\n",
       "CatBoost           6.003176\n",
       "XGBoost            6.129142\n",
       "RandomForest       6.282194\n",
       "LinearRegression   7.843747\n",
       "Dummy_mean         9.746945"
      ]
     },
     "execution_count": 52,
     "metadata": {},
     "output_type": "execute_result"
    }
   ],
   "source": [
    "(\n",
    "    pd.Series(\n",
    "    data=[linreg_score, forest_score, xgb_score, cb_score, dummy_result],\n",
    "    index=['LinearRegression', 'RandomForest', 'XGBoost', 'CatBoost', 'Dummy_mean'],\n",
    "    name='MAE_score'\n",
    "    )\n",
    "    .sort_values()\n",
    "    .to_frame()\n",
    ")"
   ]
  },
  {
   "cell_type": "markdown",
   "metadata": {},
   "source": [
    "Как видно из результатов наилучший показаль у модели CatBoost с МАЕ = 6.01."
   ]
  },
  {
   "cell_type": "markdown",
   "metadata": {},
   "source": [
    "Рассмотрим важность признаков в лучшей модели:"
   ]
  },
  {
   "cell_type": "code",
   "execution_count": 53,
   "metadata": {},
   "outputs": [
    {
     "data": {
      "image/png": "[encoded data removed]",
      "text/plain": [
       "<Figure size 432x288 with 1 Axes>"
      ]
     },
     "metadata": {
      "needs_background": "light"
     },
     "output_type": "display_data"
    }
   ],
   "source": [
    "def validate_the_importance(model):\n",
    "    feature_importance = pd.Series(model.feature_importances_, index = features_test.columns).sort_values(ascending=False)\n",
    "\n",
    "    ax = sns.barplot(x = feature_importance, y = feature_importance.index)\n",
    "    _ = ax.set(xlabel='Уровень важности признаков', ylabel = 'Признаки')\n",
    "    _ = ax.set_title('Визуализация важности признаков')\n",
    "\n",
    "validate_the_importance(model)"
   ]
  },
  {
   "cell_type": "markdown",
   "metadata": {},
   "source": [
    "Наибольшее влияние на конечную температу оказывает начальная температура - чем больше разница, тем больше нужно нагревать.2-й признак по важности - работа: чем она больше, тем больше энергии идёт на нагрев - логично. Далее следует кол-во проволочных материалов. Видим, что использовать проволоку гораздо энергозатратнее, чем сыпучие материалы. В целях оптимизации расходов заказчику следует обратить внимание на начальную температуру расплава и найти альтернативу материалам в виде проволоки,если это возможно. "
   ]
  },
  {
   "cell_type": "markdown",
   "metadata": {},
   "source": [
    "Так как колличество нагревов и колличество добавлений сыпучих материалов оказывают низкое влияние на модель, попробуем убрать их с целью упрощения работы модели:"
   ]
  },
  {
   "cell_type": "code",
   "execution_count": 54,
   "metadata": {},
   "outputs": [],
   "source": [
    "target_new = df['last_temp']\n",
    "features_new = df.drop(['last_temp','steps','count_bulk'], axis=1)\n",
    "features_train_n, features_test_n, target_train_n, target_test_n = train_test_split(features_new, \n",
    "                                                                            target_new, \n",
    "                                                                            test_size = 0.25, \n",
    "                                                                            random_state = 12345)"
   ]
  },
  {
   "cell_type": "code",
   "execution_count": 55,
   "metadata": {},
   "outputs": [
    {
     "name": "stdout",
     "output_type": "stream",
     "text": [
      "0:\tlearn: 10.0731986\ttotal: 2.12ms\tremaining: 3.18s\n",
      "100:\tlearn: 8.1717186\ttotal: 134ms\tremaining: 1.85s\n",
      "200:\tlearn: 7.2113449\ttotal: 260ms\tremaining: 1.68s\n",
      "300:\tlearn: 6.7100535\ttotal: 388ms\tremaining: 1.54s\n",
      "400:\tlearn: 6.4126733\ttotal: 511ms\tremaining: 1.4s\n",
      "500:\tlearn: 6.2042569\ttotal: 635ms\tremaining: 1.27s\n",
      "600:\tlearn: 6.0453499\ttotal: 759ms\tremaining: 1.14s\n",
      "700:\tlearn: 5.9112334\ttotal: 881ms\tremaining: 1s\n",
      "800:\tlearn: 5.8017580\ttotal: 1s\tremaining: 876ms\n",
      "900:\tlearn: 5.6959756\ttotal: 1.12s\tremaining: 748ms\n",
      "1000:\tlearn: 5.6035321\ttotal: 1.25s\tremaining: 624ms\n",
      "1100:\tlearn: 5.5153703\ttotal: 1.38s\tremaining: 499ms\n",
      "1200:\tlearn: 5.4277859\ttotal: 1.51s\tremaining: 375ms\n",
      "1300:\tlearn: 5.3481347\ttotal: 1.63s\tremaining: 249ms\n",
      "1400:\tlearn: 5.2729865\ttotal: 1.75s\tremaining: 124ms\n",
      "1499:\tlearn: 5.2042506\ttotal: 1.88s\tremaining: 0us\n",
      "\n",
      "Test MAE = 5.945579896272309\n"
     ]
    }
   ],
   "source": [
    "model = CatBoostRegressor(\n",
    "    loss_function='MAE', \n",
    "    random_state = 12345, \n",
    "    iterations = 1500, \n",
    "    learning_rate = 0.008, \n",
    "    l2_leaf_reg = 50,\n",
    "    )\n",
    "model.fit(features_train_n, target_train_n, verbose = 100)\n",
    "\n",
    "result = model.predict(features_test_n)\n",
    "cb_score = mean_absolute_error(target_test_n, result)\n",
    "print('\\nTest MAE =', cb_score)"
   ]
  },
  {
   "cell_type": "markdown",
   "metadata": {},
   "source": [
    "Улучшился показатель и уменьшилось общее колличество затраченного времени, думаю цель достигнута."
   ]
  },
  {
   "cell_type": "markdown",
   "metadata": {},
   "source": [
    "# Отчет по проделанной работе"
   ]
  },
  {
   "cell_type": "markdown",
   "metadata": {},
   "source": [
    "В процессе работы над проектом были в полном объёме выполнены все пункты плана: проведена предобработка данных и подготовлена таблица с признаками, построены 4 модели для прогнозирования температуры, выбрана лучшая модель, выполняющая поставленную задачу, для которой проведён анализ важности признаков;\n",
    "\n",
    "В процессе работы над проектом возникали только вопросы, касающиеся предметной области - металлургии.\n",
    "\n",
    "Из 4 построенных моделей в процессе сравнения наилучший результат показала модель градиентного бустинга CatBoost с МАЕ = 6.01.\n",
    "\n",
    "В результате анализа важности признаков модели полученны следующие результаты: наибольшее влияние оказывают следующие факторы - начальная температура, кол-во затраченной работы и объём использованных проволочных материалов. Согласно имеющимся данным, рекомендую обратить внимание на уменьшение диапазона разброса начальной температуры, проанализировать оборудование на факт наличия утечек энергиии, ввести автомотическую фиксацию аномалий и всех сопутствующих производственных факторов для анализа с целью уменьшения будущих расходов.\n",
    "\n",
    "С целью улучшения качества модели профильтровали признаки, отсеяв наименее важные. Новая модель градиентного бустинга CatBoost достигла показателя МАЕ = 5.94 и на порядок сократила расчетное время."
   ]
  }
 ],
 "metadata": {
  "ExecuteTimeLog": [
   {
    "duration": 814,
    "start_time": "2022-05-21T12:00:54.670Z"
   },
   {
    "duration": 198,
    "start_time": "2022-05-21T12:01:07.690Z"
   },
   {
    "duration": 14,
    "start_time": "2022-05-21T12:01:13.384Z"
   },
   {
    "duration": 118,
    "start_time": "2022-05-21T12:02:08.529Z"
   },
   {
    "duration": 10,
    "start_time": "2022-05-21T12:02:21.729Z"
   },
   {
    "duration": 132,
    "start_time": "2022-05-21T12:02:45.794Z"
   },
   {
    "duration": 12,
    "start_time": "2022-05-21T12:02:53.044Z"
   },
   {
    "duration": 101,
    "start_time": "2022-05-21T12:05:38.588Z"
   },
   {
    "duration": 12,
    "start_time": "2022-05-21T12:05:48.332Z"
   },
   {
    "duration": 166,
    "start_time": "2022-05-21T12:06:35.384Z"
   },
   {
    "duration": 16,
    "start_time": "2022-05-21T12:06:51.109Z"
   },
   {
    "duration": 109,
    "start_time": "2022-05-21T12:07:36.396Z"
   },
   {
    "duration": 15,
    "start_time": "2022-05-21T12:07:43.167Z"
   },
   {
    "duration": 136,
    "start_time": "2022-05-21T12:08:03.473Z"
   },
   {
    "duration": 14,
    "start_time": "2022-05-21T12:08:10.834Z"
   },
   {
    "duration": 4,
    "start_time": "2022-05-21T13:29:45.027Z"
   },
   {
    "duration": 26,
    "start_time": "2022-05-21T13:30:24.209Z"
   },
   {
    "duration": 9,
    "start_time": "2022-05-21T13:31:56.165Z"
   },
   {
    "duration": 13,
    "start_time": "2022-05-21T13:32:20.297Z"
   },
   {
    "duration": 10,
    "start_time": "2022-05-21T13:32:23.876Z"
   },
   {
    "duration": 10,
    "start_time": "2022-05-21T13:33:39.685Z"
   },
   {
    "duration": 640,
    "start_time": "2022-05-21T13:40:56.572Z"
   },
   {
    "duration": 71,
    "start_time": "2022-05-21T13:40:57.213Z"
   },
   {
    "duration": 14,
    "start_time": "2022-05-21T13:40:57.286Z"
   },
   {
    "duration": 40,
    "start_time": "2022-05-21T13:40:57.303Z"
   },
   {
    "duration": 10,
    "start_time": "2022-05-21T13:40:57.345Z"
   },
   {
    "duration": 35,
    "start_time": "2022-05-21T13:40:57.356Z"
   },
   {
    "duration": 11,
    "start_time": "2022-05-21T13:40:57.392Z"
   },
   {
    "duration": 39,
    "start_time": "2022-05-21T13:40:57.411Z"
   },
   {
    "duration": 10,
    "start_time": "2022-05-21T13:40:57.452Z"
   },
   {
    "duration": 37,
    "start_time": "2022-05-21T13:40:57.464Z"
   },
   {
    "duration": 10,
    "start_time": "2022-05-21T13:40:57.502Z"
   },
   {
    "duration": 33,
    "start_time": "2022-05-21T13:40:57.514Z"
   },
   {
    "duration": 10,
    "start_time": "2022-05-21T13:40:57.549Z"
   },
   {
    "duration": 30,
    "start_time": "2022-05-21T13:40:57.561Z"
   },
   {
    "duration": 11,
    "start_time": "2022-05-21T13:40:57.592Z"
   },
   {
    "duration": 5,
    "start_time": "2022-05-21T13:40:57.604Z"
   },
   {
    "duration": 22,
    "start_time": "2022-05-21T13:40:57.610Z"
   },
   {
    "duration": 14,
    "start_time": "2022-05-21T13:40:57.634Z"
   },
   {
    "duration": 9,
    "start_time": "2022-05-21T13:40:57.650Z"
   },
   {
    "duration": 9,
    "start_time": "2022-05-21T13:42:12.670Z"
   },
   {
    "duration": 4,
    "start_time": "2022-05-21T14:13:35.558Z"
   },
   {
    "duration": 81,
    "start_time": "2022-05-21T14:13:45.647Z"
   },
   {
    "duration": 11,
    "start_time": "2022-05-21T14:16:42.824Z"
   },
   {
    "duration": 9,
    "start_time": "2022-05-21T14:17:00.422Z"
   },
   {
    "duration": 409,
    "start_time": "2022-05-21T14:18:14.355Z"
   },
   {
    "duration": 16,
    "start_time": "2022-05-21T14:19:59.398Z"
   },
   {
    "duration": 11,
    "start_time": "2022-05-21T14:22:35.305Z"
   },
   {
    "duration": 9,
    "start_time": "2022-05-21T14:22:45.219Z"
   },
   {
    "duration": 17,
    "start_time": "2022-05-21T14:23:01.032Z"
   },
   {
    "duration": 3,
    "start_time": "2022-05-21T14:25:37.385Z"
   },
   {
    "duration": 29,
    "start_time": "2022-05-21T14:25:39.744Z"
   },
   {
    "duration": 17,
    "start_time": "2022-05-21T14:25:44.561Z"
   },
   {
    "duration": 18,
    "start_time": "2022-05-21T14:25:47.130Z"
   },
   {
    "duration": 700,
    "start_time": "2022-05-21T14:26:05.632Z"
   },
   {
    "duration": 65,
    "start_time": "2022-05-21T14:26:06.334Z"
   },
   {
    "duration": 18,
    "start_time": "2022-05-21T14:26:06.401Z"
   },
   {
    "duration": 50,
    "start_time": "2022-05-21T14:26:06.422Z"
   },
   {
    "duration": 9,
    "start_time": "2022-05-21T14:26:06.473Z"
   },
   {
    "duration": 52,
    "start_time": "2022-05-21T14:26:06.484Z"
   },
   {
    "duration": 13,
    "start_time": "2022-05-21T14:26:06.537Z"
   },
   {
    "duration": 41,
    "start_time": "2022-05-21T14:26:06.552Z"
   },
   {
    "duration": 10,
    "start_time": "2022-05-21T14:26:06.594Z"
   },
   {
    "duration": 41,
    "start_time": "2022-05-21T14:26:06.607Z"
   },
   {
    "duration": 11,
    "start_time": "2022-05-21T14:26:06.649Z"
   },
   {
    "duration": 27,
    "start_time": "2022-05-21T14:26:06.662Z"
   },
   {
    "duration": 9,
    "start_time": "2022-05-21T14:26:06.690Z"
   },
   {
    "duration": 43,
    "start_time": "2022-05-21T14:26:06.701Z"
   },
   {
    "duration": 11,
    "start_time": "2022-05-21T14:26:06.746Z"
   },
   {
    "duration": 6,
    "start_time": "2022-05-21T14:26:06.759Z"
   },
   {
    "duration": 101,
    "start_time": "2022-05-21T14:26:06.766Z"
   },
   {
    "duration": 0,
    "start_time": "2022-05-21T14:26:06.869Z"
   },
   {
    "duration": 0,
    "start_time": "2022-05-21T14:26:06.870Z"
   },
   {
    "duration": 0,
    "start_time": "2022-05-21T14:26:06.871Z"
   },
   {
    "duration": 0,
    "start_time": "2022-05-21T14:26:06.872Z"
   },
   {
    "duration": 0,
    "start_time": "2022-05-21T14:26:06.873Z"
   },
   {
    "duration": 4,
    "start_time": "2022-05-21T14:26:41.773Z"
   },
   {
    "duration": 14,
    "start_time": "2022-05-21T14:26:44.671Z"
   },
   {
    "duration": 14,
    "start_time": "2022-05-21T14:26:48.167Z"
   },
   {
    "duration": 9,
    "start_time": "2022-05-21T14:26:51.978Z"
   },
   {
    "duration": 5,
    "start_time": "2022-05-21T14:39:34.162Z"
   },
   {
    "duration": 11,
    "start_time": "2022-05-21T14:39:36.519Z"
   },
   {
    "duration": 8,
    "start_time": "2022-05-21T14:40:10.375Z"
   },
   {
    "duration": 12,
    "start_time": "2022-05-21T14:58:05.379Z"
   },
   {
    "duration": 17,
    "start_time": "2022-05-21T15:12:30.131Z"
   },
   {
    "duration": 8,
    "start_time": "2022-05-21T15:14:12.675Z"
   },
   {
    "duration": 11,
    "start_time": "2022-05-21T15:15:05.371Z"
   },
   {
    "duration": 8,
    "start_time": "2022-05-21T15:15:21.029Z"
   },
   {
    "duration": 8,
    "start_time": "2022-05-21T15:15:45.260Z"
   },
   {
    "duration": 5,
    "start_time": "2022-05-21T15:16:57.563Z"
   },
   {
    "duration": 4,
    "start_time": "2022-05-21T15:17:07.530Z"
   },
   {
    "duration": 8,
    "start_time": "2022-05-21T15:17:18.392Z"
   },
   {
    "duration": 682,
    "start_time": "2022-05-21T15:17:51.800Z"
   },
   {
    "duration": 65,
    "start_time": "2022-05-21T15:17:52.484Z"
   },
   {
    "duration": 12,
    "start_time": "2022-05-21T15:17:52.550Z"
   },
   {
    "duration": 38,
    "start_time": "2022-05-21T15:17:52.564Z"
   },
   {
    "duration": 11,
    "start_time": "2022-05-21T15:17:52.604Z"
   },
   {
    "duration": 39,
    "start_time": "2022-05-21T15:17:52.617Z"
   },
   {
    "duration": 13,
    "start_time": "2022-05-21T15:17:52.658Z"
   },
   {
    "duration": 42,
    "start_time": "2022-05-21T15:17:52.672Z"
   },
   {
    "duration": 10,
    "start_time": "2022-05-21T15:17:52.716Z"
   },
   {
    "duration": 32,
    "start_time": "2022-05-21T15:17:52.728Z"
   },
   {
    "duration": 9,
    "start_time": "2022-05-21T15:17:52.762Z"
   },
   {
    "duration": 25,
    "start_time": "2022-05-21T15:17:52.773Z"
   },
   {
    "duration": 24,
    "start_time": "2022-05-21T15:17:52.800Z"
   },
   {
    "duration": 41,
    "start_time": "2022-05-21T15:17:52.826Z"
   },
   {
    "duration": 12,
    "start_time": "2022-05-21T15:17:52.868Z"
   },
   {
    "duration": 7,
    "start_time": "2022-05-21T15:17:52.882Z"
   },
   {
    "duration": 16,
    "start_time": "2022-05-21T15:17:52.890Z"
   },
   {
    "duration": 12,
    "start_time": "2022-05-21T15:17:52.908Z"
   },
   {
    "duration": 9,
    "start_time": "2022-05-21T15:17:52.922Z"
   },
   {
    "duration": 5,
    "start_time": "2022-05-21T15:17:52.933Z"
   },
   {
    "duration": 15,
    "start_time": "2022-05-21T15:17:52.940Z"
   },
   {
    "duration": 12,
    "start_time": "2022-05-21T15:17:52.956Z"
   },
   {
    "duration": 107,
    "start_time": "2022-05-21T15:17:52.969Z"
   },
   {
    "duration": 0,
    "start_time": "2022-05-21T15:17:53.078Z"
   },
   {
    "duration": 679,
    "start_time": "2022-05-21T15:18:17.951Z"
   },
   {
    "duration": 85,
    "start_time": "2022-05-21T15:18:18.632Z"
   },
   {
    "duration": 18,
    "start_time": "2022-05-21T15:18:18.733Z"
   },
   {
    "duration": 39,
    "start_time": "2022-05-21T15:18:18.753Z"
   },
   {
    "duration": 16,
    "start_time": "2022-05-21T15:18:18.795Z"
   },
   {
    "duration": 35,
    "start_time": "2022-05-21T15:18:18.812Z"
   },
   {
    "duration": 14,
    "start_time": "2022-05-21T15:18:18.849Z"
   },
   {
    "duration": 46,
    "start_time": "2022-05-21T15:18:18.865Z"
   },
   {
    "duration": 12,
    "start_time": "2022-05-21T15:18:18.912Z"
   },
   {
    "duration": 31,
    "start_time": "2022-05-21T15:18:18.926Z"
   },
   {
    "duration": 12,
    "start_time": "2022-05-21T15:18:18.959Z"
   },
   {
    "duration": 40,
    "start_time": "2022-05-21T15:18:18.973Z"
   },
   {
    "duration": 10,
    "start_time": "2022-05-21T15:18:19.016Z"
   },
   {
    "duration": 29,
    "start_time": "2022-05-21T15:18:19.029Z"
   },
   {
    "duration": 11,
    "start_time": "2022-05-21T15:18:19.060Z"
   },
   {
    "duration": 5,
    "start_time": "2022-05-21T15:18:19.073Z"
   },
   {
    "duration": 47,
    "start_time": "2022-05-21T15:18:19.080Z"
   },
   {
    "duration": 14,
    "start_time": "2022-05-21T15:18:19.129Z"
   },
   {
    "duration": 10,
    "start_time": "2022-05-21T15:18:19.145Z"
   },
   {
    "duration": 5,
    "start_time": "2022-05-21T15:18:19.156Z"
   },
   {
    "duration": 13,
    "start_time": "2022-05-21T15:18:19.162Z"
   },
   {
    "duration": 43,
    "start_time": "2022-05-21T15:18:19.177Z"
   },
   {
    "duration": 119,
    "start_time": "2022-05-21T15:18:19.222Z"
   },
   {
    "duration": 0,
    "start_time": "2022-05-21T15:18:19.344Z"
   },
   {
    "duration": 5,
    "start_time": "2022-05-21T15:19:26.305Z"
   },
   {
    "duration": 12,
    "start_time": "2022-05-21T15:19:29.303Z"
   },
   {
    "duration": 9,
    "start_time": "2022-05-21T15:19:53.202Z"
   },
   {
    "duration": 5,
    "start_time": "2022-05-21T15:20:03.915Z"
   },
   {
    "duration": 15,
    "start_time": "2022-05-21T15:20:07.328Z"
   },
   {
    "duration": 9,
    "start_time": "2022-05-21T15:23:02.401Z"
   },
   {
    "duration": 10,
    "start_time": "2022-05-21T15:23:09.312Z"
   },
   {
    "duration": 10,
    "start_time": "2022-05-21T15:24:30.635Z"
   },
   {
    "duration": 12,
    "start_time": "2022-05-21T15:24:36.804Z"
   },
   {
    "duration": 12,
    "start_time": "2022-05-21T15:25:20.010Z"
   },
   {
    "duration": 36,
    "start_time": "2022-05-21T15:44:35.441Z"
   },
   {
    "duration": 674,
    "start_time": "2022-05-21T15:44:56.632Z"
   },
   {
    "duration": 70,
    "start_time": "2022-05-21T15:44:57.309Z"
   },
   {
    "duration": 12,
    "start_time": "2022-05-21T15:44:57.380Z"
   },
   {
    "duration": 66,
    "start_time": "2022-05-21T15:44:57.394Z"
   },
   {
    "duration": 11,
    "start_time": "2022-05-21T15:44:57.462Z"
   },
   {
    "duration": 48,
    "start_time": "2022-05-21T15:44:57.474Z"
   },
   {
    "duration": 11,
    "start_time": "2022-05-21T15:44:57.523Z"
   },
   {
    "duration": 53,
    "start_time": "2022-05-21T15:44:57.535Z"
   },
   {
    "duration": 9,
    "start_time": "2022-05-21T15:44:57.590Z"
   },
   {
    "duration": 34,
    "start_time": "2022-05-21T15:44:57.601Z"
   },
   {
    "duration": 10,
    "start_time": "2022-05-21T15:44:57.637Z"
   },
   {
    "duration": 26,
    "start_time": "2022-05-21T15:44:57.648Z"
   },
   {
    "duration": 9,
    "start_time": "2022-05-21T15:44:57.676Z"
   },
   {
    "duration": 27,
    "start_time": "2022-05-21T15:44:57.687Z"
   },
   {
    "duration": 12,
    "start_time": "2022-05-21T15:44:57.716Z"
   },
   {
    "duration": 6,
    "start_time": "2022-05-21T15:44:57.730Z"
   },
   {
    "duration": 28,
    "start_time": "2022-05-21T15:44:57.737Z"
   },
   {
    "duration": 9,
    "start_time": "2022-05-21T15:44:57.767Z"
   },
   {
    "duration": 5,
    "start_time": "2022-05-21T15:44:57.778Z"
   },
   {
    "duration": 35,
    "start_time": "2022-05-21T15:44:57.784Z"
   },
   {
    "duration": 10,
    "start_time": "2022-05-21T15:44:57.821Z"
   },
   {
    "duration": 12,
    "start_time": "2022-05-21T15:44:57.833Z"
   },
   {
    "duration": 10,
    "start_time": "2022-05-21T15:44:57.846Z"
   },
   {
    "duration": 12,
    "start_time": "2022-05-21T15:44:57.857Z"
   },
   {
    "duration": 50,
    "start_time": "2022-05-21T15:44:57.870Z"
   },
   {
    "duration": 10,
    "start_time": "2022-05-21T15:56:29.535Z"
   },
   {
    "duration": 12,
    "start_time": "2022-05-21T15:56:33.940Z"
   },
   {
    "duration": 11,
    "start_time": "2022-05-21T15:56:45.075Z"
   },
   {
    "duration": 676,
    "start_time": "2022-05-21T15:57:43.865Z"
   },
   {
    "duration": 68,
    "start_time": "2022-05-21T15:57:44.543Z"
   },
   {
    "duration": 13,
    "start_time": "2022-05-21T15:57:44.612Z"
   },
   {
    "duration": 35,
    "start_time": "2022-05-21T15:57:44.627Z"
   },
   {
    "duration": 11,
    "start_time": "2022-05-21T15:57:44.664Z"
   },
   {
    "duration": 47,
    "start_time": "2022-05-21T15:57:44.677Z"
   },
   {
    "duration": 12,
    "start_time": "2022-05-21T15:57:44.726Z"
   },
   {
    "duration": 42,
    "start_time": "2022-05-21T15:57:44.740Z"
   },
   {
    "duration": 10,
    "start_time": "2022-05-21T15:57:44.784Z"
   },
   {
    "duration": 39,
    "start_time": "2022-05-21T15:57:44.797Z"
   },
   {
    "duration": 11,
    "start_time": "2022-05-21T15:57:44.838Z"
   },
   {
    "duration": 30,
    "start_time": "2022-05-21T15:57:44.851Z"
   },
   {
    "duration": 11,
    "start_time": "2022-05-21T15:57:44.882Z"
   },
   {
    "duration": 30,
    "start_time": "2022-05-21T15:57:44.895Z"
   },
   {
    "duration": 12,
    "start_time": "2022-05-21T15:57:44.926Z"
   },
   {
    "duration": 9,
    "start_time": "2022-05-21T15:57:44.940Z"
   },
   {
    "duration": 29,
    "start_time": "2022-05-21T15:57:44.951Z"
   },
   {
    "duration": 31,
    "start_time": "2022-05-21T15:57:44.982Z"
   },
   {
    "duration": 15,
    "start_time": "2022-05-21T15:57:45.016Z"
   },
   {
    "duration": 19,
    "start_time": "2022-05-21T15:57:45.033Z"
   },
   {
    "duration": 57,
    "start_time": "2022-05-21T15:57:45.055Z"
   },
   {
    "duration": 697,
    "start_time": "2022-05-21T16:07:46.159Z"
   },
   {
    "duration": 70,
    "start_time": "2022-05-21T16:07:46.858Z"
   },
   {
    "duration": 15,
    "start_time": "2022-05-21T16:07:46.930Z"
   },
   {
    "duration": 44,
    "start_time": "2022-05-21T16:07:46.947Z"
   },
   {
    "duration": 24,
    "start_time": "2022-05-21T16:07:46.992Z"
   },
   {
    "duration": 42,
    "start_time": "2022-05-21T16:07:47.018Z"
   },
   {
    "duration": 21,
    "start_time": "2022-05-21T16:07:47.062Z"
   },
   {
    "duration": 41,
    "start_time": "2022-05-21T16:07:47.085Z"
   },
   {
    "duration": 11,
    "start_time": "2022-05-21T16:07:47.128Z"
   },
   {
    "duration": 33,
    "start_time": "2022-05-21T16:07:47.142Z"
   },
   {
    "duration": 15,
    "start_time": "2022-05-21T16:07:47.177Z"
   },
   {
    "duration": 29,
    "start_time": "2022-05-21T16:07:47.195Z"
   },
   {
    "duration": 17,
    "start_time": "2022-05-21T16:07:47.226Z"
   },
   {
    "duration": 34,
    "start_time": "2022-05-21T16:07:47.245Z"
   },
   {
    "duration": 11,
    "start_time": "2022-05-21T16:07:47.281Z"
   },
   {
    "duration": 19,
    "start_time": "2022-05-21T16:07:47.294Z"
   },
   {
    "duration": 44,
    "start_time": "2022-05-21T16:07:47.315Z"
   },
   {
    "duration": 17,
    "start_time": "2022-05-21T16:07:47.361Z"
   },
   {
    "duration": 11,
    "start_time": "2022-05-21T16:07:47.381Z"
   },
   {
    "duration": 20,
    "start_time": "2022-05-21T16:07:47.394Z"
   },
   {
    "duration": 24,
    "start_time": "2022-05-21T16:07:47.416Z"
   },
   {
    "duration": 19,
    "start_time": "2022-05-21T16:07:47.442Z"
   },
   {
    "duration": 10,
    "start_time": "2022-05-21T16:08:27.496Z"
   },
   {
    "duration": 12,
    "start_time": "2022-05-21T16:09:42.229Z"
   },
   {
    "duration": 11,
    "start_time": "2022-05-21T16:10:30.169Z"
   },
   {
    "duration": 13,
    "start_time": "2022-05-21T16:10:41.660Z"
   },
   {
    "duration": 3,
    "start_time": "2022-05-21T16:18:03.396Z"
   },
   {
    "duration": 8,
    "start_time": "2022-05-21T16:18:08.069Z"
   },
   {
    "duration": 10,
    "start_time": "2022-05-21T16:18:25.517Z"
   },
   {
    "duration": 726,
    "start_time": "2022-05-21T16:27:02.507Z"
   },
   {
    "duration": 66,
    "start_time": "2022-05-21T16:27:03.236Z"
   },
   {
    "duration": 13,
    "start_time": "2022-05-21T16:27:03.303Z"
   },
   {
    "duration": 35,
    "start_time": "2022-05-21T16:27:03.317Z"
   },
   {
    "duration": 11,
    "start_time": "2022-05-21T16:27:03.353Z"
   },
   {
    "duration": 37,
    "start_time": "2022-05-21T16:27:03.366Z"
   },
   {
    "duration": 16,
    "start_time": "2022-05-21T16:27:03.405Z"
   },
   {
    "duration": 40,
    "start_time": "2022-05-21T16:27:03.423Z"
   },
   {
    "duration": 9,
    "start_time": "2022-05-21T16:27:03.465Z"
   },
   {
    "duration": 33,
    "start_time": "2022-05-21T16:27:03.477Z"
   },
   {
    "duration": 10,
    "start_time": "2022-05-21T16:27:03.512Z"
   },
   {
    "duration": 42,
    "start_time": "2022-05-21T16:27:03.523Z"
   },
   {
    "duration": 9,
    "start_time": "2022-05-21T16:27:03.567Z"
   },
   {
    "duration": 33,
    "start_time": "2022-05-21T16:27:03.578Z"
   },
   {
    "duration": 11,
    "start_time": "2022-05-21T16:27:03.612Z"
   },
   {
    "duration": 6,
    "start_time": "2022-05-21T16:27:03.624Z"
   },
   {
    "duration": 26,
    "start_time": "2022-05-21T16:27:03.631Z"
   },
   {
    "duration": 14,
    "start_time": "2022-05-21T16:27:03.659Z"
   },
   {
    "duration": 42,
    "start_time": "2022-05-21T16:27:03.675Z"
   },
   {
    "duration": 13,
    "start_time": "2022-05-21T16:27:03.719Z"
   },
   {
    "duration": 13,
    "start_time": "2022-05-21T16:27:03.734Z"
   },
   {
    "duration": 13,
    "start_time": "2022-05-21T16:27:03.749Z"
   },
   {
    "duration": 7,
    "start_time": "2022-05-21T16:27:03.764Z"
   },
   {
    "duration": 10,
    "start_time": "2022-05-21T16:27:03.773Z"
   },
   {
    "duration": 34,
    "start_time": "2022-05-21T16:27:03.784Z"
   },
   {
    "duration": 3,
    "start_time": "2022-05-21T17:01:19.204Z"
   },
   {
    "duration": 4,
    "start_time": "2022-05-21T17:01:36.785Z"
   },
   {
    "duration": 42,
    "start_time": "2022-05-21T17:01:48.838Z"
   },
   {
    "duration": 896,
    "start_time": "2022-05-21T17:02:27.648Z"
   },
   {
    "duration": 55,
    "start_time": "2022-05-21T17:02:49.214Z"
   },
   {
    "duration": 38,
    "start_time": "2022-05-21T17:03:03.646Z"
   },
   {
    "duration": 82,
    "start_time": "2022-05-21T17:03:17.278Z"
   },
   {
    "duration": 171,
    "start_time": "2022-05-21T17:14:59.894Z"
   },
   {
    "duration": 14,
    "start_time": "2022-05-21T17:15:09.068Z"
   },
   {
    "duration": 460,
    "start_time": "2022-05-21T17:21:23.725Z"
   },
   {
    "duration": 115,
    "start_time": "2022-05-21T17:21:46.541Z"
   },
   {
    "duration": 169,
    "start_time": "2022-05-21T17:22:23.829Z"
   },
   {
    "duration": 310,
    "start_time": "2022-05-21T17:25:24.148Z"
   },
   {
    "duration": 42,
    "start_time": "2022-05-21T17:52:59.447Z"
   },
   {
    "duration": 47,
    "start_time": "2022-05-21T17:53:04.311Z"
   },
   {
    "duration": 52,
    "start_time": "2022-05-21T17:55:20.875Z"
   },
   {
    "duration": 27,
    "start_time": "2022-05-21T17:55:35.180Z"
   },
   {
    "duration": 43,
    "start_time": "2022-05-21T17:59:11.806Z"
   },
   {
    "duration": 29,
    "start_time": "2022-05-21T17:59:21.144Z"
   },
   {
    "duration": 135,
    "start_time": "2022-05-21T18:02:30.715Z"
   },
   {
    "duration": 11,
    "start_time": "2022-05-21T18:03:10.306Z"
   },
   {
    "duration": 34,
    "start_time": "2022-05-21T18:03:29.993Z"
   },
   {
    "duration": 39,
    "start_time": "2022-05-21T19:04:41.596Z"
   },
   {
    "duration": 56,
    "start_time": "2022-05-21T19:05:00.112Z"
   },
   {
    "duration": 41,
    "start_time": "2022-05-21T19:05:18.398Z"
   },
   {
    "duration": 39,
    "start_time": "2022-05-21T19:05:30.729Z"
   },
   {
    "duration": 15,
    "start_time": "2022-05-21T19:08:51.396Z"
   },
   {
    "duration": 1511,
    "start_time": "2022-05-21T21:21:14.230Z"
   },
   {
    "duration": 4,
    "start_time": "2022-05-21T21:21:15.743Z"
   },
   {
    "duration": 75,
    "start_time": "2022-05-21T21:21:15.748Z"
   },
   {
    "duration": 39,
    "start_time": "2022-05-21T21:21:15.825Z"
   },
   {
    "duration": 8,
    "start_time": "2022-05-21T21:21:15.865Z"
   },
   {
    "duration": 161,
    "start_time": "2022-05-21T21:21:15.874Z"
   },
   {
    "duration": 125,
    "start_time": "2022-05-21T21:21:16.036Z"
   },
   {
    "duration": 172,
    "start_time": "2022-05-21T21:21:16.163Z"
   },
   {
    "duration": 322,
    "start_time": "2022-05-21T21:21:16.337Z"
   },
   {
    "duration": 17,
    "start_time": "2022-05-21T21:21:16.661Z"
   },
   {
    "duration": 77,
    "start_time": "2022-05-21T21:21:16.679Z"
   },
   {
    "duration": 23,
    "start_time": "2022-05-21T21:21:16.758Z"
   },
   {
    "duration": 42,
    "start_time": "2022-05-21T21:21:16.783Z"
   },
   {
    "duration": 53,
    "start_time": "2022-05-21T21:21:16.827Z"
   },
   {
    "duration": 26,
    "start_time": "2022-05-21T21:21:16.881Z"
   },
   {
    "duration": 24,
    "start_time": "2022-05-21T21:21:16.908Z"
   },
   {
    "duration": 29,
    "start_time": "2022-05-21T21:21:16.934Z"
   },
   {
    "duration": 132,
    "start_time": "2022-05-21T21:21:16.964Z"
   },
   {
    "duration": 27,
    "start_time": "2022-05-21T21:21:17.098Z"
   },
   {
    "duration": 10,
    "start_time": "2022-05-21T21:21:17.127Z"
   },
   {
    "duration": 15,
    "start_time": "2022-05-21T21:21:17.139Z"
   },
   {
    "duration": 70,
    "start_time": "2022-05-21T21:21:17.155Z"
   },
   {
    "duration": 18,
    "start_time": "2022-05-21T21:21:17.227Z"
   },
   {
    "duration": 29,
    "start_time": "2022-05-21T21:21:17.247Z"
   },
   {
    "duration": 4,
    "start_time": "2022-05-21T21:21:17.278Z"
   },
   {
    "duration": 43,
    "start_time": "2022-05-21T21:21:17.283Z"
   },
   {
    "duration": 9,
    "start_time": "2022-05-21T21:21:17.328Z"
   },
   {
    "duration": 12,
    "start_time": "2022-05-21T21:21:17.340Z"
   },
   {
    "duration": 9,
    "start_time": "2022-05-21T21:21:17.354Z"
   },
   {
    "duration": 10,
    "start_time": "2022-05-21T21:21:17.364Z"
   },
   {
    "duration": 8,
    "start_time": "2022-05-21T21:21:17.375Z"
   },
   {
    "duration": 33,
    "start_time": "2022-05-21T21:21:17.385Z"
   },
   {
    "duration": 12,
    "start_time": "2022-05-21T21:21:17.419Z"
   },
   {
    "duration": 65,
    "start_time": "2022-05-23T11:40:29.754Z"
   },
   {
    "duration": 1509,
    "start_time": "2022-05-23T11:40:36.505Z"
   },
   {
    "duration": 3,
    "start_time": "2022-05-23T11:40:38.016Z"
   },
   {
    "duration": 196,
    "start_time": "2022-05-23T11:40:38.021Z"
   },
   {
    "duration": 34,
    "start_time": "2022-05-23T11:40:38.219Z"
   },
   {
    "duration": 8,
    "start_time": "2022-05-23T11:40:38.254Z"
   },
   {
    "duration": 153,
    "start_time": "2022-05-23T11:40:38.263Z"
   },
   {
    "duration": 128,
    "start_time": "2022-05-23T11:40:38.417Z"
   },
   {
    "duration": 162,
    "start_time": "2022-05-23T11:40:38.547Z"
   },
   {
    "duration": 336,
    "start_time": "2022-05-23T11:40:38.710Z"
   },
   {
    "duration": 86,
    "start_time": "2022-05-23T11:40:39.049Z"
   },
   {
    "duration": 80,
    "start_time": "2022-05-23T11:40:39.137Z"
   },
   {
    "duration": 92,
    "start_time": "2022-05-23T11:40:39.218Z"
   },
   {
    "duration": 29,
    "start_time": "2022-05-23T11:40:39.311Z"
   },
   {
    "duration": 53,
    "start_time": "2022-05-23T11:40:39.341Z"
   },
   {
    "duration": 26,
    "start_time": "2022-05-23T11:40:39.396Z"
   },
   {
    "duration": 84,
    "start_time": "2022-05-23T11:40:39.423Z"
   },
   {
    "duration": 27,
    "start_time": "2022-05-23T11:40:39.509Z"
   },
   {
    "duration": 128,
    "start_time": "2022-05-23T11:40:39.538Z"
   },
   {
    "duration": 39,
    "start_time": "2022-05-23T11:40:39.668Z"
   },
   {
    "duration": 10,
    "start_time": "2022-05-23T11:40:39.708Z"
   },
   {
    "duration": 51,
    "start_time": "2022-05-23T11:40:39.720Z"
   },
   {
    "duration": 57,
    "start_time": "2022-05-23T11:40:39.773Z"
   },
   {
    "duration": 57,
    "start_time": "2022-05-23T11:40:39.832Z"
   },
   {
    "duration": 31,
    "start_time": "2022-05-23T11:40:39.890Z"
   },
   {
    "duration": 3,
    "start_time": "2022-05-23T11:40:39.922Z"
   },
   {
    "duration": 15,
    "start_time": "2022-05-23T11:40:39.927Z"
   },
   {
    "duration": 31,
    "start_time": "2022-05-23T11:40:39.944Z"
   },
   {
    "duration": 11,
    "start_time": "2022-05-23T11:40:39.978Z"
   },
   {
    "duration": 16,
    "start_time": "2022-05-23T11:40:39.991Z"
   },
   {
    "duration": 11,
    "start_time": "2022-05-23T11:40:40.009Z"
   },
   {
    "duration": 9,
    "start_time": "2022-05-23T11:40:40.022Z"
   },
   {
    "duration": 7,
    "start_time": "2022-05-23T11:40:40.033Z"
   },
   {
    "duration": 47,
    "start_time": "2022-05-23T11:40:40.042Z"
   },
   {
    "duration": 18,
    "start_time": "2022-05-23T11:40:40.091Z"
   },
   {
    "duration": 16,
    "start_time": "2022-05-23T11:54:59.922Z"
   },
   {
    "duration": 14,
    "start_time": "2022-05-23T11:55:26.825Z"
   },
   {
    "duration": 14,
    "start_time": "2022-05-23T11:59:41.143Z"
   },
   {
    "duration": 112,
    "start_time": "2022-05-23T12:04:34.701Z"
   },
   {
    "duration": 17,
    "start_time": "2022-05-23T12:06:29.600Z"
   },
   {
    "duration": 14,
    "start_time": "2022-05-23T12:06:42.556Z"
   },
   {
    "duration": 15,
    "start_time": "2022-05-23T12:07:14.407Z"
   },
   {
    "duration": 33,
    "start_time": "2022-05-23T12:07:26.940Z"
   },
   {
    "duration": 39,
    "start_time": "2022-05-23T12:08:28.318Z"
   },
   {
    "duration": 9,
    "start_time": "2022-05-23T12:08:35.625Z"
   },
   {
    "duration": 38,
    "start_time": "2022-05-23T12:08:39.201Z"
   },
   {
    "duration": 3,
    "start_time": "2022-05-23T12:11:49.229Z"
   },
   {
    "duration": 9,
    "start_time": "2022-05-23T12:11:52.898Z"
   },
   {
    "duration": 9,
    "start_time": "2022-05-23T12:12:13.968Z"
   },
   {
    "duration": 15,
    "start_time": "2022-05-23T12:48:24.087Z"
   },
   {
    "duration": 17,
    "start_time": "2022-05-23T13:04:19.661Z"
   },
   {
    "duration": 21,
    "start_time": "2022-05-23T13:04:25.515Z"
   },
   {
    "duration": 15,
    "start_time": "2022-05-23T13:04:56.727Z"
   },
   {
    "duration": 17,
    "start_time": "2022-05-23T13:05:05.502Z"
   },
   {
    "duration": 9,
    "start_time": "2022-05-23T13:51:32.783Z"
   },
   {
    "duration": 1316,
    "start_time": "2022-05-23T14:04:35.652Z"
   },
   {
    "duration": 6,
    "start_time": "2022-05-23T14:04:36.970Z"
   },
   {
    "duration": 63,
    "start_time": "2022-05-23T14:04:36.977Z"
   },
   {
    "duration": 40,
    "start_time": "2022-05-23T14:04:37.042Z"
   },
   {
    "duration": 41,
    "start_time": "2022-05-23T14:04:37.084Z"
   },
   {
    "duration": 157,
    "start_time": "2022-05-23T14:04:37.126Z"
   },
   {
    "duration": 124,
    "start_time": "2022-05-23T14:04:37.285Z"
   },
   {
    "duration": 171,
    "start_time": "2022-05-23T14:04:37.411Z"
   },
   {
    "duration": 321,
    "start_time": "2022-05-23T14:04:37.584Z"
   },
   {
    "duration": 16,
    "start_time": "2022-05-23T14:04:37.906Z"
   },
   {
    "duration": 67,
    "start_time": "2022-05-23T14:04:37.924Z"
   },
   {
    "duration": 22,
    "start_time": "2022-05-23T14:04:37.993Z"
   },
   {
    "duration": 31,
    "start_time": "2022-05-23T14:04:38.016Z"
   },
   {
    "duration": 51,
    "start_time": "2022-05-23T14:04:38.050Z"
   },
   {
    "duration": 22,
    "start_time": "2022-05-23T14:04:38.103Z"
   },
   {
    "duration": 21,
    "start_time": "2022-05-23T14:04:38.126Z"
   },
   {
    "duration": 27,
    "start_time": "2022-05-23T14:04:38.148Z"
   },
   {
    "duration": 118,
    "start_time": "2022-05-23T14:04:38.176Z"
   },
   {
    "duration": 20,
    "start_time": "2022-05-23T14:04:38.295Z"
   },
   {
    "duration": 78,
    "start_time": "2022-05-23T14:04:38.316Z"
   },
   {
    "duration": 74,
    "start_time": "2022-05-23T14:04:38.395Z"
   },
   {
    "duration": 90,
    "start_time": "2022-05-23T14:04:38.470Z"
   },
   {
    "duration": 16,
    "start_time": "2022-05-23T14:04:38.561Z"
   },
   {
    "duration": 26,
    "start_time": "2022-05-23T14:04:38.579Z"
   },
   {
    "duration": 3,
    "start_time": "2022-05-23T14:04:38.606Z"
   },
   {
    "duration": 8,
    "start_time": "2022-05-23T14:04:38.610Z"
   },
   {
    "duration": 22,
    "start_time": "2022-05-23T14:04:38.619Z"
   },
   {
    "duration": 33,
    "start_time": "2022-05-23T14:04:38.642Z"
   },
   {
    "duration": 12,
    "start_time": "2022-05-23T14:04:38.676Z"
   },
   {
    "duration": 39,
    "start_time": "2022-05-23T14:04:38.690Z"
   },
   {
    "duration": 2,
    "start_time": "2022-05-23T14:04:38.731Z"
   },
   {
    "duration": 9,
    "start_time": "2022-05-23T14:04:38.735Z"
   },
   {
    "duration": 32,
    "start_time": "2022-05-23T14:04:38.745Z"
   },
   {
    "duration": 14,
    "start_time": "2022-05-23T14:04:38.779Z"
   },
   {
    "duration": 11,
    "start_time": "2022-05-23T14:04:38.794Z"
   },
   {
    "duration": 6,
    "start_time": "2022-05-23T14:04:38.807Z"
   },
   {
    "duration": 7,
    "start_time": "2022-05-23T14:43:11.982Z"
   },
   {
    "duration": 7,
    "start_time": "2022-05-23T14:53:42.588Z"
   },
   {
    "duration": 5,
    "start_time": "2022-05-23T14:54:06.092Z"
   },
   {
    "duration": 7,
    "start_time": "2022-05-23T14:54:13.318Z"
   },
   {
    "duration": 8,
    "start_time": "2022-05-23T14:54:20.792Z"
   },
   {
    "duration": 14,
    "start_time": "2022-05-23T14:54:51.438Z"
   },
   {
    "duration": 62,
    "start_time": "2022-05-23T20:30:48.896Z"
   },
   {
    "duration": 1708,
    "start_time": "2022-05-23T20:30:59.425Z"
   },
   {
    "duration": 4,
    "start_time": "2022-05-23T20:31:01.135Z"
   },
   {
    "duration": 488,
    "start_time": "2022-05-23T20:31:01.140Z"
   },
   {
    "duration": 40,
    "start_time": "2022-05-23T20:31:01.631Z"
   },
   {
    "duration": 10,
    "start_time": "2022-05-23T20:31:01.673Z"
   },
   {
    "duration": 179,
    "start_time": "2022-05-23T20:31:01.684Z"
   },
   {
    "duration": 161,
    "start_time": "2022-05-23T20:31:01.865Z"
   },
   {
    "duration": 207,
    "start_time": "2022-05-23T20:31:02.029Z"
   },
   {
    "duration": 402,
    "start_time": "2022-05-23T20:31:02.238Z"
   },
   {
    "duration": 95,
    "start_time": "2022-05-23T20:31:02.643Z"
   },
   {
    "duration": 96,
    "start_time": "2022-05-23T20:31:02.740Z"
   },
   {
    "duration": 95,
    "start_time": "2022-05-23T20:31:02.838Z"
   },
   {
    "duration": 34,
    "start_time": "2022-05-23T20:31:02.936Z"
   },
   {
    "duration": 84,
    "start_time": "2022-05-23T20:31:02.972Z"
   },
   {
    "duration": 29,
    "start_time": "2022-05-23T20:31:03.058Z"
   },
   {
    "duration": 142,
    "start_time": "2022-05-23T20:31:03.089Z"
   },
   {
    "duration": 27,
    "start_time": "2022-05-23T20:31:03.233Z"
   },
   {
    "duration": 144,
    "start_time": "2022-05-23T20:31:03.261Z"
   },
   {
    "duration": 27,
    "start_time": "2022-05-23T20:31:03.407Z"
   },
   {
    "duration": 11,
    "start_time": "2022-05-23T20:31:03.436Z"
   },
   {
    "duration": 64,
    "start_time": "2022-05-23T20:31:03.448Z"
   },
   {
    "duration": 51,
    "start_time": "2022-05-23T20:31:03.514Z"
   },
   {
    "duration": 47,
    "start_time": "2022-05-23T20:31:03.566Z"
   },
   {
    "duration": 26,
    "start_time": "2022-05-23T20:31:03.615Z"
   },
   {
    "duration": 3,
    "start_time": "2022-05-23T20:31:03.643Z"
   },
   {
    "duration": 11,
    "start_time": "2022-05-23T20:31:03.647Z"
   },
   {
    "duration": 27,
    "start_time": "2022-05-23T20:31:03.659Z"
   },
   {
    "duration": 13,
    "start_time": "2022-05-23T20:31:03.690Z"
   },
   {
    "duration": 22,
    "start_time": "2022-05-23T20:31:03.705Z"
   },
   {
    "duration": 65,
    "start_time": "2022-05-23T20:31:03.729Z"
   },
   {
    "duration": 7,
    "start_time": "2022-05-23T20:31:03.796Z"
   },
   {
    "duration": 12,
    "start_time": "2022-05-23T20:31:03.804Z"
   },
   {
    "duration": 15,
    "start_time": "2022-05-23T20:31:03.818Z"
   },
   {
    "duration": 16,
    "start_time": "2022-05-23T20:31:03.834Z"
   },
   {
    "duration": 14,
    "start_time": "2022-05-23T20:31:03.851Z"
   },
   {
    "duration": 33,
    "start_time": "2022-05-23T20:31:03.866Z"
   },
   {
    "duration": 11,
    "start_time": "2022-05-23T20:31:03.902Z"
   },
   {
    "duration": 11,
    "start_time": "2022-05-23T20:31:03.916Z"
   },
   {
    "duration": 5,
    "start_time": "2022-05-23T20:31:03.929Z"
   },
   {
    "duration": 11,
    "start_time": "2022-05-23T20:31:03.936Z"
   },
   {
    "duration": 162,
    "start_time": "2022-05-23T20:31:03.948Z"
   },
   {
    "duration": 18,
    "start_time": "2022-05-23T20:31:11.987Z"
   },
   {
    "duration": 219,
    "start_time": "2022-05-23T20:34:38.078Z"
   },
   {
    "duration": 65,
    "start_time": "2022-05-23T20:35:11.480Z"
   },
   {
    "duration": 8,
    "start_time": "2022-05-23T20:37:48.226Z"
   },
   {
    "duration": 6,
    "start_time": "2022-05-23T20:43:37.363Z"
   },
   {
    "duration": 1438,
    "start_time": "2022-05-23T20:43:44.616Z"
   },
   {
    "duration": 4,
    "start_time": "2022-05-23T20:43:46.056Z"
   },
   {
    "duration": 75,
    "start_time": "2022-05-23T20:43:46.061Z"
   },
   {
    "duration": 38,
    "start_time": "2022-05-23T20:43:46.138Z"
   },
   {
    "duration": 10,
    "start_time": "2022-05-23T20:43:46.178Z"
   },
   {
    "duration": 170,
    "start_time": "2022-05-23T20:43:46.189Z"
   },
   {
    "duration": 141,
    "start_time": "2022-05-23T20:43:46.361Z"
   },
   {
    "duration": 187,
    "start_time": "2022-05-23T20:43:46.506Z"
   },
   {
    "duration": 371,
    "start_time": "2022-05-23T20:43:46.696Z"
   },
   {
    "duration": 23,
    "start_time": "2022-05-23T20:43:47.069Z"
   },
   {
    "duration": 75,
    "start_time": "2022-05-23T20:43:47.093Z"
   },
   {
    "duration": 48,
    "start_time": "2022-05-23T20:43:47.170Z"
   },
   {
    "duration": 31,
    "start_time": "2022-05-23T20:43:47.220Z"
   },
   {
    "duration": 50,
    "start_time": "2022-05-23T20:43:47.252Z"
   },
   {
    "duration": 29,
    "start_time": "2022-05-23T20:43:47.305Z"
   },
   {
    "duration": 25,
    "start_time": "2022-05-23T20:43:47.335Z"
   },
   {
    "duration": 29,
    "start_time": "2022-05-23T20:43:47.362Z"
   },
   {
    "duration": 140,
    "start_time": "2022-05-23T20:43:47.393Z"
   },
   {
    "duration": 21,
    "start_time": "2022-05-23T20:43:47.535Z"
   },
   {
    "duration": 29,
    "start_time": "2022-05-23T20:43:47.557Z"
   },
   {
    "duration": 19,
    "start_time": "2022-05-23T20:43:47.589Z"
   },
   {
    "duration": 48,
    "start_time": "2022-05-23T20:43:47.610Z"
   },
   {
    "duration": 19,
    "start_time": "2022-05-23T20:43:47.659Z"
   },
   {
    "duration": 44,
    "start_time": "2022-05-23T20:43:47.679Z"
   },
   {
    "duration": 3,
    "start_time": "2022-05-23T20:43:47.724Z"
   },
   {
    "duration": 9,
    "start_time": "2022-05-23T20:43:47.728Z"
   },
   {
    "duration": 28,
    "start_time": "2022-05-23T20:43:47.738Z"
   },
   {
    "duration": 6,
    "start_time": "2022-05-23T20:43:47.784Z"
   },
   {
    "duration": 25,
    "start_time": "2022-05-23T20:43:47.794Z"
   },
   {
    "duration": 72,
    "start_time": "2022-05-23T20:43:47.821Z"
   },
   {
    "duration": 4,
    "start_time": "2022-05-23T20:43:47.896Z"
   },
   {
    "duration": 15,
    "start_time": "2022-05-23T20:43:47.906Z"
   },
   {
    "duration": 12,
    "start_time": "2022-05-23T20:43:47.923Z"
   },
   {
    "duration": 21,
    "start_time": "2022-05-23T20:43:47.937Z"
   },
   {
    "duration": 59,
    "start_time": "2022-05-23T20:43:47.960Z"
   },
   {
    "duration": 10,
    "start_time": "2022-05-23T20:43:48.023Z"
   },
   {
    "duration": 12,
    "start_time": "2022-05-23T20:43:48.035Z"
   },
   {
    "duration": 15,
    "start_time": "2022-05-23T20:43:48.048Z"
   },
   {
    "duration": 7,
    "start_time": "2022-05-23T20:43:48.065Z"
   },
   {
    "duration": 22,
    "start_time": "2022-05-23T20:43:48.074Z"
   },
   {
    "duration": 24,
    "start_time": "2022-05-23T20:43:48.098Z"
   },
   {
    "duration": 76,
    "start_time": "2022-05-23T20:43:48.123Z"
   },
   {
    "duration": 13,
    "start_time": "2022-05-23T20:43:48.202Z"
   },
   {
    "duration": 3,
    "start_time": "2022-05-23T20:52:14.054Z"
   },
   {
    "duration": 13,
    "start_time": "2022-05-23T20:54:09.655Z"
   },
   {
    "duration": 12,
    "start_time": "2022-05-23T21:01:07.103Z"
   },
   {
    "duration": 6,
    "start_time": "2022-05-23T21:02:08.846Z"
   },
   {
    "duration": 776,
    "start_time": "2022-05-23T21:02:39.957Z"
   },
   {
    "duration": 7,
    "start_time": "2022-05-23T21:35:34.549Z"
   },
   {
    "duration": 11,
    "start_time": "2022-05-23T21:43:52.368Z"
   },
   {
    "duration": 16,
    "start_time": "2022-05-23T21:44:58.039Z"
   },
   {
    "duration": 3,
    "start_time": "2022-05-23T21:46:25.860Z"
   },
   {
    "duration": 4,
    "start_time": "2022-05-23T21:46:42.808Z"
   },
   {
    "duration": 14,
    "start_time": "2022-05-23T21:46:53.807Z"
   },
   {
    "duration": 4,
    "start_time": "2022-05-23T21:46:57.268Z"
   },
   {
    "duration": 1375,
    "start_time": "2022-05-23T21:47:45.687Z"
   },
   {
    "duration": 4,
    "start_time": "2022-05-23T21:47:47.064Z"
   },
   {
    "duration": 84,
    "start_time": "2022-05-23T21:47:47.069Z"
   },
   {
    "duration": 38,
    "start_time": "2022-05-23T21:47:47.155Z"
   },
   {
    "duration": 9,
    "start_time": "2022-05-23T21:47:47.194Z"
   },
   {
    "duration": 166,
    "start_time": "2022-05-23T21:47:47.204Z"
   },
   {
    "duration": 128,
    "start_time": "2022-05-23T21:47:47.372Z"
   },
   {
    "duration": 168,
    "start_time": "2022-05-23T21:47:47.502Z"
   },
   {
    "duration": 415,
    "start_time": "2022-05-23T21:47:47.672Z"
   },
   {
    "duration": 20,
    "start_time": "2022-05-23T21:47:48.091Z"
   },
   {
    "duration": 86,
    "start_time": "2022-05-23T21:47:48.114Z"
   },
   {
    "duration": 47,
    "start_time": "2022-05-23T21:47:48.202Z"
   },
   {
    "duration": 31,
    "start_time": "2022-05-23T21:47:48.251Z"
   },
   {
    "duration": 44,
    "start_time": "2022-05-23T21:47:48.284Z"
   },
   {
    "duration": 24,
    "start_time": "2022-05-23T21:47:48.329Z"
   },
   {
    "duration": 39,
    "start_time": "2022-05-23T21:47:48.354Z"
   },
   {
    "duration": 38,
    "start_time": "2022-05-23T21:47:48.395Z"
   },
   {
    "duration": 118,
    "start_time": "2022-05-23T21:47:48.434Z"
   },
   {
    "duration": 29,
    "start_time": "2022-05-23T21:47:48.554Z"
   },
   {
    "duration": 31,
    "start_time": "2022-05-23T21:47:48.585Z"
   },
   {
    "duration": 42,
    "start_time": "2022-05-23T21:47:48.618Z"
   },
   {
    "duration": 61,
    "start_time": "2022-05-23T21:47:48.662Z"
   },
   {
    "duration": 19,
    "start_time": "2022-05-23T21:47:48.725Z"
   },
   {
    "duration": 37,
    "start_time": "2022-05-23T21:47:48.746Z"
   },
   {
    "duration": 3,
    "start_time": "2022-05-23T21:47:48.785Z"
   },
   {
    "duration": 24,
    "start_time": "2022-05-23T21:47:48.789Z"
   },
   {
    "duration": 47,
    "start_time": "2022-05-23T21:47:48.815Z"
   },
   {
    "duration": 16,
    "start_time": "2022-05-23T21:47:48.865Z"
   },
   {
    "duration": 17,
    "start_time": "2022-05-23T21:47:48.883Z"
   },
   {
    "duration": 42,
    "start_time": "2022-05-23T21:47:48.901Z"
   },
   {
    "duration": 2,
    "start_time": "2022-05-23T21:47:48.945Z"
   },
   {
    "duration": 11,
    "start_time": "2022-05-23T21:47:48.949Z"
   },
   {
    "duration": 26,
    "start_time": "2022-05-23T21:47:48.961Z"
   },
   {
    "duration": 15,
    "start_time": "2022-05-23T21:47:48.988Z"
   },
   {
    "duration": 12,
    "start_time": "2022-05-23T21:47:49.005Z"
   },
   {
    "duration": 8,
    "start_time": "2022-05-23T21:47:49.018Z"
   },
   {
    "duration": 9,
    "start_time": "2022-05-23T21:47:49.027Z"
   },
   {
    "duration": 8,
    "start_time": "2022-05-23T21:47:49.037Z"
   },
   {
    "duration": 41,
    "start_time": "2022-05-23T21:47:49.047Z"
   },
   {
    "duration": 11,
    "start_time": "2022-05-23T21:47:49.090Z"
   },
   {
    "duration": 12,
    "start_time": "2022-05-23T21:47:49.102Z"
   },
   {
    "duration": 3,
    "start_time": "2022-05-23T21:47:49.116Z"
   },
   {
    "duration": 73,
    "start_time": "2022-05-23T21:47:49.120Z"
   },
   {
    "duration": 5,
    "start_time": "2022-05-23T21:47:49.195Z"
   },
   {
    "duration": 14,
    "start_time": "2022-05-23T21:47:49.201Z"
   },
   {
    "duration": 11,
    "start_time": "2022-05-23T21:47:49.216Z"
   },
   {
    "duration": 756,
    "start_time": "2022-05-23T21:47:49.228Z"
   },
   {
    "duration": 6,
    "start_time": "2022-05-23T21:47:49.986Z"
   },
   {
    "duration": 11,
    "start_time": "2022-05-23T21:47:49.994Z"
   },
   {
    "duration": 6,
    "start_time": "2022-05-23T21:51:16.706Z"
   },
   {
    "duration": 14,
    "start_time": "2022-05-23T21:51:39.018Z"
   },
   {
    "duration": 15,
    "start_time": "2022-05-23T21:51:46.310Z"
   },
   {
    "duration": 138,
    "start_time": "2022-05-23T21:52:36.018Z"
   },
   {
    "duration": 17,
    "start_time": "2022-05-23T21:52:57.892Z"
   },
   {
    "duration": 9,
    "start_time": "2022-05-23T21:53:04.800Z"
   },
   {
    "duration": 107,
    "start_time": "2022-05-23T21:53:28.347Z"
   },
   {
    "duration": 1339,
    "start_time": "2022-05-23T21:55:35.218Z"
   },
   {
    "duration": 4,
    "start_time": "2022-05-23T21:55:36.559Z"
   },
   {
    "duration": 65,
    "start_time": "2022-05-23T21:55:36.565Z"
   },
   {
    "duration": 39,
    "start_time": "2022-05-23T21:55:36.632Z"
   },
   {
    "duration": 9,
    "start_time": "2022-05-23T21:55:36.673Z"
   },
   {
    "duration": 166,
    "start_time": "2022-05-23T21:55:36.684Z"
   },
   {
    "duration": 152,
    "start_time": "2022-05-23T21:55:36.852Z"
   },
   {
    "duration": 172,
    "start_time": "2022-05-23T21:55:37.006Z"
   },
   {
    "duration": 355,
    "start_time": "2022-05-23T21:55:37.184Z"
   },
   {
    "duration": 19,
    "start_time": "2022-05-23T21:55:37.542Z"
   },
   {
    "duration": 76,
    "start_time": "2022-05-23T21:55:37.562Z"
   },
   {
    "duration": 47,
    "start_time": "2022-05-23T21:55:37.640Z"
   },
   {
    "duration": 40,
    "start_time": "2022-05-23T21:55:37.689Z"
   },
   {
    "duration": 40,
    "start_time": "2022-05-23T21:55:37.732Z"
   },
   {
    "duration": 25,
    "start_time": "2022-05-23T21:55:37.774Z"
   },
   {
    "duration": 26,
    "start_time": "2022-05-23T21:55:37.801Z"
   },
   {
    "duration": 37,
    "start_time": "2022-05-23T21:55:37.829Z"
   },
   {
    "duration": 176,
    "start_time": "2022-05-23T21:55:37.868Z"
   },
   {
    "duration": 38,
    "start_time": "2022-05-23T21:55:38.046Z"
   },
   {
    "duration": 12,
    "start_time": "2022-05-23T21:55:38.086Z"
   },
   {
    "duration": 21,
    "start_time": "2022-05-23T21:55:38.099Z"
   },
   {
    "duration": 64,
    "start_time": "2022-05-23T21:55:38.121Z"
   },
   {
    "duration": 19,
    "start_time": "2022-05-23T21:55:38.186Z"
   },
   {
    "duration": 26,
    "start_time": "2022-05-23T21:55:38.206Z"
   },
   {
    "duration": 2,
    "start_time": "2022-05-23T21:55:38.234Z"
   },
   {
    "duration": 8,
    "start_time": "2022-05-23T21:55:38.237Z"
   },
   {
    "duration": 42,
    "start_time": "2022-05-23T21:55:38.246Z"
   },
   {
    "duration": 5,
    "start_time": "2022-05-23T21:55:38.291Z"
   },
   {
    "duration": 14,
    "start_time": "2022-05-23T21:55:38.297Z"
   },
   {
    "duration": 42,
    "start_time": "2022-05-23T21:55:38.312Z"
   },
   {
    "duration": 3,
    "start_time": "2022-05-23T21:55:38.355Z"
   },
   {
    "duration": 8,
    "start_time": "2022-05-23T21:55:38.383Z"
   },
   {
    "duration": 12,
    "start_time": "2022-05-23T21:55:38.393Z"
   },
   {
    "duration": 16,
    "start_time": "2022-05-23T21:55:38.407Z"
   },
   {
    "duration": 13,
    "start_time": "2022-05-23T21:55:38.424Z"
   },
   {
    "duration": 8,
    "start_time": "2022-05-23T21:55:38.438Z"
   },
   {
    "duration": 37,
    "start_time": "2022-05-23T21:55:38.447Z"
   },
   {
    "duration": 6,
    "start_time": "2022-05-23T21:55:38.485Z"
   },
   {
    "duration": 19,
    "start_time": "2022-05-23T21:55:38.492Z"
   },
   {
    "duration": 4,
    "start_time": "2022-05-23T21:55:38.512Z"
   },
   {
    "duration": 74,
    "start_time": "2022-05-23T21:55:38.517Z"
   },
   {
    "duration": 6,
    "start_time": "2022-05-23T21:55:38.593Z"
   },
   {
    "duration": 15,
    "start_time": "2022-05-23T21:55:38.601Z"
   },
   {
    "duration": 11,
    "start_time": "2022-05-23T21:55:38.618Z"
   },
   {
    "duration": 792,
    "start_time": "2022-05-23T21:55:38.631Z"
   },
   {
    "duration": 6,
    "start_time": "2022-05-23T21:55:39.426Z"
   },
   {
    "duration": 10,
    "start_time": "2022-05-23T21:55:39.434Z"
   },
   {
    "duration": 14778,
    "start_time": "2022-05-23T21:57:02.869Z"
   },
   {
    "duration": 43876,
    "start_time": "2022-05-23T22:02:30.509Z"
   },
   {
    "duration": 3351,
    "start_time": "2022-05-23T22:05:34.490Z"
   },
   {
    "duration": 3180,
    "start_time": "2022-05-23T22:06:01.229Z"
   },
   {
    "duration": 5,
    "start_time": "2022-05-23T22:07:17.600Z"
   },
   {
    "duration": 9,
    "start_time": "2022-05-23T22:22:36.020Z"
   },
   {
    "duration": 141,
    "start_time": "2022-05-23T22:23:06.254Z"
   },
   {
    "duration": 5,
    "start_time": "2022-05-23T22:26:19.394Z"
   },
   {
    "duration": 1483,
    "start_time": "2022-05-24T10:36:53.383Z"
   },
   {
    "duration": 4,
    "start_time": "2022-05-24T10:36:54.868Z"
   },
   {
    "duration": 99,
    "start_time": "2022-05-24T10:36:54.873Z"
   },
   {
    "duration": 36,
    "start_time": "2022-05-24T10:36:54.974Z"
   },
   {
    "duration": 8,
    "start_time": "2022-05-24T10:36:55.012Z"
   },
   {
    "duration": 143,
    "start_time": "2022-05-24T10:36:55.022Z"
   },
   {
    "duration": 115,
    "start_time": "2022-05-24T10:36:55.167Z"
   },
   {
    "duration": 157,
    "start_time": "2022-05-24T10:36:55.283Z"
   },
   {
    "duration": 412,
    "start_time": "2022-05-24T10:36:55.441Z"
   },
   {
    "duration": 54,
    "start_time": "2022-05-24T10:36:55.856Z"
   },
   {
    "duration": 68,
    "start_time": "2022-05-24T10:36:55.911Z"
   },
   {
    "duration": 76,
    "start_time": "2022-05-24T10:36:55.981Z"
   },
   {
    "duration": 31,
    "start_time": "2022-05-24T10:36:56.058Z"
   },
   {
    "duration": 79,
    "start_time": "2022-05-24T10:36:56.091Z"
   },
   {
    "duration": 22,
    "start_time": "2022-05-24T10:36:56.172Z"
   },
   {
    "duration": 46,
    "start_time": "2022-05-24T10:36:56.196Z"
   },
   {
    "duration": 25,
    "start_time": "2022-05-24T10:36:56.244Z"
   },
   {
    "duration": 103,
    "start_time": "2022-05-24T10:36:56.270Z"
   },
   {
    "duration": 30,
    "start_time": "2022-05-24T10:36:56.375Z"
   },
   {
    "duration": 9,
    "start_time": "2022-05-24T10:36:56.406Z"
   },
   {
    "duration": 87,
    "start_time": "2022-05-24T10:36:56.417Z"
   },
   {
    "duration": 62,
    "start_time": "2022-05-24T10:36:56.506Z"
   },
   {
    "duration": 96,
    "start_time": "2022-05-24T10:36:56.570Z"
   },
   {
    "duration": 25,
    "start_time": "2022-05-24T10:36:56.668Z"
   },
   {
    "duration": 3,
    "start_time": "2022-05-24T10:36:56.695Z"
   },
   {
    "duration": 8,
    "start_time": "2022-05-24T10:36:56.700Z"
   },
   {
    "duration": 23,
    "start_time": "2022-05-24T10:36:56.710Z"
   },
   {
    "duration": 4,
    "start_time": "2022-05-24T10:36:56.738Z"
   },
   {
    "duration": 21,
    "start_time": "2022-05-24T10:36:56.744Z"
   },
   {
    "duration": 64,
    "start_time": "2022-05-24T10:36:56.766Z"
   },
   {
    "duration": 3,
    "start_time": "2022-05-24T10:36:56.831Z"
   },
   {
    "duration": 11,
    "start_time": "2022-05-24T10:36:56.837Z"
   },
   {
    "duration": 16,
    "start_time": "2022-05-24T10:36:56.850Z"
   },
   {
    "duration": 36,
    "start_time": "2022-05-24T10:36:56.868Z"
   },
   {
    "duration": 16,
    "start_time": "2022-05-24T10:36:56.906Z"
   },
   {
    "duration": 10,
    "start_time": "2022-05-24T10:36:56.924Z"
   },
   {
    "duration": 12,
    "start_time": "2022-05-24T10:36:56.935Z"
   },
   {
    "duration": 9,
    "start_time": "2022-05-24T10:36:56.949Z"
   },
   {
    "duration": 35,
    "start_time": "2022-05-24T10:36:56.960Z"
   },
   {
    "duration": 4,
    "start_time": "2022-05-24T10:36:56.996Z"
   },
   {
    "duration": 47,
    "start_time": "2022-05-24T10:36:57.001Z"
   },
   {
    "duration": 6,
    "start_time": "2022-05-24T10:36:57.049Z"
   },
   {
    "duration": 14,
    "start_time": "2022-05-24T10:36:57.056Z"
   },
   {
    "duration": 10,
    "start_time": "2022-05-24T10:36:57.094Z"
   },
   {
    "duration": 795,
    "start_time": "2022-05-24T10:36:57.106Z"
   },
   {
    "duration": 6,
    "start_time": "2022-05-24T10:36:57.902Z"
   },
   {
    "duration": 11,
    "start_time": "2022-05-24T10:36:57.909Z"
   },
   {
    "duration": 14313,
    "start_time": "2022-05-24T10:36:57.922Z"
   },
   {
    "duration": 1660,
    "start_time": "2022-05-24T15:09:28.596Z"
   },
   {
    "duration": 3,
    "start_time": "2022-05-24T15:09:30.258Z"
   },
   {
    "duration": 189,
    "start_time": "2022-05-24T15:09:31.905Z"
   },
   {
    "duration": 36,
    "start_time": "2022-05-24T15:09:32.096Z"
   },
   {
    "duration": 9,
    "start_time": "2022-05-24T15:09:32.134Z"
   },
   {
    "duration": 149,
    "start_time": "2022-05-24T15:09:32.144Z"
   },
   {
    "duration": 127,
    "start_time": "2022-05-24T15:09:36.457Z"
   },
   {
    "duration": 166,
    "start_time": "2022-05-24T15:09:36.586Z"
   },
   {
    "duration": 368,
    "start_time": "2022-05-24T15:09:36.753Z"
   },
   {
    "duration": 94,
    "start_time": "2022-05-24T15:09:37.122Z"
   },
   {
    "duration": 66,
    "start_time": "2022-05-24T15:09:37.218Z"
   },
   {
    "duration": 71,
    "start_time": "2022-05-24T15:09:37.285Z"
   },
   {
    "duration": 29,
    "start_time": "2022-05-24T15:09:37.358Z"
   },
   {
    "duration": 67,
    "start_time": "2022-05-24T15:09:37.389Z"
   },
   {
    "duration": 24,
    "start_time": "2022-05-24T15:09:37.458Z"
   },
   {
    "duration": 88,
    "start_time": "2022-05-24T15:09:37.484Z"
   },
   {
    "duration": 26,
    "start_time": "2022-05-24T15:09:37.573Z"
   },
   {
    "duration": 116,
    "start_time": "2022-05-24T15:09:37.600Z"
   },
   {
    "duration": 20,
    "start_time": "2022-05-24T15:09:37.717Z"
   },
   {
    "duration": 30,
    "start_time": "2022-05-24T15:09:37.740Z"
   },
   {
    "duration": 54,
    "start_time": "2022-05-24T15:09:37.771Z"
   },
   {
    "duration": 57,
    "start_time": "2022-05-24T15:09:37.826Z"
   },
   {
    "duration": 46,
    "start_time": "2022-05-24T15:09:37.885Z"
   },
   {
    "duration": 31,
    "start_time": "2022-05-24T15:09:37.933Z"
   },
   {
    "duration": 27,
    "start_time": "2022-05-24T15:09:37.967Z"
   },
   {
    "duration": 29,
    "start_time": "2022-05-24T15:09:37.995Z"
   },
   {
    "duration": 58,
    "start_time": "2022-05-24T15:09:38.026Z"
   },
   {
    "duration": 24,
    "start_time": "2022-05-24T15:09:38.086Z"
   },
   {
    "duration": 31,
    "start_time": "2022-05-24T15:09:38.113Z"
   },
   {
    "duration": 55,
    "start_time": "2022-05-24T15:09:38.145Z"
   },
   {
    "duration": 2,
    "start_time": "2022-05-24T15:09:38.202Z"
   },
   {
    "duration": 37,
    "start_time": "2022-05-24T15:09:38.206Z"
   },
   {
    "duration": 19,
    "start_time": "2022-05-24T15:09:38.245Z"
   },
   {
    "duration": 41,
    "start_time": "2022-05-24T15:09:38.265Z"
   },
   {
    "duration": 25,
    "start_time": "2022-05-24T15:09:38.308Z"
   },
   {
    "duration": 26,
    "start_time": "2022-05-24T15:09:38.335Z"
   },
   {
    "duration": 40,
    "start_time": "2022-05-24T15:09:38.362Z"
   },
   {
    "duration": 35,
    "start_time": "2022-05-24T15:09:38.403Z"
   },
   {
    "duration": 41,
    "start_time": "2022-05-24T15:09:38.440Z"
   },
   {
    "duration": 20,
    "start_time": "2022-05-24T15:09:38.483Z"
   },
   {
    "duration": 69,
    "start_time": "2022-05-24T15:09:38.504Z"
   },
   {
    "duration": 5,
    "start_time": "2022-05-24T15:09:38.574Z"
   },
   {
    "duration": 25,
    "start_time": "2022-05-24T15:09:38.580Z"
   },
   {
    "duration": 41,
    "start_time": "2022-05-24T15:09:38.606Z"
   },
   {
    "duration": 743,
    "start_time": "2022-05-24T15:09:38.648Z"
   },
   {
    "duration": 6,
    "start_time": "2022-05-24T15:09:39.393Z"
   },
   {
    "duration": 38,
    "start_time": "2022-05-24T15:09:39.402Z"
   },
   {
    "duration": 14698,
    "start_time": "2022-05-24T15:09:39.441Z"
   },
   {
    "duration": 43130,
    "start_time": "2022-05-24T15:09:54.141Z"
   },
   {
    "duration": 3192,
    "start_time": "2022-05-24T15:10:37.272Z"
   },
   {
    "duration": 4,
    "start_time": "2022-05-24T15:10:40.466Z"
   },
   {
    "duration": 17,
    "start_time": "2022-05-24T15:10:40.471Z"
   },
   {
    "duration": 144,
    "start_time": "2022-05-24T15:10:40.490Z"
   },
   {
    "duration": 39,
    "start_time": "2022-05-24T15:26:13.559Z"
   },
   {
    "duration": 109,
    "start_time": "2022-05-24T15:26:19.101Z"
   },
   {
    "duration": 6,
    "start_time": "2022-05-24T15:27:27.605Z"
   },
   {
    "duration": 3120,
    "start_time": "2022-05-24T15:28:24.581Z"
   },
   {
    "duration": 1333,
    "start_time": "2022-05-24T15:53:50.827Z"
   },
   {
    "duration": 4,
    "start_time": "2022-05-24T15:53:52.162Z"
   },
   {
    "duration": 82,
    "start_time": "2022-05-24T15:53:52.167Z"
   },
   {
    "duration": 38,
    "start_time": "2022-05-24T15:53:52.251Z"
   },
   {
    "duration": 9,
    "start_time": "2022-05-24T15:53:52.290Z"
   },
   {
    "duration": 161,
    "start_time": "2022-05-24T15:53:52.300Z"
   },
   {
    "duration": 125,
    "start_time": "2022-05-24T15:53:52.462Z"
   },
   {
    "duration": 175,
    "start_time": "2022-05-24T15:53:52.589Z"
   },
   {
    "duration": 350,
    "start_time": "2022-05-24T15:53:52.765Z"
   },
   {
    "duration": 18,
    "start_time": "2022-05-24T15:53:53.118Z"
   },
   {
    "duration": 78,
    "start_time": "2022-05-24T15:53:53.137Z"
   },
   {
    "duration": 46,
    "start_time": "2022-05-24T15:53:53.217Z"
   },
   {
    "duration": 32,
    "start_time": "2022-05-24T15:53:53.264Z"
   },
   {
    "duration": 37,
    "start_time": "2022-05-24T15:53:53.298Z"
   },
   {
    "duration": 23,
    "start_time": "2022-05-24T15:53:53.337Z"
   },
   {
    "duration": 23,
    "start_time": "2022-05-24T15:53:53.362Z"
   },
   {
    "duration": 26,
    "start_time": "2022-05-24T15:53:53.386Z"
   },
   {
    "duration": 120,
    "start_time": "2022-05-24T15:53:53.414Z"
   },
   {
    "duration": 32,
    "start_time": "2022-05-24T15:53:53.535Z"
   },
   {
    "duration": 10,
    "start_time": "2022-05-24T15:53:53.569Z"
   },
   {
    "duration": 16,
    "start_time": "2022-05-24T15:53:53.580Z"
   },
   {
    "duration": 45,
    "start_time": "2022-05-24T15:53:53.598Z"
   },
   {
    "duration": 21,
    "start_time": "2022-05-24T15:53:53.644Z"
   },
   {
    "duration": 30,
    "start_time": "2022-05-24T15:53:53.667Z"
   },
   {
    "duration": 3,
    "start_time": "2022-05-24T15:53:53.698Z"
   },
   {
    "duration": 12,
    "start_time": "2022-05-24T15:53:53.702Z"
   },
   {
    "duration": 22,
    "start_time": "2022-05-24T15:53:53.715Z"
   },
   {
    "duration": 19,
    "start_time": "2022-05-24T15:53:53.741Z"
   },
   {
    "duration": 16,
    "start_time": "2022-05-24T15:53:53.762Z"
   },
   {
    "duration": 41,
    "start_time": "2022-05-24T15:53:53.779Z"
   },
   {
    "duration": 3,
    "start_time": "2022-05-24T15:53:53.821Z"
   },
   {
    "duration": 15,
    "start_time": "2022-05-24T15:53:53.825Z"
   },
   {
    "duration": 36,
    "start_time": "2022-05-24T15:53:53.842Z"
   },
   {
    "duration": 17,
    "start_time": "2022-05-24T15:53:53.880Z"
   },
   {
    "duration": 12,
    "start_time": "2022-05-24T15:53:53.899Z"
   },
   {
    "duration": 8,
    "start_time": "2022-05-24T15:53:53.912Z"
   },
   {
    "duration": 9,
    "start_time": "2022-05-24T15:53:53.921Z"
   },
   {
    "duration": 8,
    "start_time": "2022-05-24T15:53:53.932Z"
   },
   {
    "duration": 12,
    "start_time": "2022-05-24T15:53:53.959Z"
   },
   {
    "duration": 3,
    "start_time": "2022-05-24T15:53:53.973Z"
   },
   {
    "duration": 49,
    "start_time": "2022-05-24T15:53:53.977Z"
   },
   {
    "duration": 5,
    "start_time": "2022-05-24T15:53:54.028Z"
   },
   {
    "duration": 33,
    "start_time": "2022-05-24T15:53:54.034Z"
   },
   {
    "duration": 12,
    "start_time": "2022-05-24T15:53:54.068Z"
   },
   {
    "duration": 701,
    "start_time": "2022-05-24T15:53:54.081Z"
   },
   {
    "duration": 5,
    "start_time": "2022-05-24T15:53:54.784Z"
   },
   {
    "duration": 10,
    "start_time": "2022-05-24T15:53:54.791Z"
   },
   {
    "duration": 14040,
    "start_time": "2022-05-24T15:53:54.803Z"
   },
   {
    "duration": 46221,
    "start_time": "2022-05-24T15:54:08.845Z"
   },
   {
    "duration": 1233,
    "start_time": "2022-05-24T16:01:22.431Z"
   },
   {
    "duration": 3,
    "start_time": "2022-05-24T16:01:23.665Z"
   },
   {
    "duration": 63,
    "start_time": "2022-05-24T16:01:23.670Z"
   },
   {
    "duration": 33,
    "start_time": "2022-05-24T16:01:23.734Z"
   },
   {
    "duration": 7,
    "start_time": "2022-05-24T16:01:23.768Z"
   },
   {
    "duration": 135,
    "start_time": "2022-05-24T16:01:23.777Z"
   },
   {
    "duration": 114,
    "start_time": "2022-05-24T16:01:23.914Z"
   },
   {
    "duration": 157,
    "start_time": "2022-05-24T16:01:24.030Z"
   },
   {
    "duration": 307,
    "start_time": "2022-05-24T16:01:24.189Z"
   },
   {
    "duration": 19,
    "start_time": "2022-05-24T16:01:24.499Z"
   },
   {
    "duration": 67,
    "start_time": "2022-05-24T16:01:24.519Z"
   },
   {
    "duration": 23,
    "start_time": "2022-05-24T16:01:24.587Z"
   },
   {
    "duration": 27,
    "start_time": "2022-05-24T16:01:24.611Z"
   },
   {
    "duration": 36,
    "start_time": "2022-05-24T16:01:24.639Z"
   },
   {
    "duration": 22,
    "start_time": "2022-05-24T16:01:24.676Z"
   },
   {
    "duration": 44,
    "start_time": "2022-05-24T16:01:24.699Z"
   },
   {
    "duration": 24,
    "start_time": "2022-05-24T16:01:24.744Z"
   },
   {
    "duration": 109,
    "start_time": "2022-05-24T16:01:24.770Z"
   },
   {
    "duration": 19,
    "start_time": "2022-05-24T16:01:24.881Z"
   },
   {
    "duration": 9,
    "start_time": "2022-05-24T16:01:24.902Z"
   },
   {
    "duration": 16,
    "start_time": "2022-05-24T16:01:24.912Z"
   },
   {
    "duration": 62,
    "start_time": "2022-05-24T16:01:24.929Z"
   },
   {
    "duration": 18,
    "start_time": "2022-05-24T16:01:24.993Z"
   },
   {
    "duration": 24,
    "start_time": "2022-05-24T16:01:25.012Z"
   },
   {
    "duration": 3,
    "start_time": "2022-05-24T16:01:25.037Z"
   },
   {
    "duration": 24,
    "start_time": "2022-05-24T16:01:25.041Z"
   },
   {
    "duration": 22,
    "start_time": "2022-05-24T16:01:25.066Z"
   },
   {
    "duration": 4,
    "start_time": "2022-05-24T16:01:25.091Z"
   },
   {
    "duration": 21,
    "start_time": "2022-05-24T16:01:25.096Z"
   },
   {
    "duration": 50,
    "start_time": "2022-05-24T16:01:25.118Z"
   },
   {
    "duration": 3,
    "start_time": "2022-05-24T16:01:25.169Z"
   },
   {
    "duration": 9,
    "start_time": "2022-05-24T16:01:25.173Z"
   },
   {
    "duration": 9,
    "start_time": "2022-05-24T16:01:25.184Z"
   },
   {
    "duration": 13,
    "start_time": "2022-05-24T16:01:25.194Z"
   },
   {
    "duration": 11,
    "start_time": "2022-05-24T16:01:25.208Z"
   },
   {
    "duration": 7,
    "start_time": "2022-05-24T16:01:25.220Z"
   },
   {
    "duration": 32,
    "start_time": "2022-05-24T16:01:25.228Z"
   },
   {
    "duration": 6,
    "start_time": "2022-05-24T16:01:25.261Z"
   },
   {
    "duration": 11,
    "start_time": "2022-05-24T16:01:25.268Z"
   },
   {
    "duration": 3,
    "start_time": "2022-05-24T16:01:25.280Z"
   },
   {
    "duration": 44,
    "start_time": "2022-05-24T16:01:25.285Z"
   },
   {
    "duration": 38,
    "start_time": "2022-05-24T16:01:25.330Z"
   },
   {
    "duration": 14,
    "start_time": "2022-05-24T16:01:25.370Z"
   },
   {
    "duration": 11,
    "start_time": "2022-05-24T16:01:25.385Z"
   },
   {
    "duration": 696,
    "start_time": "2022-05-24T16:01:25.397Z"
   },
   {
    "duration": 6,
    "start_time": "2022-05-24T16:01:26.095Z"
   },
   {
    "duration": 12,
    "start_time": "2022-05-24T16:01:26.102Z"
   },
   {
    "duration": 13700,
    "start_time": "2022-05-24T16:01:26.116Z"
   },
   {
    "duration": 40886,
    "start_time": "2022-05-24T16:01:39.818Z"
   },
   {
    "duration": 3184,
    "start_time": "2022-05-24T16:02:20.706Z"
   },
   {
    "duration": 5,
    "start_time": "2022-05-24T16:02:23.892Z"
   },
   {
    "duration": 10,
    "start_time": "2022-05-24T16:02:23.899Z"
   },
   {
    "duration": 133,
    "start_time": "2022-05-24T16:02:23.911Z"
   },
   {
    "duration": 13,
    "start_time": "2022-05-24T16:02:24.046Z"
   },
   {
    "duration": 2837,
    "start_time": "2022-05-24T16:02:24.061Z"
   },
   {
    "duration": 2204,
    "start_time": "2022-05-25T07:03:47.286Z"
   },
   {
    "duration": 5,
    "start_time": "2022-05-25T07:03:49.491Z"
   },
   {
    "duration": 54,
    "start_time": "2022-05-25T07:03:49.840Z"
   },
   {
    "duration": 37,
    "start_time": "2022-05-25T07:03:50.563Z"
   },
   {
    "duration": 12,
    "start_time": "2022-05-25T07:03:51.091Z"
   },
   {
    "duration": 157,
    "start_time": "2022-05-25T07:03:51.540Z"
   },
   {
    "duration": 147,
    "start_time": "2022-05-25T07:03:51.699Z"
   },
   {
    "duration": 205,
    "start_time": "2022-05-25T07:03:51.859Z"
   },
   {
    "duration": 342,
    "start_time": "2022-05-25T07:03:52.066Z"
   },
   {
    "duration": 56,
    "start_time": "2022-05-25T07:03:52.805Z"
   },
   {
    "duration": 84,
    "start_time": "2022-05-25T07:03:52.993Z"
   },
   {
    "duration": 22,
    "start_time": "2022-05-25T07:03:53.383Z"
   },
   {
    "duration": 32,
    "start_time": "2022-05-25T07:03:53.540Z"
   },
   {
    "duration": 72,
    "start_time": "2022-05-25T07:03:54.311Z"
   },
   {
    "duration": 28,
    "start_time": "2022-05-25T07:03:54.687Z"
   },
   {
    "duration": 26,
    "start_time": "2022-05-25T07:03:55.201Z"
   },
   {
    "duration": 28,
    "start_time": "2022-05-25T07:03:55.364Z"
   },
   {
    "duration": 129,
    "start_time": "2022-05-25T07:03:55.702Z"
   },
   {
    "duration": 24,
    "start_time": "2022-05-25T07:03:56.001Z"
   },
   {
    "duration": 16,
    "start_time": "2022-05-25T07:03:56.321Z"
   },
   {
    "duration": 37,
    "start_time": "2022-05-25T07:03:56.946Z"
   },
   {
    "duration": 51,
    "start_time": "2022-05-25T07:03:57.144Z"
   },
   {
    "duration": 18,
    "start_time": "2022-05-25T07:03:57.673Z"
   },
   {
    "duration": 28,
    "start_time": "2022-05-25T07:03:57.860Z"
   },
   {
    "duration": 3,
    "start_time": "2022-05-25T07:04:27.995Z"
   },
   {
    "duration": 7,
    "start_time": "2022-05-25T07:04:35.138Z"
   },
   {
    "duration": 24,
    "start_time": "2022-05-25T07:04:37.638Z"
   },
   {
    "duration": 4,
    "start_time": "2022-05-25T07:04:53.804Z"
   },
   {
    "duration": 13,
    "start_time": "2022-05-25T07:04:54.489Z"
   },
   {
    "duration": 43,
    "start_time": "2022-05-25T07:05:16.284Z"
   },
   {
    "duration": 3,
    "start_time": "2022-05-25T07:05:27.639Z"
   },
   {
    "duration": 11,
    "start_time": "2022-05-25T07:05:28.577Z"
   },
   {
    "duration": 16,
    "start_time": "2022-05-25T07:05:29.217Z"
   },
   {
    "duration": 15,
    "start_time": "2022-05-25T07:05:34.539Z"
   },
   {
    "duration": 14,
    "start_time": "2022-05-25T07:05:37.066Z"
   },
   {
    "duration": 9,
    "start_time": "2022-05-25T07:05:37.663Z"
   },
   {
    "duration": 8,
    "start_time": "2022-05-25T07:05:38.269Z"
   },
   {
    "duration": 7,
    "start_time": "2022-05-25T07:05:38.736Z"
   },
   {
    "duration": 14,
    "start_time": "2022-05-25T07:05:41.703Z"
   },
   {
    "duration": 3,
    "start_time": "2022-05-25T07:05:47.410Z"
   },
   {
    "duration": 55,
    "start_time": "2022-05-25T07:06:53.701Z"
   },
   {
    "duration": 6,
    "start_time": "2022-05-25T07:07:21.149Z"
   },
   {
    "duration": 16,
    "start_time": "2022-05-25T07:07:22.605Z"
   },
   {
    "duration": 9,
    "start_time": "2022-05-25T07:07:24.351Z"
   },
   {
    "duration": 743,
    "start_time": "2022-05-25T07:07:25.058Z"
   },
   {
    "duration": 7,
    "start_time": "2022-05-25T07:08:24.175Z"
   },
   {
    "duration": 9,
    "start_time": "2022-05-25T07:08:25.467Z"
   }
  ],
  "kernelspec": {
   "display_name": "Python 3",
   "language": "python",
   "name": "python3"
  },
  "language_info": {
   "codemirror_mode": {
    "name": "ipython",
    "version": 3
   },
   "file_extension": ".py",
   "mimetype": "text/x-python",
   "name": "python",
   "nbconvert_exporter": "python",
   "pygments_lexer": "ipython3",
   "version": "3.8.8"
  },
  "toc": {
   "base_numbering": 1,
   "nav_menu": {},
   "number_sections": true,
   "sideBar": true,
   "skip_h1_title": true,
   "title_cell": "Table of Contents",
   "title_sidebar": "Contents",
   "toc_cell": false,
   "toc_position": {},
   "toc_section_display": true,
   "toc_window_display": false
  }
 },
 "nbformat": 4,
 "nbformat_minor": 2
}
